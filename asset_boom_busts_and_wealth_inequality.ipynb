{
 "cells": [
  {
   "cell_type": "code",
   "execution_count": 2,
   "metadata": {},
   "outputs": [],
   "source": [
    "%matplotlib inline\n",
    "import numpy as np\n",
    "import pandas as pd\n",
    "import pickle\n",
    "import json\n",
    "import matplotlib.pyplot as plt\n",
    "from init_objects import *\n",
    "from functions.stylizedfacts import *\n",
    "from functions.helpers import organise_data\n",
    "from functions.inequality import gini, lorenz_curve\n",
    "from distribution_model import *\n",
    "import statsmodels.api as sm\n",
    "from SALib.sample import latin\n",
    "from matplotlib import style\n",
    "from collections import OrderedDict\n",
    "from functions.indirect_calibration import distr_model_performance\n",
    "import seaborn as sns\n",
    "import scipy.stats as stats\n",
    "import statsmodels.api as sm\n",
    "import statsmodels.formula.api as smf\n",
    "import scipy\n",
    "from functions.find_bubbles import *\n",
    "from statsmodels.iolib.summary2 import summary_col"
   ]
  },
  {
   "cell_type": "code",
   "execution_count": 2,
   "metadata": {},
   "outputs": [],
   "source": [
    "style.use('ggplot')"
   ]
  },
  {
   "cell_type": "markdown",
   "metadata": {},
   "source": [
    "# Asset boom-busts and wealth inequality\n",
    "\n",
    "\n",
    "## Are asset boom-busts episodes associated with increased wealth inequality?\n",
    "To find out whether asset boom-busts are associated with increased inequality, I compare the difference in wealth inequality between periods of boom-bust to reference periods such an episode did not occur. "
   ]
  },
  {
   "cell_type": "code",
   "execution_count": null,
   "metadata": {},
   "outputs": [],
   "source": []
  },
  {
   "cell_type": "markdown",
   "metadata": {},
   "source": [
    "# Are boom-busts more likely (and volatile) in situations of relative equality?\n",
    "\n",
    "Experiment that moves the equality parameter from 1.00 to 0.01\n",
    "\n",
    "Hypothesis: more unequal societies produce smaller bubbles. "
   ]
  },
  {
   "cell_type": "code",
   "execution_count": 7,
   "metadata": {},
   "outputs": [],
   "source": [
    "# how to test, vary starting inequality. \n",
    "params['ticks'] = 600\n",
    "NRUNS = 10"
   ]
  },
  {
   "cell_type": "code",
   "execution_count": 8,
   "metadata": {},
   "outputs": [],
   "source": [
    "params['strat_share_chartists'] = 0.85"
   ]
  },
  {
   "cell_type": "code",
   "execution_count": 9,
   "metadata": {},
   "outputs": [],
   "source": [
    "init_equality = [x / 100.0 for x in range(1, 106, 5)]\n",
    "init_equality = init_equality[::-1]"
   ]
  },
  {
   "cell_type": "code",
   "execution_count": 10,
   "metadata": {},
   "outputs": [],
   "source": [
    "#init_equality"
   ]
  },
  {
   "cell_type": "code",
   "execution_count": 11,
   "metadata": {},
   "outputs": [
    {
     "name": "stdout",
     "output_type": "stream",
     "text": [
      "Start of simulation  0\n",
      "Start of simulation  1\n",
      "Start of simulation  2\n",
      "Start of simulation  3\n",
      "Start of simulation  4\n",
      "Start of simulation  5\n",
      "Start of simulation  6\n",
      "Start of simulation  7\n",
      "Start of simulation  8\n",
      "Start of simulation  9\n",
      "Start of simulation  0\n",
      "Start of simulation  1\n",
      "Start of simulation  2\n",
      "Start of simulation  3\n",
      "Start of simulation  4\n",
      "Start of simulation  5\n",
      "Start of simulation  6\n",
      "Start of simulation  7\n",
      "Start of simulation  8\n",
      "Start of simulation  9\n",
      "Start of simulation  0\n",
      "Start of simulation  1\n",
      "Start of simulation  2\n",
      "Start of simulation  3\n",
      "Start of simulation  4\n",
      "Start of simulation  5\n",
      "Start of simulation  6\n",
      "Start of simulation  7\n",
      "Start of simulation  8\n",
      "Start of simulation  9\n",
      "Start of simulation  0\n",
      "Start of simulation  1\n",
      "Start of simulation  2\n",
      "Start of simulation  3\n",
      "Start of simulation  4\n",
      "Start of simulation  5\n",
      "Start of simulation  6\n",
      "Start of simulation  7\n",
      "Start of simulation  8\n",
      "Start of simulation  9\n",
      "Start of simulation  0\n",
      "Start of simulation  1\n",
      "Start of simulation  2\n",
      "Start of simulation  3\n",
      "Start of simulation  4\n",
      "Start of simulation  5\n",
      "Start of simulation  6\n",
      "Start of simulation  7\n",
      "Start of simulation  8\n",
      "Start of simulation  9\n",
      "Start of simulation  0\n",
      "Start of simulation  1\n",
      "Start of simulation  2\n",
      "Start of simulation  3\n",
      "Start of simulation  4\n",
      "Start of simulation  5\n",
      "Start of simulation  6\n",
      "Start of simulation  7\n",
      "Start of simulation  8\n",
      "Start of simulation  9\n",
      "Start of simulation  0\n",
      "Start of simulation  1\n",
      "Start of simulation  2\n",
      "Start of simulation  3\n",
      "Start of simulation  4\n",
      "Start of simulation  5\n",
      "Start of simulation  6\n",
      "Start of simulation  7\n",
      "Start of simulation  8\n",
      "Start of simulation  9\n",
      "Start of simulation  0\n",
      "Start of simulation  1\n",
      "Start of simulation  2\n",
      "Start of simulation  3\n",
      "Start of simulation  4\n",
      "Start of simulation  5\n",
      "Start of simulation  6\n",
      "Start of simulation  7\n",
      "Start of simulation  8\n",
      "Start of simulation  9\n",
      "Start of simulation  0\n",
      "Start of simulation  1\n",
      "Start of simulation  2\n",
      "Start of simulation  3\n",
      "Start of simulation  4\n",
      "Start of simulation  5\n",
      "Start of simulation  6\n",
      "Start of simulation  7\n",
      "Start of simulation  8\n",
      "Start of simulation  9\n",
      "Start of simulation  0\n",
      "Start of simulation  1\n",
      "Start of simulation  2\n",
      "Start of simulation  3\n",
      "Start of simulation  4\n",
      "Start of simulation  5\n",
      "Start of simulation  6\n",
      "Start of simulation  7\n",
      "Start of simulation  8\n",
      "Start of simulation  9\n",
      "Start of simulation  0\n",
      "Start of simulation  1\n",
      "Start of simulation  2\n",
      "Start of simulation  3\n",
      "Start of simulation  4\n",
      "Start of simulation  5\n",
      "Start of simulation  6\n",
      "Start of simulation  7\n",
      "Start of simulation  8\n",
      "Start of simulation  9\n",
      "Start of simulation  0\n",
      "Start of simulation  1\n",
      "Start of simulation  2\n",
      "Start of simulation  3\n",
      "Start of simulation  4\n",
      "Start of simulation  5\n",
      "Start of simulation  6\n",
      "Start of simulation  7\n",
      "Start of simulation  8\n",
      "Start of simulation  9\n",
      "Start of simulation  0\n",
      "Start of simulation  1\n",
      "Start of simulation  2\n",
      "Start of simulation  3\n",
      "Start of simulation  4\n",
      "Start of simulation  5\n",
      "Start of simulation  6\n",
      "Start of simulation  7\n",
      "Start of simulation  8\n",
      "Start of simulation  9\n",
      "Start of simulation  0\n",
      "Start of simulation  1\n",
      "Start of simulation  2\n",
      "Start of simulation  3\n",
      "Start of simulation  4\n",
      "Start of simulation  5\n",
      "Start of simulation  6\n",
      "Start of simulation  7\n",
      "Start of simulation  8\n",
      "Start of simulation  9\n",
      "Start of simulation  0\n",
      "Start of simulation  1\n",
      "Start of simulation  2\n",
      "Start of simulation  3\n",
      "Start of simulation  4\n",
      "Start of simulation  5\n",
      "Start of simulation  6\n",
      "Start of simulation  7\n",
      "Start of simulation  8\n",
      "Start of simulation  9\n",
      "Start of simulation  0\n",
      "Start of simulation  1\n",
      "Start of simulation  2\n",
      "Start of simulation  3\n",
      "Start of simulation  4\n",
      "Start of simulation  5\n",
      "Start of simulation  6\n",
      "Start of simulation  7\n",
      "Start of simulation  8\n",
      "Start of simulation  9\n",
      "Start of simulation  0\n",
      "Start of simulation  1\n",
      "Start of simulation  2\n",
      "Start of simulation  3\n",
      "Start of simulation  4\n",
      "Start of simulation  5\n",
      "Start of simulation  6\n",
      "Start of simulation  7\n",
      "Start of simulation  8\n",
      "Start of simulation  9\n",
      "Start of simulation  0\n",
      "Start of simulation  1\n",
      "Start of simulation  2\n",
      "Start of simulation  3\n",
      "Start of simulation  4\n",
      "Start of simulation  5\n",
      "Start of simulation  6\n",
      "Start of simulation  7\n",
      "Start of simulation  8\n",
      "Start of simulation  9\n",
      "Start of simulation  0\n",
      "Start of simulation  1\n",
      "Start of simulation  2\n",
      "Start of simulation  3\n",
      "Start of simulation  4\n",
      "Start of simulation  5\n",
      "Start of simulation  6\n",
      "Start of simulation  7\n",
      "Start of simulation  8\n",
      "Start of simulation  9\n",
      "Start of simulation  0\n",
      "Start of simulation  1\n",
      "Start of simulation  2\n",
      "Start of simulation  3\n",
      "Start of simulation  4\n",
      "Start of simulation  5\n",
      "Start of simulation  6\n",
      "Start of simulation  7\n",
      "Start of simulation  8\n",
      "Start of simulation  9\n",
      "Start of simulation  0\n",
      "Start of simulation  1\n",
      "Start of simulation  2\n",
      "Start of simulation  3\n",
      "Start of simulation  4\n",
      "Start of simulation  5\n",
      "Start of simulation  6\n",
      "Start of simulation  7\n",
      "Start of simulation  8\n",
      "Start of simulation  9\n"
     ]
    }
   ],
   "source": [
    "trdrs = []\n",
    "orbs = []\n",
    "for exp in range(len(init_equality)): \n",
    "    equality = init_equality[exp]\n",
    "    for seed in range(NRUNS): \n",
    "        traders, orderbook = init_objects_unequal(params, seed, equality)\n",
    "        traders, orderbook = pb_distr_model(traders, orderbook, params, seed)\n",
    "        trdrs.append(traders)\n",
    "        orbs.append(orderbook)"
   ]
  },
  {
   "cell_type": "code",
   "execution_count": 12,
   "metadata": {},
   "outputs": [],
   "source": [
    "# store init_inequality\n",
    "full_init_equality = []\n",
    "for exp in range(len(init_equality)):\n",
    "    for seed in range(NRUNS):\n",
    "        full_init_equality.append(init_equality[exp])"
   ]
  },
  {
   "cell_type": "code",
   "execution_count": 13,
   "metadata": {},
   "outputs": [],
   "source": [
    "# calculate init gini\n",
    "init_ginis = []\n",
    "\n",
    "for idx, traders in enumerate(trdrs):\n",
    "    #print(t)\n",
    "    money = np.array([x.var.money[-0] for x in trdrs[idx]])\n",
    "    stocks = np.array([x.var.stocks[0] for x in trdrs[idx]])\n",
    "    wealth = money + (stocks * orbs[idx].tick_close_price[0])\n",
    "    \n",
    "    init_ginis.append(gini(wealth))"
   ]
  },
  {
   "cell_type": "code",
   "execution_count": 14,
   "metadata": {},
   "outputs": [],
   "source": [
    "# collect price stdevs: \n",
    "stdevs_prices = []\n",
    "for ob in orbs:\n",
    "    stdevs_prices.append(np.std(ob.tick_close_price))"
   ]
  },
  {
   "cell_type": "code",
   "execution_count": 15,
   "metadata": {},
   "outputs": [],
   "source": [
    "# determine if a boom-bust occured:\n"
   ]
  },
  {
   "cell_type": "code",
   "execution_count": 16,
   "metadata": {},
   "outputs": [],
   "source": [
    "data_ineq_exp = pd.DataFrame({'stdev_p': stdevs_prices, 'init_ineq': full_init_equality, 'init_gini': init_ginis})\n",
    "data_ineq_exp['const'] = 1"
   ]
  },
  {
   "cell_type": "code",
   "execution_count": 23,
   "metadata": {},
   "outputs": [],
   "source": [
    "# split the stdevs in parts of NRUNS\n",
    "stdev_averages = []\n",
    "stdev_conf_interval_uppers = []\n",
    "stdev_conf_intervals_lowers = []\n",
    "av_ginis = []\n",
    "\n",
    "for x in range(len(init_equality)):\n",
    "    y = x * NRUNS\n",
    "    g = stdevs_prices[y: y + NRUNS]\n",
    "    stdev_averages.append(np.mean(g))\n",
    "    av_ginis.append(np.mean(init_ginis[y: y + NRUNS]))\n",
    "    sample_stdev = np.std(g)\n",
    "    sigma = sample_stdev/math.sqrt(len(g))\n",
    "    lower, upper = stats.t.interval(alpha = 0.95, df= 24, loc = np.mean(g), scale = sigma) \n",
    "    stdev_conf_interval_uppers.append(upper)\n",
    "    stdev_conf_intervals_lowers.append(lower)"
   ]
  },
  {
   "cell_type": "code",
   "execution_count": 18,
   "metadata": {},
   "outputs": [
    {
     "data": {
      "text/plain": [
       "<matplotlib.collections.PathCollection at 0x18b37fb9518>"
      ]
     },
     "execution_count": 18,
     "metadata": {},
     "output_type": "execute_result"
    },
    {
     "data": {
      "image/png": "[encoded data removed]",
      "text/plain": [
       "<Figure size 576x288 with 1 Axes>"
      ]
     },
     "metadata": {},
     "output_type": "display_data"
    }
   ],
   "source": [
    "fig, ax1 = plt.subplots(1, 1, figsize=[8,4])\n",
    "\n",
    "ax1.scatter(data_ineq_exp['init_gini'], data_ineq_exp['stdev_p'])"
   ]
  },
  {
   "cell_type": "code",
   "execution_count": 28,
   "metadata": {},
   "outputs": [
    {
     "data": {
      "image/png": "[encoded data removed]",
      "text/plain": [
       "<Figure size 576x288 with 1 Axes>"
      ]
     },
     "metadata": {},
     "output_type": "display_data"
    }
   ],
   "source": [
    "# TODO reverse picture\n",
    "\n",
    "fig, ax1 = plt.subplots(1, 1, figsize=[8,4])\n",
    "\n",
    "ax1.plot(av_ginis, stdev_averages)\n",
    "ax1.plot(av_ginis, stdev_conf_interval_uppers, 'k--')\n",
    "ax1.plot(av_ginis, stdev_conf_intervals_lowers, 'k--')\n",
    "\n",
    "ax1.set_ylabel('$\\sigma^2_p$', fontsize=14)\n",
    "ax1.set_xlabel('Initial Gini', fontsize=14)\n",
    "\n",
    "#ax2.scatter(data_ineq_exp['init_ineq'], data_ineq_exp['stdev_p'])\n",
    "\n",
    "fig.savefig('init_inequality_price_stdev2.png', dpi=200, bbox_inches = 'tight', pad_inches = 0)"
   ]
  },
  {
   "cell_type": "code",
   "execution_count": 207,
   "metadata": {},
   "outputs": [],
   "source": [
    "# Do regression\n",
    "reg1_init_ineq = sm.OLS(endog=data_ineq_exp['stdev_p'], exog=data_ineq_exp[['const', 'init_gini']], missing='drop').fit()"
   ]
  },
  {
   "cell_type": "code",
   "execution_count": 208,
   "metadata": {},
   "outputs": [
    {
     "name": "stdout",
     "output_type": "stream",
     "text": [
      "       Table - OLS Regressions\n",
      "=====================================\n",
      "                     Stdev price     \n",
      "-------------------------------------\n",
      "const            683.5366***         \n",
      "                 (67.3089)           \n",
      "init_gini        -471.4376***        \n",
      "                 (115.4444)          \n",
      "R-squared        0.038365118055926795\n",
      "No. observations 420                 \n",
      "=====================================\n",
      "Standard errors in parentheses.\n",
      "* p<.1, ** p<.05, ***p<.01\n"
     ]
    }
   ],
   "source": [
    "info_dict={'R-squared' : lambda x: \"{}\".format(x.rsquared), \n",
    "           'No. observations' : lambda x: \"{}\".format(int(x.nobs))}\n",
    "\n",
    "results_table = summary_col(results=[reg1_init_ineq],\n",
    "                            float_format='%0.4f',\n",
    "                            stars = True,\n",
    "                            model_names=['Stdev price'],\n",
    "                            info_dict=info_dict,\n",
    "                            regressor_order=['const', 'init_gini'])\n",
    "\n",
    "results_table.add_title('Table - OLS Regressions')\n",
    "\n",
    "print(results_table)"
   ]
  },
  {
   "cell_type": "code",
   "execution_count": 209,
   "metadata": {},
   "outputs": [],
   "source": [
    "mc_prices, mc_returns, mc_autocorr_returns, mc_autocorr_abs_returns, mc_volatility, mc_volume, mc_fundamentals = organise_data(orbs)"
   ]
  },
  {
   "cell_type": "code",
   "execution_count": 210,
   "metadata": {},
   "outputs": [],
   "source": [
    "# for every column... classify as boom-bust / or no boom-bust PD > 20\n",
    "has_boom_bust = []\n",
    "\n",
    "for col in (mc_prices / mc_fundamentals):\n",
    "    if max((mc_prices / mc_fundamentals)[col]) > 10:\n",
    "        has_boom_bust.append(1)\n",
    "    else: \n",
    "        has_boom_bust.append(0)"
   ]
  },
  {
   "cell_type": "code",
   "execution_count": 211,
   "metadata": {},
   "outputs": [],
   "source": [
    "# X is \n",
    "X = data_ineq_exp[['const', 'init_gini']]\n",
    "y = pd.DataFrame({'boom_bust': has_boom_bust})"
   ]
  },
  {
   "cell_type": "code",
   "execution_count": 212,
   "metadata": {},
   "outputs": [
    {
     "name": "stdout",
     "output_type": "stream",
     "text": [
      "Optimization terminated successfully.\n",
      "         Current function value: 0.668676\n",
      "         Iterations 5\n"
     ]
    }
   ],
   "source": [
    "logit_regr = sm.Logit(y, X).fit()"
   ]
  },
  {
   "cell_type": "code",
   "execution_count": 213,
   "metadata": {},
   "outputs": [
    {
     "data": {
      "text/html": [
       "<table class=\"simpletable\">\n",
       "<caption>Logit Regression Results</caption>\n",
       "<tr>\n",
       "  <th>Dep. Variable:</th>     <td>boom_bust</td>    <th>  No. Observations:  </th>  <td>   420</td>  \n",
       "</tr>\n",
       "<tr>\n",
       "  <th>Model:</th>               <td>Logit</td>      <th>  Df Residuals:      </th>  <td>   418</td>  \n",
       "</tr>\n",
       "<tr>\n",
       "  <th>Method:</th>               <td>MLE</td>       <th>  Df Model:          </th>  <td>     1</td>  \n",
       "</tr>\n",
       "<tr>\n",
       "  <th>Date:</th>          <td>Wed, 01 May 2019</td> <th>  Pseudo R-squ.:     </th>  <td>0.02759</td> \n",
       "</tr>\n",
       "<tr>\n",
       "  <th>Time:</th>              <td>18:56:48</td>     <th>  Log-Likelihood:    </th> <td> -280.84</td> \n",
       "</tr>\n",
       "<tr>\n",
       "  <th>converged:</th>           <td>True</td>       <th>  LL-Null:           </th> <td> -288.81</td> \n",
       "</tr>\n",
       "<tr>\n",
       "  <th> </th>                      <td> </td>        <th>  LLR p-value:       </th> <td>6.546e-05</td>\n",
       "</tr>\n",
       "</table>\n",
       "<table class=\"simpletable\">\n",
       "<tr>\n",
       "      <td></td>         <th>coef</th>     <th>std err</th>      <th>z</th>      <th>P>|z|</th>  <th>[0.025</th>    <th>0.975]</th>  \n",
       "</tr>\n",
       "<tr>\n",
       "  <th>const</th>     <td>    0.9838</td> <td>    0.320</td> <td>    3.071</td> <td> 0.002</td> <td>    0.356</td> <td>    1.612</td>\n",
       "</tr>\n",
       "<tr>\n",
       "  <th>init_gini</th> <td>   -2.1834</td> <td>    0.564</td> <td>   -3.873</td> <td> 0.000</td> <td>   -3.288</td> <td>   -1.078</td>\n",
       "</tr>\n",
       "</table>"
      ],
      "text/plain": [
       "<class 'statsmodels.iolib.summary.Summary'>\n",
       "\"\"\"\n",
       "                           Logit Regression Results                           \n",
       "==============================================================================\n",
       "Dep. Variable:              boom_bust   No. Observations:                  420\n",
       "Model:                          Logit   Df Residuals:                      418\n",
       "Method:                           MLE   Df Model:                            1\n",
       "Date:                Wed, 01 May 2019   Pseudo R-squ.:                 0.02759\n",
       "Time:                        18:56:48   Log-Likelihood:                -280.84\n",
       "converged:                       True   LL-Null:                       -288.81\n",
       "                                        LLR p-value:                 6.546e-05\n",
       "==============================================================================\n",
       "                 coef    std err          z      P>|z|      [0.025      0.975]\n",
       "------------------------------------------------------------------------------\n",
       "const          0.9838      0.320      3.071      0.002       0.356       1.612\n",
       "init_gini     -2.1834      0.564     -3.873      0.000      -3.288      -1.078\n",
       "==============================================================================\n",
       "\"\"\""
      ]
     },
     "execution_count": 213,
     "metadata": {},
     "output_type": "execute_result"
    }
   ],
   "source": [
    "logit_regr.summary()"
   ]
  },
  {
   "cell_type": "markdown",
   "metadata": {},
   "source": [
    "I take the exponential of each of the coefficients to generate an odds ratios. This ratio signals how a 1 unit increase or decrease in a variable affects the odds of a boom-bust emerging."
   ]
  },
  {
   "cell_type": "code",
   "execution_count": 214,
   "metadata": {},
   "outputs": [
    {
     "data": {
      "text/html": [
       "<div>\n",
       "<style scoped>\n",
       "    .dataframe tbody tr th:only-of-type {\n",
       "        vertical-align: middle;\n",
       "    }\n",
       "\n",
       "    .dataframe tbody tr th {\n",
       "        vertical-align: top;\n",
       "    }\n",
       "\n",
       "    .dataframe thead th {\n",
       "        text-align: right;\n",
       "    }\n",
       "</style>\n",
       "<table border=\"1\" class=\"dataframe\">\n",
       "  <thead>\n",
       "    <tr style=\"text-align: right;\">\n",
       "      <th></th>\n",
       "      <th>0</th>\n",
       "      <th>1</th>\n",
       "    </tr>\n",
       "  </thead>\n",
       "  <tbody>\n",
       "    <tr>\n",
       "      <th>const</th>\n",
       "      <td>0.356009</td>\n",
       "      <td>1.611516</td>\n",
       "    </tr>\n",
       "    <tr>\n",
       "      <th>init_gini</th>\n",
       "      <td>-3.288461</td>\n",
       "      <td>-1.078383</td>\n",
       "    </tr>\n",
       "  </tbody>\n",
       "</table>\n",
       "</div>"
      ],
      "text/plain": [
       "                  0         1\n",
       "const      0.356009  1.611516\n",
       "init_gini -3.288461 -1.078383"
      ]
     },
     "execution_count": 214,
     "metadata": {},
     "output_type": "execute_result"
    }
   ],
   "source": [
    "logit_regr.conf_int()"
   ]
  },
  {
   "cell_type": "code",
   "execution_count": 215,
   "metadata": {},
   "outputs": [
    {
     "data": {
      "text/html": [
       "<div>\n",
       "<style scoped>\n",
       "    .dataframe tbody tr th:only-of-type {\n",
       "        vertical-align: middle;\n",
       "    }\n",
       "\n",
       "    .dataframe tbody tr th {\n",
       "        vertical-align: top;\n",
       "    }\n",
       "\n",
       "    .dataframe thead th {\n",
       "        text-align: right;\n",
       "    }\n",
       "</style>\n",
       "<table border=\"1\" class=\"dataframe\">\n",
       "  <thead>\n",
       "    <tr style=\"text-align: right;\">\n",
       "      <th></th>\n",
       "      <th>2.5%</th>\n",
       "      <th>97.5%</th>\n",
       "      <th>OddsRatio</th>\n",
       "    </tr>\n",
       "  </thead>\n",
       "  <tbody>\n",
       "    <tr>\n",
       "      <th>const</th>\n",
       "      <td>1.427620</td>\n",
       "      <td>5.010402</td>\n",
       "      <td>2.674500</td>\n",
       "    </tr>\n",
       "    <tr>\n",
       "      <th>init_gini</th>\n",
       "      <td>0.037311</td>\n",
       "      <td>0.340145</td>\n",
       "      <td>0.112655</td>\n",
       "    </tr>\n",
       "  </tbody>\n",
       "</table>\n",
       "</div>"
      ],
      "text/plain": [
       "               2.5%     97.5%  OddsRatio\n",
       "const      1.427620  5.010402   2.674500\n",
       "init_gini  0.037311  0.340145   0.112655"
      ]
     },
     "execution_count": 215,
     "metadata": {},
     "output_type": "execute_result"
    }
   ],
   "source": [
    "confidenceInterval = logit_regr.conf_int()\n",
    "confidenceInterval['OddsRatio'] = logit_regr.params\n",
    "confidenceInterval.columns = ['2.5%', '97.5%', 'OddsRatio']\n",
    "np.exp(confidenceInterval)"
   ]
  },
  {
   "cell_type": "code",
   "execution_count": null,
   "metadata": {},
   "outputs": [],
   "source": []
  },
  {
   "cell_type": "markdown",
   "metadata": {},
   "source": [
    "### Generate bubble series"
   ]
  },
  {
   "cell_type": "code",
   "execution_count": 202,
   "metadata": {},
   "outputs": [],
   "source": [
    "burn_in_period = 75"
   ]
  },
  {
   "cell_type": "code",
   "execution_count": 8,
   "metadata": {},
   "outputs": [],
   "source": [
    "NRUNS = 1"
   ]
  },
  {
   "cell_type": "code",
   "execution_count": 4,
   "metadata": {},
   "outputs": [],
   "source": [
    "with open('parameters.json', 'r') as f:\n",
    "    params = json.loads(f.read())"
   ]
  },
  {
   "cell_type": "code",
   "execution_count": 205,
   "metadata": {},
   "outputs": [],
   "source": [
    "params['average_learning_ability'] = 0.0\n",
    "params['mutation_intensity'] = 0.0\n",
    "params['ticks'] = 400"
   ]
  },
  {
   "cell_type": "code",
   "execution_count": 207,
   "metadata": {},
   "outputs": [],
   "source": [
    "params['strat_share_chartists'] = 0.65"
   ]
  },
  {
   "cell_type": "code",
   "execution_count": 208,
   "metadata": {},
   "outputs": [
    {
     "name": "stdout",
     "output_type": "stream",
     "text": [
      "Start of simulation  0\n",
      "Start of simulation  1\n",
      "Start of simulation  2\n",
      "Start of simulation  3\n",
      "Start of simulation  4\n",
      "Start of simulation  5\n",
      "Start of simulation  6\n",
      "Start of simulation  7\n",
      "Start of simulation  8\n",
      "Start of simulation  9\n",
      "Start of simulation  10\n",
      "Start of simulation  11\n",
      "Start of simulation  12\n",
      "Start of simulation  13\n",
      "Start of simulation  14\n",
      "Start of simulation  15\n",
      "Start of simulation  16\n",
      "Start of simulation  17\n",
      "Start of simulation  18\n",
      "Start of simulation  19\n",
      "Start of simulation  20\n",
      "Start of simulation  21\n",
      "Start of simulation  22\n",
      "Start of simulation  23\n",
      "Start of simulation  24\n"
     ]
    }
   ],
   "source": [
    "trdrs = []\n",
    "orbs = []\n",
    "for seed in range(NRUNS): \n",
    "    traders, orderbook = init_objects_distr(params, seed)\n",
    "    traders, orderbook = pb_distr_model(traders, orderbook, params, seed)\n",
    "    trdrs.append(traders)\n",
    "    orbs.append(orderbook)"
   ]
  },
  {
   "cell_type": "code",
   "execution_count": 209,
   "metadata": {},
   "outputs": [],
   "source": [
    "mc_prices, mc_returns, mc_autocorr_returns, mc_autocorr_abs_returns, mc_volatility, mc_volume, mc_fundamentals = organise_data(orbs, burn_in_period=burn_in_period)"
   ]
  },
  {
   "cell_type": "code",
   "execution_count": 210,
   "metadata": {},
   "outputs": [],
   "source": [
    "ginis_diff = []\n",
    "palmas_diff = []\n",
    "twtws_diff = []\n",
    "\n",
    "for idx, traders in enumerate(trdrs):\n",
    "    money_start = np.array([x.var.money[burn_in_period] for x in trdrs[idx]])\n",
    "    stocks_start = np.array([x.var.stocks[burn_in_period] for x in trdrs[idx]])\n",
    "    wealth_start = money_start + (stocks_start * orbs[idx].tick_close_price[burn_in_period])\n",
    "    \n",
    "    money_close = np.array([x.var.money[-1] for x in trdrs[idx]])\n",
    "    stocks_close = np.array([x.var.stocks[-1] for x in trdrs[idx]])\n",
    "    wealth_close = money_close + (stocks_close * orbs[idx].tick_close_price[-1])\n",
    "    \n",
    "    share_top_10_start = sum(np.sort(wealth_start)[int(len(wealth_start) * 0.9):]) / sum(wealth_start)\n",
    "    share_bottom_40_start = sum(np.sort(wealth_start)[:int(len(wealth_start) * 0.4)]) / sum(wealth_start)\n",
    "    share_top_10_close = sum(np.sort(wealth_close)[int(len(wealth_close) * 0.9):]) / sum(wealth_close)\n",
    "    share_bottom_40_close = sum(np.sort(wealth_close)[:int(len(wealth_close) * 0.4)]) / sum(wealth_close)\n",
    "    palmas_diff.append(share_top_10_close / share_bottom_40_close - share_top_10_start / share_bottom_40_start)\n",
    "    \n",
    "    share_top_20_start = sum(np.sort(wealth_start)[int(len(wealth_start) * 0.8):]) / sum(wealth_start)\n",
    "    share_bottom_20_start = sum(np.sort(wealth_start)[:int(len(wealth_start) * 0.2)]) / sum(wealth_start)\n",
    "    share_top_20_close = sum(np.sort(wealth_close)[int(len(wealth_close) * 0.8):]) / sum(wealth_close)\n",
    "    share_bottom_20_close = sum(np.sort(wealth_close)[:int(len(wealth_close) * 0.2)]) / sum(wealth_close)\n",
    "    twtws_diff.append(share_top_20_close / share_bottom_20_close - share_top_20_start / share_bottom_20_start)\n",
    "    \n",
    "    ginis_diff.append(gini(wealth_close) - gini(wealth_start))"
   ]
  },
  {
   "cell_type": "markdown",
   "metadata": {},
   "source": [
    "### Generate non-bubble series"
   ]
  },
  {
   "cell_type": "code",
   "execution_count": 211,
   "metadata": {},
   "outputs": [],
   "source": [
    "params['strat_share_chartists'] = 0.0"
   ]
  },
  {
   "cell_type": "code",
   "execution_count": 212,
   "metadata": {},
   "outputs": [
    {
     "name": "stdout",
     "output_type": "stream",
     "text": [
      "Start of simulation  0\n",
      "Start of simulation  1\n",
      "Start of simulation  2\n",
      "Start of simulation  3\n",
      "Start of simulation  4\n",
      "Start of simulation  5\n",
      "Start of simulation  6\n",
      "Start of simulation  7\n",
      "Start of simulation  8\n",
      "Start of simulation  9\n",
      "Start of simulation  10\n",
      "Start of simulation  11\n",
      "Start of simulation  12\n",
      "Start of simulation  13\n",
      "Start of simulation  14\n",
      "Start of simulation  15\n",
      "Start of simulation  16\n",
      "Start of simulation  17\n",
      "Start of simulation  18\n",
      "Start of simulation  19\n",
      "Start of simulation  20\n",
      "Start of simulation  21\n",
      "Start of simulation  22\n",
      "Start of simulation  23\n",
      "Start of simulation  24\n"
     ]
    }
   ],
   "source": [
    "trdrs_f = []\n",
    "orbs_f = []\n",
    "for seed in range(NRUNS): \n",
    "    traders, orderbook = init_objects_distr(params, seed)\n",
    "    traders, orderbook = pb_distr_model(traders, orderbook, params, seed)\n",
    "    trdrs_f.append(traders)\n",
    "    orbs_f.append(orderbook)"
   ]
  },
  {
   "cell_type": "code",
   "execution_count": 213,
   "metadata": {},
   "outputs": [],
   "source": [
    "mc_prices_f, mc_returns_f, mc_autocorr_returns_f, mc_autocorr_abs_returns_f, mc_volatility_f, mc_volume_f, mc_fundamentals_f = organise_data(orbs_f, burn_in_period=burn_in_period)"
   ]
  },
  {
   "cell_type": "code",
   "execution_count": 214,
   "metadata": {},
   "outputs": [],
   "source": [
    "ginis_diff_f = []\n",
    "palmas_diff_f = []\n",
    "twtws_diff_f = []\n",
    "\n",
    "for idx, traders_f in enumerate(trdrs_f):\n",
    "    money_start_f = np.array([x.var.money[burn_in_period] for x in trdrs_f[idx]])\n",
    "    stocks_start_f = np.array([x.var.stocks[burn_in_period] for x in trdrs_f[idx]])\n",
    "    wealth_start_f = money_start_f + (stocks_start_f * orbs_f[idx].tick_close_price[burn_in_period])\n",
    "    \n",
    "    money_close_f = np.array([x.var.money[-1] for x in trdrs_f[idx]])\n",
    "    stocks_close_f = np.array([x.var.stocks[-1] for x in trdrs_f[idx]])\n",
    "    wealth_close_f = money_close_f + (stocks_close_f * orbs_f[idx].tick_close_price[-1])\n",
    "    \n",
    "    share_top_10_start_f = sum(np.sort(wealth_start_f)[int(len(wealth_start_f) * 0.9):]) / sum(wealth_start_f)\n",
    "    share_bottom_40_start_f = sum(np.sort(wealth_start_f)[:int(len(wealth_start_f) * 0.4)]) / sum(wealth_start_f)\n",
    "    share_top_10_close_f = sum(np.sort(wealth_close_f)[int(len(wealth_close_f) * 0.9):]) / sum(wealth_close_f)\n",
    "    share_bottom_40_close_f = sum(np.sort(wealth_close_f)[:int(len(wealth_close_f) * 0.4)]) / sum(wealth_close_f)\n",
    "    palmas_diff_f.append(share_top_10_close_f / share_bottom_40_close_f - share_top_10_start_f / share_bottom_40_start_f)\n",
    "    \n",
    "    share_top_20_start_f = sum(np.sort(wealth_start_f)[int(len(wealth_start_f) * 0.8):]) / sum(wealth_start_f)\n",
    "    share_bottom_20_start_f = sum(np.sort(wealth_start_f)[:int(len(wealth_start_f) * 0.2)]) / sum(wealth_start_f)\n",
    "    share_top_20_close_f = sum(np.sort(wealth_close_f)[int(len(wealth_close_f) * 0.8):]) / sum(wealth_close_f)\n",
    "    share_bottom_20_close_f = sum(np.sort(wealth_close_f)[:int(len(wealth_close_f) * 0.2)]) / sum(wealth_close_f)\n",
    "    twtws_diff_f.append(share_top_20_close_f / share_bottom_20_close_f - share_top_20_start_f / share_bottom_20_start_f)\n",
    "    \n",
    "    ginis_diff_f.append(gini(wealth_close_f) - gini(wealth_start_f))"
   ]
  },
  {
   "cell_type": "markdown",
   "metadata": {},
   "source": [
    "## Compare populations"
   ]
  },
  {
   "cell_type": "code",
   "execution_count": 215,
   "metadata": {},
   "outputs": [],
   "source": [
    "# compare ginis-palmas and twtws directly to counterpart withouth f \n",
    "t_test_score_gini, p_gini =  stats.ttest_rel(ginis_diff_f, ginis_diff)\n",
    "t_test_score_palma, p_palma =  stats.ttest_rel(palmas_diff_f, palmas_diff)\n",
    "t_test_score_twts, p_twts =  stats.ttest_rel(twtws_diff_f, twtws_diff)"
   ]
  },
  {
   "cell_type": "code",
   "execution_count": 216,
   "metadata": {},
   "outputs": [
    {
     "name": "stdout",
     "output_type": "stream",
     "text": [
      "av no boom-bust =  0.002518169743679485 av boom-bust gini =  0.4030167734739063\n",
      "Boom-bust effect gini -15.625897698405733 4.44305088925935e-14\n",
      "\n",
      "av no boom-bust palma =  0.011728043077539323 av no boom-bust udget palma =  11.79409021522342\n",
      "Boom-bust effect palma -6.664089224586944 6.816991628461224e-07\n",
      "\n",
      "av no boom-bust twtw =  0.04332615327227348 av no budget twtw =  43.09928621456077\n",
      "Boom-bust effect twtw -7.985737241396046 3.257225647003354e-08\n"
     ]
    }
   ],
   "source": [
    "print('av no boom-bust = ', np.mean(ginis_diff_f), 'av boom-bust gini = ', np.mean(ginis_diff))\n",
    "print('Boom-bust effect gini', t_test_score_gini, p_gini )\n",
    "print('')\n",
    "print('av no boom-bust palma = ', np.mean(palmas_diff_f), 'av no boom-bust udget palma = ', np.mean(palmas_diff))\n",
    "print('Boom-bust effect palma', t_test_score_palma, p_palma)\n",
    "print('')\n",
    "print('av no boom-bust twtw = ', np.mean(twtws_diff_f), 'av no budget twtw = ', np.mean(twtws_diff))\n",
    "print('Boom-bust effect twtw', t_test_score_twts, p_twts)"
   ]
  },
  {
   "cell_type": "code",
   "execution_count": 217,
   "metadata": {},
   "outputs": [],
   "source": [
    "# Get the t-critical value**\n",
    "def confidence_interval(sample, emp_value):\n",
    "    \"\"\"Calculate confidence_interval in sample\"\"\"\n",
    "    z_critical = stats.norm.ppf(q = 0.99)\n",
    "    stdev = pd.Series(sample).std()\n",
    "    margin_of_error = z_critical * stdev\n",
    "    confidence_interval = (emp_value - margin_of_error, emp_value + margin_of_error)  \n",
    "    return confidence_interval"
   ]
  },
  {
   "cell_type": "code",
   "execution_count": 218,
   "metadata": {},
   "outputs": [],
   "source": [
    "boom_bust_effect_on_gini = np.array(ginis_diff) - np.array(ginis_diff_f)\n",
    "av_effect_boom_bust_on_gini = np.mean(boom_bust_effect_on_gini)\n",
    "lower_gini, upper_gini = confidence_interval(boom_bust_effect_on_gini, av_effect_boom_bust_on_gini)\n",
    "\n",
    "boom_bust_effect_on_palma = np.array(palmas_diff) - np.array(palmas_diff_f)\n",
    "av_effect_boom_bust_on_palma = np.mean(boom_bust_effect_on_palma)\n",
    "lower_palma, upper_palma = confidence_interval(boom_bust_effect_on_palma, av_effect_boom_bust_on_palma)\n",
    "\n",
    "boom_bust_effect_on_twtw = np.array(twtws_diff) - np.array(twtws_diff_f)\n",
    "av_effect_boom_bust_on_twtw = np.mean(boom_bust_effect_on_twtw)\n",
    "lower_twtw, upper_twtw = confidence_interval(boom_bust_effect_on_twtw, av_effect_boom_bust_on_twtw)"
   ]
  },
  {
   "cell_type": "code",
   "execution_count": 219,
   "metadata": {},
   "outputs": [],
   "source": [
    "boom_bust_effect = pd.DataFrame({'gini': [lower_gini, av_effect_boom_bust_on_gini, upper_gini], \n",
    "                                 'palma': [lower_palma, av_effect_boom_bust_on_palma, upper_palma],\n",
    "                                 'twtw': [lower_twtw, av_effect_boom_bust_on_twtw, upper_twtw]})\n",
    "\n",
    "boom_bust_effect.index = ['Lower bound', 'Average', 'Upper bound']"
   ]
  },
  {
   "cell_type": "code",
   "execution_count": 220,
   "metadata": {},
   "outputs": [
    {
     "data": {
      "text/html": [
       "<div>\n",
       "<style scoped>\n",
       "    .dataframe tbody tr th:only-of-type {\n",
       "        vertical-align: middle;\n",
       "    }\n",
       "\n",
       "    .dataframe tbody tr th {\n",
       "        vertical-align: top;\n",
       "    }\n",
       "\n",
       "    .dataframe thead th {\n",
       "        text-align: right;\n",
       "    }\n",
       "</style>\n",
       "<table border=\"1\" class=\"dataframe\">\n",
       "  <thead>\n",
       "    <tr style=\"text-align: right;\">\n",
       "      <th></th>\n",
       "      <th>gini</th>\n",
       "      <th>palma</th>\n",
       "      <th>twtw</th>\n",
       "    </tr>\n",
       "  </thead>\n",
       "  <tbody>\n",
       "    <tr>\n",
       "      <th>Lower bound</th>\n",
       "      <td>0.102372</td>\n",
       "      <td>-8.782994</td>\n",
       "      <td>-19.657812</td>\n",
       "    </tr>\n",
       "    <tr>\n",
       "      <th>Average</th>\n",
       "      <td>0.400499</td>\n",
       "      <td>11.782362</td>\n",
       "      <td>43.055960</td>\n",
       "    </tr>\n",
       "    <tr>\n",
       "      <th>Upper bound</th>\n",
       "      <td>0.698625</td>\n",
       "      <td>32.347718</td>\n",
       "      <td>105.769732</td>\n",
       "    </tr>\n",
       "  </tbody>\n",
       "</table>\n",
       "</div>"
      ],
      "text/plain": [
       "                 gini      palma        twtw\n",
       "Lower bound  0.102372  -8.782994  -19.657812\n",
       "Average      0.400499  11.782362   43.055960\n",
       "Upper bound  0.698625  32.347718  105.769732"
      ]
     },
     "execution_count": 220,
     "metadata": {},
     "output_type": "execute_result"
    }
   ],
   "source": [
    "boom_bust_effect"
   ]
  },
  {
   "cell_type": "code",
   "execution_count": 221,
   "metadata": {},
   "outputs": [],
   "source": [
    "# compare ginis-palmas and twtws directly to counterpart withouth f \n",
    "t_test_score_gini, p_gini =  stats.ttest_rel(ginis_diff, ginis_diff_f)\n",
    "t_test_score_palma, p_palma =  stats.ttest_rel(palmas_diff, palmas_diff_f)\n",
    "t_test_score_twts, p_twts =  stats.ttest_rel(twtws_diff, twtws_diff_f)"
   ]
  },
  {
   "cell_type": "code",
   "execution_count": 222,
   "metadata": {},
   "outputs": [
    {
     "name": "stdout",
     "output_type": "stream",
     "text": [
      "gini t-test 15.625897698405733 p-val 4.44305088925935e-14\n",
      "palma t-test 6.664089224586944 p-val 6.816991628461224e-07\n",
      "twtw t-test 7.985737241396046 p-val 3.257225647003354e-08\n"
     ]
    }
   ],
   "source": [
    "print('gini t-test', t_test_score_gini, 'p-val', p_gini)\n",
    "print('palma t-test', t_test_score_palma, 'p-val', p_palma)\n",
    "print('twtw t-test', t_test_score_twts, 'p-val', p_twts)"
   ]
  },
  {
   "cell_type": "markdown",
   "metadata": {},
   "source": [
    "## Regression\n",
    "\n",
    "inequality metric = cons + price_stdev + dummy_boom_bust"
   ]
  },
  {
   "cell_type": "code",
   "execution_count": 223,
   "metadata": {},
   "outputs": [],
   "source": [
    "# create df with: gini_diffs, palma_diffs, twtws_diffs, stdev_prices, dummy_boom_busts\n",
    "boom_bust_dummy = [0 for x in range(len(ginis_diff_f))] + [1 for x in range(len(ginis_diff))]\n",
    "stdev_prices = [np.std(orbs_f[i].tick_close_price[burn_in_period:]) for i in range(len(orbs_f))] + [np.std(orbs[i].tick_close_price[burn_in_period:]) for i in range(len(orbs))]\n",
    "gini_diffs = ginis_diff_f + ginis_diff\n",
    "palma_diffs = palmas_diff_f + palmas_diff\n",
    "twtws_diffs = twtws_diff_f + twtws_diff"
   ]
  },
  {
   "cell_type": "code",
   "execution_count": 224,
   "metadata": {},
   "outputs": [],
   "source": [
    "long_data = pd.DataFrame({'gini_diffs': gini_diffs, 'palma_diffs': palma_diffs, 'twtw_diffs': twtws_diffs,\n",
    "             'stdev_prices': stdev_prices, 'dummy_boom_busts': boom_bust_dummy})\n",
    "long_data['const'] = 1"
   ]
  },
  {
   "cell_type": "code",
   "execution_count": 225,
   "metadata": {},
   "outputs": [],
   "source": [
    "# 2 regression\n",
    "reg1_long = sm.OLS(endog=long_data['gini_diffs'], exog=long_data[['const', 'stdev_prices', 'dummy_boom_busts']], missing='drop').fit()\n",
    "reg2_long = sm.OLS(endog=long_data['palma_diffs'], exog=long_data[['const', 'stdev_prices', 'dummy_boom_busts']], missing='drop').fit()\n",
    "reg3_long = sm.OLS(endog=long_data['twtw_diffs'], exog=long_data[['const', 'stdev_prices', 'dummy_boom_busts']], missing='drop').fit()"
   ]
  },
  {
   "cell_type": "code",
   "execution_count": 226,
   "metadata": {},
   "outputs": [
    {
     "name": "stdout",
     "output_type": "stream",
     "text": [
      "                         Table - OLS Regressions\n",
      "=========================================================================\n",
      "                        Gini              Palma              20-20       \n",
      "-------------------------------------------------------------------------\n",
      "const            0.0024             0.0092             0.0389            \n",
      "                 (0.0182)           (1.2619)           (3.8513)          \n",
      "stdev_prices     0.0000             0.0008             0.0013            \n",
      "                 (0.0000)           (0.0023)           (0.0069)          \n",
      "dummy_boom_busts 0.3901***          11.4326***         42.4359***        \n",
      "                 (0.0299)           (2.0708)           (6.3200)          \n",
      "R-squared        0.8372651137162583 0.4818279034035643 0.5709039915108203\n",
      "No. observations 50                 50                 50                \n",
      "=========================================================================\n",
      "Standard errors in parentheses.\n",
      "* p<.1, ** p<.05, ***p<.01\n"
     ]
    }
   ],
   "source": [
    "info_dict={'R-squared' : lambda x: \"{}\".format(x.rsquared), \n",
    "           'No. observations' : lambda x: \"{}\".format(int(x.nobs))}\n",
    "\n",
    "results_table = summary_col(results=[reg1_long, reg2_long, reg3_long],\n",
    "                            float_format='%0.4f',\n",
    "                            stars = True,\n",
    "                            model_names=['Gini', 'Palma', '20-20'],\n",
    "                            info_dict=info_dict,\n",
    "                            regressor_order=['const', 'stdev_prices', 'dummy_boom_busts'])\n",
    "\n",
    "results_table.add_title('Table - OLS Regressions')\n",
    "\n",
    "print(results_table)"
   ]
  },
  {
   "cell_type": "markdown",
   "metadata": {},
   "source": [
    "## Compare long-simulations "
   ]
  },
  {
   "cell_type": "code",
   "execution_count": 158,
   "metadata": {},
   "outputs": [],
   "source": [
    "burn_in_period = 0"
   ]
  },
  {
   "cell_type": "code",
   "execution_count": 159,
   "metadata": {},
   "outputs": [],
   "source": [
    "NRUNS = 20"
   ]
  },
  {
   "cell_type": "code",
   "execution_count": 160,
   "metadata": {},
   "outputs": [],
   "source": [
    "with open('parameters.json', 'r') as f:\n",
    "    params = json.loads(f.read())"
   ]
  },
  {
   "cell_type": "code",
   "execution_count": 161,
   "metadata": {},
   "outputs": [],
   "source": [
    "params['average_learning_ability'] = 0.0\n",
    "params['mutation_intensity'] = 0.0\n",
    "params['ticks'] = 1200"
   ]
  },
  {
   "cell_type": "code",
   "execution_count": 162,
   "metadata": {},
   "outputs": [],
   "source": [
    "params['strat_share_chartists'] = 0.75"
   ]
  },
  {
   "cell_type": "code",
   "execution_count": 163,
   "metadata": {},
   "outputs": [
    {
     "name": "stdout",
     "output_type": "stream",
     "text": [
      "Start of simulation  0\n",
      "Start of simulation  1\n",
      "Start of simulation  2\n",
      "Start of simulation  3\n",
      "Start of simulation  4\n",
      "Start of simulation  5\n",
      "Start of simulation  6\n",
      "Start of simulation  7\n",
      "Start of simulation  8\n",
      "Start of simulation  9\n",
      "Start of simulation  10\n",
      "Start of simulation  11\n",
      "Start of simulation  12\n",
      "Start of simulation  13\n",
      "Start of simulation  14\n",
      "Start of simulation  15\n",
      "Start of simulation  16\n",
      "Start of simulation  17\n",
      "Start of simulation  18\n",
      "Start of simulation  19\n"
     ]
    }
   ],
   "source": [
    "trdrs = []\n",
    "orbs = []\n",
    "for seed in range(NRUNS): \n",
    "    traders, orderbook = init_objects_distr(params, seed)\n",
    "    traders, orderbook = pb_distr_model(traders, orderbook, params, seed)\n",
    "    trdrs.append(traders)\n",
    "    orbs.append(orderbook)"
   ]
  },
  {
   "cell_type": "code",
   "execution_count": 164,
   "metadata": {},
   "outputs": [],
   "source": [
    "mc_prices, mc_returns, mc_autocorr_returns, mc_autocorr_abs_returns, mc_volatility, mc_volume, mc_fundamentals = organise_data(orbs, burn_in_period=burn_in_period)"
   ]
  },
  {
   "cell_type": "code",
   "execution_count": 165,
   "metadata": {},
   "outputs": [
    {
     "data": {
      "text/plain": [
       "<matplotlib.axes._subplots.AxesSubplot at 0x23ae5e870f0>"
      ]
     },
     "execution_count": 165,
     "metadata": {},
     "output_type": "execute_result"
    },
    {
     "data": {
      "image/png": "[encoded data removed]",
      "text/plain": [
       "<Figure size 432x288 with 1 Axes>"
      ]
     },
     "metadata": {
      "needs_background": "light"
     },
     "output_type": "display_data"
    }
   ],
   "source": [
    "mc_prices.plot()"
   ]
  },
  {
   "cell_type": "code",
   "execution_count": 166,
   "metadata": {},
   "outputs": [],
   "source": [
    "ginis_diff = []\n",
    "palmas_diff = []\n",
    "twtws_diff = []\n",
    "\n",
    "for idx, traders in enumerate(trdrs):\n",
    "    money_start = np.array([x.var.money[burn_in_period] for x in trdrs[idx]])\n",
    "    stocks_start = np.array([x.var.stocks[burn_in_period] for x in trdrs[idx]])\n",
    "    wealth_start = money_start + (stocks_start * orbs[idx].tick_close_price[burn_in_period])\n",
    "    \n",
    "    money_close = np.array([x.var.money[-1] for x in trdrs[idx]])\n",
    "    stocks_close = np.array([x.var.stocks[-1] for x in trdrs[idx]])\n",
    "    wealth_close = money_close + (stocks_close * orbs[idx].tick_close_price[-1])\n",
    "    \n",
    "    share_top_10_start = sum(np.sort(wealth_start)[int(len(wealth_start) * 0.9):]) / sum(wealth_start)\n",
    "    share_bottom_40_start = sum(np.sort(wealth_start)[:int(len(wealth_start) * 0.4)]) / sum(wealth_start)\n",
    "    share_top_10_close = sum(np.sort(wealth_close)[int(len(wealth_close) * 0.9):]) / sum(wealth_close)\n",
    "    share_bottom_40_close = sum(np.sort(wealth_close)[:int(len(wealth_close) * 0.4)]) / sum(wealth_close)\n",
    "    palmas_diff.append(share_top_10_close / share_bottom_40_close - share_top_10_start / share_bottom_40_start)\n",
    "    \n",
    "    share_top_20_start = sum(np.sort(wealth_start)[int(len(wealth_start) * 0.8):]) / sum(wealth_start)\n",
    "    share_bottom_20_start = sum(np.sort(wealth_start)[:int(len(wealth_start) * 0.2)]) / sum(wealth_start)\n",
    "    share_top_20_close = sum(np.sort(wealth_close)[int(len(wealth_close) * 0.8):]) / sum(wealth_close)\n",
    "    share_bottom_20_close = sum(np.sort(wealth_close)[:int(len(wealth_close) * 0.2)]) / sum(wealth_close)\n",
    "    twtws_diff.append(share_top_20_close / share_bottom_20_close - share_top_20_start / share_bottom_20_start)\n",
    "    \n",
    "    ginis_diff.append(gini(wealth_close) - gini(wealth_start))"
   ]
  },
  {
   "cell_type": "markdown",
   "metadata": {},
   "source": [
    "### Generate non-bubble series"
   ]
  },
  {
   "cell_type": "code",
   "execution_count": 167,
   "metadata": {},
   "outputs": [],
   "source": [
    "params['strat_share_chartists'] = 0.0"
   ]
  },
  {
   "cell_type": "code",
   "execution_count": 168,
   "metadata": {},
   "outputs": [
    {
     "name": "stdout",
     "output_type": "stream",
     "text": [
      "Start of simulation  0\n",
      "Start of simulation  1\n",
      "Start of simulation  2\n",
      "Start of simulation  3\n",
      "Start of simulation  4\n",
      "Start of simulation  5\n",
      "Start of simulation  6\n",
      "Start of simulation  7\n",
      "Start of simulation  8\n",
      "Start of simulation  9\n",
      "Start of simulation  10\n",
      "Start of simulation  11\n",
      "Start of simulation  12\n",
      "Start of simulation  13\n",
      "Start of simulation  14\n",
      "Start of simulation  15\n",
      "Start of simulation  16\n",
      "Start of simulation  17\n",
      "Start of simulation  18\n",
      "Start of simulation  19\n"
     ]
    }
   ],
   "source": [
    "trdrs_f = []\n",
    "orbs_f = []\n",
    "for seed in range(NRUNS): \n",
    "    traders, orderbook = init_objects_distr(params, seed)\n",
    "    traders, orderbook = pb_distr_model(traders, orderbook, params, seed)\n",
    "    trdrs_f.append(traders)\n",
    "    orbs_f.append(orderbook)"
   ]
  },
  {
   "cell_type": "code",
   "execution_count": 169,
   "metadata": {},
   "outputs": [],
   "source": [
    "mc_prices_f, mc_returns_f, mc_autocorr_returns_f, mc_autocorr_abs_returns_f, mc_volatility_f, mc_volume_f, mc_fundamentals_f = organise_data(orbs_f, burn_in_period=burn_in_period)"
   ]
  },
  {
   "cell_type": "code",
   "execution_count": 170,
   "metadata": {},
   "outputs": [],
   "source": [
    "ginis_diff_f = []\n",
    "palmas_diff_f = []\n",
    "twtws_diff_f = []\n",
    "\n",
    "for idx, traders_f in enumerate(trdrs_f):\n",
    "    money_start_f = np.array([x.var.money[burn_in_period] for x in trdrs_f[idx]])\n",
    "    stocks_start_f = np.array([x.var.stocks[burn_in_period] for x in trdrs_f[idx]])\n",
    "    wealth_start_f = money_start_f + (stocks_start_f * orbs_f[idx].tick_close_price[burn_in_period])\n",
    "    \n",
    "    money_close_f = np.array([x.var.money[-1] for x in trdrs_f[idx]])\n",
    "    stocks_close_f = np.array([x.var.stocks[-1] for x in trdrs_f[idx]])\n",
    "    wealth_close_f = money_close_f + (stocks_close_f * orbs_f[idx].tick_close_price[-1])\n",
    "    \n",
    "    share_top_10_start_f = sum(np.sort(wealth_start_f)[int(len(wealth_start_f) * 0.9):]) / sum(wealth_start_f)\n",
    "    share_bottom_40_start_f = sum(np.sort(wealth_start_f)[:int(len(wealth_start_f) * 0.4)]) / sum(wealth_start_f)\n",
    "    share_top_10_close_f = sum(np.sort(wealth_close_f)[int(len(wealth_close_f) * 0.9):]) / sum(wealth_close_f)\n",
    "    share_bottom_40_close_f = sum(np.sort(wealth_close_f)[:int(len(wealth_close_f) * 0.4)]) / sum(wealth_close_f)\n",
    "    palmas_diff_f.append(share_top_10_close_f / share_bottom_40_close_f - share_top_10_start_f / share_bottom_40_start_f)\n",
    "    \n",
    "    share_top_20_start_f = sum(np.sort(wealth_start_f)[int(len(wealth_start_f) * 0.8):]) / sum(wealth_start_f)\n",
    "    share_bottom_20_start_f = sum(np.sort(wealth_start_f)[:int(len(wealth_start_f) * 0.2)]) / sum(wealth_start_f)\n",
    "    share_top_20_close_f = sum(np.sort(wealth_close_f)[int(len(wealth_close_f) * 0.8):]) / sum(wealth_close_f)\n",
    "    share_bottom_20_close_f = sum(np.sort(wealth_close_f)[:int(len(wealth_close_f) * 0.2)]) / sum(wealth_close_f)\n",
    "    twtws_diff_f.append(share_top_20_close_f / share_bottom_20_close_f - share_top_20_start_f / share_bottom_20_start_f)\n",
    "    \n",
    "    ginis_diff_f.append(gini(wealth_close_f) - gini(wealth_start_f))"
   ]
  },
  {
   "cell_type": "markdown",
   "metadata": {},
   "source": [
    "## Compare populations"
   ]
  },
  {
   "cell_type": "code",
   "execution_count": 171,
   "metadata": {},
   "outputs": [],
   "source": [
    "# compare ginis-palmas and twtws directly to counterpart withouth f \n",
    "t_test_score_gini, p_gini =  stats.ttest_rel(ginis_diff_f, ginis_diff)\n",
    "t_test_score_palma, p_palma =  stats.ttest_rel(palmas_diff_f, palmas_diff)\n",
    "t_test_score_twts, p_twts =  stats.ttest_rel(twtws_diff_f, twtws_diff)"
   ]
  },
  {
   "cell_type": "code",
   "execution_count": 172,
   "metadata": {},
   "outputs": [
    {
     "name": "stdout",
     "output_type": "stream",
     "text": [
      "av no boom-bust =  0.009655681632996654 av boom-bust gini =  0.5946998086585212\n",
      "Boom-bust effect gini -23.65273412831302 1.4791925659203701e-15\n",
      "\n",
      "av no boom-bust palma =  0.04282465649043967 av no boom-bust udget palma =  62.740443607578115\n",
      "Boom-bust effect palma -3.263022833670634 0.004092142369122814\n",
      "\n",
      "av no boom-bust twtw =  0.16759589129496022 av no budget twtw =  195.02389541769685\n",
      "Boom-bust effect twtw -3.697702631151585 0.0015277234957900613\n"
     ]
    }
   ],
   "source": [
    "print('av no boom-bust = ', np.mean(ginis_diff_f), 'av boom-bust gini = ', np.mean(ginis_diff))\n",
    "print('Boom-bust effect gini', t_test_score_gini, p_gini )\n",
    "print('')\n",
    "print('av no boom-bust palma = ', np.mean(palmas_diff_f), 'av no boom-bust udget palma = ', np.mean(palmas_diff))\n",
    "print('Boom-bust effect palma', t_test_score_palma, p_palma)\n",
    "print('')\n",
    "print('av no boom-bust twtw = ', np.mean(twtws_diff_f), 'av no budget twtw = ', np.mean(twtws_diff))\n",
    "print('Boom-bust effect twtw', t_test_score_twts, p_twts)"
   ]
  },
  {
   "cell_type": "code",
   "execution_count": 173,
   "metadata": {},
   "outputs": [],
   "source": [
    "# Get the t-critical value**\n",
    "def confidence_interval(sample, emp_value):\n",
    "    \"\"\"Calculate confidence_interval in sample\"\"\"\n",
    "    z_critical = stats.norm.ppf(q = 0.99)\n",
    "    stdev = pd.Series(sample).std()\n",
    "    margin_of_error = z_critical * stdev\n",
    "    confidence_interval = (emp_value - margin_of_error, emp_value + margin_of_error)  \n",
    "    return confidence_interval"
   ]
  },
  {
   "cell_type": "code",
   "execution_count": 174,
   "metadata": {},
   "outputs": [],
   "source": [
    "boom_bust_effect_on_gini = np.array(ginis_diff) - np.array(ginis_diff_f)\n",
    "av_effect_boom_bust_on_gini = np.mean(boom_bust_effect_on_gini)\n",
    "lower_gini, upper_gini = confidence_interval(boom_bust_effect_on_gini, av_effect_boom_bust_on_gini)\n",
    "\n",
    "boom_bust_effect_on_palma = np.array(palmas_diff) - np.array(palmas_diff_f)\n",
    "av_effect_boom_bust_on_palma = np.mean(boom_bust_effect_on_palma)\n",
    "lower_palma, upper_palma = confidence_interval(boom_bust_effect_on_palma, av_effect_boom_bust_on_palma)\n",
    "\n",
    "boom_bust_effect_on_twtw = np.array(twtws_diff) - np.array(twtws_diff_f)\n",
    "av_effect_boom_bust_on_twtw = np.mean(boom_bust_effect_on_twtw)\n",
    "lower_twtw, upper_twtw = confidence_interval(boom_bust_effect_on_twtw, av_effect_boom_bust_on_twtw)"
   ]
  },
  {
   "cell_type": "code",
   "execution_count": 175,
   "metadata": {},
   "outputs": [],
   "source": [
    "boom_bust_effect = pd.DataFrame({'gini': [lower_gini, av_effect_boom_bust_on_gini, upper_gini], \n",
    "                                 'palma': [lower_palma, av_effect_boom_bust_on_palma, upper_palma],\n",
    "                                 'twtw': [lower_twtw, av_effect_boom_bust_on_twtw, upper_twtw]})\n",
    "\n",
    "boom_bust_effect.index = ['Lower bound', 'Average', 'Upper bound']"
   ]
  },
  {
   "cell_type": "code",
   "execution_count": 176,
   "metadata": {},
   "outputs": [
    {
     "data": {
      "text/html": [
       "<div>\n",
       "<style scoped>\n",
       "    .dataframe tbody tr th:only-of-type {\n",
       "        vertical-align: middle;\n",
       "    }\n",
       "\n",
       "    .dataframe tbody tr th {\n",
       "        vertical-align: top;\n",
       "    }\n",
       "\n",
       "    .dataframe thead th {\n",
       "        text-align: right;\n",
       "    }\n",
       "</style>\n",
       "<table border=\"1\" class=\"dataframe\">\n",
       "  <thead>\n",
       "    <tr style=\"text-align: right;\">\n",
       "      <th></th>\n",
       "      <th>gini</th>\n",
       "      <th>palma</th>\n",
       "      <th>twtw</th>\n",
       "    </tr>\n",
       "  </thead>\n",
       "  <tbody>\n",
       "    <tr>\n",
       "      <th>Lower bound</th>\n",
       "      <td>0.327710</td>\n",
       "      <td>-137.205970</td>\n",
       "      <td>-353.385475</td>\n",
       "    </tr>\n",
       "    <tr>\n",
       "      <th>Average</th>\n",
       "      <td>0.585044</td>\n",
       "      <td>62.697619</td>\n",
       "      <td>194.856300</td>\n",
       "    </tr>\n",
       "    <tr>\n",
       "      <th>Upper bound</th>\n",
       "      <td>0.842378</td>\n",
       "      <td>262.601208</td>\n",
       "      <td>743.098074</td>\n",
       "    </tr>\n",
       "  </tbody>\n",
       "</table>\n",
       "</div>"
      ],
      "text/plain": [
       "                 gini       palma        twtw\n",
       "Lower bound  0.327710 -137.205970 -353.385475\n",
       "Average      0.585044   62.697619  194.856300\n",
       "Upper bound  0.842378  262.601208  743.098074"
      ]
     },
     "execution_count": 176,
     "metadata": {},
     "output_type": "execute_result"
    }
   ],
   "source": [
    "boom_bust_effect"
   ]
  },
  {
   "cell_type": "code",
   "execution_count": 177,
   "metadata": {},
   "outputs": [],
   "source": [
    "# compare ginis-palmas and twtws directly to counterpart withouth f \n",
    "t_test_score_gini, p_gini =  stats.ttest_rel(ginis_diff, ginis_diff_f)\n",
    "t_test_score_palma, p_palma =  stats.ttest_rel(palmas_diff, palmas_diff_f)\n",
    "t_test_score_twts, p_twts =  stats.ttest_rel(twtws_diff, twtws_diff_f)"
   ]
  },
  {
   "cell_type": "code",
   "execution_count": 178,
   "metadata": {},
   "outputs": [
    {
     "name": "stdout",
     "output_type": "stream",
     "text": [
      "gini t-test 23.65273412831302 p-val 1.4791925659203701e-15\n",
      "palma t-test 3.263022833670634 p-val 0.004092142369122814\n",
      "twtw t-test 3.697702631151585 p-val 0.0015277234957900613\n"
     ]
    }
   ],
   "source": [
    "print('gini t-test', t_test_score_gini, 'p-val', p_gini)\n",
    "print('palma t-test', t_test_score_palma, 'p-val', p_palma)\n",
    "print('twtw t-test', t_test_score_twts, 'p-val', p_twts)"
   ]
  },
  {
   "cell_type": "markdown",
   "metadata": {},
   "source": [
    "## Regression\n",
    "\n",
    "inequality metric = cons + price_stdev + dummy_boom_bust"
   ]
  },
  {
   "cell_type": "code",
   "execution_count": 195,
   "metadata": {},
   "outputs": [],
   "source": [
    "# create df with: gini_diffs, palma_diffs, twtws_diffs, stdev_prices, dummy_boom_busts\n",
    "boom_bust_dummy = [0 for x in range(len(ginis_diff_f))] + [1 for x in range(len(ginis_diff))]\n",
    "stdev_prices = [np.std(orbs_f[i].tick_close_price[burn_in_period:]) for i in range(len(orbs_f))] + [np.std(orbs[i].tick_close_price[burn_in_period:]) for i in range(len(orbs))]\n",
    "gini_diffs = ginis_diff_f + ginis_diff\n",
    "palma_diffs = palmas_diff_f + palmas_diff\n",
    "twtws_diffs = twtws_diff_f + twtws_diff"
   ]
  },
  {
   "cell_type": "code",
   "execution_count": 197,
   "metadata": {},
   "outputs": [],
   "source": [
    "long_data = pd.DataFrame({'gini_diffs': gini_diffs, 'palma_diffs': palma_diffs, 'twtw_diffs': twtws_diffs,\n",
    "             'stdev_prices': stdev_prices, 'dummy_boom_busts': boom_bust_dummy})\n",
    "long_data['const'] = 1"
   ]
  },
  {
   "cell_type": "code",
   "execution_count": 200,
   "metadata": {},
   "outputs": [],
   "source": [
    "# 2 regression\n",
    "reg1_long = sm.OLS(endog=long_data['gini_diffs'], exog=long_data[['const', 'stdev_prices', 'dummy_boom_busts']], missing='drop').fit()\n",
    "reg2_long = sm.OLS(endog=long_data['palma_diffs'], exog=long_data[['const', 'stdev_prices', 'dummy_boom_busts']], missing='drop').fit()\n",
    "reg3_long = sm.OLS(endog=long_data['twtw_diffs'], exog=long_data[['const', 'stdev_prices', 'dummy_boom_busts']], missing='drop').fit()"
   ]
  },
  {
   "cell_type": "code",
   "execution_count": 201,
   "metadata": {},
   "outputs": [
    {
     "name": "stdout",
     "output_type": "stream",
     "text": [
      "                         Table - OLS Regressions\n",
      "==========================================================================\n",
      "                        Gini               Palma              20-20       \n",
      "--------------------------------------------------------------------------\n",
      "const            0.0098             0.4809              1.2679            \n",
      "                 (0.0177)           (13.5151)           (37.1792)         \n",
      "stdev_prices     -0.0000            -0.0950             -0.2386           \n",
      "                 (0.0001)           (0.0793)            (0.2182)          \n",
      "dummy_boom_busts 0.5979***          94.7027***          275.2490***       \n",
      "                 (0.0431)           (32.8468)           (90.3594)         \n",
      "R-squared        0.9364939262394681 0.24801796131580267 0.2876457817788539\n",
      "No. observations 40                 40                  40                \n",
      "==========================================================================\n",
      "Standard errors in parentheses.\n",
      "* p<.1, ** p<.05, ***p<.01\n"
     ]
    }
   ],
   "source": [
    "info_dict={'R-squared' : lambda x: \"{}\".format(x.rsquared), \n",
    "           'No. observations' : lambda x: \"{}\".format(int(x.nobs))}\n",
    "\n",
    "results_table = summary_col(results=[reg1_long, reg2_long, reg3_long],\n",
    "                            float_format='%0.4f',\n",
    "                            stars = True,\n",
    "                            model_names=['Gini', 'Palma', '20-20'],\n",
    "                            info_dict=info_dict,\n",
    "                            regressor_order=['const', 'stdev_prices', 'dummy_boom_busts'])\n",
    "\n",
    "results_table.add_title('Table - OLS Regressions')\n",
    "\n",
    "print(results_table)"
   ]
  },
  {
   "cell_type": "markdown",
   "metadata": {},
   "source": [
    "# Long simulations "
   ]
  },
  {
   "cell_type": "code",
   "execution_count": 3,
   "metadata": {},
   "outputs": [],
   "source": [
    "with open('parameters.json', 'r') as f:\n",
    "    params = json.loads(f.read())"
   ]
  },
  {
   "cell_type": "code",
   "execution_count": 9,
   "metadata": {},
   "outputs": [],
   "source": [
    "NRUNS = 10"
   ]
  },
  {
   "cell_type": "code",
   "execution_count": 5,
   "metadata": {},
   "outputs": [],
   "source": [
    "params['average_learning_ability'] = 0.0\n",
    "params['mutation_intensity'] = 0.0\n",
    "params['ticks'] = 3000"
   ]
  },
  {
   "cell_type": "code",
   "execution_count": 10,
   "metadata": {},
   "outputs": [
    {
     "data": {
      "text/plain": [
       "5"
      ]
     },
     "execution_count": 10,
     "metadata": {},
     "output_type": "execute_result"
    }
   ],
   "source": [
    "share_chartists = [x / 100.0 for x in range(10, 110, 20)]\n",
    "Experiments = len(share_chartists)\n",
    "Experiments"
   ]
  },
  {
   "cell_type": "code",
   "execution_count": 11,
   "metadata": {},
   "outputs": [
    {
     "data": {
      "text/plain": [
       "[0.1, 0.3, 0.5, 0.7, 0.9]"
      ]
     },
     "execution_count": 11,
     "metadata": {},
     "output_type": "execute_result"
    }
   ],
   "source": [
    "share_chartists"
   ]
  },
  {
   "cell_type": "markdown",
   "metadata": {},
   "source": [
    "## Run model and update chartists every time"
   ]
  },
  {
   "cell_type": "code",
   "execution_count": 13,
   "metadata": {},
   "outputs": [
    {
     "name": "stdout",
     "output_type": "stream",
     "text": [
      "Start of simulation  0\n",
      "Start of simulation  1\n",
      "Start of simulation  2\n",
      "Start of simulation  3\n",
      "Start of simulation  4\n",
      "Start of simulation  5\n",
      "Start of simulation  6\n",
      "Start of simulation  7\n",
      "Start of simulation  8\n",
      "Start of simulation  9\n",
      "Start of simulation  0\n",
      "Start of simulation  1\n",
      "Start of simulation  2\n",
      "Start of simulation  3\n",
      "Start of simulation  4\n",
      "Start of simulation  5\n",
      "Start of simulation  6\n",
      "Start of simulation  7\n",
      "Start of simulation  8\n",
      "Start of simulation  9\n",
      "Start of simulation  0\n",
      "Start of simulation  1\n",
      "Start of simulation  2\n",
      "Start of simulation  3\n",
      "Start of simulation  4\n",
      "Start of simulation  5\n",
      "Start of simulation  6\n",
      "Start of simulation  7\n",
      "Start of simulation  8\n",
      "Start of simulation  9\n",
      "Start of simulation  0\n",
      "Start of simulation  1\n",
      "Start of simulation  2\n",
      "Start of simulation  3\n",
      "Start of simulation  4\n",
      "Start of simulation  5\n",
      "Start of simulation  6\n",
      "Start of simulation  7\n",
      "Start of simulation  8\n",
      "Start of simulation  9\n",
      "Start of simulation  0\n"
     ]
    },
    {
     "name": "stderr",
     "output_type": "stream",
     "text": [
      "C:\\Users\\joerischasfoort\\Documents\\GitHub\\bubble-inequality\\distribution_model.py:89: RuntimeWarning: overflow encountered in exp\n",
      "  fcast_price = mid_price * np.exp(trader.exp.returns['stocks'])\n",
      "C:\\Users\\joerischasfoort\\Documents\\GitHub\\bubble-inequality\\distribution_model.py:99: RuntimeWarning: invalid value encountered in double_scalars\n",
      "  ) - (trader.var.stocks[-1] * trader_price)\n",
      "C:\\Users\\joerischasfoort\\Documents\\GitHub\\bubble-inequality\\distribution_model.py:89: RuntimeWarning: overflow encountered in double_scalars\n",
      "  fcast_price = mid_price * np.exp(trader.exp.returns['stocks'])\n"
     ]
    },
    {
     "name": "stdout",
     "output_type": "stream",
     "text": [
      "Start of simulation  1\n",
      "Start of simulation  2\n",
      "Start of simulation  3\n",
      "Start of simulation  4\n",
      "Start of simulation  5\n",
      "Start of simulation  6\n",
      "Start of simulation  7\n",
      "Start of simulation  8\n",
      "Start of simulation  9\n"
     ]
    }
   ],
   "source": [
    "trdrs = []\n",
    "orbs = []\n",
    "for exp in range(Experiments):\n",
    "    params['strat_share_chartists'] = share_chartists[exp]\n",
    "    for seed in range(NRUNS): \n",
    "        traders, orderbook = init_objects_distr(params, seed)\n",
    "        #traders, orderbook = pb_distr_model(traders, orderbook, params, seed)\n",
    "        traders, orderbook = pb_distr_model(traders, orderbook, params, seed)\n",
    "        trdrs.append(traders)\n",
    "        orbs.append(orderbook)"
   ]
  },
  {
   "cell_type": "markdown",
   "metadata": {},
   "source": [
    "### Structure data"
   ]
  },
  {
   "cell_type": "code",
   "execution_count": 14,
   "metadata": {},
   "outputs": [],
   "source": [
    "full_share_chartists = []\n",
    "for exp in range(Experiments):\n",
    "    for seed in range(NRUNS):\n",
    "        full_share_chartists.append(share_chartists[exp])"
   ]
  },
  {
   "cell_type": "code",
   "execution_count": 15,
   "metadata": {},
   "outputs": [],
   "source": [
    "ginis = []\n",
    "palmas = []\n",
    "twtws = []\n",
    "asset_price_inflation = []\n",
    "price_to_div_stdev = []\n",
    "\n",
    "for idx, traders in enumerate(trdrs):\n",
    "    #print(t)\n",
    "    money = np.array([x.var.money[-1] for x in trdrs[idx]])\n",
    "    stocks = np.array([x.var.stocks[-1] for x in trdrs[idx]])\n",
    "    wealth = money + (stocks * orbs[idx].tick_close_price[-1])\n",
    "    \n",
    "    asset_price_inflation.append(orbs[idx].tick_close_price[-1] - orbs[idx].tick_close_price[0])\n",
    "    price_to_div_stdev.append((pd.Series(orbs[idx].tick_close_price) / pd.Series(orbs[idx].fundamental[1:])).std())\n",
    "    \n",
    "    share_top_10 = sum(np.sort(wealth)[int(len(wealth) * 0.9):]) / sum(wealth)\n",
    "    share_bottom_40 = sum(np.sort(wealth)[:int(len(wealth) * 0.4)]) / sum(wealth)\n",
    "    palmas.append(share_top_10 / share_bottom_40)\n",
    "    \n",
    "    share_top_20 = sum(np.sort(wealth)[int(len(wealth) * 0.8):]) / sum(wealth)\n",
    "    share_bottom_20 = sum(np.sort(wealth)[:int(len(wealth) * 0.2)]) / sum(wealth)\n",
    "    twtws.append(share_top_20 / share_bottom_20)\n",
    "    \n",
    "    ginis.append(gini(wealth))"
   ]
  },
  {
   "cell_type": "code",
   "execution_count": 19,
   "metadata": {},
   "outputs": [],
   "source": [
    "# data = pd.DataFrame({'gini': np.log(ginis[:]), 'palma': np.log(palmas[:]), 'twtw': np.log(twtws[:]), 'pd_vol': price_to_div_stdev[:],\n",
    "#                      'share_chartists': np.log(full_share_chartists[:]), 'perc_b_occur': perc_bubble_occur,\n",
    "#                      'lin_share_chartists': full_share_chartists[:], 'asset_price_infl': asset_price_inflation[:]})\n",
    "\n",
    "data = pd.DataFrame({'gini': ginis[:], 'palma': palmas[:], 'twtw': twtws[:], 'pd_vol': price_to_div_stdev[:],\n",
    "                     'share_chartists': full_share_chartists[:],\n",
    "                     'lin_share_chartists': full_share_chartists[:], 'asset_price_infl': asset_price_inflation[:]})\n",
    "data['const'] = 1"
   ]
  },
  {
   "cell_type": "code",
   "execution_count": 28,
   "metadata": {},
   "outputs": [],
   "source": [
    "# split the gisis in parts of 10 \n",
    "gini_averages = []\n",
    "gini_conf_interval_uppers = []\n",
    "gini_conf_intervals_lowers = []\n",
    "\n",
    "palma_averages = []\n",
    "palma_conf_interval_uppers = []\n",
    "palma_conf_intervals_lowers = []\n",
    "\n",
    "twtw_averages = []\n",
    "twtw_conf_interval_uppers = []\n",
    "twtw_conf_intervals_lowers = []\n",
    "\n",
    "price_div_stdev_av = []\n",
    "price_div_stdev_uppers = []\n",
    "price_div_stdev_lowers = []\n",
    "\n",
    "for x in range(Experiments):\n",
    "    y = x*10\n",
    "    g = ginis[y:y+10]\n",
    "    pstdev = price_to_div_stdev[y: y+10]\n",
    "    \n",
    "    price_div_stdev_av.append(np.mean(pstdev))\n",
    "    #lower, upper = confidence_interval(g, np.median(pstdev))\n",
    "    sample_stdev = np.std(pstdev)\n",
    "    sigma = sample_stdev/math.sqrt(len(pstdev))\n",
    "    lower, upper = stats.t.interval(alpha = 0.95, df= 24, loc = np.mean(pstdev), scale = sigma) \n",
    "    price_div_stdev_uppers.append(upper)\n",
    "    price_div_stdev_lowers.append(max(lower, 0))\n",
    "    \n",
    "    gini_averages.append(np.mean(g))\n",
    "    sample_stdev = np.std(g)\n",
    "    sigma = sample_stdev/math.sqrt(len(g))\n",
    "    lower, upper = stats.t.interval(alpha = 0.95, df= 24, loc = np.mean(g), scale = sigma) \n",
    "    #lower, upper = confidence_interval(g, np.median(g))\n",
    "    gini_conf_interval_uppers.append(min(upper, 1.0))\n",
    "    gini_conf_intervals_lowers.append(lower)\n",
    "    \n",
    "    p = palmas[y:y+10]\n",
    "    palma_averages.append(np.mean(p))\n",
    "    #lower, upper = confidence_interval(p, np.median(p))\n",
    "    sample_stdev = np.std(p)\n",
    "    sigma = sample_stdev/math.sqrt(len(p))\n",
    "    lower, upper = stats.t.interval(alpha = 0.95, df= 24, loc = np.mean(p), scale = sigma) \n",
    "    palma_conf_interval_uppers.append(upper)\n",
    "    palma_conf_intervals_lowers.append(max(lower, 0))\n",
    "    \n",
    "    tw = twtws[y:y+10]\n",
    "    twtw_averages.append(np.mean(tw))\n",
    "    #lower, upper = confidence_interval(tw, np.median(tw))\n",
    "    sample_stdev = np.std(tw)\n",
    "    sigma = sample_stdev/math.sqrt(len(tw))\n",
    "    lower, upper = stats.t.interval(alpha = 0.95, df= 24, loc = np.mean(tw), scale = sigma) \n",
    "    twtw_conf_interval_uppers.append(upper)\n",
    "    twtw_conf_intervals_lowers.append(max(lower, 0))"
   ]
  },
  {
   "cell_type": "code",
   "execution_count": 32,
   "metadata": {},
   "outputs": [
    {
     "data": {
      "image/png": "[encoded data removed]",
      "text/plain": [
       "<Figure size 1152x288 with 3 Axes>"
      ]
     },
     "metadata": {},
     "output_type": "display_data"
    }
   ],
   "source": [
    "fig, (ax1, ax2, ax3) = plt.subplots(1, 3, figsize=[16,4])\n",
    "\n",
    "ax1.plot(share_chartists, gini_averages)\n",
    "ax1.plot(share_chartists, gini_conf_interval_uppers, 'k--')\n",
    "ax1.plot(share_chartists, gini_conf_intervals_lowers, 'k--')\n",
    "\n",
    "ax2.plot(share_chartists, palma_averages)\n",
    "ax2.plot(share_chartists, palma_conf_interval_uppers, 'k--')\n",
    "ax2.plot(share_chartists, palma_conf_intervals_lowers, 'k--')\n",
    "\n",
    "ax3.plot(share_chartists, twtw_averages)\n",
    "ax3.plot(share_chartists, twtw_conf_interval_uppers, 'k--')\n",
    "ax3.plot(share_chartists, twtw_conf_intervals_lowers, 'k--')\n",
    "\n",
    "ax1.set_ylabel('Gini', fontsize=14)\n",
    "ax2.set_ylabel('Palma', fontsize=14)\n",
    "ax3.set_ylabel('20-20', fontsize=14)\n",
    "\n",
    "\n",
    "for ax in [ax1, ax2, ax3]:\n",
    "    ax.set_xlabel('Share trend-following', fontsize=14)\n",
    "\n",
    "fig.savefig('share_chartists_inequality_long.png', dpi=200, bbox_inches = 'tight', pad_inches = 0)"
   ]
  },
  {
   "cell_type": "markdown",
   "metadata": {},
   "source": [
    "### Hump-shaped pd volatility"
   ]
  },
  {
   "cell_type": "code",
   "execution_count": 39,
   "metadata": {},
   "outputs": [
    {
     "data": {
      "text/plain": [
       "50"
      ]
     },
     "execution_count": 39,
     "metadata": {},
     "output_type": "execute_result"
    }
   ],
   "source": [
    "len(orbs)"
   ]
  },
  {
   "cell_type": "code",
   "execution_count": null,
   "metadata": {},
   "outputs": [],
   "source": [
    "orbs[idx].tick_close_price"
   ]
  },
  {
   "cell_type": "code",
   "execution_count": 1,
   "metadata": {},
   "outputs": [
    {
     "ename": "NameError",
     "evalue": "name 'pd' is not defined",
     "output_type": "error",
     "traceback": [
      "\u001b[1;31m---------------------------------------------------------------------------\u001b[0m",
      "\u001b[1;31mNameError\u001b[0m                                 Traceback (most recent call last)",
      "\u001b[1;32m<ipython-input-1-fa5a8be7b7e1>\u001b[0m in \u001b[0;36m<module>\u001b[1;34m\u001b[0m\n\u001b[0;32m      1\u001b[0m \u001b[1;31m# hump shaped price volatility\u001b[0m\u001b[1;33m\u001b[0m\u001b[1;33m\u001b[0m\u001b[1;33m\u001b[0m\u001b[0m\n\u001b[0;32m      2\u001b[0m \u001b[0mw\u001b[0m \u001b[1;33m=\u001b[0m \u001b[1;36m250\u001b[0m\u001b[1;33m\u001b[0m\u001b[1;33m\u001b[0m\u001b[0m\n\u001b[1;32m----> 3\u001b[1;33m \u001b[0mvolList\u001b[0m \u001b[1;33m=\u001b[0m \u001b[1;33m(\u001b[0m\u001b[0mpd\u001b[0m\u001b[1;33m.\u001b[0m\u001b[0mSeries\u001b[0m\u001b[1;33m(\u001b[0m\u001b[0morbs\u001b[0m\u001b[1;33m[\u001b[0m\u001b[1;36m49\u001b[0m\u001b[1;33m]\u001b[0m\u001b[1;33m.\u001b[0m\u001b[0mtick_close_price\u001b[0m\u001b[1;33m)\u001b[0m \u001b[1;33m/\u001b[0m \u001b[0mpd\u001b[0m\u001b[1;33m.\u001b[0m\u001b[0mSeries\u001b[0m\u001b[1;33m(\u001b[0m\u001b[0morbs\u001b[0m\u001b[1;33m[\u001b[0m\u001b[1;36m49\u001b[0m\u001b[1;33m]\u001b[0m\u001b[1;33m.\u001b[0m\u001b[0mfundamental\u001b[0m\u001b[1;33m[\u001b[0m\u001b[1;36m1\u001b[0m\u001b[1;33m:\u001b[0m\u001b[1;33m]\u001b[0m\u001b[1;33m)\u001b[0m\u001b[1;33m)\u001b[0m\u001b[1;33m.\u001b[0m\u001b[0mrolling\u001b[0m\u001b[1;33m(\u001b[0m\u001b[0mw\u001b[0m\u001b[1;33m)\u001b[0m\u001b[1;33m.\u001b[0m\u001b[0mstd\u001b[0m\u001b[1;33m(\u001b[0m\u001b[0mddof\u001b[0m\u001b[1;33m=\u001b[0m\u001b[1;36m0\u001b[0m\u001b[1;33m)\u001b[0m\u001b[1;33m\u001b[0m\u001b[1;33m\u001b[0m\u001b[0m\n\u001b[0m",
      "\u001b[1;31mNameError\u001b[0m: name 'pd' is not defined"
     ]
    }
   ],
   "source": [
    "# hump shaped price volatility\n",
    "w = 250\n",
    "volList = (pd.Series(orbs[49].tick_close_price) / pd.Series(orbs[49].fundamental[1:])).rolling(w).std(ddof=0)"
   ]
  },
  {
   "cell_type": "code",
   "execution_count": 45,
   "metadata": {},
   "outputs": [
    {
     "data": {
      "text/plain": [
       "<matplotlib.axes._subplots.AxesSubplot at 0x1de782c9cf8>"
      ]
     },
     "execution_count": 45,
     "metadata": {},
     "output_type": "execute_result"
    },
    {
     "data": {
      "image/png": "[encoded data removed]",
      "text/plain": [
       "<Figure size 432x288 with 1 Axes>"
      ]
     },
     "metadata": {},
     "output_type": "display_data"
    }
   ],
   "source": [
    "volList.plot()"
   ]
  },
  {
   "cell_type": "code",
   "execution_count": null,
   "metadata": {},
   "outputs": [],
   "source": []
  }
 ],
 "metadata": {
  "kernelspec": {
   "display_name": "Python 3",
   "language": "python",
   "name": "python3"
  },
  "language_info": {
   "codemirror_mode": {
    "name": "ipython",
    "version": 3
   },
   "file_extension": ".py",
   "mimetype": "text/x-python",
   "name": "python",
   "nbconvert_exporter": "python",
   "pygments_lexer": "ipython3",
   "version": "3.6.8"
  }
 },
 "nbformat": 4,
 "nbformat_minor": 2
}

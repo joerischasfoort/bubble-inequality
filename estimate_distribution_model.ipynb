{
 "cells": [
  {
   "cell_type": "code",
   "execution_count": 2,
   "metadata": {},
   "outputs": [],
   "source": [
    "%matplotlib inline\n",
    "\n",
    "import pandas as pd\n",
    "from matplotlib import style\n",
    "import random\n",
    "from functions.stylizedfacts import *\n",
    "import scipy.stats as stats\n",
    "from functions.helpers import hurst, organise_data, div_by_hundred, discounted_value_cash_flow, find_horizon, calculate_npv\n",
    "import matplotlib.pyplot as plt\n",
    "import json\n",
    "import math\n",
    "from functions.find_bubbles import *\n",
    "from functions.evolutionaryalgo import *\n",
    "from SALib.sample import latin\n",
    "import json"
   ]
  },
  {
   "cell_type": "code",
   "execution_count": 3,
   "metadata": {},
   "outputs": [],
   "source": [
    "style.use('ggplot')"
   ]
  },
  {
   "cell_type": "markdown",
   "metadata": {},
   "source": [
    "# Estimate model\n",
    "Following the procedure presented by [Franke & Westerhoff (2012)](https://www.sciencedirect.com/science/article/pii/S0165188912000802).\n",
    "\n",
    "The model should produce realistic booms-bust / deviations from the fundamentals as well as some standard no-autocorrelation moments associated with financial markets. \n",
    "\n",
    "Returns:\n",
    "1. Average autocorrelation\n",
    "2. Average absolute autocorrelation\n",
    "3. Kurtosis\n",
    "\n",
    "Bubbles:\n",
    "4. percentage bubble occurence of total periods\n",
    "5. average lenght of bubbles\n",
    "6. standard deviation lenght of bubbles\n",
    "7. skewness lenght of bubbles\n",
    "8. kurtosis lenght of bubbles \n",
    "\n",
    "\n",
    "## 1 Get data"
   ]
  },
  {
   "cell_type": "code",
   "execution_count": 4,
   "metadata": {},
   "outputs": [],
   "source": [
    "shiller_data = pd.read_excel('http://www.econ.yale.edu/~shiller/data/ie_data.xls', header=7)[:-3]"
   ]
  },
  {
   "cell_type": "code",
   "execution_count": 5,
   "metadata": {},
   "outputs": [],
   "source": [
    "p = pd.Series(np.array(shiller_data.iloc[1174:-1]['Price'])) #starting in 1952  was 1224\n",
    "y = pd.Series(np.array(shiller_data.iloc[1174:-1]['CAPE']))  \n"
   ]
  },
  {
   "cell_type": "code",
   "execution_count": 6,
   "metadata": {},
   "outputs": [],
   "source": [
    "dates = pd.Series(np.array(shiller_data.iloc[1174:-1]['Date']))  "
   ]
  },
  {
   "cell_type": "code",
   "execution_count": 7,
   "metadata": {},
   "outputs": [],
   "source": [
    "dates = dates.apply(str)"
   ]
  },
  {
   "cell_type": "markdown",
   "metadata": {},
   "source": [
    "### 1.a Bubbles in the data"
   ]
  },
  {
   "cell_type": "code",
   "execution_count": 10,
   "metadata": {},
   "outputs": [],
   "source": [
    "obs = len(y)\n",
    "r0 = 0.01 + 1.8/np.sqrt(obs)\n",
    "swindow0 = int(math.floor(r0*obs))\n",
    "dim = obs - swindow0 + 1\n",
    "IC = 2\n",
    "adflag = 6\n",
    "yr = 2\n",
    "Tb = 12*yr + swindow0 - 1\n",
    "nboot = 399"
   ]
  },
  {
   "cell_type": "code",
   "execution_count": 11,
   "metadata": {},
   "outputs": [],
   "source": [
    "bsadfs = PSY(y, swindow0, IC, adflag)"
   ]
  },
  {
   "cell_type": "code",
   "execution_count": 12,
   "metadata": {},
   "outputs": [],
   "source": [
    "quantilesBsadf = cvPSYwmboot(y, swindow0, IC, adflag, Tb, nboot)"
   ]
  },
  {
   "cell_type": "code",
   "execution_count": 13,
   "metadata": {},
   "outputs": [],
   "source": [
    "monitorDates = y.iloc[swindow0-1:obs].index\n",
    "quantile95 = np.dot(np.array([quantilesBsadf]).T, np.ones([1, dim]))\n",
    "ind95 =(bsadfs.T[0] > quantile95[1, ])\n",
    "periods = monitorDates[ind95]"
   ]
  },
  {
   "cell_type": "markdown",
   "metadata": {},
   "source": [
    "Rewrite find sequence in ints "
   ]
  },
  {
   "cell_type": "code",
   "execution_count": 14,
   "metadata": {},
   "outputs": [],
   "source": [
    "bubbly_dates = find_sequences_ints(periods, monitorDates)"
   ]
  },
  {
   "cell_type": "code",
   "execution_count": 15,
   "metadata": {},
   "outputs": [],
   "source": [
    "for loc in range(len(dates)):\n",
    "    if len(dates.iloc[loc]) < 7:\n",
    "        dates.iloc[loc] = dates.iloc[loc] + '0'"
   ]
  },
  {
   "cell_type": "code",
   "execution_count": 16,
   "metadata": {},
   "outputs": [],
   "source": [
    "dates = pd.to_datetime(dates)"
   ]
  },
  {
   "cell_type": "code",
   "execution_count": 17,
   "metadata": {},
   "outputs": [],
   "source": [
    "#dates\n",
    "#dates = pd.Series(np.array(shiller_data.iloc[1174:-1]['Date'])).apply(str)  "
   ]
  },
  {
   "cell_type": "code",
   "execution_count": 18,
   "metadata": {},
   "outputs": [],
   "source": [
    "y.index = dates"
   ]
  },
  {
   "cell_type": "code",
   "execution_count": 19,
   "metadata": {},
   "outputs": [
    {
     "data": {
      "text/plain": [
       "DatetimeIndex(['1968-11-01', '1968-12-01', '1969-01-01', '1969-02-01',\n",
       "               '1969-03-01', '1969-04-01', '1969-05-01', '1969-06-01',\n",
       "               '1969-07-01', '1969-08-01',\n",
       "               ...\n",
       "               '2018-02-01', '2018-03-01', '2018-04-01', '2018-05-01',\n",
       "               '2018-06-01', '2018-07-01', '2018-08-01', '2018-09-01',\n",
       "               '2018-10-01', '2018-11-01'],\n",
       "              dtype='datetime64[ns]', length=601, freq=None)"
      ]
     },
     "execution_count": 19,
     "metadata": {},
     "output_type": "execute_result"
    }
   ],
   "source": [
    "y.index"
   ]
  },
  {
   "cell_type": "code",
   "execution_count": 20,
   "metadata": {},
   "outputs": [
    {
     "data": {
      "image/png": "[encoded data removed]",
      "text/plain": [
       "<Figure size 864x432 with 1 Axes>"
      ]
     },
     "metadata": {},
     "output_type": "display_data"
    }
   ],
   "source": [
    "fig, ax1 = plt.subplots(1, 1, figsize=(12,6))\n",
    "\n",
    "left, width = .25, .5\n",
    "bottom, height = .25, .5\n",
    "right = left + width\n",
    "top = bottom + height\n",
    "\n",
    "for loc in range(len(bubbly_dates)):\n",
    "    bub_period = bubble_period(monitorDates , bubbly_dates.iloc[loc])\n",
    "    ax1.fill_between(y.index[bub_period] , y[bub_period], color='grey')\n",
    "\n",
    "ax1.plot(y.index, y)\n",
    "\n",
    "#ax1.set_title('S&P 500')\n",
    "ax1.set_ylabel('Price to dividend ratio ', fontsize='14')\n",
    "ax1.set_xlabel('Date', fontsize='14')\n",
    "\n",
    "ax1.text(0.6*(left+right), 0.15*(bottom+top), 'Boom-bust',\n",
    "        horizontalalignment='center',\n",
    "        verticalalignment='center',\n",
    "        fontsize=20, color='black',\n",
    "        transform=ax1.transAxes)\n",
    "\n",
    "ax1.text(0.79*(left+right), 0.15*(bottom+top), 'Bust-boom',\n",
    "        horizontalalignment='center',\n",
    "        verticalalignment='center',\n",
    "        fontsize=20, color='black',\n",
    "        transform=ax1.transAxes)\n",
    "\n",
    "ax1.text(0.40*(left+right), 0.15*(bottom+top), 'Boom-bust',\n",
    "        horizontalalignment='center',\n",
    "        verticalalignment='center',\n",
    "        fontsize=20, color='black',\n",
    "        transform=ax1.transAxes)\n",
    "\n",
    "ax1.text(0.155*(left+right), 0.15*(bottom+top), 'Bust',\n",
    "        horizontalalignment='center',\n",
    "        verticalalignment='center',\n",
    "        fontsize=20, color='black',\n",
    "        transform=ax1.transAxes)\n",
    "\n",
    "#plt.text(2.5, 2., \"sans-serif\", family=\"sans-serif\")\n",
    "\n",
    "fig.savefig('sp500_bubbel.png')"
   ]
  },
  {
   "cell_type": "code",
   "execution_count": null,
   "metadata": {},
   "outputs": [],
   "source": []
  },
  {
   "cell_type": "markdown",
   "metadata": {},
   "source": [
    "#### Bubble moments\n",
    "\n",
    "1. Percentage bubble occurence of total periods"
   ]
  },
  {
   "cell_type": "code",
   "execution_count": 21,
   "metadata": {},
   "outputs": [
    {
     "data": {
      "text/plain": [
       "0.16304347826086957"
      ]
     },
     "execution_count": 21,
     "metadata": {},
     "output_type": "execute_result"
    }
   ],
   "source": [
    "# percentage bubble occurence \n",
    "percentage_bubbles = len(periods) / float(len(monitorDates))\n",
    "percentage_bubbles"
   ]
  },
  {
   "cell_type": "markdown",
   "metadata": {},
   "source": [
    "2. Average lenght of bubbles"
   ]
  },
  {
   "cell_type": "code",
   "execution_count": 22,
   "metadata": {},
   "outputs": [],
   "source": [
    "# av bubble lenght\n",
    "lenghts_of_bubbles = []\n",
    "for row in range(len(bubbly_dates)):\n",
    "    lenghts_of_bubbles.append(bubbly_dates.iloc[row]['end_date'] - bubbly_dates.iloc[row]['start_date'] + 1)"
   ]
  },
  {
   "cell_type": "code",
   "execution_count": 23,
   "metadata": {},
   "outputs": [
    {
     "data": {
      "text/plain": [
       "12.857142857142858"
      ]
     },
     "execution_count": 23,
     "metadata": {},
     "output_type": "execute_result"
    }
   ],
   "source": [
    "av_lenght_bubbles = np.mean(lenghts_of_bubbles)\n",
    "av_lenght_bubbles"
   ]
  },
  {
   "cell_type": "markdown",
   "metadata": {},
   "source": [
    "3. Standard deviation lenght of bubbles"
   ]
  },
  {
   "cell_type": "code",
   "execution_count": 24,
   "metadata": {},
   "outputs": [
    {
     "data": {
      "text/plain": [
       "18.71155923432336"
      ]
     },
     "execution_count": 24,
     "metadata": {},
     "output_type": "execute_result"
    }
   ],
   "source": [
    "stdev_lenght_bubbles = np.std(lenghts_of_bubbles)\n",
    "stdev_lenght_bubbles"
   ]
  },
  {
   "cell_type": "markdown",
   "metadata": {},
   "source": [
    "4. Skew lenght of bubbles"
   ]
  },
  {
   "cell_type": "code",
   "execution_count": 25,
   "metadata": {},
   "outputs": [
    {
     "data": {
      "text/plain": [
       "2.4818047624596731"
      ]
     },
     "execution_count": 25,
     "metadata": {},
     "output_type": "execute_result"
    }
   ],
   "source": [
    "pd.Series(lenghts_of_bubbles).skew()"
   ]
  },
  {
   "cell_type": "markdown",
   "metadata": {},
   "source": [
    "5. Kurtosis lenght of bubbles"
   ]
  },
  {
   "cell_type": "code",
   "execution_count": 26,
   "metadata": {},
   "outputs": [
    {
     "data": {
      "text/plain": [
       "6.3415327024442512"
      ]
     },
     "execution_count": 26,
     "metadata": {},
     "output_type": "execute_result"
    }
   ],
   "source": [
    "pd.Series(lenghts_of_bubbles).kurtosis()"
   ]
  },
  {
   "cell_type": "code",
   "execution_count": 8,
   "metadata": {},
   "outputs": [],
   "source": [
    "p_returns = pd.Series(np.array(shiller_data.iloc[1174:]['Price'])).pct_change()[1:]\n",
    "pd_returns = pd.Series(np.array(shiller_data.iloc[1174:]['CAPE'])).pct_change()[1:]"
   ]
  },
  {
   "cell_type": "code",
   "execution_count": 11,
   "metadata": {},
   "outputs": [
    {
     "ename": "NameError",
     "evalue": "name 'percentage_bubbles' is not defined",
     "output_type": "error",
     "traceback": [
      "\u001b[1;31m---------------------------------------------------------------------------\u001b[0m",
      "\u001b[1;31mNameError\u001b[0m                                 Traceback (most recent call last)",
      "\u001b[1;32m<ipython-input-11-7d8e2829bfdd>\u001b[0m in \u001b[0;36m<module>\u001b[1;34m()\u001b[0m\n\u001b[0;32m      3\u001b[0m     \u001b[0mautocorrelation_abs_returns\u001b[0m\u001b[1;33m(\u001b[0m\u001b[0mp_returns\u001b[0m\u001b[1;33m,\u001b[0m \u001b[1;36m25\u001b[0m\u001b[1;33m)\u001b[0m\u001b[1;33m,\u001b[0m\u001b[1;33m\u001b[0m\u001b[0m\n\u001b[0;32m      4\u001b[0m     \u001b[0mkurtosis\u001b[0m\u001b[1;33m(\u001b[0m\u001b[0mp_returns\u001b[0m\u001b[1;33m)\u001b[0m\u001b[1;33m,\u001b[0m\u001b[1;33m\u001b[0m\u001b[0m\n\u001b[1;32m----> 5\u001b[1;33m     \u001b[0mpercentage_bubbles\u001b[0m\u001b[1;33m,\u001b[0m\u001b[1;33m\u001b[0m\u001b[0m\n\u001b[0m\u001b[0;32m      6\u001b[0m     \u001b[0mav_lenght_bubbles\u001b[0m\u001b[1;33m,\u001b[0m\u001b[1;33m\u001b[0m\u001b[0m\n\u001b[0;32m      7\u001b[0m     \u001b[0mstdev_lenght_bubbles\u001b[0m\u001b[1;33m,\u001b[0m\u001b[1;33m\u001b[0m\u001b[0m\n",
      "\u001b[1;31mNameError\u001b[0m: name 'percentage_bubbles' is not defined"
     ]
    }
   ],
   "source": [
    "emp_moments = np.array([\n",
    "    autocorrelation_returns(p_returns, 25),\n",
    "    autocorrelation_abs_returns(p_returns, 25),\n",
    "    kurtosis(p_returns),\n",
    "    percentage_bubbles,\n",
    "    av_lenght_bubbles,\n",
    "    stdev_lenght_bubbles,\n",
    "    pd.Series(lenghts_of_bubbles).skew(),\n",
    "    pd.Series(lenghts_of_bubbles).kurtosis()\n",
    "    ])"
   ]
  },
  {
   "cell_type": "code",
   "execution_count": 29,
   "metadata": {},
   "outputs": [
    {
     "data": {
      "text/plain": [
       "array([  9.43359729e-03,   5.37144536e-02,   2.67297082e+00,\n",
       "         1.63043478e-01,   1.28571429e+01,   1.87115592e+01,\n",
       "         2.48180476e+00,   6.34153270e+00])"
      ]
     },
     "execution_count": 29,
     "metadata": {},
     "output_type": "execute_result"
    }
   ],
   "source": [
    "emp_moments"
   ]
  },
  {
   "cell_type": "markdown",
   "metadata": {},
   "source": [
    "## 2 Bootstrap data for both short and long-term moments"
   ]
  },
  {
   "cell_type": "code",
   "execution_count": 9,
   "metadata": {},
   "outputs": [],
   "source": [
    "shiller_block_size = 75 # 8 blocks"
   ]
  },
  {
   "cell_type": "markdown",
   "metadata": {},
   "source": [
    "To ensure continuity in the bootstrapped series, I block bootstrap the returns of the price to dividends ratio(not the ratio itself). Then, I multiply these returns with the starting values of the price to dividends ratio. This results in 5000 hypothetical time series of fundamentals and real prices. "
   ]
  },
  {
   "cell_type": "code",
   "execution_count": 10,
   "metadata": {},
   "outputs": [],
   "source": [
    "def hypothetical_series(starting_value, returns):\n",
    "    \"\"\"\n",
    "    input: starting_value: float starting value\n",
    "    input: returns: list \n",
    "    \"\"\"\n",
    "    returns = list(returns)\n",
    "    simulated_series = [starting_value]\n",
    "    for idx in range(len(returns)):\n",
    "        simulated_series.append(simulated_series[-1] * (1 + returns[idx]))\n",
    "    return simulated_series"
   ]
  },
  {
   "cell_type": "code",
   "execution_count": 11,
   "metadata": {},
   "outputs": [],
   "source": [
    "# divide the pd returns into blocks\n",
    "pd_data_blocks = []\n",
    "p_data_blocks = []\n",
    "for x in range(0, len(pd_returns[:-3]), shiller_block_size):\n",
    "    pd_data_blocks.append(pd_returns[x:x+shiller_block_size])\n",
    "    p_data_blocks.append(p_returns[x:x+shiller_block_size])"
   ]
  },
  {
   "cell_type": "code",
   "execution_count": 18,
   "metadata": {},
   "outputs": [],
   "source": [
    "BOOTSTRAPS = 100"
   ]
  },
  {
   "cell_type": "code",
   "execution_count": 13,
   "metadata": {},
   "outputs": [],
   "source": [
    "# draw 5000 random series \n",
    "bootstrapped_pd_series = []\n",
    "bootstrapped_p_returns = []\n",
    "for i in range(BOOTSTRAPS):\n",
    "    # bootstrap p returns\n",
    "    sim_data_p = [random.choice(p_data_blocks) for _ in p_data_blocks]\n",
    "    sim_data2_p = [j for i in sim_data_p for j in i]\n",
    "    bootstrapped_p_returns.append(sim_data2_p)\n",
    "    \n",
    "    # first sample the data for pd returns\n",
    "    sim_data = [random.choice(pd_data_blocks) for _ in pd_data_blocks] # choose a random set of blocks\n",
    "    sim_data_fundamental_returns = [pair for pair in sim_data]\n",
    "    \n",
    "    # merge the list of lists\n",
    "    sim_data_fundamental_returns1 = [item for sublist in sim_data_fundamental_returns for item in sublist]\n",
    "    \n",
    "    # calculate the new time_series\n",
    "    sim_data_fundamentals = hypothetical_series(y[0], sim_data_fundamental_returns1[1:])\n",
    "    bootstrapped_pd_series.append(sim_data_fundamentals) # used to also be price returns.. perhaps re-implement"
   ]
  },
  {
   "cell_type": "code",
   "execution_count": 14,
   "metadata": {},
   "outputs": [
    {
     "data": {
      "text/plain": [
       "100"
      ]
     },
     "execution_count": 14,
     "metadata": {},
     "output_type": "execute_result"
    }
   ],
   "source": [
    "len(bootstrapped_p_returns)"
   ]
  },
  {
   "cell_type": "code",
   "execution_count": 15,
   "metadata": {},
   "outputs": [
    {
     "ename": "NameError",
     "evalue": "name 'emp_moments' is not defined",
     "output_type": "error",
     "traceback": [
      "\u001b[1;31m---------------------------------------------------------------------------\u001b[0m",
      "\u001b[1;31mNameError\u001b[0m                                 Traceback (most recent call last)",
      "\u001b[1;32m<ipython-input-15-10ee3e1432d3>\u001b[0m in \u001b[0;36m<module>\u001b[1;34m()\u001b[0m\n\u001b[0;32m      1\u001b[0m \u001b[1;32mwith\u001b[0m \u001b[0mopen\u001b[0m\u001b[1;33m(\u001b[0m\u001b[1;34m'emp_moments.json'\u001b[0m\u001b[1;33m,\u001b[0m \u001b[1;34m'w'\u001b[0m\u001b[1;33m)\u001b[0m \u001b[1;32mas\u001b[0m \u001b[0mfp\u001b[0m\u001b[1;33m:\u001b[0m\u001b[1;33m\u001b[0m\u001b[0m\n\u001b[1;32m----> 2\u001b[1;33m     \u001b[0mjson\u001b[0m\u001b[1;33m.\u001b[0m\u001b[0mdump\u001b[0m\u001b[1;33m(\u001b[0m\u001b[0mlist\u001b[0m\u001b[1;33m(\u001b[0m\u001b[0memp_moments\u001b[0m\u001b[1;33m)\u001b[0m\u001b[1;33m,\u001b[0m \u001b[0mfp\u001b[0m\u001b[1;33m)\u001b[0m\u001b[1;33m\u001b[0m\u001b[0m\n\u001b[0m",
      "\u001b[1;31mNameError\u001b[0m: name 'emp_moments' is not defined"
     ]
    }
   ],
   "source": [
    "with open('emp_moments.json', 'w') as fp:\n",
    "    json.dump(list(emp_moments), fp)"
   ]
  },
  {
   "cell_type": "code",
   "execution_count": 16,
   "metadata": {},
   "outputs": [],
   "source": [
    "with open('boostr_pd_rets.json', 'w') as fp:\n",
    "    json.dump(bootstrapped_pd_series, fp)"
   ]
  },
  {
   "cell_type": "code",
   "execution_count": 17,
   "metadata": {},
   "outputs": [],
   "source": [
    "with open('boostr_p_rets.json', 'w') as fp:\n",
    "    json.dump(bootstrapped_p_returns, fp)"
   ]
  },
  {
   "cell_type": "markdown",
   "metadata": {},
   "source": [
    "## 3 Choose moments\n",
    "\n",
    "For bubbles, I use the following moments: \n",
    "1. Percentage bubble occurence of total periods\n",
    "2. Average lenght of bubbles\n",
    "3. Standard deviation lenght of bubbles\n",
    "4. Skew lenght of bubbles\n",
    "5. Kurtosis lenght of bubbles\n",
    "\n",
    "For returns, I use the following moments\n",
    "\n",
    "6. mean first-order autocorrelation of the raw returns (no predictability),\n",
    "7. mean first-order autocorrelation of the of the absolute returns (volatility clustering),\n",
    "8. Kurtosis (fat tails), "
   ]
  },
  {
   "cell_type": "code",
   "execution_count": 30,
   "metadata": {},
   "outputs": [
    {
     "data": {
      "text/plain": [
       "551"
      ]
     },
     "execution_count": 30,
     "metadata": {},
     "output_type": "execute_result"
    }
   ],
   "source": [
    "len(bsadfs)"
   ]
  },
  {
   "cell_type": "code",
   "execution_count": 32,
   "metadata": {},
   "outputs": [],
   "source": [
    "perc_bubble_occur = []\n",
    "av_lenghts_of_bubbles = []\n",
    "stdev_lenghts_bubbles = []\n",
    "skews_lenghts_bubbles = []\n",
    "kurt_lengths_bubbles = []\n",
    "\n",
    "for pds in bootstrapped_pd_series:\n",
    "    # calc bubble stats\n",
    "    pds = pd.Series(pds)\n",
    "    \n",
    "    obs = len(pds)\n",
    "    dim = obs - swindow0 + 1\n",
    "    \n",
    "    bsadfs = PSY(pds, swindow0, IC, adflag)\n",
    "    quantilesBsadf = cvPSYwmboot(pds, swindow0, IC, adflag, Tb, nboot)\n",
    "    monitorDates = pds.iloc[swindow0-1:obs].index\n",
    "    quantile95 = np.dot(np.array([quantilesBsadf]).T, np.ones([1, dim]))\n",
    "    ind95 =(bsadfs.T[0] > quantile95[1, ])\n",
    "    periods = monitorDates[ind95]\n",
    "    \n",
    "    bubbly_dates = find_sequences_ints(periods, monitorDates)\n",
    "    \n",
    "    perc_bubble_occur.append(len(periods) / float(len(monitorDates)))\n",
    "    lenghts_of_bubbles = []\n",
    "    for row in range(len(bubbly_dates)):\n",
    "        lenghts_of_bubbles.append(bubbly_dates.iloc[row]['end_date'] - bubbly_dates.iloc[row]['start_date'] + 1)\n",
    "    av_lenghts_of_bubbles.append(np.mean(lenghts_of_bubbles))\n",
    "    stdev_lenghts_bubbles.append(np.std(lenghts_of_bubbles))\n",
    "    skews_lenghts_bubbles.append(pd.Series(lenghts_of_bubbles).skew())\n",
    "    kurt_lengths_bubbles.append((pd.Series(lenghts_of_bubbles).kurtosis()))"
   ]
  },
  {
   "cell_type": "code",
   "execution_count": 33,
   "metadata": {},
   "outputs": [],
   "source": [
    "# replace NaN value of skew and kurtosis by zero (it is possible there were not enough bubbles to calc these so I assume a normal distribution)\n",
    "skews_lenghts_bubbles = list(pd.Series(skews_lenghts_bubbles).fillna(0.0))#np.nanmedian(skews_lenghts_bubbles))) TODO decide\n",
    "kurt_lengths_bubbles = list(pd.Series(kurt_lengths_bubbles).fillna(0.0))#np.nanmedian(kurt_lengths_bubbles)))"
   ]
  },
  {
   "cell_type": "code",
   "execution_count": 34,
   "metadata": {},
   "outputs": [],
   "source": [
    "first_order_autocors = []\n",
    "mean_abs_autocor = []\n",
    "kurtoses = []\n",
    "for rets in bootstrapped_p_returns:\n",
    "    first_order_autocors.append(autocorrelation_returns(rets, 25))\n",
    "    mean_abs_autocor.append(autocorrelation_abs_returns(rets, 25))\n",
    "    rets = pd.Series(rets)\n",
    "    kurtoses.append(kurtosis(rets))"
   ]
  },
  {
   "cell_type": "code",
   "execution_count": 35,
   "metadata": {},
   "outputs": [],
   "source": [
    "all_bootstrapped_moments = [first_order_autocors,\n",
    "                            mean_abs_autocor,\n",
    "                            kurtoses,\n",
    "                            perc_bubble_occur,\n",
    "                            av_lenghts_of_bubbles,\n",
    "                            stdev_lenghts_bubbles,\n",
    "                            skews_lenghts_bubbles,\n",
    "                            kurt_lengths_bubbles\n",
    "                           ]"
   ]
  },
  {
   "cell_type": "code",
   "execution_count": 36,
   "metadata": {},
   "outputs": [],
   "source": [
    "# Get the t-critical value**\n",
    "def confidence_interval(sample, emp_value):\n",
    "    \"\"\"Calculate confidence_interval in sample\"\"\"\n",
    "    z_critical = stats.norm.ppf(q = 0.99)\n",
    "    stdev = pd.Series(sample).std()\n",
    "    margin_of_error = z_critical * stdev\n",
    "    confidence_interval = (emp_value - margin_of_error, emp_value + margin_of_error)  \n",
    "    return confidence_interval"
   ]
  },
  {
   "cell_type": "code",
   "execution_count": 37,
   "metadata": {},
   "outputs": [],
   "source": [
    "def get_specific_bootstraps_moments(full_series, bootstrap_number):\n",
    "    \"\"\"Get a vector with the moments of a specific bootstrap\"\"\"\n",
    "    return np.array([full_series[i][bootstrap_number] for i in range(len(full_series))])"
   ]
  },
  {
   "cell_type": "code",
   "execution_count": 38,
   "metadata": {},
   "outputs": [],
   "source": [
    "av_moments = [np.nanmean(x) for x in all_bootstrapped_moments]\n",
    "moments_b = [get_specific_bootstraps_moments(all_bootstrapped_moments, n) for n in range(len(bootstrapped_pd_series))]"
   ]
  },
  {
   "cell_type": "markdown",
   "metadata": {},
   "source": [
    "## 5 Estimate weighting matrix:\n",
    "\n",
    "Here, I follow [Franke & Westerhoff 2016](https://link.springer.com/article/10.1007/s11403-014-0140-6#Sec8) in that I use the inverse of the bootstrap estimate of the moment covariance matrix as my weights."
   ]
  },
  {
   "cell_type": "markdown",
   "metadata": {},
   "source": [
    "Then, I estimate the moment covariance matrix of the bootstrapped data as: \n",
    "\n",
    "$\\hat{W} = \\frac{1}{B} \\sum{(m^b - \\hat{m})(m^b - \\hat{m})'}$"
   ]
  },
  {
   "cell_type": "code",
   "execution_count": 39,
   "metadata": {},
   "outputs": [],
   "source": [
    "W_hat = 1.0 / len(bootstrapped_pd_series) * sum([np.dot(np.array([(mb - av_moments)]).transpose(), np.array([(mb - av_moments)])) for mb in moments_b])"
   ]
  },
  {
   "cell_type": "markdown",
   "metadata": {},
   "source": [
    "And take the inverse so that \n",
    "\n",
    "$W = \\hat{W}^{-1}$"
   ]
  },
  {
   "cell_type": "code",
   "execution_count": 40,
   "metadata": {},
   "outputs": [],
   "source": [
    "W = np.linalg.inv(W_hat)"
   ]
  },
  {
   "cell_type": "code",
   "execution_count": 41,
   "metadata": {},
   "outputs": [],
   "source": [
    "# save weighting matrix\n",
    "np.save('distr_weighting_matrix', W)"
   ]
  },
  {
   "cell_type": "code",
   "execution_count": 42,
   "metadata": {},
   "outputs": [
    {
     "data": {
      "text/plain": [
       "array([[  8.31953409e+05,  -2.66329936e+05,   6.49887330e+03,\n",
       "         -6.30903015e+04,  -3.44069850e+03,   5.59036593e+03,\n",
       "          3.14638570e+03,  -4.20368901e+03],\n",
       "       [ -2.66329936e+05,   1.00086061e+05,  -2.21706200e+03,\n",
       "          1.92164306e+04,   1.03565999e+03,  -1.71259091e+03,\n",
       "         -1.26058448e+03,   1.36795330e+03],\n",
       "       [  6.49887330e+03,  -2.21706200e+03,   5.70711894e+01,\n",
       "         -5.13564927e+02,  -2.71162854e+01,   4.37974180e+01,\n",
       "          2.40243674e+01,  -3.30590738e+01],\n",
       "       [ -6.30903015e+04,   1.92164306e+04,  -5.13564927e+02,\n",
       "          5.96443543e+03,   2.61685687e+02,  -4.35986771e+02,\n",
       "         -2.38123874e+02,   3.19612151e+02],\n",
       "       [ -3.44069850e+03,   1.03565999e+03,  -2.71162854e+01,\n",
       "          2.61685687e+02,   1.65411564e+01,  -2.52776150e+01,\n",
       "         -1.17346427e+01,   1.84525173e+01],\n",
       "       [  5.59036593e+03,  -1.71259091e+03,   4.37974180e+01,\n",
       "         -4.35986771e+02,  -2.52776150e+01,   3.97455510e+01,\n",
       "          2.00357580e+01,  -2.92839050e+01],\n",
       "       [  3.14638570e+03,  -1.26058448e+03,   2.40243674e+01,\n",
       "         -2.38123874e+02,  -1.17346427e+01,   2.00357580e+01,\n",
       "          4.17189613e+01,  -2.15607165e+01],\n",
       "       [ -4.20368901e+03,   1.36795330e+03,  -3.30590738e+01,\n",
       "          3.19612151e+02,   1.84525173e+01,  -2.92839050e+01,\n",
       "         -2.15607165e+01,   2.31600808e+01]])"
      ]
     },
     "execution_count": 42,
     "metadata": {},
     "output_type": "execute_result"
    }
   ],
   "source": [
    "np.load('distr_weighting_matrix.npy')"
   ]
  },
  {
   "cell_type": "code",
   "execution_count": 43,
   "metadata": {},
   "outputs": [
    {
     "data": {
      "text/plain": [
       "array([ 0.0094336 ,  0.05371445,  2.67297082,  0.08876812,  6.125     ,\n",
       "        5.34877322,  0.83048364, -0.91551026])"
      ]
     },
     "execution_count": 43,
     "metadata": {},
     "output_type": "execute_result"
    }
   ],
   "source": [
    "emp_moments"
   ]
  },
  {
   "cell_type": "code",
   "execution_count": 44,
   "metadata": {},
   "outputs": [],
   "source": [
    "confidence_intervals = [confidence_interval(m, emp) for m, emp in zip(all_bootstrapped_moments, emp_moments)]"
   ]
  },
  {
   "cell_type": "code",
   "execution_count": 45,
   "metadata": {},
   "outputs": [
    {
     "data": {
      "text/plain": [
       "[(-0.022202026015152289, 0.041069220592631774),\n",
       " (0.022108192370337107, 0.085320714884367599),\n",
       " (1.0723358902783118, 4.273605757608955),\n",
       " (-0.076754912345883441, 0.25429114422994142),\n",
       " (-5.155370693731264, 17.405370693731264),\n",
       " (-8.0150125500091036, 18.712558997676439),\n",
       " (-1.3580170035694392, 3.0189842906177988),\n",
       " (-10.886295219267641, 9.0552746949580154)]"
      ]
     },
     "execution_count": 45,
     "metadata": {},
     "output_type": "execute_result"
    }
   ],
   "source": [
    "confidence_intervals"
   ]
  },
  {
   "cell_type": "code",
   "execution_count": 46,
   "metadata": {},
   "outputs": [],
   "source": [
    "# export conrfidence intervals of bootstrapped data\n",
    "with open('distr_bootstrapped_confidence_intervals.json', 'w') as fp:\n",
    "    json.dump(confidence_intervals, fp)"
   ]
  },
  {
   "cell_type": "markdown",
   "metadata": {},
   "source": [
    "Then, I apply the cost function to the bootstrapped series to get a distribution of J-values"
   ]
  },
  {
   "cell_type": "code",
   "execution_count": 47,
   "metadata": {},
   "outputs": [],
   "source": [
    "j_values = []\n",
    "for b in moments_b:\n",
    "    j_values.append(quadratic_loss_function(b, emp_moments, W))"
   ]
  },
  {
   "cell_type": "code",
   "execution_count": 48,
   "metadata": {},
   "outputs": [],
   "source": [
    "# export J-values of bootstrapped data\n",
    "with open('distr_bootstrapped_j_values.json', 'w') as fp:\n",
    "    json.dump(j_values, fp)"
   ]
  },
  {
   "cell_type": "markdown",
   "metadata": {},
   "source": [
    "Futhermore, I calculate the MCR for the bootstrapped moments as follows:"
   ]
  },
  {
   "cell_type": "code",
   "execution_count": 65,
   "metadata": {},
   "outputs": [
    {
     "data": {
      "text/plain": [
       "10"
      ]
     },
     "execution_count": 65,
     "metadata": {},
     "output_type": "execute_result"
    }
   ],
   "source": []
  },
  {
   "cell_type": "code",
   "execution_count": 66,
   "metadata": {},
   "outputs": [
    {
     "data": {
      "text/plain": [
       "[0, 0, 0, 0, 0, 0, 0, 0]"
      ]
     },
     "execution_count": 66,
     "metadata": {},
     "output_type": "execute_result"
    }
   ],
   "source": [
    "scores = [0 for x in moments_b[0]]\n",
    "scores"
   ]
  },
  {
   "cell_type": "code",
   "execution_count": 67,
   "metadata": {},
   "outputs": [],
   "source": [
    "for bootstr in range(len(moments_b)):\n",
    "    for idx, moment in enumerate(moments_b[bootstr]):\n",
    "        if moment > confidence_intervals[idx][0] and moment < confidence_intervals[idx][1]:\n",
    "            scores[idx] += 1"
   ]
  },
  {
   "cell_type": "code",
   "execution_count": 77,
   "metadata": {},
   "outputs": [],
   "source": [
    "MCR_bootstrapped_moments = np.array(scores) / (np.ones(len(scores)) * len(moments_b))"
   ]
  },
  {
   "cell_type": "markdown",
   "metadata": {},
   "source": [
    "## 6 Estimate model\n",
    "\n",
    "To estimate the model parameters, I employ the traditional approach for the method of simulated moments by minimizing the quadtratic loss function: \n",
    "\n",
    "$J = J(m) = (m^{sim} - m^{emp})' W (m^{sim} - m^{emp}) $\n",
    "\n",
    "The first term is the transpose of the difference between simulated and actual moments. The seond term is the weighting matrix. The third term is the difference between simulated and empirical moments. \n",
    "\n",
    "\n",
    "To reduce the sample variability in the stochastic simulations, I choose a time horizon (following [Franke & Westerhoff (2012)](https://www.sciencedirect.com/science/article/pii/S0165188912000802)) of 10 times the empirical time series. In this case the longest time series. "
   ]
  },
  {
   "cell_type": "code",
   "execution_count": null,
   "metadata": {},
   "outputs": [],
   "source": []
  },
  {
   "cell_type": "markdown",
   "metadata": {},
   "source": [
    "## Export latin-hypercube"
   ]
  },
  {
   "cell_type": "code",
   "execution_count": 19,
   "metadata": {},
   "outputs": [],
   "source": [
    "population_size = 10"
   ]
  },
  {
   "cell_type": "code",
   "execution_count": 20,
   "metadata": {},
   "outputs": [],
   "source": [
    "problem = {\n",
    "  'num_vars': 7,\n",
    "  'names': ['std_noise',\n",
    "            'w_random', 'strat_share_chartists',\n",
    "            'base_risk_aversion',\n",
    "            \"fundamentalist_horizon_multiplier\",\n",
    "            \"mutation_intensity\",\n",
    "            \"average_learning_ability\"],\n",
    "  'bounds': [[0.05, 0.20],\n",
    "             [0.02, 0.15], [0.20, 0.90],\n",
    "             [0.1, 14.0],\n",
    "             [0.8, 3.0], [0.05, 0.5],\n",
    "             [0.3, 1.0]]\n",
    "}"
   ]
  },
  {
   "cell_type": "code",
   "execution_count": 21,
   "metadata": {},
   "outputs": [],
   "source": [
    "latin_hyper_cube = latin.sample(problem=problem, N=population_size)\n",
    "latin_hyper_cube = latin_hyper_cube.tolist()"
   ]
  },
  {
   "cell_type": "code",
   "execution_count": 22,
   "metadata": {},
   "outputs": [],
   "source": [
    "with open('hypercube.txt', 'w') as f:\n",
    "    json.dump(latin_hyper_cube, f)"
   ]
  },
  {
   "cell_type": "code",
   "execution_count": 23,
   "metadata": {},
   "outputs": [
    {
     "data": {
      "text/plain": [
       "[[0.16105062930139402,\n",
       "  0.03459329347447299,\n",
       "  0.536948830258907,\n",
       "  4.526196488186313,\n",
       "  2.357169772982014,\n",
       "  0.09102267492966234,\n",
       "  0.4805697410758697],\n",
       " [0.17271447486486047,\n",
       "  0.1248734526189267,\n",
       "  0.4326956381859699,\n",
       "  2.1323772688746465,\n",
       "  2.8079333174623304,\n",
       "  0.13342838673237922,\n",
       "  0.3911661447120887],\n",
       " [0.09069731721755185,\n",
       "  0.06540697630727928,\n",
       "  0.2082005078091193,\n",
       "  4.003755546610851,\n",
       "  1.4646575889186426,\n",
       "  0.44632982788943953,\n",
       "  0.6841975433074146],\n",
       " [0.1256101360179177,\n",
       "  0.0306496995885615,\n",
       "  0.8298092043930092,\n",
       "  10.759044191465463,\n",
       "  1.8040203398532197,\n",
       "  0.14576169246216727,\n",
       "  0.5878812333740318],\n",
       " [0.11650161302619604,\n",
       "  0.0780291579448836,\n",
       "  0.6283322117185923,\n",
       "  1.014016497238907,\n",
       "  2.115599343335239,\n",
       "  0.2718895537049092,\n",
       "  0.7592043836949192],\n",
       " [0.14321236082202404,\n",
       "  0.05356432547293731,\n",
       "  0.2930113317099998,\n",
       "  7.072454222277014,\n",
       "  2.2451492330065634,\n",
       "  0.47011979037316615,\n",
       "  0.36960102000131],\n",
       " [0.09911396283015568,\n",
       "  0.10873250157020149,\n",
       "  0.7400917336954731,\n",
       "  5.826754868750309,\n",
       "  1.3950963270242434,\n",
       "  0.2031095268784624,\n",
       "  0.8615340151364839],\n",
       " [0.1932965821998257,\n",
       "  0.11532923533866819,\n",
       "  0.850390288653539,\n",
       "  12.283809540222183,\n",
       "  0.8461382382126684,\n",
       "  0.29948211267994285,\n",
       "  0.793841763302789],\n",
       " [0.0606673948356082,\n",
       "  0.1456993418462585,\n",
       "  0.5884849282144089,\n",
       "  8.962404554294842,\n",
       "  2.6266179271190646,\n",
       "  0.3636316226383833,\n",
       "  0.5408205351656861],\n",
       " [0.07434102958277794,\n",
       "  0.08767278043699875,\n",
       "  0.38321514361907555,\n",
       "  12.961359811767947,\n",
       "  1.2292745025524479,\n",
       "  0.3854117624641772,\n",
       "  0.9950973054726084]]"
      ]
     },
     "execution_count": 23,
     "metadata": {},
     "output_type": "execute_result"
    }
   ],
   "source": [
    "latin_hyper_cube"
   ]
  },
  {
   "cell_type": "code",
   "execution_count": null,
   "metadata": {},
   "outputs": [],
   "source": []
  }
 ],
 "metadata": {
  "kernelspec": {
   "display_name": "Python [default]",
   "language": "python",
   "name": "python2"
  }
 },
 "nbformat": 4,
 "nbformat_minor": 2
}

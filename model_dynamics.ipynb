{
 "cells": [
  {
   "cell_type": "code",
   "execution_count": 4,
   "metadata": {},
   "outputs": [],
   "source": [
    "%matplotlib inline\n",
    "import numpy as np\n",
    "import pandas as pd\n",
    "import json\n",
    "import matplotlib.pyplot as plt\n",
    "from init_objects import *\n",
    "from functions.stylizedfacts import *\n",
    "from functions.helpers import organise_data\n",
    "from functions.inequality import gini, lorenz_curve\n",
    "from distribution_model import *\n",
    "import statsmodels.api as sm\n",
    "from matplotlib import style\n",
    "import scipy.stats as stats\n",
    "#import scipy\n",
    "from statsmodels.iolib.summary2 import summary_col\n",
    "from functions.find_bubbles import *"
   ]
  },
  {
   "cell_type": "code",
   "execution_count": 5,
   "metadata": {},
   "outputs": [],
   "source": [
    "style.use('ggplot')"
   ]
  },
  {
   "cell_type": "markdown",
   "metadata": {},
   "source": [
    "# Appendix A: Model dynamics\n",
    "\n",
    "## A1 Short-baseline model"
   ]
  },
  {
   "cell_type": "code",
   "execution_count": 6,
   "metadata": {},
   "outputs": [],
   "source": [
    "NRUNS = 3"
   ]
  },
  {
   "cell_type": "code",
   "execution_count": 7,
   "metadata": {},
   "outputs": [],
   "source": [
    "with open('parameters.json', 'r') as f:\n",
    "    params = json.loads(f.read())"
   ]
  },
  {
   "cell_type": "code",
   "execution_count": 8,
   "metadata": {},
   "outputs": [],
   "source": [
    "burn_in_period = 250"
   ]
  },
  {
   "cell_type": "code",
   "execution_count": 9,
   "metadata": {},
   "outputs": [
    {
     "data": {
      "text/plain": [
       "{'ticks': 850,\n",
       " 'fundamental_value': 166,\n",
       " 'n_traders': 500,\n",
       " 'std_fundamental': 0.0530163128919286,\n",
       " 'spread_max': 0.004087,\n",
       " 'init_stocks': 50,\n",
       " 'trader_sample_size': 19,\n",
       " 'horizon': 200,\n",
       " 'trades_per_tick': 4,\n",
       " 'std_noise': 0.15863974,\n",
       " 'w_random': 0.056454,\n",
       " 'strat_share_chartists': 0.0,\n",
       " 'base_risk_aversion': 6.05054016,\n",
       " 'fundamentalist_horizon_multiplier': 2.22042767,\n",
       " 'mutation_intensity': 0.47684635,\n",
       " 'average_learning_ability': 0.0}"
      ]
     },
     "execution_count": 9,
     "metadata": {},
     "output_type": "execute_result"
    }
   ],
   "source": [
    "params"
   ]
  },
  {
   "cell_type": "code",
   "execution_count": 10,
   "metadata": {},
   "outputs": [
    {
     "name": "stdout",
     "output_type": "stream",
     "text": [
      "Start of simulation  0\n",
      "Start of simulation  1\n",
      "Start of simulation  2\n"
     ]
    }
   ],
   "source": [
    "trdrs = []\n",
    "orbs = []\n",
    "for seed in range(NRUNS): \n",
    "    traders, orderbook = init_objects_distr(params, seed)\n",
    "    traders, orderbook = pb_distr_model(traders, orderbook, params, seed)\n",
    "    trdrs.append(traders)\n",
    "    orbs.append(orderbook)"
   ]
  },
  {
   "cell_type": "code",
   "execution_count": 11,
   "metadata": {},
   "outputs": [],
   "source": [
    "mc_prices, mc_returns, mc_autocorr_returns, mc_autocorr_abs_returns, mc_volatility, mc_volume, mc_fundamentals = organise_data(orbs, burn_in_period=200)"
   ]
  },
  {
   "cell_type": "markdown",
   "metadata": {},
   "source": [
    "Establish confidence interval for average prices"
   ]
  },
  {
   "cell_type": "code",
   "execution_count": 12,
   "metadata": {},
   "outputs": [],
   "source": [
    "def confidence_interval(data, av):\n",
    "    sample_stdev = np.std(data)\n",
    "    sigma = sample_stdev/math.sqrt(len(data))\n",
    "    return stats.t.interval(alpha = 0.95, df= 24, loc=av, scale=sigma) "
   ]
  },
  {
   "cell_type": "code",
   "execution_count": 14,
   "metadata": {},
   "outputs": [],
   "source": [
    "lower_c_price = []\n",
    "upper_c_price = []\n",
    "for row in range(len(mc_fundamentals)):\n",
    "    price_range = mc_prices.iloc[row] / mc_fundamentals.iloc[row]\n",
    "    lower, upper = confidence_interval(price_range, np.mean(price_range))\n",
    "    lower_c_price.append(lower)\n",
    "    upper_c_price.append(upper)"
   ]
  },
  {
   "cell_type": "code",
   "execution_count": 17,
   "metadata": {},
   "outputs": [
    {
     "data": {
      "text/html": [
       "<div>\n",
       "<style scoped>\n",
       "    .dataframe tbody tr th:only-of-type {\n",
       "        vertical-align: middle;\n",
       "    }\n",
       "\n",
       "    .dataframe tbody tr th {\n",
       "        vertical-align: top;\n",
       "    }\n",
       "\n",
       "    .dataframe thead th {\n",
       "        text-align: right;\n",
       "    }\n",
       "</style>\n",
       "<table border=\"1\" class=\"dataframe\">\n",
       "  <thead>\n",
       "    <tr style=\"text-align: right;\">\n",
       "      <th></th>\n",
       "      <th>0</th>\n",
       "      <th>1</th>\n",
       "      <th>2</th>\n",
       "    </tr>\n",
       "  </thead>\n",
       "  <tbody>\n",
       "    <tr>\n",
       "      <th>0</th>\n",
       "      <td>166.231103</td>\n",
       "      <td>167.186714</td>\n",
       "      <td>167.455599</td>\n",
       "    </tr>\n",
       "    <tr>\n",
       "      <th>1</th>\n",
       "      <td>166.294865</td>\n",
       "      <td>167.197071</td>\n",
       "      <td>167.486695</td>\n",
       "    </tr>\n",
       "    <tr>\n",
       "      <th>2</th>\n",
       "      <td>166.312530</td>\n",
       "      <td>167.150894</td>\n",
       "      <td>167.468270</td>\n",
       "    </tr>\n",
       "    <tr>\n",
       "      <th>3</th>\n",
       "      <td>166.315839</td>\n",
       "      <td>167.197331</td>\n",
       "      <td>167.466091</td>\n",
       "    </tr>\n",
       "    <tr>\n",
       "      <th>4</th>\n",
       "      <td>166.294841</td>\n",
       "      <td>167.163416</td>\n",
       "      <td>167.488923</td>\n",
       "    </tr>\n",
       "    <tr>\n",
       "      <th>5</th>\n",
       "      <td>166.219912</td>\n",
       "      <td>167.279377</td>\n",
       "      <td>167.492153</td>\n",
       "    </tr>\n",
       "    <tr>\n",
       "      <th>6</th>\n",
       "      <td>166.212930</td>\n",
       "      <td>167.372251</td>\n",
       "      <td>167.500389</td>\n",
       "    </tr>\n",
       "    <tr>\n",
       "      <th>7</th>\n",
       "      <td>166.222446</td>\n",
       "      <td>167.352559</td>\n",
       "      <td>167.567422</td>\n",
       "    </tr>\n",
       "    <tr>\n",
       "      <th>8</th>\n",
       "      <td>166.224759</td>\n",
       "      <td>167.327466</td>\n",
       "      <td>167.498845</td>\n",
       "    </tr>\n",
       "    <tr>\n",
       "      <th>9</th>\n",
       "      <td>166.210846</td>\n",
       "      <td>167.287797</td>\n",
       "      <td>167.450288</td>\n",
       "    </tr>\n",
       "    <tr>\n",
       "      <th>10</th>\n",
       "      <td>166.251838</td>\n",
       "      <td>167.368746</td>\n",
       "      <td>167.491061</td>\n",
       "    </tr>\n",
       "    <tr>\n",
       "      <th>11</th>\n",
       "      <td>166.329339</td>\n",
       "      <td>167.345924</td>\n",
       "      <td>167.522546</td>\n",
       "    </tr>\n",
       "    <tr>\n",
       "      <th>12</th>\n",
       "      <td>166.311706</td>\n",
       "      <td>167.333107</td>\n",
       "      <td>167.611445</td>\n",
       "    </tr>\n",
       "    <tr>\n",
       "      <th>13</th>\n",
       "      <td>166.294363</td>\n",
       "      <td>167.317924</td>\n",
       "      <td>167.528364</td>\n",
       "    </tr>\n",
       "    <tr>\n",
       "      <th>14</th>\n",
       "      <td>166.162177</td>\n",
       "      <td>167.261913</td>\n",
       "      <td>167.474488</td>\n",
       "    </tr>\n",
       "    <tr>\n",
       "      <th>15</th>\n",
       "      <td>166.157172</td>\n",
       "      <td>167.260040</td>\n",
       "      <td>167.505183</td>\n",
       "    </tr>\n",
       "    <tr>\n",
       "      <th>16</th>\n",
       "      <td>166.123263</td>\n",
       "      <td>167.258564</td>\n",
       "      <td>167.560628</td>\n",
       "    </tr>\n",
       "    <tr>\n",
       "      <th>17</th>\n",
       "      <td>166.145896</td>\n",
       "      <td>167.194001</td>\n",
       "      <td>167.608591</td>\n",
       "    </tr>\n",
       "    <tr>\n",
       "      <th>18</th>\n",
       "      <td>166.116842</td>\n",
       "      <td>167.180031</td>\n",
       "      <td>167.586891</td>\n",
       "    </tr>\n",
       "    <tr>\n",
       "      <th>19</th>\n",
       "      <td>166.131424</td>\n",
       "      <td>167.154497</td>\n",
       "      <td>167.525319</td>\n",
       "    </tr>\n",
       "    <tr>\n",
       "      <th>20</th>\n",
       "      <td>166.068644</td>\n",
       "      <td>167.188116</td>\n",
       "      <td>167.474958</td>\n",
       "    </tr>\n",
       "    <tr>\n",
       "      <th>21</th>\n",
       "      <td>166.066675</td>\n",
       "      <td>167.156370</td>\n",
       "      <td>167.522330</td>\n",
       "    </tr>\n",
       "    <tr>\n",
       "      <th>22</th>\n",
       "      <td>166.017580</td>\n",
       "      <td>167.196105</td>\n",
       "      <td>167.512345</td>\n",
       "    </tr>\n",
       "    <tr>\n",
       "      <th>23</th>\n",
       "      <td>166.110547</td>\n",
       "      <td>167.203846</td>\n",
       "      <td>167.498372</td>\n",
       "    </tr>\n",
       "    <tr>\n",
       "      <th>24</th>\n",
       "      <td>166.170511</td>\n",
       "      <td>167.152779</td>\n",
       "      <td>167.529760</td>\n",
       "    </tr>\n",
       "    <tr>\n",
       "      <th>25</th>\n",
       "      <td>166.181894</td>\n",
       "      <td>167.181799</td>\n",
       "      <td>167.543164</td>\n",
       "    </tr>\n",
       "    <tr>\n",
       "      <th>26</th>\n",
       "      <td>166.253490</td>\n",
       "      <td>167.127229</td>\n",
       "      <td>167.549360</td>\n",
       "    </tr>\n",
       "    <tr>\n",
       "      <th>27</th>\n",
       "      <td>166.290840</td>\n",
       "      <td>167.018428</td>\n",
       "      <td>167.489133</td>\n",
       "    </tr>\n",
       "    <tr>\n",
       "      <th>28</th>\n",
       "      <td>166.269361</td>\n",
       "      <td>167.026613</td>\n",
       "      <td>167.405364</td>\n",
       "    </tr>\n",
       "    <tr>\n",
       "      <th>29</th>\n",
       "      <td>166.220477</td>\n",
       "      <td>166.964696</td>\n",
       "      <td>167.473342</td>\n",
       "    </tr>\n",
       "    <tr>\n",
       "      <th>...</th>\n",
       "      <td>...</td>\n",
       "      <td>...</td>\n",
       "      <td>...</td>\n",
       "    </tr>\n",
       "    <tr>\n",
       "      <th>621</th>\n",
       "      <td>170.933374</td>\n",
       "      <td>167.462112</td>\n",
       "      <td>169.633722</td>\n",
       "    </tr>\n",
       "    <tr>\n",
       "      <th>622</th>\n",
       "      <td>171.001361</td>\n",
       "      <td>167.566026</td>\n",
       "      <td>169.552910</td>\n",
       "    </tr>\n",
       "    <tr>\n",
       "      <th>623</th>\n",
       "      <td>170.956086</td>\n",
       "      <td>167.549274</td>\n",
       "      <td>169.582329</td>\n",
       "    </tr>\n",
       "    <tr>\n",
       "      <th>624</th>\n",
       "      <td>171.032552</td>\n",
       "      <td>167.480190</td>\n",
       "      <td>169.595012</td>\n",
       "    </tr>\n",
       "    <tr>\n",
       "      <th>625</th>\n",
       "      <td>170.934721</td>\n",
       "      <td>167.525230</td>\n",
       "      <td>169.527757</td>\n",
       "    </tr>\n",
       "    <tr>\n",
       "      <th>626</th>\n",
       "      <td>171.069642</td>\n",
       "      <td>167.560979</td>\n",
       "      <td>169.496155</td>\n",
       "    </tr>\n",
       "    <tr>\n",
       "      <th>627</th>\n",
       "      <td>170.994767</td>\n",
       "      <td>167.507702</td>\n",
       "      <td>169.467617</td>\n",
       "    </tr>\n",
       "    <tr>\n",
       "      <th>628</th>\n",
       "      <td>171.137792</td>\n",
       "      <td>167.498802</td>\n",
       "      <td>169.478129</td>\n",
       "    </tr>\n",
       "    <tr>\n",
       "      <th>629</th>\n",
       "      <td>171.100380</td>\n",
       "      <td>167.413927</td>\n",
       "      <td>169.486820</td>\n",
       "    </tr>\n",
       "    <tr>\n",
       "      <th>630</th>\n",
       "      <td>171.131325</td>\n",
       "      <td>167.320364</td>\n",
       "      <td>169.574496</td>\n",
       "    </tr>\n",
       "    <tr>\n",
       "      <th>631</th>\n",
       "      <td>171.145671</td>\n",
       "      <td>167.248773</td>\n",
       "      <td>169.573556</td>\n",
       "    </tr>\n",
       "    <tr>\n",
       "      <th>632</th>\n",
       "      <td>171.082974</td>\n",
       "      <td>167.249335</td>\n",
       "      <td>169.441558</td>\n",
       "    </tr>\n",
       "    <tr>\n",
       "      <th>633</th>\n",
       "      <td>171.070569</td>\n",
       "      <td>167.289736</td>\n",
       "      <td>169.392534</td>\n",
       "    </tr>\n",
       "    <tr>\n",
       "      <th>634</th>\n",
       "      <td>171.039449</td>\n",
       "      <td>167.332372</td>\n",
       "      <td>169.470407</td>\n",
       "    </tr>\n",
       "    <tr>\n",
       "      <th>635</th>\n",
       "      <td>170.982038</td>\n",
       "      <td>167.308643</td>\n",
       "      <td>169.495920</td>\n",
       "    </tr>\n",
       "    <tr>\n",
       "      <th>636</th>\n",
       "      <td>171.013897</td>\n",
       "      <td>167.340686</td>\n",
       "      <td>169.460055</td>\n",
       "    </tr>\n",
       "    <tr>\n",
       "      <th>637</th>\n",
       "      <td>170.965154</td>\n",
       "      <td>167.274808</td>\n",
       "      <td>169.403848</td>\n",
       "    </tr>\n",
       "    <tr>\n",
       "      <th>638</th>\n",
       "      <td>170.968672</td>\n",
       "      <td>167.264457</td>\n",
       "      <td>169.327205</td>\n",
       "    </tr>\n",
       "    <tr>\n",
       "      <th>639</th>\n",
       "      <td>171.040498</td>\n",
       "      <td>167.229938</td>\n",
       "      <td>169.291116</td>\n",
       "    </tr>\n",
       "    <tr>\n",
       "      <th>640</th>\n",
       "      <td>171.015213</td>\n",
       "      <td>167.280214</td>\n",
       "      <td>169.243883</td>\n",
       "    </tr>\n",
       "    <tr>\n",
       "      <th>641</th>\n",
       "      <td>170.935476</td>\n",
       "      <td>167.230013</td>\n",
       "      <td>169.274865</td>\n",
       "    </tr>\n",
       "    <tr>\n",
       "      <th>642</th>\n",
       "      <td>171.075930</td>\n",
       "      <td>167.220412</td>\n",
       "      <td>169.303407</td>\n",
       "    </tr>\n",
       "    <tr>\n",
       "      <th>643</th>\n",
       "      <td>171.014375</td>\n",
       "      <td>167.131636</td>\n",
       "      <td>169.283106</td>\n",
       "    </tr>\n",
       "    <tr>\n",
       "      <th>644</th>\n",
       "      <td>171.006166</td>\n",
       "      <td>167.215588</td>\n",
       "      <td>169.304328</td>\n",
       "    </tr>\n",
       "    <tr>\n",
       "      <th>645</th>\n",
       "      <td>170.998681</td>\n",
       "      <td>167.211409</td>\n",
       "      <td>169.242691</td>\n",
       "    </tr>\n",
       "    <tr>\n",
       "      <th>646</th>\n",
       "      <td>170.945510</td>\n",
       "      <td>167.150886</td>\n",
       "      <td>169.233342</td>\n",
       "    </tr>\n",
       "    <tr>\n",
       "      <th>647</th>\n",
       "      <td>170.901335</td>\n",
       "      <td>167.079915</td>\n",
       "      <td>169.297849</td>\n",
       "    </tr>\n",
       "    <tr>\n",
       "      <th>648</th>\n",
       "      <td>170.932346</td>\n",
       "      <td>167.028090</td>\n",
       "      <td>169.327018</td>\n",
       "    </tr>\n",
       "    <tr>\n",
       "      <th>649</th>\n",
       "      <td>170.901598</td>\n",
       "      <td>167.012618</td>\n",
       "      <td>169.305557</td>\n",
       "    </tr>\n",
       "    <tr>\n",
       "      <th>650</th>\n",
       "      <td>170.841724</td>\n",
       "      <td>166.996318</td>\n",
       "      <td>169.263025</td>\n",
       "    </tr>\n",
       "  </tbody>\n",
       "</table>\n",
       "<p>651 rows × 3 columns</p>\n",
       "</div>"
      ],
      "text/plain": [
       "              0           1           2\n",
       "0    166.231103  167.186714  167.455599\n",
       "1    166.294865  167.197071  167.486695\n",
       "2    166.312530  167.150894  167.468270\n",
       "3    166.315839  167.197331  167.466091\n",
       "4    166.294841  167.163416  167.488923\n",
       "5    166.219912  167.279377  167.492153\n",
       "6    166.212930  167.372251  167.500389\n",
       "7    166.222446  167.352559  167.567422\n",
       "8    166.224759  167.327466  167.498845\n",
       "9    166.210846  167.287797  167.450288\n",
       "10   166.251838  167.368746  167.491061\n",
       "11   166.329339  167.345924  167.522546\n",
       "12   166.311706  167.333107  167.611445\n",
       "13   166.294363  167.317924  167.528364\n",
       "14   166.162177  167.261913  167.474488\n",
       "15   166.157172  167.260040  167.505183\n",
       "16   166.123263  167.258564  167.560628\n",
       "17   166.145896  167.194001  167.608591\n",
       "18   166.116842  167.180031  167.586891\n",
       "19   166.131424  167.154497  167.525319\n",
       "20   166.068644  167.188116  167.474958\n",
       "21   166.066675  167.156370  167.522330\n",
       "22   166.017580  167.196105  167.512345\n",
       "23   166.110547  167.203846  167.498372\n",
       "24   166.170511  167.152779  167.529760\n",
       "25   166.181894  167.181799  167.543164\n",
       "26   166.253490  167.127229  167.549360\n",
       "27   166.290840  167.018428  167.489133\n",
       "28   166.269361  167.026613  167.405364\n",
       "29   166.220477  166.964696  167.473342\n",
       "..          ...         ...         ...\n",
       "621  170.933374  167.462112  169.633722\n",
       "622  171.001361  167.566026  169.552910\n",
       "623  170.956086  167.549274  169.582329\n",
       "624  171.032552  167.480190  169.595012\n",
       "625  170.934721  167.525230  169.527757\n",
       "626  171.069642  167.560979  169.496155\n",
       "627  170.994767  167.507702  169.467617\n",
       "628  171.137792  167.498802  169.478129\n",
       "629  171.100380  167.413927  169.486820\n",
       "630  171.131325  167.320364  169.574496\n",
       "631  171.145671  167.248773  169.573556\n",
       "632  171.082974  167.249335  169.441558\n",
       "633  171.070569  167.289736  169.392534\n",
       "634  171.039449  167.332372  169.470407\n",
       "635  170.982038  167.308643  169.495920\n",
       "636  171.013897  167.340686  169.460055\n",
       "637  170.965154  167.274808  169.403848\n",
       "638  170.968672  167.264457  169.327205\n",
       "639  171.040498  167.229938  169.291116\n",
       "640  171.015213  167.280214  169.243883\n",
       "641  170.935476  167.230013  169.274865\n",
       "642  171.075930  167.220412  169.303407\n",
       "643  171.014375  167.131636  169.283106\n",
       "644  171.006166  167.215588  169.304328\n",
       "645  170.998681  167.211409  169.242691\n",
       "646  170.945510  167.150886  169.233342\n",
       "647  170.901335  167.079915  169.297849\n",
       "648  170.932346  167.028090  169.327018\n",
       "649  170.901598  167.012618  169.305557\n",
       "650  170.841724  166.996318  169.263025\n",
       "\n",
       "[651 rows x 3 columns]"
      ]
     },
     "execution_count": 17,
     "metadata": {},
     "output_type": "execute_result"
    }
   ],
   "source": [
    "mc_fundamentals"
   ]
  },
  {
   "cell_type": "markdown",
   "metadata": {},
   "source": [
    "Identify sentiment "
   ]
  },
  {
   "cell_type": "code",
   "execution_count": 11,
   "metadata": {},
   "outputs": [],
   "source": [
    "def market_sentiment_in_round(order_book, t):\n",
    "    return sum(np.array(order_book.sentiment_history[t]) / len(order_book.sentiment_history[t]))"
   ]
  },
  {
   "cell_type": "code",
   "execution_count": 12,
   "metadata": {},
   "outputs": [],
   "source": [
    "# what do I need, average sentiment + confidence intervals\n",
    "av_fundamentalist_sentiment = []\n",
    "lo_fundamentalist_sentiment = []\n",
    "up_fundamentalist_sentiment = []\n",
    "\n",
    "av_trend_sentiment = []\n",
    "lo_trend_sentiment = []\n",
    "up_trend_sentiment = []\n",
    "\n",
    "av_random_sentiment = []\n",
    "lo_random_sentiment = []\n",
    "up_random_sentiment = []\n",
    "\n",
    "av_lambda = []\n",
    "lo_lambda = []\n",
    "up_lambda = []\n",
    "\n",
    "for t in range(len(orbs[0].sentiment_history)):\n",
    "    sentiment = []\n",
    "    for orderb in orbs:\n",
    "        sentiment.append(market_sentiment_in_round(orderb, t))\n",
    "    f_sents = [s[0] for s in sentiment]\n",
    "    c_sents = [s[1] for s in sentiment]\n",
    "    r_sents = [s[2] for s in sentiment]\n",
    "    lmbda = np.array([c_sents]) / (np.array([c_sents]) + np.array([f_sents]))\n",
    "    # calculate the average and conf intervals\n",
    "    av_fundamentalist_sentiment.append(np.mean(f_sents))\n",
    "    low, up = confidence_interval(f_sents, np.mean(f_sents))\n",
    "    lo_fundamentalist_sentiment.append(low)\n",
    "    up_fundamentalist_sentiment.append(up)\n",
    "    \n",
    "    av_trend_sentiment.append(np.mean(c_sents))\n",
    "    low, up = confidence_interval(c_sents, np.mean(c_sents))\n",
    "    lo_trend_sentiment.append(low)\n",
    "    up_trend_sentiment.append(up)\n",
    "    \n",
    "    av_random_sentiment.append(np.mean(r_sents))\n",
    "    low, up = confidence_interval(r_sents, np.mean(r_sents))\n",
    "    lo_random_sentiment.append(low)\n",
    "    up_random_sentiment.append(up)\n",
    "    \n",
    "    av_lambda.append(np.mean(lmbda))\n",
    "    low, up = confidence_interval(lmbda, np.mean(lmbda))\n",
    "    lo_lambda.append(low)\n",
    "    up_lambda.append(up)"
   ]
  },
  {
   "cell_type": "markdown",
   "metadata": {},
   "source": [
    "Identify individual agent wealth changes"
   ]
  },
  {
   "cell_type": "code",
   "execution_count": 13,
   "metadata": {},
   "outputs": [],
   "source": [
    "wealth_starts = []\n",
    "wealth_ends = []\n",
    "ginis_ot = []\n",
    "palmas_ot = []\n",
    "twtws_ot = []\n",
    "risk_aversions = []\n",
    "horizons = []\n",
    "learning_abilities = []\n",
    "chartist_expectations = []\n",
    "fundamentalist_expectations = []\n",
    "profits = []\n",
    "real_profits = []\n",
    "market_returns = []\n",
    "\n",
    "# determine the start and end wealth of the bubble\n",
    "for seed, traders in enumerate(trdrs):\n",
    "    money_start = np.array([x.var.money[0] for x in traders])\n",
    "    stocks_start = np.array([x.var.stocks[0] for x in traders])\n",
    "    wealth_start = money_start + (stocks_start * orbs[seed].tick_close_price[0])\n",
    "\n",
    "    money_end = np.array([x.var.money[-1] for x in traders])\n",
    "    stocks_end = np.array([x.var.stocks[-1] for x in traders])\n",
    "    wealth_end = money_end + (stocks_end * orbs[seed].tick_close_price[-1])\n",
    "    \n",
    "    # profits\n",
    "    profits.append((np.array(wealth_end) - np.array(wealth_start)) / np.array(wealth_start))\n",
    "    real_profits.append(np.array(wealth_end) - np.array(wealth_start))\n",
    "    market_returns.append([(orbs[seed].tick_close_price[-1] - orbs[seed].tick_close_price[0]) / orbs[seed].tick_close_price[0] for x in range(len(wealth_start))])\n",
    "\n",
    "    # determine characteristics of the agents\n",
    "    risk_aversions.append([x.par.risk_aversion for x in traders])\n",
    "    horizons.append([x.par.horizon for x in traders])\n",
    "    learning_abilities.append([x.par.learning_ability for x in traders])\n",
    "    chartist_expectations.append([x.var.weight_chartist[: ] for x in traders])\n",
    "    fundamentalist_expectations.append([x.var.weight_fundamentalist[:] for x in traders])\n",
    "\n",
    "    wealth_gini_over_time = []\n",
    "    palma_over_time = []\n",
    "    twentytwenty_over_time = []\n",
    "    for t in range(params['ticks']):\n",
    "        money = np.array([x.var.money[t] for x in traders])\n",
    "        stocks = np.array([x.var.stocks[t] for x in traders])\n",
    "        wealth = money + (stocks * orbs[seed].tick_close_price[0])\n",
    "\n",
    "        share_top_10 = sum(np.sort(wealth)[int(len(wealth) * 0.9):]) / sum(wealth)\n",
    "        share_bottom_40 = sum(np.sort(wealth)[:int(len(wealth) * 0.4)]) / sum(wealth)\n",
    "        palma_over_time.append(share_top_10 / share_bottom_40)\n",
    "\n",
    "        share_top_20 = np.mean(np.sort(wealth)[int(len(wealth) * 0.8):])\n",
    "        share_bottom_20 = np.mean(np.sort(wealth)[:int(len(wealth) * 0.2)])\n",
    "        twentytwenty_over_time.append(share_top_20 / share_bottom_20)\n",
    "\n",
    "        wealth_gini_over_time.append(gini(wealth))\n",
    "\n",
    "    wealth_starts.append(list(wealth_start))\n",
    "    wealth_ends.append(list(wealth_end))\n",
    "    ginis_ot.append(wealth_gini_over_time)\n",
    "    palmas_ot.append(palma_over_time)\n",
    "    twtws_ot.append(twentytwenty_over_time)"
   ]
  },
  {
   "cell_type": "code",
   "execution_count": 14,
   "metadata": {},
   "outputs": [
    {
     "data": {
      "text/plain": [
       "25"
      ]
     },
     "execution_count": 14,
     "metadata": {},
     "output_type": "execute_result"
    }
   ],
   "source": [
    "len(ginis_ot)"
   ]
  },
  {
   "cell_type": "code",
   "execution_count": 15,
   "metadata": {},
   "outputs": [],
   "source": [
    "# first, order all profits, then get average profit and conf intervals \n",
    "av_ordered_profits = []\n",
    "lcf_ordered_profits = []\n",
    "ucf_ordered_profits = []\n",
    "\n",
    "ordered_profits = [pd.Series(pr).sort_values() for pr in profits]\n",
    "for a in range(len(ordered_profits[0])):\n",
    "    a_profits = [list(p)[a] for p in ordered_profits]\n",
    "    av_ordered_profits.append(np.mean(a_profits))\n",
    "    low, up = confidence_interval(a_profits, np.mean(a_profits))\n",
    "    lcf_ordered_profits.append(low)\n",
    "    ucf_ordered_profits.append(up)"
   ]
  },
  {
   "cell_type": "markdown",
   "metadata": {},
   "source": [
    "Import all bubbles, and identify wins and losses "
   ]
  },
  {
   "cell_type": "markdown",
   "metadata": {},
   "source": [
    "Calculate the inequality stats Gini, Palma, and Twenty-twenty"
   ]
  },
  {
   "cell_type": "code",
   "execution_count": 16,
   "metadata": {},
   "outputs": [],
   "source": [
    "av_gini_ot = []\n",
    "low_gini_ot = []\n",
    "up_gini_ot = []\n",
    "\n",
    "av_palma_ot = []\n",
    "low_palma_ot = []\n",
    "up_palma_ot = []\n",
    "\n",
    "av_twtw_ot = []\n",
    "low_twtw_ot = []\n",
    "up_twtw_ot = []\n",
    "\n",
    "for t in range(burn_in_period, params['ticks']):\n",
    "    t_gini = [g[t] for g in ginis_ot]\n",
    "    av_gini_ot.append(np.mean(t_gini))\n",
    "    low, up = confidence_interval(t_gini, np.mean(t_gini))\n",
    "    low_gini_ot.append(low)\n",
    "    up_gini_ot.append(up)\n",
    "\n",
    "    t_palma = [p[t] for p in palmas_ot]\n",
    "    av_palma_ot.append(np.mean(t_palma))\n",
    "    low, up = confidence_interval(t_palma, np.mean(t_palma))\n",
    "    low_palma_ot.append(low)\n",
    "    up_palma_ot.append(up)\n",
    "    \n",
    "    t_twtw = [tw[t] for tw in twtws_ot]\n",
    "    av_twtw_ot.append(np.mean(t_twtw))\n",
    "    low, up = confidence_interval(t_twtw, np.mean(t_twtw))\n",
    "    low_twtw_ot.append(low)\n",
    "    up_twtw_ot.append(up)"
   ]
  },
  {
   "cell_type": "code",
   "execution_count": 17,
   "metadata": {},
   "outputs": [
    {
     "data": {
      "text/plain": [
       "count    652.000000\n",
       "mean     162.174629\n",
       "std        0.792637\n",
       "min      159.962586\n",
       "25%      161.606920\n",
       "50%      162.140503\n",
       "75%      162.742732\n",
       "max      164.221873\n",
       "dtype: float64"
      ]
     },
     "execution_count": 17,
     "metadata": {},
     "output_type": "execute_result"
    }
   ],
   "source": [
    "mc_prices.mean(axis=1).describe()"
   ]
  },
  {
   "cell_type": "code",
   "execution_count": 18,
   "metadata": {},
   "outputs": [
    {
     "name": "stdout",
     "output_type": "stream",
     "text": [
      "Kurtosis =  -0.5058340899143672\n",
      "Skew =  0.08317764809039715\n"
     ]
    }
   ],
   "source": [
    "print('Kurtosis = ', pd.Series(mc_prices.mean(axis=1)).kurt())\n",
    "print('Skew = ', pd.Series(mc_prices.mean(axis=1)).skew())"
   ]
  },
  {
   "cell_type": "markdown",
   "metadata": {},
   "source": [
    "Summary of profit data: "
   ]
  },
  {
   "cell_type": "code",
   "execution_count": 19,
   "metadata": {},
   "outputs": [
    {
     "data": {
      "text/plain": [
       "count    500.000000\n",
       "mean      -0.011781\n",
       "std        0.130032\n",
       "min       -0.355485\n",
       "25%       -0.102867\n",
       "50%       -0.017648\n",
       "75%        0.071393\n",
       "max        0.467601\n",
       "dtype: float64"
      ]
     },
     "execution_count": 19,
     "metadata": {},
     "output_type": "execute_result"
    }
   ],
   "source": [
    "pd.Series(av_ordered_profits).describe()"
   ]
  },
  {
   "cell_type": "code",
   "execution_count": 20,
   "metadata": {},
   "outputs": [
    {
     "name": "stdout",
     "output_type": "stream",
     "text": [
      "Kurtosis =  0.16317449204823076\n",
      "Skew =  0.3098479699278195\n"
     ]
    }
   ],
   "source": [
    "print('Kurtosis = ', pd.Series(av_ordered_profits).kurt())\n",
    "print('Skew = ', pd.Series(av_ordered_profits).skew())"
   ]
  },
  {
   "cell_type": "markdown",
   "metadata": {},
   "source": [
    "### Plot short-baseline:\n",
    "\n",
    "1. price + fundamental, \n",
    "2. sentiment,\n",
    "3. Distribution of profit \n",
    "4. gini,\n",
    "5. palma, \n",
    "6. twenty twenty "
   ]
  },
  {
   "cell_type": "code",
   "execution_count": 21,
   "metadata": {},
   "outputs": [
    {
     "data": {
      "image/png": "[encoded data removed]",
      "text/plain": [
       "<Figure size 1080x504 with 6 Axes>"
      ]
     },
     "metadata": {},
     "output_type": "display_data"
    }
   ],
   "source": [
    "fig, ((ax1, ax2, ax3),(ax4, ax5, ax6)) = plt.subplots(2, 3, figsize=(15,7))\n",
    "\n",
    "#ax1.plot(mc_fundamentals.index, mc_fundamentals.mean(axis=1), label='Fundamental')\n",
    "ax1.plot(mc_prices.index, (mc_prices.mean(axis=1) / mc_fundamentals.mean(axis=1))[:], label='Market')\n",
    "ax1.plot(mc_prices.index[:-1], lower_c_price, 'k--')\n",
    "ax1.plot(mc_prices.index[:-1], upper_c_price, 'k--')\n",
    "\n",
    "ax1.set_ylabel('Price to Fundamental', fontsize='12')\n",
    "\n",
    "ax2.plot(range(len(av_lambda[burn_in_period:])), av_lambda[burn_in_period:])\n",
    "ax2.plot(range(len(av_lambda[burn_in_period:])), lo_lambda[burn_in_period:], 'k--')\n",
    "ax2.plot(range(len(av_lambda[burn_in_period:])), up_lambda[burn_in_period:], 'k--')\n",
    "ax2.set_ylabel('Share trend-following', fontsize='12')\n",
    "\n",
    "# ax2.plot(range(len(av_fundamentalist_sentiment[burn_in_period:])), av_fundamentalist_sentiment[burn_in_period:], label='fundamentalist ')\n",
    "# ax2.plot(range(len(lo_fundamentalist_sentiment[burn_in_period:])), lo_fundamentalist_sentiment[burn_in_period:], 'r--', alpha=0.3)\n",
    "# ax2.plot(range(len(up_fundamentalist_sentiment[burn_in_period:])), up_fundamentalist_sentiment[burn_in_period:], 'r--', alpha=0.3)\n",
    "# ax2.set_ylabel('Percentage', fontsize='12')\n",
    "\n",
    "# ax2.plot(range(len(av_trend_sentiment[burn_in_period:])), av_trend_sentiment[burn_in_period:], label='chartist ')\n",
    "# ax2.plot(range(len(lo_trend_sentiment[burn_in_period:])), lo_trend_sentiment[burn_in_period:], 'b--', alpha=0.3)\n",
    "# ax2.plot(range(len(up_trend_sentiment[burn_in_period:])), up_trend_sentiment[burn_in_period:], 'b--', alpha=0.3)\n",
    "\n",
    "# ax2.plot(range(len(av_random_sentiment[burn_in_period:])), av_random_sentiment[burn_in_period:], 'k', label='random ')\n",
    "# ax2.plot(range(len(lo_trend_sentiment[burn_in_period:])), lo_random_sentiment[burn_in_period:], 'k--', alpha=0.3)\n",
    "# ax2.plot(range(len(up_trend_sentiment[burn_in_period:])), up_random_sentiment[burn_in_period:], 'k--', alpha=0.3)\n",
    "# ax2.set_ylim(0, 1)\n",
    "\n",
    "ax3.plot(range(len(av_ordered_profits)), av_ordered_profits)\n",
    "ax3.plot(range(len(av_ordered_profits)), ucf_ordered_profits, 'k--')\n",
    "ax3.plot(range(len(av_ordered_profits)), lcf_ordered_profits, 'k--')\n",
    "ax3.set_ylabel('Relative profit', fontsize='12')\n",
    "\n",
    "ax4.plot(range(len(av_gini_ot[:])), av_gini_ot[:])\n",
    "ax4.plot(range(len(low_gini_ot[:])), low_gini_ot[:], 'k--')\n",
    "ax4.plot(range(len(up_gini_ot[:])), up_gini_ot[:], 'k--')\n",
    "ax4.set_ylabel('Gini', fontsize='12')\n",
    "\n",
    "ax5.plot(range(len(av_gini_ot[:])), av_palma_ot[:])\n",
    "ax5.plot(range(len(low_gini_ot[:])), low_palma_ot[:], 'k--')\n",
    "ax5.plot(range(len(up_gini_ot[:])), up_palma_ot[:], 'k--')\n",
    "ax5.set_ylabel('Palma', fontsize='12')\n",
    "\n",
    "ax6.plot(range(len(av_gini_ot[:])), av_twtw_ot[:])\n",
    "ax6.plot(range(len(low_gini_ot[:])), low_twtw_ot[:], 'k--')\n",
    "ax6.plot(range(len(up_gini_ot[:])), up_twtw_ot[:], 'k--')\n",
    "ax6.set_ylabel('20-20', fontsize='12')\n",
    "\n",
    "for ax in (ax1, ax2, ax4, ax5, ax6):\n",
    "    ax.set_xlabel('Simulation time', fontsize='14')\n",
    "    \n",
    "ax3.set_xlabel('Agents', fontsize='14')\n",
    "\n",
    "fig.savefig('short_baseline_dynamics.png', dpi=200, bbox_inches = 'tight', pad_inches = 0)"
   ]
  },
  {
   "cell_type": "markdown",
   "metadata": {},
   "source": [
    "## Correlation structure: \n",
    "\n"
   ]
  },
  {
   "cell_type": "code",
   "execution_count": 39,
   "metadata": {},
   "outputs": [],
   "source": [
    "w = 5"
   ]
  },
  {
   "cell_type": "code",
   "execution_count": 113,
   "metadata": {},
   "outputs": [],
   "source": [
    "volList = []\n",
    "delta_P_list = []\n",
    "\n",
    "ginis_diff_list = []\n",
    "palmas_diff_list = []\n",
    "twtw_diff_list = []\n",
    "\n",
    "ginis_ot_list = []\n",
    "palmas_ot_list = []\n",
    "twtw_ot_list = []\n",
    "for i in range(len(orbs)):\n",
    "    volList += list((pd.Series(orbs[i].tick_close_price) / pd.Series(orbs[i].fundamental[1:])).rolling(w).std(ddof=0)[w-1:-2])\n",
    "    delta_P_list += list((pd.Series(orbs[i].tick_close_price) / pd.Series(orbs[i].fundamental[1:])).diff()[w-1:-2])\n",
    "    ginis_diff_list += list(np.diff(ginis_ot[i]))[w-2:]\n",
    "    palmas_diff_list += list(np.diff(palmas_ot[i]))[w-2:]\n",
    "    twtw_diff_list += list(np.diff(twtws_ot[i]))[w-2:]\n",
    "    \n",
    "    ginis_ot_list += list(ginis_ot[i])[w-1:]\n",
    "    palmas_ot_list += list(palmas_ot[i])[w-1:]\n",
    "    twtw_ot_list += list(twtws_ot[i])[w-1:]"
   ]
  },
  {
   "cell_type": "code",
   "execution_count": 114,
   "metadata": {},
   "outputs": [],
   "source": [
    "data_ineq = pd.DataFrame({'stdev_p': volList, 'delta_p': delta_P_list, \n",
    "                          'delta_gini': ginis_diff_list, 'delta_palma': palmas_diff_list, 'delta_twtw': palmas_diff_list,\n",
    "                         'gini': ginis_ot_list, 'palma': palmas_ot_list, 'twtw': twtw_ot_list})\n",
    "data_ineq['const'] = 1"
   ]
  },
  {
   "cell_type": "markdown",
   "metadata": {},
   "source": [
    "### 1 Higher inequality ... price to fundamentals variance \n",
    "\n",
    "$\\sigma^{pd} = \\alpha + \\beta X + \\epsilon$\n",
    "\n",
    "where X contains the inequality variables. \n",
    "\n",
    "TODO: \n",
    "\n",
    "1. add lambda \n",
    "2. add lag to inequality variables\n",
    "3. perform same regression for steady state\n"
   ]
  },
  {
   "cell_type": "code",
   "execution_count": 125,
   "metadata": {},
   "outputs": [],
   "source": [
    "# TODO  add lambda add lag to gini_palma_twtw: \n",
    "reg_wi = sm.OLS(endog=data_ineq['stdev_p'], exog=data_ineq[['const', 'gini', 'palma', 'twtw']], missing='drop').fit()"
   ]
  },
  {
   "cell_type": "code",
   "execution_count": 126,
   "metadata": {},
   "outputs": [
    {
     "name": "stdout",
     "output_type": "stream",
     "text": [
      "       Table - OLS Regressions\n",
      "=====================================\n",
      "                     stdev price     \n",
      "-------------------------------------\n",
      "const            0.0007              \n",
      "                 (0.0016)            \n",
      "gini             0.1378***           \n",
      "                 (0.0255)            \n",
      "palma            -0.0314***          \n",
      "                 (0.0044)            \n",
      "twtw             -0.0013***          \n",
      "                 (0.0005)            \n",
      "R-squared        0.003346236376229883\n",
      "No. observations 21150               \n",
      "=====================================\n",
      "Standard errors in parentheses.\n",
      "* p<.1, ** p<.05, ***p<.01\n"
     ]
    }
   ],
   "source": [
    "info_dict={'R-squared' : lambda x: \"{}\".format(x.rsquared), \n",
    "           'No. observations' : lambda x: \"{}\".format(int(x.nobs))}\n",
    "\n",
    "results_table = summary_col(results=[reg_wi],\n",
    "                            float_format='%0.4f',\n",
    "                            stars = True,\n",
    "                            model_names=['stdev price'],\n",
    "                            info_dict=info_dict,\n",
    "                            regressor_order=['const', 'gini', 'palma', 'twtw'])\n",
    "\n",
    "results_table.add_title('Table - OLS Regressions')\n",
    "\n",
    "print(results_table)"
   ]
  },
  {
   "cell_type": "code",
   "execution_count": null,
   "metadata": {},
   "outputs": [],
   "source": []
  },
  {
   "cell_type": "markdown",
   "metadata": {},
   "source": [
    "## 2 higher inequality associated with more or less price variance. Share trend following? \n",
    "\n",
    "$c = \\alpha + \\beta_1 \\sigma^{pd} + \\beta_2 \\delta^{pd} + \\epsilon $"
   ]
  },
  {
   "cell_type": "code",
   "execution_count": null,
   "metadata": {},
   "outputs": [],
   "source": []
  },
  {
   "cell_type": "code",
   "execution_count": 122,
   "metadata": {},
   "outputs": [],
   "source": [
    "# add lambda? \n",
    "reg1_wi = sm.OLS(endog=data_ineq['delta_gini'], exog=data_ineq[['const', 'stdev_p', 'delta_p']], missing='drop').fit()\n",
    "reg2_wi = sm.OLS(endog=data_ineq['delta_palma'], exog=data_ineq[['const', 'stdev_p', 'delta_p']], missing='drop').fit()\n",
    "reg3_wi = sm.OLS(endog=data_ineq['delta_twtw'], exog=data_ineq[['const', 'stdev_p', 'delta_p']], missing='drop').fit()"
   ]
  },
  {
   "cell_type": "code",
   "execution_count": 123,
   "metadata": {},
   "outputs": [
    {
     "name": "stdout",
     "output_type": "stream",
     "text": [
      "                             Table - OLS Regressions\n",
      "==================================================================================\n",
      "                          Gini                 Palma                 20-20        \n",
      "----------------------------------------------------------------------------------\n",
      "const            0.2439***             0.0001***             0.0001***            \n",
      "                 (0.0001)              (0.0000)              (0.0000)             \n",
      "stdev_p          -0.0615***            -0.0070***            -0.0070***           \n",
      "                 (0.0152)              (0.0026)              (0.0026)             \n",
      "delta_p          0.0281***             -0.0067***            -0.0067***           \n",
      "                 (0.0084)              (0.0014)              (0.0014)             \n",
      "R-squared        0.0012955965609793285 0.0014139741737344558 0.0014139741737344558\n",
      "No. observations 21150                 21150                 21150                \n",
      "==================================================================================\n",
      "Standard errors in parentheses.\n",
      "* p<.1, ** p<.05, ***p<.01\n"
     ]
    }
   ],
   "source": [
    "info_dict={'R-squared' : lambda x: \"{}\".format(x.rsquared), \n",
    "           'No. observations' : lambda x: \"{}\".format(int(x.nobs))}\n",
    "\n",
    "results_table = summary_col(results=[reg1_wi, reg2_wi, reg3_wi],\n",
    "                            float_format='%0.4f',\n",
    "                            stars = True,\n",
    "                            model_names=['Gini', 'Palma', '20-20'],\n",
    "                            info_dict=info_dict,\n",
    "                            regressor_order=['const', 'stdev_p', 'delta_p'])\n",
    "\n",
    "results_table.add_title('Table - OLS Regressions')\n",
    "\n",
    "print(results_table)"
   ]
  },
  {
   "cell_type": "code",
   "execution_count": null,
   "metadata": {},
   "outputs": [],
   "source": []
  },
  {
   "cell_type": "markdown",
   "metadata": {},
   "source": [
    "## A2 Long-baseline model"
   ]
  },
  {
   "cell_type": "code",
   "execution_count": 127,
   "metadata": {},
   "outputs": [],
   "source": [
    "NRUNS = 2"
   ]
  },
  {
   "cell_type": "code",
   "execution_count": 128,
   "metadata": {},
   "outputs": [],
   "source": [
    "params['ticks'] = 10000#0"
   ]
  },
  {
   "cell_type": "code",
   "execution_count": 129,
   "metadata": {},
   "outputs": [
    {
     "data": {
      "text/plain": [
       "{'ticks': 10000,\n",
       " 'fundamental_value': 166,\n",
       " 'n_traders': 500,\n",
       " 'std_fundamental': 0.0530163128919286,\n",
       " 'spread_max': 0.004087,\n",
       " 'init_stocks': 50,\n",
       " 'trader_sample_size': 19,\n",
       " 'horizon': 100,\n",
       " 'trades_per_tick': 3,\n",
       " 'std_noise': 0.15863974,\n",
       " 'w_random': 0.056454,\n",
       " 'strat_share_chartists': 0.20454462,\n",
       " 'base_risk_aversion': 6.05054016,\n",
       " 'fundamentalist_horizon_multiplier': 2.22042767,\n",
       " 'mutation_intensity': 0.47684635,\n",
       " 'average_learning_ability': 0.9962696}"
      ]
     },
     "execution_count": 129,
     "metadata": {},
     "output_type": "execute_result"
    }
   ],
   "source": [
    "params"
   ]
  },
  {
   "cell_type": "code",
   "execution_count": 130,
   "metadata": {},
   "outputs": [
    {
     "name": "stdout",
     "output_type": "stream",
     "text": [
      "Start of simulation  0\n",
      "Start of simulation  1\n"
     ]
    }
   ],
   "source": [
    "trdrs = []\n",
    "orbs = []\n",
    "for seed in range(NRUNS): \n",
    "    traders, orderbook = init_objects_distr(params, seed)\n",
    "    traders, orderbook = pb_distr_model(traders, orderbook, params, seed)\n",
    "    trdrs.append(traders)\n",
    "    orbs.append(orderbook)"
   ]
  },
  {
   "cell_type": "code",
   "execution_count": 131,
   "metadata": {},
   "outputs": [],
   "source": [
    "mc_prices, mc_returns, mc_autocorr_returns, mc_autocorr_abs_returns, mc_volatility, mc_volume, mc_fundamentals = organise_data(orbs, burn_in_period=200)"
   ]
  },
  {
   "cell_type": "markdown",
   "metadata": {},
   "source": [
    "Establish confidence intervals:"
   ]
  },
  {
   "cell_type": "markdown",
   "metadata": {},
   "source": [
    "Identify sentiment:"
   ]
  },
  {
   "cell_type": "code",
   "execution_count": 146,
   "metadata": {},
   "outputs": [],
   "source": [
    "def market_sentiment_in_round(order_book, t):\n",
    "    return sum(np.array(order_book.sentiment_history[t]) / len(order_book.sentiment_history[t]))"
   ]
  },
  {
   "cell_type": "code",
   "execution_count": 147,
   "metadata": {},
   "outputs": [],
   "source": [
    "lower_c_price = []\n",
    "upper_c_price = []\n",
    "for row in range(len(mc_fundamentals)):\n",
    "    price_range = mc_prices.iloc[row] / mc_fundamentals.iloc[row]\n",
    "    lower, upper = confidence_interval(price_range, np.mean(price_range))\n",
    "    lower_c_price.append(lower)\n",
    "    upper_c_price.append(upper)"
   ]
  },
  {
   "cell_type": "markdown",
   "metadata": {},
   "source": [
    "Identify sentiment "
   ]
  },
  {
   "cell_type": "code",
   "execution_count": 148,
   "metadata": {},
   "outputs": [],
   "source": [
    "# what do I need, average sentiment + confidence intervals\n",
    "av_fundamentalist_sentiment = []\n",
    "lo_fundamentalist_sentiment = []\n",
    "up_fundamentalist_sentiment = []\n",
    "\n",
    "av_trend_sentiment = []\n",
    "lo_trend_sentiment = []\n",
    "up_trend_sentiment = []\n",
    "\n",
    "av_random_sentiment = []\n",
    "lo_random_sentiment = []\n",
    "up_random_sentiment = []\n",
    "\n",
    "av_lambda = []\n",
    "lo_lambda = []\n",
    "up_lambda = []\n",
    "\n",
    "for t in range(len(orbs[0].sentiment_history)):\n",
    "    sentiment = []\n",
    "    for orderb in orbs:\n",
    "        sentiment.append(market_sentiment_in_round(orderb, t))\n",
    "    f_sents = [s[0] for s in sentiment]\n",
    "    c_sents = [s[1] for s in sentiment]\n",
    "    r_sents = [s[2] for s in sentiment]\n",
    "    lmbda = np.array([c_sents]) / (np.array([c_sents]) + np.array([f_sents]))\n",
    "    # calculate the average and conf intervals\n",
    "    av_fundamentalist_sentiment.append(np.mean(f_sents))\n",
    "    low, up = confidence_interval(f_sents, np.mean(f_sents))\n",
    "    lo_fundamentalist_sentiment.append(low)\n",
    "    up_fundamentalist_sentiment.append(up)\n",
    "    \n",
    "    av_trend_sentiment.append(np.mean(c_sents))\n",
    "    low, up = confidence_interval(c_sents, np.mean(c_sents))\n",
    "    lo_trend_sentiment.append(low)\n",
    "    up_trend_sentiment.append(up)\n",
    "    \n",
    "    av_random_sentiment.append(np.mean(r_sents))\n",
    "    low, up = confidence_interval(r_sents, np.mean(r_sents))\n",
    "    lo_random_sentiment.append(low)\n",
    "    up_random_sentiment.append(up)\n",
    "    \n",
    "    av_lambda.append(np.mean(lmbda))\n",
    "    low, up = confidence_interval(lmbda, np.mean(lmbda))\n",
    "    lo_lambda.append(low)\n",
    "    up_lambda.append(up)"
   ]
  },
  {
   "cell_type": "markdown",
   "metadata": {},
   "source": [
    "Identify individual agent wealth changes"
   ]
  },
  {
   "cell_type": "code",
   "execution_count": 149,
   "metadata": {},
   "outputs": [],
   "source": [
    "wealth_starts = []\n",
    "wealth_ends = []\n",
    "ginis_ot = []\n",
    "palmas_ot = []\n",
    "twtws_ot = []\n",
    "risk_aversions = []\n",
    "horizons = []\n",
    "learning_abilities = []\n",
    "chartist_expectations = []\n",
    "fundamentalist_expectations = []\n",
    "profits = []\n",
    "real_profits = []\n",
    "market_returns = []\n",
    "\n",
    "# determine the start and end wealth of the bubble\n",
    "for seed, traders in enumerate(trdrs):\n",
    "    money_start = np.array([x.var.money[0] for x in traders])\n",
    "    stocks_start = np.array([x.var.stocks[0] for x in traders])\n",
    "    wealth_start = money_start + (stocks_start * orbs[seed].tick_close_price[0])\n",
    "\n",
    "    money_end = np.array([x.var.money[-1] for x in traders])\n",
    "    stocks_end = np.array([x.var.stocks[-1] for x in traders])\n",
    "    wealth_end = money_end + (stocks_end * orbs[seed].tick_close_price[-1])\n",
    "    \n",
    "    # profits\n",
    "    profits.append((np.array(wealth_end) - np.array(wealth_start)) / np.array(wealth_start))\n",
    "    real_profits.append(np.array(wealth_end) - np.array(wealth_start))\n",
    "    market_returns.append([(orbs[seed].tick_close_price[-1] - orbs[seed].tick_close_price[0]) / orbs[seed].tick_close_price[0] for x in range(len(wealth_start))])\n",
    "\n",
    "    # determine characteristics of the agents\n",
    "    risk_aversions.append([x.par.risk_aversion for x in traders])\n",
    "    horizons.append([x.par.horizon for x in traders])\n",
    "    learning_abilities.append([x.par.learning_ability for x in traders])\n",
    "    chartist_expectations.append([x.var.weight_chartist[: ] for x in traders])\n",
    "    fundamentalist_expectations.append([x.var.weight_fundamentalist[:] for x in traders])\n",
    "\n",
    "    wealth_gini_over_time = []\n",
    "    palma_over_time = []\n",
    "    twentytwenty_over_time = []\n",
    "    for t in range(params['ticks']):\n",
    "        money = np.array([x.var.money[t] for x in traders])\n",
    "        stocks = np.array([x.var.stocks[t] for x in traders])\n",
    "        wealth = money + (stocks * orbs[seed].tick_close_price[0])\n",
    "\n",
    "        share_top_10 = sum(np.sort(wealth)[int(len(wealth) * 0.9):]) / sum(wealth)\n",
    "        share_bottom_40 = sum(np.sort(wealth)[:int(len(wealth) * 0.4)]) / sum(wealth)\n",
    "        palma_over_time.append(share_top_10 / share_bottom_40)\n",
    "\n",
    "        share_top_20 = np.mean(np.sort(wealth)[int(len(wealth) * 0.8):])\n",
    "        share_bottom_20 = np.mean(np.sort(wealth)[:int(len(wealth) * 0.2)])\n",
    "        twentytwenty_over_time.append(share_top_20 / share_bottom_20)\n",
    "\n",
    "        wealth_gini_over_time.append(gini(wealth))\n",
    "\n",
    "    wealth_starts.append(list(wealth_start))\n",
    "    wealth_ends.append(list(wealth_end))\n",
    "    ginis_ot.append(wealth_gini_over_time)\n",
    "    palmas_ot.append(palma_over_time)\n",
    "    twtws_ot.append(twentytwenty_over_time)"
   ]
  },
  {
   "cell_type": "code",
   "execution_count": 150,
   "metadata": {},
   "outputs": [
    {
     "data": {
      "text/plain": [
       "2"
      ]
     },
     "execution_count": 150,
     "metadata": {},
     "output_type": "execute_result"
    }
   ],
   "source": [
    "len(ginis_ot)"
   ]
  },
  {
   "cell_type": "code",
   "execution_count": 151,
   "metadata": {},
   "outputs": [],
   "source": [
    "# first, order all profits, then get average profit and conf intervals \n",
    "av_ordered_profits = []\n",
    "lcf_ordered_profits = []\n",
    "ucf_ordered_profits = []\n",
    "\n",
    "ordered_profits = [pd.Series(pr).sort_values() for pr in profits]\n",
    "for a in range(len(ordered_profits[0])):\n",
    "    a_profits = [list(p)[a] for p in ordered_profits]\n",
    "    av_ordered_profits.append(np.mean(a_profits))\n",
    "    low, up = confidence_interval(a_profits, np.mean(a_profits))\n",
    "    lcf_ordered_profits.append(low)\n",
    "    ucf_ordered_profits.append(up)"
   ]
  },
  {
   "cell_type": "markdown",
   "metadata": {},
   "source": [
    "Calculate the inequality stats Gini, Palma, and Twenty-twenty"
   ]
  },
  {
   "cell_type": "code",
   "execution_count": 152,
   "metadata": {},
   "outputs": [],
   "source": [
    "av_gini_ot = []\n",
    "low_gini_ot = []\n",
    "up_gini_ot = []\n",
    "\n",
    "av_palma_ot = []\n",
    "low_palma_ot = []\n",
    "up_palma_ot = []\n",
    "\n",
    "av_twtw_ot = []\n",
    "low_twtw_ot = []\n",
    "up_twtw_ot = []\n",
    "\n",
    "for t in range(burn_in_period, params['ticks']):\n",
    "    t_gini = [g[t] for g in ginis_ot]\n",
    "    av_gini_ot.append(np.mean(t_gini))\n",
    "    low, up = confidence_interval(t_gini, np.mean(t_gini))\n",
    "    low_gini_ot.append(low)\n",
    "    up_gini_ot.append(up)\n",
    "\n",
    "    t_palma = [p[t] for p in palmas_ot]\n",
    "    av_palma_ot.append(np.mean(t_palma))\n",
    "    low, up = confidence_interval(t_palma, np.mean(t_palma))\n",
    "    low_palma_ot.append(low)\n",
    "    up_palma_ot.append(up)\n",
    "    \n",
    "    t_twtw = [tw[t] for tw in twtws_ot]\n",
    "    av_twtw_ot.append(np.mean(t_twtw))\n",
    "    low, up = confidence_interval(t_twtw, np.mean(t_twtw))\n",
    "    low_twtw_ot.append(low)\n",
    "    up_twtw_ot.append(up)"
   ]
  },
  {
   "cell_type": "code",
   "execution_count": 153,
   "metadata": {},
   "outputs": [],
   "source": [
    "lower_c_price = []\n",
    "upper_c_price = []\n",
    "for row in range(len(mc_fundamentals)):\n",
    "    price_range = mc_prices.iloc[row] / mc_fundamentals.iloc[row]\n",
    "    lower, upper = confidence_interval(price_range, np.mean(price_range))\n",
    "    lower_c_price.append(lower)\n",
    "    upper_c_price.append(upper)"
   ]
  },
  {
   "cell_type": "markdown",
   "metadata": {},
   "source": [
    "Identify sentiment "
   ]
  },
  {
   "cell_type": "code",
   "execution_count": 154,
   "metadata": {},
   "outputs": [],
   "source": [
    "# what do I need, average sentiment + confidence intervals\n",
    "av_fundamentalist_sentiment = []\n",
    "lo_fundamentalist_sentiment = []\n",
    "up_fundamentalist_sentiment = []\n",
    "\n",
    "av_trend_sentiment = []\n",
    "lo_trend_sentiment = []\n",
    "up_trend_sentiment = []\n",
    "\n",
    "av_random_sentiment = []\n",
    "lo_random_sentiment = []\n",
    "up_random_sentiment = []\n",
    "\n",
    "av_lambda = []\n",
    "lo_lambda = []\n",
    "up_lambda = []\n",
    "\n",
    "for t in range(len(orbs[0].sentiment_history)):\n",
    "    sentiment = []\n",
    "    for orderb in orbs:\n",
    "        sentiment.append(market_sentiment_in_round(orderb, t))\n",
    "    f_sents = [s[0] for s in sentiment]\n",
    "    c_sents = [s[1] for s in sentiment]\n",
    "    r_sents = [s[2] for s in sentiment]\n",
    "    lmbda = np.array([c_sents]) / (np.array([c_sents]) + np.array([f_sents]))\n",
    "    # calculate the average and conf intervals\n",
    "    av_fundamentalist_sentiment.append(np.mean(f_sents))\n",
    "    low, up = confidence_interval(f_sents, np.mean(f_sents))\n",
    "    lo_fundamentalist_sentiment.append(low)\n",
    "    up_fundamentalist_sentiment.append(up)\n",
    "    \n",
    "    av_trend_sentiment.append(np.mean(c_sents))\n",
    "    low, up = confidence_interval(c_sents, np.mean(c_sents))\n",
    "    lo_trend_sentiment.append(low)\n",
    "    up_trend_sentiment.append(up)\n",
    "    \n",
    "    av_random_sentiment.append(np.mean(r_sents))\n",
    "    low, up = confidence_interval(r_sents, np.mean(r_sents))\n",
    "    lo_random_sentiment.append(low)\n",
    "    up_random_sentiment.append(up)\n",
    "    \n",
    "    av_lambda.append(np.mean(lmbda))\n",
    "    low, up = confidence_interval(lmbda, np.mean(lmbda))\n",
    "    lo_lambda.append(low)\n",
    "    up_lambda.append(up)"
   ]
  },
  {
   "cell_type": "code",
   "execution_count": 9,
   "metadata": {},
   "outputs": [],
   "source": [
    "def confidence_interval(data, av):\n",
    "    sample_stdev = np.std(data)\n",
    "    sigma = sample_stdev/math.sqrt(len(data))\n",
    "    return stats.t.interval(alpha = 0.95, df= 24, loc=av, scale=sigma) "
   ]
  },
  {
   "cell_type": "code",
   "execution_count": 10,
   "metadata": {},
   "outputs": [],
   "source": [
    "lower_c_price = []\n",
    "upper_c_price = []\n",
    "for row in range(len(mc_fundamentals)):\n",
    "    price_range = mc_prices.iloc[row] / mc_fundamentals.iloc[row]\n",
    "    lower, upper = confidence_interval(price_range, np.mean(price_range))\n",
    "    lower_c_price.append(lower)\n",
    "    upper_c_price.append(upper)"
   ]
  },
  {
   "cell_type": "markdown",
   "metadata": {},
   "source": [
    "Identify sentiment "
   ]
  },
  {
   "cell_type": "code",
   "execution_count": 11,
   "metadata": {},
   "outputs": [],
   "source": [
    "def market_sentiment_in_round(order_book, t):\n",
    "    return sum(np.array(order_book.sentiment_history[t]) / len(order_book.sentiment_history[t]))"
   ]
  },
  {
   "cell_type": "code",
   "execution_count": 12,
   "metadata": {},
   "outputs": [],
   "source": [
    "# what do I need, average sentiment + confidence intervals\n",
    "av_fundamentalist_sentiment = []\n",
    "lo_fundamentalist_sentiment = []\n",
    "up_fundamentalist_sentiment = []\n",
    "\n",
    "av_trend_sentiment = []\n",
    "lo_trend_sentiment = []\n",
    "up_trend_sentiment = []\n",
    "\n",
    "av_random_sentiment = []\n",
    "lo_random_sentiment = []\n",
    "up_random_sentiment = []\n",
    "\n",
    "av_lambda = []\n",
    "lo_lambda = []\n",
    "up_lambda = []\n",
    "\n",
    "for t in range(len(orbs[0].sentiment_history)):\n",
    "    sentiment = []\n",
    "    for orderb in orbs:\n",
    "        sentiment.append(market_sentiment_in_round(orderb, t))\n",
    "    f_sents = [s[0] for s in sentiment]\n",
    "    c_sents = [s[1] for s in sentiment]\n",
    "    r_sents = [s[2] for s in sentiment]\n",
    "    lmbda = np.array([c_sents]) / (np.array([c_sents]) + np.array([f_sents]))\n",
    "    # calculate the average and conf intervals\n",
    "    av_fundamentalist_sentiment.append(np.mean(f_sents))\n",
    "    low, up = confidence_interval(f_sents, np.mean(f_sents))\n",
    "    lo_fundamentalist_sentiment.append(low)\n",
    "    up_fundamentalist_sentiment.append(up)\n",
    "    \n",
    "    av_trend_sentiment.append(np.mean(c_sents))\n",
    "    low, up = confidence_interval(c_sents, np.mean(c_sents))\n",
    "    lo_trend_sentiment.append(low)\n",
    "    up_trend_sentiment.append(up)\n",
    "    \n",
    "    av_random_sentiment.append(np.mean(r_sents))\n",
    "    low, up = confidence_interval(r_sents, np.mean(r_sents))\n",
    "    lo_random_sentiment.append(low)\n",
    "    up_random_sentiment.append(up)\n",
    "    \n",
    "    av_lambda.append(np.mean(lmbda))\n",
    "    low, up = confidence_interval(lmbda, np.mean(lmbda))\n",
    "    lo_lambda.append(low)\n",
    "    up_lambda.append(up)"
   ]
  },
  {
   "cell_type": "markdown",
   "metadata": {},
   "source": [
    "Identify individual agent wealth changes"
   ]
  },
  {
   "cell_type": "code",
   "execution_count": 13,
   "metadata": {},
   "outputs": [],
   "source": [
    "wealth_starts = []\n",
    "wealth_ends = []\n",
    "ginis_ot = []\n",
    "palmas_ot = []\n",
    "twtws_ot = []\n",
    "risk_aversions = []\n",
    "horizons = []\n",
    "learning_abilities = []\n",
    "chartist_expectations = []\n",
    "fundamentalist_expectations = []\n",
    "profits = []\n",
    "real_profits = []\n",
    "market_returns = []\n",
    "\n",
    "# determine the start and end wealth of the bubble\n",
    "for seed, traders in enumerate(trdrs):\n",
    "    money_start = np.array([x.var.money[0] for x in traders])\n",
    "    stocks_start = np.array([x.var.stocks[0] for x in traders])\n",
    "    wealth_start = money_start + (stocks_start * orbs[seed].tick_close_price[0])\n",
    "\n",
    "    money_end = np.array([x.var.money[-1] for x in traders])\n",
    "    stocks_end = np.array([x.var.stocks[-1] for x in traders])\n",
    "    wealth_end = money_end + (stocks_end * orbs[seed].tick_close_price[-1])\n",
    "    \n",
    "    # profits\n",
    "    profits.append((np.array(wealth_end) - np.array(wealth_start)) / np.array(wealth_start))\n",
    "    real_profits.append(np.array(wealth_end) - np.array(wealth_start))\n",
    "    market_returns.append([(orbs[seed].tick_close_price[-1] - orbs[seed].tick_close_price[0]) / orbs[seed].tick_close_price[0] for x in range(len(wealth_start))])\n",
    "\n",
    "    # determine characteristics of the agents\n",
    "    risk_aversions.append([x.par.risk_aversion for x in traders])\n",
    "    horizons.append([x.par.horizon for x in traders])\n",
    "    learning_abilities.append([x.par.learning_ability for x in traders])\n",
    "    chartist_expectations.append([x.var.weight_chartist[: ] for x in traders])\n",
    "    fundamentalist_expectations.append([x.var.weight_fundamentalist[:] for x in traders])\n",
    "\n",
    "    wealth_gini_over_time = []\n",
    "    palma_over_time = []\n",
    "    twentytwenty_over_time = []\n",
    "    for t in range(params['ticks']):\n",
    "        money = np.array([x.var.money[t] for x in traders])\n",
    "        stocks = np.array([x.var.stocks[t] for x in traders])\n",
    "        wealth = money + (stocks * orbs[seed].tick_close_price[t]) #changed this\n",
    "\n",
    "        share_top_10 = sum(np.sort(wealth)[int(len(wealth) * 0.9):]) / sum(wealth)\n",
    "        share_bottom_40 = sum(np.sort(wealth)[:int(len(wealth) * 0.4)]) / sum(wealth)\n",
    "        palma_over_time.append(share_top_10 / share_bottom_40)\n",
    "\n",
    "        share_top_20 = np.mean(np.sort(wealth)[int(len(wealth) * 0.8):])\n",
    "        share_bottom_20 = np.mean(np.sort(wealth)[:int(len(wealth) * 0.2)])\n",
    "        twentytwenty_over_time.append(share_top_20 / share_bottom_20)\n",
    "\n",
    "        wealth_gini_over_time.append(gini(wealth))\n",
    "\n",
    "    wealth_starts.append(list(wealth_start))\n",
    "    wealth_ends.append(list(wealth_end))\n",
    "    ginis_ot.append(wealth_gini_over_time)\n",
    "    palmas_ot.append(palma_over_time)\n",
    "    twtws_ot.append(twentytwenty_over_time)"
   ]
  },
  {
   "cell_type": "code",
   "execution_count": 14,
   "metadata": {},
   "outputs": [
    {
     "data": {
      "text/plain": [
       "25"
      ]
     },
     "execution_count": 14,
     "metadata": {},
     "output_type": "execute_result"
    }
   ],
   "source": [
    "len(ginis_ot)"
   ]
  },
  {
   "cell_type": "code",
   "execution_count": 15,
   "metadata": {},
   "outputs": [],
   "source": [
    "# first, order all profits, then get average profit and conf intervals \n",
    "av_ordered_profits = []\n",
    "lcf_ordered_profits = []\n",
    "ucf_ordered_profits = []\n",
    "\n",
    "ordered_profits = [pd.Series(pr).sort_values() for pr in profits]\n",
    "for a in range(len(ordered_profits[0])):\n",
    "    a_profits = [list(p)[a] for p in ordered_profits]\n",
    "    av_ordered_profits.append(np.mean(a_profits))\n",
    "    low, up = confidence_interval(a_profits, np.mean(a_profits))\n",
    "    lcf_ordered_profits.append(low)\n",
    "    ucf_ordered_profits.append(up)"
   ]
  },
  {
   "cell_type": "markdown",
   "metadata": {},
   "source": [
    "Import all bubbles, and identify wins and losses "
   ]
  },
  {
   "cell_type": "markdown",
   "metadata": {},
   "source": [
    "Calculate the inequality stats Gini, Palma, and Twenty-twenty"
   ]
  },
  {
   "cell_type": "code",
   "execution_count": 165,
   "metadata": {},
   "outputs": [],
   "source": [
    "av_gini_ot = []\n",
    "low_gini_ot = []\n",
    "up_gini_ot = []\n",
    "\n",
    "av_palma_ot = []\n",
    "low_palma_ot = []\n",
    "up_palma_ot = []\n",
    "\n",
    "av_twtw_ot = []\n",
    "low_twtw_ot = []\n",
    "up_twtw_ot = []\n",
    "\n",
    "for t in range(burn_in_period, params['ticks']):\n",
    "    t_gini = [g[t] for g in ginis_ot]\n",
    "    av_gini_ot.append(np.mean(t_gini))\n",
    "    low, up = confidence_interval(t_gini, np.mean(t_gini))\n",
    "    low_gini_ot.append(low)\n",
    "    up_gini_ot.append(min(up, 1))\n",
    "\n",
    "    t_palma = [p[t] for p in palmas_ot]\n",
    "    av_palma_ot.append(np.mean(t_palma))\n",
    "    low, up = confidence_interval(t_palma, np.mean(t_palma))\n",
    "    low_palma_ot.append(max(low, 0))\n",
    "    up_palma_ot.append(up)\n",
    "    \n",
    "    t_twtw = [tw[t] for tw in twtws_ot]\n",
    "    av_twtw_ot.append(np.mean(t_twtw))\n",
    "    low, up = confidence_interval(t_twtw, np.mean(t_twtw))\n",
    "    low_twtw_ot.append(max(low, 0))\n",
    "    up_twtw_ot.append(up)"
   ]
  },
  {
   "cell_type": "markdown",
   "metadata": {},
   "source": [
    "### Summarize data\n",
    "\n",
    "Summary of price data:"
   ]
  },
  {
   "cell_type": "code",
   "execution_count": 159,
   "metadata": {},
   "outputs": [
    {
     "data": {
      "text/plain": [
       "count    9802.000000\n",
       "mean      165.889063\n",
       "std        28.075910\n",
       "min        88.699672\n",
       "25%       158.874944\n",
       "50%       163.478896\n",
       "75%       168.348602\n",
       "max       560.826666\n",
       "dtype: float64"
      ]
     },
     "execution_count": 159,
     "metadata": {},
     "output_type": "execute_result"
    }
   ],
   "source": [
    "mc_prices.mean(axis=1).describe()"
   ]
  },
  {
   "cell_type": "code",
   "execution_count": 139,
   "metadata": {},
   "outputs": [
    {
     "name": "stdout",
     "output_type": "stream",
     "text": [
      "Kurtosis =  89.8593884682786\n",
      "Skew =  8.156680269038205\n"
     ]
    }
   ],
   "source": [
    "print('Kurtosis = ', pd.Series(mc_prices.mean(axis=1)).kurt())\n",
    "print('Skew = ', pd.Series(mc_prices.mean(axis=1)).skew())"
   ]
  },
  {
   "cell_type": "markdown",
   "metadata": {},
   "source": [
    "Summary of profit data: "
   ]
  },
  {
   "cell_type": "code",
   "execution_count": 140,
   "metadata": {},
   "outputs": [
    {
     "data": {
      "text/plain": [
       "count    500.000000\n",
       "mean       0.049156\n",
       "std       10.844402\n",
       "min       -0.942824\n",
       "25%       -0.787021\n",
       "50%       -0.648004\n",
       "75%       -0.434119\n",
       "max      240.964047\n",
       "dtype: float64"
      ]
     },
     "execution_count": 140,
     "metadata": {},
     "output_type": "execute_result"
    }
   ],
   "source": [
    "pd.Series(av_ordered_profits).describe()"
   ]
  },
  {
   "cell_type": "code",
   "execution_count": 141,
   "metadata": {},
   "outputs": [
    {
     "name": "stdout",
     "output_type": "stream",
     "text": [
      "Kurtosis =  491.0186056520602\n",
      "Skew =  22.06649382946858\n"
     ]
    }
   ],
   "source": [
    "print('Kurtosis = ', pd.Series(av_ordered_profits).kurt())\n",
    "print('Skew = ', pd.Series(av_ordered_profits).skew())"
   ]
  },
  {
   "cell_type": "markdown",
   "metadata": {},
   "source": [
    "### Plot"
   ]
  },
  {
   "cell_type": "code",
   "execution_count": 142,
   "metadata": {},
   "outputs": [],
   "source": [
    "burn_in_period = 0"
   ]
  },
  {
   "cell_type": "code",
   "execution_count": 167,
   "metadata": {},
   "outputs": [
    {
     "data": {
      "image/png": "[encoded data removed]",
      "text/plain": [
       "<Figure size 1080x576 with 6 Axes>"
      ]
     },
     "metadata": {
      "needs_background": "light"
     },
     "output_type": "display_data"
    }
   ],
   "source": [
    "fig, ((ax1, ax2, ax3),(ax4, ax5, ax6)) = plt.subplots(2, 3, figsize=(15,8))\n",
    "\n",
    "#ax1.plot(mc_fundamentals.index, mc_fundamentals.mean(axis=1), label='Fundamental')\n",
    "ax1.plot(mc_prices.index, (mc_prices.mean(axis=1) / mc_fundamentals.mean(axis=1))[:], label='Market')\n",
    "ax1.plot(mc_prices.index[:-1], lower_c_price, 'k--')\n",
    "ax1.plot(mc_prices.index[:-1], upper_c_price, 'k--')\n",
    "\n",
    "ax1.set_ylabel('Price to Fundamental', fontsize='12')\n",
    "\n",
    "ax2.plot(range(len(av_lambda[burn_in_period:])), av_lambda[burn_in_period:])\n",
    "ax2.plot(range(len(av_lambda[burn_in_period:])), lo_lambda[burn_in_period:], 'k--')\n",
    "ax2.plot(range(len(av_lambda[burn_in_period:])), up_lambda[burn_in_period:], 'k--')\n",
    "ax2.set_ylabel('Share trend-following', fontsize='12')\n",
    "\n",
    "ax3.plot(range(len(av_ordered_profits)), av_ordered_profits)\n",
    "ax3.plot(range(len(av_ordered_profits)), ucf_ordered_profits, 'k--')\n",
    "ax3.plot(range(len(av_ordered_profits)), lcf_ordered_profits, 'k--')\n",
    "ax3.set_ylabel('Relative profit', fontsize='12')\n",
    "\n",
    "ax4.plot(range(len(av_gini_ot[:])), av_gini_ot[:])\n",
    "ax4.plot(range(len(low_gini_ot[:])), low_gini_ot[:], 'k--')\n",
    "ax4.plot(range(len(up_gini_ot[:])), up_gini_ot[:], 'k--')\n",
    "ax4.set_ylabel('Gini', fontsize='12')\n",
    "\n",
    "ax5.plot(range(len(av_gini_ot[:])), av_palma_ot[:])\n",
    "ax5.plot(range(len(low_gini_ot[:])), low_palma_ot[:], 'k--')\n",
    "ax5.plot(range(len(up_gini_ot[:])), up_palma_ot[:], 'k--')\n",
    "ax5.set_ylabel('Palma', fontsize='12')\n",
    "\n",
    "ax6.plot(range(len(av_gini_ot[:])), av_twtw_ot[:])\n",
    "ax6.plot(range(len(low_gini_ot[:])), low_twtw_ot[:], 'k--')\n",
    "ax6.plot(range(len(up_gini_ot[:])), up_twtw_ot[:], 'k--')\n",
    "ax6.set_ylabel('20-20', fontsize='12')\n",
    "\n",
    "for ax in (ax1, ax2, ax4, ax5, ax6):\n",
    "    ax.set_xlabel('Simulation time', fontsize='14')\n",
    "    \n",
    "ax3.set_xlabel('Agents', fontsize='14')\n",
    "\n",
    "fig.savefig('long_baseline_dynamics.png', dpi=200, bbox_inches = 'tight', pad_inches = 0)"
   ]
  },
  {
   "cell_type": "markdown",
   "metadata": {},
   "source": [
    "## Correlation structure: \n",
    "\n"
   ]
  },
  {
   "cell_type": "code",
   "execution_count": 226,
   "metadata": {},
   "outputs": [],
   "source": [
    "w = 5"
   ]
  },
  {
   "cell_type": "code",
   "execution_count": 227,
   "metadata": {},
   "outputs": [],
   "source": [
    "volList = []\n",
    "delta_P_list = []\n",
    "\n",
    "ginis_diff_list = []\n",
    "palmas_diff_list = []\n",
    "twtw_diff_list = []\n",
    "\n",
    "ginis_ot_list = []\n",
    "palmas_ot_list = []\n",
    "twtw_ot_list = []\n",
    "for i in range(len(orbs)):\n",
    "    volList += list((pd.Series(orbs[i].tick_close_price) / pd.Series(orbs[i].fundamental[1:])).rolling(w).std(ddof=0)[w-1:-2].shift(w*2))\n",
    "    delta_P_list += list((pd.Series(orbs[i].tick_close_price) / pd.Series(orbs[i].fundamental[1:])).diff()[w-1:-2])\n",
    "    ginis_diff_list += list(np.diff(ginis_ot[i]))[w-2:]\n",
    "    palmas_diff_list += list(np.diff(palmas_ot[i]))[w-2:]\n",
    "    twtw_diff_list += list(np.diff(twtws_ot[i]))[w-2:]\n",
    "    \n",
    "    ginis_ot_list += list(ginis_ot[i])[w-1:]\n",
    "    palmas_ot_list += list(palmas_ot[i])[w-1:]\n",
    "    twtw_ot_list += list(twtws_ot[i])[w-1:]"
   ]
  },
  {
   "cell_type": "code",
   "execution_count": 228,
   "metadata": {},
   "outputs": [],
   "source": [
    "data_ineq = pd.DataFrame({'stdev_p': volList, 'delta_p': delta_P_list, \n",
    "                          'delta_gini': ginis_diff_list, 'delta_palma': palmas_diff_list, 'delta_twtw': palmas_diff_list,\n",
    "                         'gini': ginis_ot_list, 'palma': palmas_ot_list, 'twtw': twtw_ot_list})\n",
    "data_ineq['const'] = 1"
   ]
  },
  {
   "cell_type": "code",
   "execution_count": 229,
   "metadata": {},
   "outputs": [
    {
     "data": {
      "text/plain": [
       "19992"
      ]
     },
     "execution_count": 229,
     "metadata": {},
     "output_type": "execute_result"
    }
   ],
   "source": [
    "len(palmas_diff_list)"
   ]
  },
  {
   "cell_type": "code",
   "execution_count": null,
   "metadata": {},
   "outputs": [],
   "source": []
  },
  {
   "cell_type": "code",
   "execution_count": 236,
   "metadata": {},
   "outputs": [
    {
     "data": {
      "text/plain": [
       "<matplotlib.axes._subplots.AxesSubplot at 0x1e89eb27be0>"
      ]
     },
     "execution_count": 236,
     "metadata": {},
     "output_type": "execute_result"
    },
    {
     "data": {
      "image/png": "[encoded data removed]",
      "text/plain": [
       "<Figure size 432x288 with 1 Axes>"
      ]
     },
     "metadata": {
      "needs_background": "light"
     },
     "output_type": "display_data"
    }
   ],
   "source": [
    "(pd.Series(orbs[i].tick_close_price) / pd.Series(orbs[i].fundamental[1:])).rolling(w).std(ddof=0)[w-1:-2].shift(w*50).plot()"
   ]
  },
  {
   "cell_type": "markdown",
   "metadata": {},
   "source": [
    "### 1 Higher inequality ... price to fundamentals variance \n",
    "\n",
    "$\\sigma^{pd} = \\alpha + \\beta X + \\epsilon$\n",
    "\n",
    "where X contains the inequality variables. \n",
    "\n",
    "TODO: \n",
    "\n",
    "1. add lambda \n",
    "2. add lag to inequality variables\n",
    "3. perform same regression for steady state\n"
   ]
  },
  {
   "cell_type": "code",
   "execution_count": 230,
   "metadata": {},
   "outputs": [],
   "source": [
    "# what I want is the effect of gini, palma, twtw on volatility in the next periods. \n",
    "reg_wi = sm.OLS(endog=data_ineq['stdev_p'], exog=data_ineq[['const', 'gini', 'palma', 'twtw']], missing='drop').fit()"
   ]
  },
  {
   "cell_type": "code",
   "execution_count": 231,
   "metadata": {},
   "outputs": [
    {
     "data": {
      "text/plain": [
       "<matplotlib.collections.PathCollection at 0x1e8a42e85c0>"
      ]
     },
     "execution_count": 231,
     "metadata": {},
     "output_type": "execute_result"
    },
    {
     "data": {
      "image/png": "[encoded data removed]",
      "text/plain": [
       "<Figure size 576x288 with 1 Axes>"
      ]
     },
     "metadata": {
      "needs_background": "light"
     },
     "output_type": "display_data"
    }
   ],
   "source": [
    "fig, ax1 = plt.subplots(1, 1, figsize=[8,4])\n",
    "\n",
    "ax1.scatter(data_ineq['gini'], data_ineq['stdev_p'])"
   ]
  },
  {
   "cell_type": "code",
   "execution_count": 215,
   "metadata": {},
   "outputs": [
    {
     "name": "stdout",
     "output_type": "stream",
     "text": [
      "     Table - OLS Regressions\n",
      "==================================\n",
      "                  stdev price long\n",
      "----------------------------------\n",
      "const            0.1461***        \n",
      "                 (0.0048)         \n",
      "gini             -0.6126***       \n",
      "                 (0.0135)         \n",
      "palma            -0.0618***       \n",
      "                 (0.0004)         \n",
      "twtw             0.0281***        \n",
      "                 (0.0002)         \n",
      "R-squared        0.603343127847039\n",
      "No. observations 18802            \n",
      "==================================\n",
      "Standard errors in parentheses.\n",
      "* p<.1, ** p<.05, ***p<.01\n"
     ]
    }
   ],
   "source": [
    "info_dict={'R-squared' : lambda x: \"{}\".format(x.rsquared), \n",
    "           'No. observations' : lambda x: \"{}\".format(int(x.nobs))}\n",
    "\n",
    "results_table = summary_col(results=[reg_wi],\n",
    "                            float_format='%0.4f',\n",
    "                            stars = True,\n",
    "                            model_names=['stdev price long'],\n",
    "                            info_dict=info_dict,\n",
    "                            regressor_order=['const', 'gini', 'palma', 'twtw'])\n",
    "\n",
    "results_table.add_title('Table - OLS Regressions')\n",
    "\n",
    "print(results_table)"
   ]
  },
  {
   "cell_type": "markdown",
   "metadata": {},
   "source": [
    "# Experiment 1"
   ]
  },
  {
   "cell_type": "code",
   "execution_count": 8,
   "metadata": {},
   "outputs": [],
   "source": [
    "params['average_learning_ability'] = 0.0\n",
    "params['mutation_intensity'] = 0.0\n",
    "params['ticks'] = 450"
   ]
  },
  {
   "cell_type": "code",
   "execution_count": 9,
   "metadata": {},
   "outputs": [],
   "source": [
    "NRUNS = 5"
   ]
  },
  {
   "cell_type": "code",
   "execution_count": 10,
   "metadata": {},
   "outputs": [
    {
     "data": {
      "text/plain": [
       "[0.25, 0.5, 0.75, 1.0]"
      ]
     },
     "execution_count": 10,
     "metadata": {},
     "output_type": "execute_result"
    }
   ],
   "source": [
    "share_chartists = [x / 100.0 for x in range(25, 125, 25)]\n",
    "experiments = len(share_chartists)\n",
    "share_chartists"
   ]
  },
  {
   "cell_type": "code",
   "execution_count": 11,
   "metadata": {},
   "outputs": [
    {
     "name": "stdout",
     "output_type": "stream",
     "text": [
      "Start of simulation  0\n",
      "Start of simulation  1\n",
      "Start of simulation  2\n",
      "Start of simulation  3\n",
      "Start of simulation  4\n",
      "Start of simulation  0\n",
      "Start of simulation  1\n",
      "Start of simulation  2\n",
      "Start of simulation  3\n",
      "Start of simulation  4\n",
      "Start of simulation  0\n",
      "Start of simulation  1\n",
      "Start of simulation  2\n",
      "Start of simulation  3\n",
      "Start of simulation  4\n",
      "Start of simulation  0\n",
      "Start of simulation  1\n",
      "Start of simulation  2\n",
      "Start of simulation  3\n",
      "Start of simulation  4\n"
     ]
    }
   ],
   "source": [
    "trdrs = []\n",
    "orbs = []\n",
    "for exp in range(experiments):\n",
    "    params['strat_share_chartists'] = share_chartists[exp]\n",
    "    for seed in range(NRUNS): \n",
    "        traders, orderbook = init_objects_distr(params, seed)\n",
    "        traders, orderbook = pb_distr_model(traders, orderbook, params, seed)\n",
    "        trdrs.append(traders)\n",
    "        orbs.append(orderbook)"
   ]
  },
  {
   "cell_type": "code",
   "execution_count": 12,
   "metadata": {},
   "outputs": [],
   "source": [
    "full_share_chartists = []\n",
    "for exp in range(experiments):\n",
    "    for seed in range(NRUNS):\n",
    "        full_share_chartists.append(share_chartists[exp])"
   ]
  },
  {
   "cell_type": "markdown",
   "metadata": {},
   "source": [
    "## Split data into the four groups\n"
   ]
  },
  {
   "cell_type": "code",
   "execution_count": 13,
   "metadata": {},
   "outputs": [],
   "source": [
    "all_trdrs = []\n",
    "all_orbs = []\n",
    "for exp in range(experiments):\n",
    "    all_trdrs.append(trdrs[exp * 5:exp * 5 + 5])\n",
    "    all_orbs.append(orbs[exp * 5:exp * 5 + 5])"
   ]
  },
  {
   "cell_type": "code",
   "execution_count": 14,
   "metadata": {},
   "outputs": [],
   "source": [
    "all_mc_prices = []\n",
    "all_mc_fundamentals = []\n",
    "for exp in range(experiments):\n",
    "    mc_prices, mc_returns, mc_autocorr_returns, mc_autocorr_abs_returns, mc_volatility, mc_volume, mc_fundamentals = organise_data(all_orbs[exp], burn_in_period=0)\n",
    "    all_mc_prices.append(mc_prices)\n",
    "    all_mc_fundamentals.append(mc_fundamentals)"
   ]
  },
  {
   "cell_type": "markdown",
   "metadata": {},
   "source": [
    "Establish price confidence intervals."
   ]
  },
  {
   "cell_type": "code",
   "execution_count": 15,
   "metadata": {},
   "outputs": [],
   "source": [
    "all_lower_c_price = []\n",
    "all_upper_c_price = []\n",
    "\n",
    "for exp in range(experiments):\n",
    "    lower_c_price = []\n",
    "    upper_c_price = []\n",
    "    for row in range(len(all_mc_prices[exp])):\n",
    "        price_range = mc_prices.iloc[row]\n",
    "        lower, upper = confidence_interval(price_range, np.mean(price_range))\n",
    "        lower_c_price.append(lower)\n",
    "        upper_c_price.append(upper)\n",
    "    \n",
    "    all_lower_c_price.append(lower_c_price)\n",
    "    all_upper_c_price.append(upper_c_price)"
   ]
  },
  {
   "cell_type": "markdown",
   "metadata": {},
   "source": [
    "Identify sentiments"
   ]
  },
  {
   "cell_type": "code",
   "execution_count": 18,
   "metadata": {},
   "outputs": [],
   "source": [
    "all_av_fundamentalist_sentiment = []\n",
    "all_lo_fundamentalist_sentiment = []\n",
    "all_up_fundamentalist_sentiment = []\n",
    "\n",
    "all_av_trend_sentiment = []\n",
    "all_lo_trend_sentiment = []\n",
    "all_up_trend_sentiment = []\n",
    "\n",
    "all_av_random_sentiment = []\n",
    "all_lo_random_sentiment = []\n",
    "all_up_random_sentiment = []\n",
    "\n",
    "for exp in range(experiments):\n",
    "    av_fundamentalist_sentiment = []\n",
    "    lo_fundamentalist_sentiment = []\n",
    "    up_fundamentalist_sentiment = []\n",
    "\n",
    "    av_trend_sentiment = []\n",
    "    lo_trend_sentiment = []\n",
    "    up_trend_sentiment = []\n",
    "\n",
    "    av_random_sentiment = []\n",
    "    lo_random_sentiment = []\n",
    "    up_random_sentiment = []\n",
    "\n",
    "    for t in range(len(all_orbs[exp][0].sentiment_history)):\n",
    "        sentiment = []\n",
    "        for orderb in all_orbs[exp]:\n",
    "            sentiment.append(market_sentiment_in_round(orderb, t))\n",
    "        f_sents = [s[0] for s in sentiment]\n",
    "        c_sents = [s[1] for s in sentiment]\n",
    "        r_sents = [s[2] for s in sentiment]\n",
    "        # calculate the average and conf intervals\n",
    "        av_fundamentalist_sentiment.append(np.mean(f_sents))\n",
    "        low, up = confidence_interval(f_sents, np.mean(f_sents))\n",
    "        lo_fundamentalist_sentiment.append(max(0.0, low))\n",
    "        up_fundamentalist_sentiment.append(min(1.0, up))\n",
    "\n",
    "        av_trend_sentiment.append(np.mean(c_sents))\n",
    "        low, up = confidence_interval(c_sents, np.mean(c_sents))\n",
    "        lo_trend_sentiment.append(max(0.0, low))\n",
    "        up_trend_sentiment.append(min(1.0, up))\n",
    "\n",
    "        av_random_sentiment.append(np.mean(r_sents))\n",
    "        low, up = confidence_interval(r_sents, np.mean(r_sents))\n",
    "        lo_random_sentiment.append(max(0.0, low))\n",
    "        up_random_sentiment.append(min(1.0, up))\n",
    "    \n",
    "    all_av_fundamentalist_sentiment.append(av_fundamentalist_sentiment)\n",
    "    all_lo_fundamentalist_sentiment.append(lo_fundamentalist_sentiment)\n",
    "    all_up_fundamentalist_sentiment.append(up_fundamentalist_sentiment)\n",
    "\n",
    "    all_av_trend_sentiment.append(av_trend_sentiment)\n",
    "    all_lo_trend_sentiment.append(lo_trend_sentiment)\n",
    "    all_up_trend_sentiment.append(up_trend_sentiment)\n",
    "\n",
    "    all_av_random_sentiment.append(av_random_sentiment)\n",
    "    all_lo_random_sentiment.append(lo_random_sentiment)\n",
    "    all_up_random_sentiment.append(up_random_sentiment)"
   ]
  },
  {
   "cell_type": "markdown",
   "metadata": {},
   "source": [
    "Identify individual wealth changes:"
   ]
  },
  {
   "cell_type": "code",
   "execution_count": 19,
   "metadata": {},
   "outputs": [],
   "source": [
    "all_av_ordered_profits = []\n",
    "\n",
    "for exp in range(experiments):\n",
    "    profits = []\n",
    "\n",
    "    # determine the start and end wealth of the bubble\n",
    "    for seed, traders in enumerate(all_trdrs[exp]):\n",
    "        money_start = np.array([x.var.money[0] for x in traders])\n",
    "        stocks_start = np.array([x.var.stocks[0] for x in traders])\n",
    "        wealth_start = money_start + (stocks_start * all_orbs[exp][seed].tick_close_price[0])\n",
    "\n",
    "        money_end = np.array([x.var.money[-1] for x in traders])\n",
    "        stocks_end = np.array([x.var.stocks[-1] for x in traders])\n",
    "        wealth_end = money_end + (stocks_end * all_orbs[exp][seed].tick_close_price[-1])\n",
    "\n",
    "        # profits\n",
    "        profits.append((np.array(wealth_end) - np.array(wealth_start)) / np.array(wealth_start))\n",
    "\n",
    "    av_ordered_profits = []\n",
    "    # lcf_ordered_profits = []\n",
    "    # ucf_ordered_profits = []\n",
    "    ordered_profits = [pd.Series(pr).sort_values() for pr in profits]\n",
    "    for a in range(len(ordered_profits[0])):\n",
    "        a_profits = [list(p)[a] for p in ordered_profits]\n",
    "        av_ordered_profits.append(np.mean(a_profits))\n",
    "    #     low, up = confidence_interval(a_profits, np.mean(a_profits))\n",
    "    #     lcf_ordered_profits.append(max(-1.0, low))\n",
    "    #     ucf_ordered_profits.append(up)\n",
    "    all_av_ordered_profits.append(av_ordered_profits)\n",
    "    "
   ]
  },
  {
   "cell_type": "markdown",
   "metadata": {},
   "source": [
    "### Summarize price & profits data"
   ]
  },
  {
   "cell_type": "code",
   "execution_count": 20,
   "metadata": {},
   "outputs": [
    {
     "data": {
      "text/html": [
       "<div>\n",
       "<style scoped>\n",
       "    .dataframe tbody tr th:only-of-type {\n",
       "        vertical-align: middle;\n",
       "    }\n",
       "\n",
       "    .dataframe tbody tr th {\n",
       "        vertical-align: top;\n",
       "    }\n",
       "\n",
       "    .dataframe thead th {\n",
       "        text-align: right;\n",
       "    }\n",
       "</style>\n",
       "<table border=\"1\" class=\"dataframe\">\n",
       "  <thead>\n",
       "    <tr style=\"text-align: right;\">\n",
       "      <th></th>\n",
       "      <th>lambda = 0.25p</th>\n",
       "      <th>lambda = 0.5p</th>\n",
       "      <th>lambda = 0.75p</th>\n",
       "      <th>lambda = 1.0p</th>\n",
       "    </tr>\n",
       "  </thead>\n",
       "  <tbody>\n",
       "    <tr>\n",
       "      <th>count</th>\n",
       "      <td>452.000000</td>\n",
       "      <td>452.000000</td>\n",
       "      <td>452.000000</td>\n",
       "      <td>452.000000</td>\n",
       "    </tr>\n",
       "    <tr>\n",
       "      <th>mean</th>\n",
       "      <td>160.688634</td>\n",
       "      <td>204.886456</td>\n",
       "      <td>310.179713</td>\n",
       "      <td>455.512877</td>\n",
       "    </tr>\n",
       "    <tr>\n",
       "      <th>std</th>\n",
       "      <td>7.520740</td>\n",
       "      <td>107.810526</td>\n",
       "      <td>257.435468</td>\n",
       "      <td>542.455915</td>\n",
       "    </tr>\n",
       "    <tr>\n",
       "      <th>min</th>\n",
       "      <td>139.014705</td>\n",
       "      <td>50.487839</td>\n",
       "      <td>38.981508</td>\n",
       "      <td>6.313816</td>\n",
       "    </tr>\n",
       "    <tr>\n",
       "      <th>25%</th>\n",
       "      <td>160.169835</td>\n",
       "      <td>135.641761</td>\n",
       "      <td>147.617909</td>\n",
       "      <td>32.306578</td>\n",
       "    </tr>\n",
       "    <tr>\n",
       "      <th>50%</th>\n",
       "      <td>161.944689</td>\n",
       "      <td>167.414729</td>\n",
       "      <td>189.261843</td>\n",
       "      <td>179.140865</td>\n",
       "    </tr>\n",
       "    <tr>\n",
       "      <th>75%</th>\n",
       "      <td>165.662880</td>\n",
       "      <td>243.849380</td>\n",
       "      <td>364.011321</td>\n",
       "      <td>760.939758</td>\n",
       "    </tr>\n",
       "    <tr>\n",
       "      <th>max</th>\n",
       "      <td>170.895003</td>\n",
       "      <td>552.217704</td>\n",
       "      <td>1244.067407</td>\n",
       "      <td>2935.119332</td>\n",
       "    </tr>\n",
       "  </tbody>\n",
       "</table>\n",
       "</div>"
      ],
      "text/plain": [
       "       lambda = 0.25p  lambda = 0.5p  lambda = 0.75p  lambda = 1.0p\n",
       "count      452.000000     452.000000      452.000000     452.000000\n",
       "mean       160.688634     204.886456      310.179713     455.512877\n",
       "std          7.520740     107.810526      257.435468     542.455915\n",
       "min        139.014705      50.487839       38.981508       6.313816\n",
       "25%        160.169835     135.641761      147.617909      32.306578\n",
       "50%        161.944689     167.414729      189.261843     179.140865\n",
       "75%        165.662880     243.849380      364.011321     760.939758\n",
       "max        170.895003     552.217704     1244.067407    2935.119332"
      ]
     },
     "execution_count": 20,
     "metadata": {},
     "output_type": "execute_result"
    }
   ],
   "source": [
    "pd.DataFrame({'lambda = 0.25p': all_mc_prices[0].mean(axis=1),  \n",
    "              'lambda = 0.5p':all_mc_prices[1].mean(axis=1), \n",
    "              'lambda = 0.75p': all_mc_prices[2].mean(axis=1), 'lambda = 1.0p': all_mc_prices[3].mean(axis=1)}).describe()"
   ]
  },
  {
   "cell_type": "code",
   "execution_count": 34,
   "metadata": {},
   "outputs": [
    {
     "name": "stdout",
     "output_type": "stream",
     "text": [
      "Skews :  [-1.5258681115078994, 1.249080313257102, 1.8305410384314695, 1.6945311896960882]\n",
      "Kurts :  [1.791364128147983, 0.9668910955650696, 2.867368068718472, 3.719753750160621]\n"
     ]
    }
   ],
   "source": [
    "print('Skews : ', [pd.Series(p.mean(axis=1)).skew() for p in all_mc_prices])\n",
    "print('Kurts : ', [pd.Series(p.mean(axis=1)).kurtosis() for p in all_mc_prices])"
   ]
  },
  {
   "cell_type": "code",
   "execution_count": 27,
   "metadata": {},
   "outputs": [
    {
     "data": {
      "text/html": [
       "<div>\n",
       "<style scoped>\n",
       "    .dataframe tbody tr th:only-of-type {\n",
       "        vertical-align: middle;\n",
       "    }\n",
       "\n",
       "    .dataframe tbody tr th {\n",
       "        vertical-align: top;\n",
       "    }\n",
       "\n",
       "    .dataframe thead th {\n",
       "        text-align: right;\n",
       "    }\n",
       "</style>\n",
       "<table border=\"1\" class=\"dataframe\">\n",
       "  <thead>\n",
       "    <tr style=\"text-align: right;\">\n",
       "      <th></th>\n",
       "      <th>lambda = 0.25p</th>\n",
       "      <th>lambda = 0.5p</th>\n",
       "      <th>lambda = 0.75p</th>\n",
       "      <th>lambda = 1.0p</th>\n",
       "    </tr>\n",
       "  </thead>\n",
       "  <tbody>\n",
       "    <tr>\n",
       "      <th>count</th>\n",
       "      <td>500.000000</td>\n",
       "      <td>500.000000</td>\n",
       "      <td>500.000000</td>\n",
       "      <td>500.000000</td>\n",
       "    </tr>\n",
       "    <tr>\n",
       "      <th>mean</th>\n",
       "      <td>-0.016065</td>\n",
       "      <td>0.287809</td>\n",
       "      <td>-0.307893</td>\n",
       "      <td>1.828850</td>\n",
       "    </tr>\n",
       "    <tr>\n",
       "      <th>std</th>\n",
       "      <td>0.113614</td>\n",
       "      <td>5.036385</td>\n",
       "      <td>2.699523</td>\n",
       "      <td>18.154470</td>\n",
       "    </tr>\n",
       "    <tr>\n",
       "      <th>min</th>\n",
       "      <td>-0.288787</td>\n",
       "      <td>-0.974023</td>\n",
       "      <td>-0.989774</td>\n",
       "      <td>-0.983213</td>\n",
       "    </tr>\n",
       "    <tr>\n",
       "      <th>25%</th>\n",
       "      <td>-0.100330</td>\n",
       "      <td>-0.899436</td>\n",
       "      <td>-0.858618</td>\n",
       "      <td>-0.661001</td>\n",
       "    </tr>\n",
       "    <tr>\n",
       "      <th>50%</th>\n",
       "      <td>-0.022451</td>\n",
       "      <td>-0.816175</td>\n",
       "      <td>-0.743327</td>\n",
       "      <td>-0.246732</td>\n",
       "    </tr>\n",
       "    <tr>\n",
       "      <th>75%</th>\n",
       "      <td>0.056043</td>\n",
       "      <td>-0.540212</td>\n",
       "      <td>-0.526721</td>\n",
       "      <td>0.499833</td>\n",
       "    </tr>\n",
       "    <tr>\n",
       "      <th>max</th>\n",
       "      <td>0.358184</td>\n",
       "      <td>73.645282</td>\n",
       "      <td>48.041324</td>\n",
       "      <td>380.133352</td>\n",
       "    </tr>\n",
       "  </tbody>\n",
       "</table>\n",
       "</div>"
      ],
      "text/plain": [
       "       lambda = 0.25p  lambda = 0.5p  lambda = 0.75p  lambda = 1.0p\n",
       "count      500.000000     500.000000      500.000000     500.000000\n",
       "mean        -0.016065       0.287809       -0.307893       1.828850\n",
       "std          0.113614       5.036385        2.699523      18.154470\n",
       "min         -0.288787      -0.974023       -0.989774      -0.983213\n",
       "25%         -0.100330      -0.899436       -0.858618      -0.661001\n",
       "50%         -0.022451      -0.816175       -0.743327      -0.246732\n",
       "75%          0.056043      -0.540212       -0.526721       0.499833\n",
       "max          0.358184      73.645282       48.041324     380.133352"
      ]
     },
     "execution_count": 27,
     "metadata": {},
     "output_type": "execute_result"
    }
   ],
   "source": [
    "pd.DataFrame({'lambda = 0.25p': all_av_ordered_profits[0],  \n",
    "              'lambda = 0.5p':all_av_ordered_profits[1], \n",
    "              'lambda = 0.75p': all_av_ordered_profits[2], 'lambda = 1.0p': all_av_ordered_profits[3]}).describe()"
   ]
  },
  {
   "cell_type": "code",
   "execution_count": 32,
   "metadata": {},
   "outputs": [
    {
     "name": "stdout",
     "output_type": "stream",
     "text": [
      "Skews :  [0.295392072084788, 9.011212274406304, 13.434505745260154, 18.58737529264149]\n",
      "Kurts :  [-0.14895544949334827, 105.807444921674, 218.9992307307185, 380.88969297970004]\n"
     ]
    }
   ],
   "source": [
    "print('Skews : ', [pd.Series(op).skew() for op in all_av_ordered_profits])\n",
    "print('Kurts : ', [pd.Series(op).kurtosis() for op in all_av_ordered_profits])"
   ]
  },
  {
   "cell_type": "code",
   "execution_count": 23,
   "metadata": {},
   "outputs": [],
   "source": [
    "burn_in_period = 0"
   ]
  },
  {
   "cell_type": "code",
   "execution_count": 24,
   "metadata": {},
   "outputs": [
    {
     "data": {
      "image/png": "[encoded data removed]",
      "text/plain": [
       "<Figure size 1080x216 with 3 Axes>"
      ]
     },
     "metadata": {},
     "output_type": "display_data"
    }
   ],
   "source": [
    "fig, (ax1, ax2, ax3) = plt.subplots(1, 3, figsize=(15,3))\n",
    "\n",
    "ax1.plot(all_mc_prices[0].index, all_mc_prices[0].mean(axis=1), label='Market0')\n",
    "ax1.plot(all_mc_prices[1].index, all_mc_prices[1].mean(axis=1), label='Market1')\n",
    "ax1.plot(all_mc_prices[2].index, all_mc_prices[2].mean(axis=1), label='Market2')\n",
    "ax1.plot(all_mc_prices[3].index, all_mc_prices[3].mean(axis=1), label='Market3')\n",
    "ax1.set_ylim(0, 400)\n",
    "#ax1.plot(mc_prices.index, lower_c_price, 'b--', alpha=0.3)\n",
    "#ax1.plot(mc_prices.index, upper_c_price, 'b--', alpha=0.3)\n",
    "\n",
    "ax1.set_ylabel('Value', fontsize='12')\n",
    "\n",
    "\n",
    "#ax2.plot(range(len(av_fundamentalist_sentiment[burn_in_period:])), av_fundamentalist_sentiment[burn_in_period:], label='fundamentalist ')\n",
    "ax2.set_ylabel('Percentage', fontsize='12')\n",
    "\n",
    "ax2.plot(range(len(all_av_trend_sentiment[0][burn_in_period:])), all_av_trend_sentiment[0][burn_in_period:], label='chartist ')\n",
    "ax2.plot(range(len(all_av_trend_sentiment[1][burn_in_period:])), all_av_trend_sentiment[1][burn_in_period:], label='chartist ')\n",
    "ax2.plot(range(len(all_av_trend_sentiment[2][burn_in_period:])), all_av_trend_sentiment[2][burn_in_period:], label='chartist ')\n",
    "ax2.plot(range(len(all_av_trend_sentiment[3][burn_in_period:])), all_av_trend_sentiment[3][burn_in_period:], label='chartist ')\n",
    "\n",
    "ax3.plot(range(len(all_av_ordered_profits[0])), all_av_ordered_profits[0], label='0.25 chartist')\n",
    "ax3.plot(range(len(all_av_ordered_profits[0])), all_av_ordered_profits[1], label='0.50 chartist')\n",
    "ax3.plot(range(len(all_av_ordered_profits[0])), all_av_ordered_profits[2], label='0.75 chartist')\n",
    "ax3.plot(range(len(all_av_ordered_profits[0])), all_av_ordered_profits[3], label='1.0 chartist')\n",
    "ax3.legend(loc='best', fontsize='14')\n",
    "\n",
    "ax3.set_ylabel('Relative profit', fontsize='12')\n",
    "ax3.set_ylim(-1.1, 3)\n",
    "\n",
    "for ax in (ax1, ax2):\n",
    "    ax.set_xlabel('Simulation time', fontsize='12')\n",
    "    \n",
    "ax3.set_xlabel('Agents', fontsize='12')\n",
    "\n",
    "fig.savefig('experiment1_dynamics.png', dpi=200, bbox_inches = 'tight', pad_inches = 0)"
   ]
  },
  {
   "cell_type": "code",
   "execution_count": null,
   "metadata": {},
   "outputs": [],
   "source": []
  },
  {
   "cell_type": "markdown",
   "metadata": {},
   "source": [
    "# Experiment 2: No-budget constraint"
   ]
  },
  {
   "cell_type": "code",
   "execution_count": 4,
   "metadata": {},
   "outputs": [],
   "source": [
    "from no_stocks_distribution_model import *"
   ]
  },
  {
   "cell_type": "code",
   "execution_count": 5,
   "metadata": {},
   "outputs": [],
   "source": [
    "with open('parameters.json', 'r') as f:\n",
    "    params = json.loads(f.read())\n",
    "    \n",
    "params['ticks'] = 4000\n",
    "params['strat_share_chartists'] = 0.75\n",
    "params['fundamentalist_horizon_multiplier'] = 0.5\n",
    "params['average_learning_ability'] = 0.0\n",
    "params['mutation_intensity'] = 0.0"
   ]
  },
  {
   "cell_type": "code",
   "execution_count": 6,
   "metadata": {},
   "outputs": [],
   "source": [
    "NRUNS = 3"
   ]
  },
  {
   "cell_type": "code",
   "execution_count": 7,
   "metadata": {},
   "outputs": [
    {
     "name": "stdout",
     "output_type": "stream",
     "text": [
      "Start of simulation  0\n",
      "Start of simulation  1\n",
      "Start of simulation  2\n"
     ]
    }
   ],
   "source": [
    "trdrs_f = []\n",
    "orbs_f = []\n",
    "for seed in range(NRUNS): \n",
    "    traders, orderbook = init_objects_distr(params, seed)\n",
    "    traders, orderbook = pb_distr_model_no_stocks(traders, orderbook, params, seed)\n",
    "    trdrs_f.append(traders)\n",
    "    orbs_f.append(orderbook)"
   ]
  },
  {
   "cell_type": "code",
   "execution_count": 8,
   "metadata": {},
   "outputs": [],
   "source": [
    "mc_prices, mc_returns, mc_autocorr_returns, mc_autocorr_abs_returns, mc_volatility, mc_volume, mc_fundamentals = organise_data(orbs_f, burn_in_period=200)"
   ]
  },
  {
   "cell_type": "markdown",
   "metadata": {},
   "source": [
    "Establish confidence intervals"
   ]
  },
  {
   "cell_type": "code",
   "execution_count": 9,
   "metadata": {},
   "outputs": [],
   "source": [
    "lower_c_price = []\n",
    "upper_c_price = []\n",
    "for row in range(len(mc_prices)):\n",
    "    price_range = mc_prices.iloc[row]\n",
    "    lower, upper = confidence_interval(price_range, np.mean(price_range))\n",
    "    lower_c_price.append(lower)\n",
    "    upper_c_price.append(upper)"
   ]
  },
  {
   "cell_type": "markdown",
   "metadata": {},
   "source": [
    "Identify sentiment:"
   ]
  },
  {
   "cell_type": "code",
   "execution_count": 12,
   "metadata": {},
   "outputs": [],
   "source": [
    "# what do I need, average sentiment + confidence intervals\n",
    "av_fundamentalist_sentiment = []\n",
    "lo_fundamentalist_sentiment = []\n",
    "up_fundamentalist_sentiment = []\n",
    "\n",
    "av_trend_sentiment = []\n",
    "lo_trend_sentiment = []\n",
    "up_trend_sentiment = []\n",
    "\n",
    "av_random_sentiment = []\n",
    "lo_random_sentiment = []\n",
    "up_random_sentiment = []\n",
    "\n",
    "for t in range(len(orbs_f[0].sentiment_history)):\n",
    "    sentiment = []\n",
    "    for orderb in orbs_f:\n",
    "        sentiment.append(market_sentiment_in_round(orderb, t))\n",
    "    f_sents = [s[0] for s in sentiment]\n",
    "    c_sents = [s[1] for s in sentiment]\n",
    "    r_sents = [s[2] for s in sentiment]\n",
    "    # calculate the average and conf intervals\n",
    "    av_fundamentalist_sentiment.append(np.mean(f_sents))\n",
    "    low, up = confidence_interval(f_sents, np.mean(f_sents))\n",
    "    lo_fundamentalist_sentiment.append(max(0.0, low))\n",
    "    up_fundamentalist_sentiment.append(min(1.0, up))\n",
    "    \n",
    "    av_trend_sentiment.append(np.mean(c_sents))\n",
    "    low, up = confidence_interval(c_sents, np.mean(c_sents))\n",
    "    lo_trend_sentiment.append(max(0.0, low))\n",
    "    up_trend_sentiment.append(min(1.0, up))\n",
    "    \n",
    "    av_random_sentiment.append(np.mean(r_sents))\n",
    "    low, up = confidence_interval(r_sents, np.mean(r_sents))\n",
    "    lo_random_sentiment.append(max(0.0, low))\n",
    "    up_random_sentiment.append(min(1.0, up))"
   ]
  },
  {
   "cell_type": "markdown",
   "metadata": {},
   "source": [
    "Identify individual wealth changes"
   ]
  },
  {
   "cell_type": "code",
   "execution_count": 35,
   "metadata": {},
   "outputs": [],
   "source": [
    "wealth_starts = []\n",
    "wealth_ends = []\n",
    "ginis_ot = []\n",
    "palmas_ot = []\n",
    "twtws_ot = []\n",
    "risk_aversions = []\n",
    "horizons = []\n",
    "learning_abilities = []\n",
    "chartist_expectations = []\n",
    "fundamentalist_expectations = []\n",
    "profits = []\n",
    "real_profits = []\n",
    "market_returns = []\n",
    "\n",
    "# determine the start and end wealth of the bubble\n",
    "for seed, traders in enumerate(trdrs_f):\n",
    "    money_start = np.array([x.var.money[0] for x in traders])\n",
    "    stocks_start = np.array([x.var.stocks[0] for x in traders])\n",
    "    wealth_start = money_start + (stocks_start * orbs_f[seed].tick_close_price[0])\n",
    "\n",
    "    money_end = np.array([x.var.money[-1] for x in traders])\n",
    "    stocks_end = np.array([x.var.stocks[-1] for x in traders])\n",
    "    wealth_end = money_end + (stocks_end * orbs_f[seed].tick_close_price[-1])\n",
    "    \n",
    "    # profits\n",
    "    profits.append((np.array(wealth_end) - np.array(wealth_start)) / np.array(wealth_start))\n",
    "    real_profits.append(np.array(wealth_end) - np.array(wealth_start))\n",
    "    market_returns.append([(orbs_f[seed].tick_close_price[-1] - orbs_f[seed].tick_close_price[0]) / orbs_f[seed].tick_close_price[0] for x in range(len(wealth_start))])\n",
    "\n",
    "    # determine characteristics of the agents\n",
    "    risk_aversions.append([x.par.risk_aversion for x in traders])\n",
    "    horizons.append([x.par.horizon for x in traders])\n",
    "    learning_abilities.append([x.par.learning_ability for x in traders])\n",
    "    chartist_expectations.append([x.var.weight_chartist[: ] for x in traders])\n",
    "    fundamentalist_expectations.append([x.var.weight_fundamentalist[:] for x in traders])\n",
    "\n",
    "    wealth_gini_over_time = []\n",
    "    palma_over_time = []\n",
    "    twentytwenty_over_time = []\n",
    "    for t in range(params['ticks']):\n",
    "        money = np.array([x.var.money[t] for x in traders])\n",
    "        stocks = np.array([x.var.stocks[t] for x in traders])\n",
    "        wealth = money + (stocks * orbs_f[seed].tick_close_price[0])\n",
    "        \n",
    "        # make a correction for negative wealth by adding the lowest wealth value all wealth's\n",
    "        if sum(w < 0 for w in wealth) > 0:\n",
    "            wealth = np.sort(wealth) + abs(np.min(wealth))\n",
    "\n",
    "        share_top_10 = sum(np.sort(wealth)[int(len(wealth) * 0.9):]) / sum(wealth)\n",
    "        share_bottom_40 = sum(np.sort(wealth)[:int(len(wealth) * 0.4)]) / sum(wealth)\n",
    "        palma_over_time.append(share_top_10 / share_bottom_40)\n",
    "\n",
    "        share_top_20 = np.mean(np.sort(wealth)[int(len(wealth) * 0.8):])\n",
    "        share_bottom_20 = np.mean(np.sort(wealth)[:int(len(wealth) * 0.2)])\n",
    "        twentytwenty_over_time.append(share_top_20 / share_bottom_20)\n",
    "\n",
    "        wealth_gini_over_time.append(gini(wealth))\n",
    "\n",
    "    wealth_starts.append(list(wealth_start))\n",
    "    wealth_ends.append(list(wealth_end))\n",
    "    ginis_ot.append(wealth_gini_over_time)\n",
    "    palmas_ot.append(palma_over_time)\n",
    "    twtws_ot.append(twentytwenty_over_time)"
   ]
  },
  {
   "cell_type": "code",
   "execution_count": 36,
   "metadata": {},
   "outputs": [],
   "source": [
    "# first, order all profits, then get average profit and conf intervals \n",
    "av_ordered_profits = []\n",
    "lcf_ordered_profits = []\n",
    "ucf_ordered_profits = []\n",
    "\n",
    "ordered_profits = [pd.Series(pr).sort_values() for pr in profits]\n",
    "for a in range(len(ordered_profits[0])):\n",
    "    a_profits = [list(p)[a] for p in ordered_profits]\n",
    "    av_ordered_profits.append(np.mean(a_profits))\n",
    "    low, up = confidence_interval(a_profits, np.mean(a_profits))\n",
    "    lcf_ordered_profits.append(max(-1.0, low))\n",
    "    ucf_ordered_profits.append(up)"
   ]
  },
  {
   "cell_type": "code",
   "execution_count": 37,
   "metadata": {},
   "outputs": [],
   "source": [
    "# fix confidence intervals in the following ways:\n",
    "# gini: max 1.0, min 0.0\n",
    "\n",
    "av_gini_ot = []\n",
    "low_gini_ot = []\n",
    "up_gini_ot = []\n",
    "\n",
    "av_palma_ot = []\n",
    "low_palma_ot = []\n",
    "up_palma_ot = []\n",
    "\n",
    "av_twtw_ot = []\n",
    "low_twtw_ot = []\n",
    "up_twtw_ot = []\n",
    "\n",
    "for t in range(params['ticks']):\n",
    "    t_gini = [g[t] for g in ginis_ot]\n",
    "    av_gini_ot.append(np.mean(t_gini))\n",
    "    low, up = confidence_interval(t_gini, np.mean(t_gini))\n",
    "    low_gini_ot.append(max(0.0, low))\n",
    "    up_gini_ot.append(min(1.0, up))\n",
    "\n",
    "    t_palma = [p[t] for p in palmas_ot]\n",
    "    av_palma_ot.append(np.mean(t_palma))\n",
    "    low, up = confidence_interval(t_palma, np.mean(t_palma))\n",
    "    low_palma_ot.append(max(0.0, low))\n",
    "    up_palma_ot.append(up)\n",
    "    \n",
    "    t_twtw = [tw[t] for tw in twtws_ot]\n",
    "    av_twtw_ot.append(np.mean(t_twtw))\n",
    "    low, up = confidence_interval(t_twtw, np.mean(t_twtw))\n",
    "    low_twtw_ot.append(max(0.0, low))\n",
    "    up_twtw_ot.append(up)"
   ]
  },
  {
   "cell_type": "code",
   "execution_count": 38,
   "metadata": {},
   "outputs": [],
   "source": [
    "burn_in_period = 0"
   ]
  },
  {
   "cell_type": "markdown",
   "metadata": {},
   "source": [
    "### Summarize data\n",
    "\n",
    "Summary of price data:"
   ]
  },
  {
   "cell_type": "code",
   "execution_count": 77,
   "metadata": {},
   "outputs": [
    {
     "data": {
      "text/plain": [
       "count    3802.000000\n",
       "mean     1405.823488\n",
       "std       655.975317\n",
       "min         0.000092\n",
       "25%      1106.054998\n",
       "50%      1127.848960\n",
       "75%      2219.402461\n",
       "max      3359.663229\n",
       "dtype: float64"
      ]
     },
     "execution_count": 77,
     "metadata": {},
     "output_type": "execute_result"
    }
   ],
   "source": [
    "mc_prices.mean(axis=1).describe()"
   ]
  },
  {
   "cell_type": "code",
   "execution_count": 78,
   "metadata": {},
   "outputs": [
    {
     "name": "stdout",
     "output_type": "stream",
     "text": [
      "Kurtosis =  -0.4047896438262626\n",
      "Skew =  0.12476281303294254\n"
     ]
    }
   ],
   "source": [
    "print('Kurtosis = ', pd.Series(mc_prices.mean(axis=1)).kurt())\n",
    "print('Skew = ', pd.Series(mc_prices.mean(axis=1)).skew())"
   ]
  },
  {
   "cell_type": "markdown",
   "metadata": {},
   "source": [
    "Summary of profit data: "
   ]
  },
  {
   "cell_type": "code",
   "execution_count": 75,
   "metadata": {},
   "outputs": [
    {
     "data": {
      "text/plain": [
       "count      500.000000\n",
       "mean       -17.230138\n",
       "std       1382.637588\n",
       "min     -28206.578478\n",
       "25%       -139.846550\n",
       "50%        -16.275545\n",
       "75%        162.069874\n",
       "max      10507.190482\n",
       "dtype: float64"
      ]
     },
     "execution_count": 75,
     "metadata": {},
     "output_type": "execute_result"
    }
   ],
   "source": [
    "pd.Series(av_ordered_profits).describe()"
   ]
  },
  {
   "cell_type": "code",
   "execution_count": 73,
   "metadata": {},
   "outputs": [
    {
     "name": "stdout",
     "output_type": "stream",
     "text": [
      "Kurtosis =  354.28740359116944\n",
      "Skew =  -16.139163255592226\n"
     ]
    }
   ],
   "source": [
    "print('Kurtosis = ', pd.Series(av_ordered_profits).kurt())\n",
    "print('Skew = ', pd.Series(av_ordered_profits).skew())"
   ]
  },
  {
   "cell_type": "code",
   "execution_count": 70,
   "metadata": {},
   "outputs": [
    {
     "data": {
      "image/png": "[encoded data removed]",
      "text/plain": [
       "<Figure size 1080x504 with 6 Axes>"
      ]
     },
     "metadata": {},
     "output_type": "display_data"
    }
   ],
   "source": [
    "fig, ((ax1, ax2, ax3),(ax4, ax5, ax6)) = plt.subplots(2, 3, figsize=(15,7))\n",
    "\n",
    "ax1.plot(mc_fundamentals.index, mc_fundamentals.mean(axis=1), label='Fundamental')\n",
    "ax1.plot(mc_prices.index, mc_prices.mean(axis=1), label='Market')\n",
    "#ax1.plot(mc_prices.index, lower_c_price, 'b--', alpha=0.3)\n",
    "#ax1.plot(mc_prices.index, upper_c_price, 'b--', alpha=0.3)\n",
    "\n",
    "ax1.set_ylabel('Value', fontsize='12')\n",
    "#ax1.legend(loc='best', fontsize='14')\n",
    "\n",
    "ax2.plot(range(len(av_fundamentalist_sentiment[burn_in_period:])), av_fundamentalist_sentiment[burn_in_period:], label='fundamentalist ')\n",
    "ax2.plot(range(len(lo_fundamentalist_sentiment[burn_in_period:])), lo_fundamentalist_sentiment[burn_in_period:], 'r--', alpha=0.3)\n",
    "ax2.plot(range(len(up_fundamentalist_sentiment[burn_in_period:])), up_fundamentalist_sentiment[burn_in_period:], 'r--', alpha=0.3)\n",
    "ax2.set_ylabel('Percentage', fontsize='12')\n",
    "\n",
    "ax2.plot(range(len(av_trend_sentiment[burn_in_period:])), av_trend_sentiment[burn_in_period:], label='chartist ')\n",
    "ax2.plot(range(len(lo_trend_sentiment[burn_in_period:])), lo_trend_sentiment[burn_in_period:], 'b--', alpha=0.3)\n",
    "ax2.plot(range(len(up_trend_sentiment[burn_in_period:])), up_trend_sentiment[burn_in_period:], 'b--', alpha=0.3)\n",
    "\n",
    "# ax2.plot(range(len(av_random_sentiment[burn_in_period:])), av_random_sentiment[burn_in_period:], 'k', label='random ')\n",
    "# ax2.plot(range(len(lo_random_sentiment[burn_in_period:])), lo_random_sentiment[burn_in_period:], 'k--', alpha=0.3)\n",
    "# ax2.plot(range(len(up_random_sentiment[burn_in_period:])), up_random_sentiment[burn_in_period:], 'k--', alpha=0.3)\n",
    "\n",
    "ax3.plot(range(len(av_ordered_profits)), av_ordered_profits)\n",
    "#ax3.hist(av_ordered_profits, bins=100)\n",
    "#ax3.plot(range(len(av_ordered_profits)), ucf_ordered_profits, 'r--', alpha=0.3)\n",
    "#ax3.plot(range(len(av_ordered_profits)), lcf_ordered_profits, 'r--', alpha=0.3)\n",
    "ax3.set_ylabel('Relative profit', fontsize='12')\n",
    "#ax3.set_ylim(-1.1, 3)\n",
    "\n",
    "ax4.plot(range(len(av_gini_ot[burn_in_period:])), av_gini_ot[burn_in_period:])\n",
    "ax4.plot(range(len(low_gini_ot[burn_in_period:])), low_gini_ot[burn_in_period:], 'r--', alpha=0.3)\n",
    "ax4.plot(range(len(up_gini_ot[burn_in_period:])), up_gini_ot[burn_in_period:], 'r--', alpha=0.3)\n",
    "ax4.set_ylabel('Gini', fontsize='12')\n",
    "\n",
    "ax5.plot(range(len(av_gini_ot[burn_in_period:])), av_palma_ot[burn_in_period:])\n",
    "ax5.plot(range(len(low_gini_ot[burn_in_period:])), low_palma_ot[burn_in_period:], 'r--', alpha=0.3)\n",
    "ax5.plot(range(len(up_gini_ot[burn_in_period:])), up_palma_ot[burn_in_period:], 'r--', alpha=0.3)\n",
    "ax5.set_ylabel('Palma', fontsize='12')\n",
    "\n",
    "ax6.plot(range(len(av_gini_ot[burn_in_period:])), av_twtw_ot[burn_in_period:])\n",
    "ax6.plot(range(len(low_gini_ot[burn_in_period:])), low_twtw_ot[burn_in_period:], 'r--', alpha=0.3)\n",
    "ax6.plot(range(len(up_gini_ot[burn_in_period:])), up_twtw_ot[burn_in_period:], 'r--', alpha=0.3)\n",
    "ax6.set_ylabel('20-20', fontsize='12')\n",
    "\n",
    "for ax in (ax1, ax2, ax4, ax5, ax6):\n",
    "    ax.set_xlabel('Simulation time', fontsize='12')\n",
    "    \n",
    "ax3.set_xlabel('Agents', fontsize='12')\n",
    "\n",
    "fig.savefig('experiment2_dynamics.png', dpi=200, bbox_inches = 'tight', pad_inches = 0)"
   ]
  },
  {
   "cell_type": "code",
   "execution_count": null,
   "metadata": {},
   "outputs": [],
   "source": []
  }
 ],
 "metadata": {
  "kernelspec": {
   "display_name": "Python 3",
   "language": "python",
   "name": "python3"
  },
  "language_info": {
   "codemirror_mode": {
    "name": "ipython",
    "version": 3
   },
   "file_extension": ".py",
   "mimetype": "text/x-python",
   "name": "python",
   "nbconvert_exporter": "python",
   "pygments_lexer": "ipython3",
   "version": "3.7.2"
  }
 },
 "nbformat": 4,
 "nbformat_minor": 2
}

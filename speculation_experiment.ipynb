{
 "cells": [
  {
   "cell_type": "code",
   "execution_count": 1,
   "metadata": {},
   "outputs": [],
   "source": [
    "%matplotlib inline\n",
    "import numpy as np\n",
    "import pandas as pd\n",
    "import pickle\n",
    "import json\n",
    "import matplotlib.pyplot as plt\n",
    "#import statsmodels.tsa.stattools as ts\n",
    "from init_objects import *\n",
    "from functions.stylizedfacts import *\n",
    "from functions.helpers import organise_data\n",
    "#from functions.evolutionaryalgo import quadratic_loss_function\n",
    "from functions.inequality import gini, lorenz_curve\n",
    "from distribution_model import *\n",
    "import statsmodels.api as sm\n",
    "from SALib.sample import latin\n",
    "from matplotlib import style\n",
    "from collections import OrderedDict\n",
    "from functions.indirect_calibration import distr_model_performance\n",
    "import seaborn as sns\n",
    "import scipy.stats as stats\n",
    "import scipy\n",
    "from functions.find_bubbles import *\n",
    "from statsmodels.iolib.summary2 import summary_col"
   ]
  },
  {
   "cell_type": "code",
   "execution_count": 2,
   "metadata": {},
   "outputs": [],
   "source": [
    "style.use('ggplot')"
   ]
  },
  {
   "cell_type": "markdown",
   "metadata": {},
   "source": [
    "# Experiment change share of chartists. "
   ]
  },
  {
   "cell_type": "code",
   "execution_count": 13,
   "metadata": {},
   "outputs": [],
   "source": [
    "NRUNS = 51"
   ]
  },
  {
   "cell_type": "code",
   "execution_count": 4,
   "metadata": {},
   "outputs": [],
   "source": [
    "with open('parameters.json', 'r') as f:\n",
    "    params = json.loads(f.read())"
   ]
  },
  {
   "cell_type": "markdown",
   "metadata": {},
   "source": [
    "Fix the learning ability at 0.0"
   ]
  },
  {
   "cell_type": "code",
   "execution_count": 6,
   "metadata": {},
   "outputs": [],
   "source": [
    "params['average_learning_ability'] = 0.0"
   ]
  },
  {
   "cell_type": "markdown",
   "metadata": {},
   "source": [
    "Increment the share of chartists from 0.0 to 100"
   ]
  },
  {
   "cell_type": "code",
   "execution_count": 14,
   "metadata": {},
   "outputs": [],
   "source": [
    "share_chartists = [x / 100.0 for x in range(0, 102, 2)]"
   ]
  },
  {
   "cell_type": "markdown",
   "metadata": {},
   "source": [
    "## Run model and update share chartists every time"
   ]
  },
  {
   "cell_type": "code",
   "execution_count": 16,
   "metadata": {},
   "outputs": [
    {
     "name": "stdout",
     "output_type": "stream",
     "text": [
      "Start of simulation  0\n",
      "Start of simulation  1\n",
      "Start of simulation  2\n",
      "Start of simulation  3\n",
      "Start of simulation  4\n",
      "Start of simulation  5\n",
      "Start of simulation  6\n",
      "Start of simulation  7\n",
      "Start of simulation  8\n",
      "Start of simulation  9\n",
      "Start of simulation  10\n",
      "Start of simulation  11\n",
      "Start of simulation  12\n",
      "Start of simulation  13\n",
      "Start of simulation  14\n",
      "Start of simulation  15\n",
      "Start of simulation  16\n",
      "Start of simulation  17\n",
      "Start of simulation  18\n",
      "Start of simulation  19\n",
      "Start of simulation  20\n",
      "Start of simulation  21\n",
      "Start of simulation  22\n",
      "Start of simulation  23\n",
      "Start of simulation  24\n",
      "Start of simulation  25\n",
      "Start of simulation  26\n",
      "Start of simulation  27\n",
      "Start of simulation  28\n",
      "Start of simulation  29\n",
      "Start of simulation  30\n",
      "Start of simulation  31\n",
      "Start of simulation  32\n",
      "Start of simulation  33\n",
      "Start of simulation  34\n",
      "Start of simulation  35\n",
      "Start of simulation  36\n",
      "Start of simulation  37\n",
      "Start of simulation  38\n",
      "Start of simulation  39\n",
      "Start of simulation  40\n",
      "Start of simulation  41\n",
      "Start of simulation  42\n",
      "Start of simulation  43\n",
      "Start of simulation  44\n",
      "Start of simulation  45\n",
      "Start of simulation  46\n",
      "Start of simulation  47\n",
      "Start of simulation  48\n",
      "Start of simulation  49\n",
      "Start of simulation  50\n"
     ]
    }
   ],
   "source": [
    "trdrs = []\n",
    "orbs = []\n",
    "for seed in range(NRUNS): \n",
    "    params['strat_share_chartists'] = share_chartists[seed]\n",
    "    traders, orderbook = init_objects_distr(params, seed)\n",
    "    traders, orderbook = pb_distr_model(traders, orderbook, params, seed)\n",
    "    trdrs.append(traders)\n",
    "    orbs.append(orderbook)"
   ]
  },
  {
   "cell_type": "markdown",
   "metadata": {},
   "source": [
    "Structure the data"
   ]
  },
  {
   "cell_type": "code",
   "execution_count": 49,
   "metadata": {},
   "outputs": [],
   "source": [
    "ginis = []\n",
    "palmas = []\n",
    "twtws = []\n",
    "asset_price_inflation = []\n",
    "price_to_div_stdev = []\n",
    "\n",
    "for idx, traders in enumerate(trdrs):\n",
    "    #print(t)\n",
    "    money = np.array([x.var.money[-1] for x in trdrs[idx]])\n",
    "    stocks = np.array([x.var.stocks[-1] for x in trdrs[idx]])\n",
    "    wealth = money + (stocks * orbs[idx].tick_close_price[-1])\n",
    "    \n",
    "    asset_price_inflation.append(orbs[idx].tick_close_price[-1] - orbs[idx].tick_close_price[0])\n",
    "    price_to_div_stdev.append((pd.Series(orbs[idx].tick_close_price) / pd.Series(orbs[idx].fundamental[1:])).std())\n",
    "    \n",
    "    share_top_10 = sum(np.sort(wealth)[int(len(wealth) * 0.9):]) / sum(wealth)\n",
    "    share_bottom_40 = sum(np.sort(wealth)[:int(len(wealth) * 0.4)]) / sum(wealth)\n",
    "    palmas.append(share_top_10 / share_bottom_40)\n",
    "    \n",
    "    share_top_20 = sum(np.sort(wealth)[int(len(wealth) * 0.8):]) / sum(wealth)\n",
    "    share_bottom_20 = sum(np.sort(wealth)[:int(len(wealth) * 0.2)]) / sum(wealth)\n",
    "    twtws.append(share_top_20 / share_bottom_20)\n",
    "    \n",
    "    ginis.append(gini(wealth))"
   ]
  },
  {
   "cell_type": "code",
   "execution_count": 58,
   "metadata": {},
   "outputs": [],
   "source": [
    "data = pd.DataFrame({'gini': np.log(ginis[1:]), 'palma': np.log(palmas[1:]), 'twtw': np.log(twtws[1:]), 'pd_vol': price_to_div_stdev[1:],\n",
    "                     'share_chartists': np.log(share_chartists[1:]), 'lin_share_chartists': share_chartists[1:], 'asset_price_infl': asset_price_inflation[1:]})\n",
    "data['const'] = 1"
   ]
  },
  {
   "cell_type": "code",
   "execution_count": 59,
   "metadata": {},
   "outputs": [
    {
     "data": {
      "image/png": "[encoded data removed]",
      "text/plain": [
       "<Figure size 1152x288 with 3 Axes>"
      ]
     },
     "metadata": {},
     "output_type": "display_data"
    }
   ],
   "source": [
    "fig, (ax1, ax2, ax3) = plt.subplots(1, 3, figsize=[16,4])\n",
    "\n",
    "ax1.scatter(range(len(ginis)), ginis)\n",
    "ax2.scatter(range(len(palmas)), palmas)\n",
    "ax3.scatter(range(len(twtws)), twtws)\n",
    "\n",
    "ax3.set_title('Twenty-twenty ratio')\n",
    "ax2.set_title('Palma ratio')\n",
    "ax1.set_title('Gini coefficient')\n",
    "\n",
    "for ax in [ax1, ax2, ax3]:\n",
    "    ax.set_xlabel('Simulation')\n",
    "\n",
    "#fig.savefig('gini_palma_twenty_evolution_bubble.png', dpi=200, bbox_inches = 'tight', pad_inches = 0)"
   ]
  },
  {
   "cell_type": "code",
   "execution_count": 60,
   "metadata": {},
   "outputs": [
    {
     "data": {
      "image/png": "[encoded data removed]",
      "text/plain": [
       "<Figure size 1152x288 with 2 Axes>"
      ]
     },
     "metadata": {},
     "output_type": "display_data"
    }
   ],
   "source": [
    "fig, (ax1, ax2) = plt.subplots(1, 2, figsize=[16,4])\n",
    "\n",
    "ax1.scatter(range(len(asset_price_inflation)), asset_price_inflation)\n",
    "ax2.scatter(range(len(price_to_div_stdev)), price_to_div_stdev)\n",
    "\n",
    "\n",
    "ax1.set_title('asset_price_inflation')\n",
    "ax2.set_title('price_to_div_stdev')\n",
    "\n",
    "for ax in [ax1, ax2, ax3]:\n",
    "    ax.set_xlabel('Simulation')"
   ]
  },
  {
   "cell_type": "markdown",
   "metadata": {},
   "source": [
    "## Regression\n"
   ]
  },
  {
   "cell_type": "code",
   "execution_count": 61,
   "metadata": {},
   "outputs": [],
   "source": [
    "gini_res = sm.OLS(endog=data['gini'], exog=data[['const', 'share_chartists']], missing='drop').fit()\n",
    "palma_res = sm.OLS(endog=data['palma'], exog=data[['const', 'share_chartists']], missing='drop').fit()\n",
    "twtw_res = sm.OLS(endog=data['twtw'], exog=data[['const', 'share_chartists']], missing='drop').fit()\n",
    "asset_p_inf_res = sm.OLS(endog=data['asset_price_infl'], exog=data[['const', 'lin_share_chartists']], missing='drop').fit()\n",
    "pd_stdev_res = sm.OLS(endog=data['pd_vol'], exog=data[['const', 'lin_share_chartists']], missing='drop').fit()"
   ]
  },
  {
   "cell_type": "code",
   "execution_count": 62,
   "metadata": {},
   "outputs": [
    {
     "name": "stdout",
     "output_type": "stream",
     "text": [
      "                                               Table - OLS Regressions\n",
      "======================================================================================================================\n",
      "                           Gini              Palma              20-20        Asset-price inflation    Pd-volatility   \n",
      "----------------------------------------------------------------------------------------------------------------------\n",
      "const               -0.2181***         2.9699***          4.3279***          -0.5512                -0.0581           \n",
      "                    (0.0674)           (0.1952)           (0.1782)           (1.0632)               (0.0424)          \n",
      "share_chartists     0.5125***          1.4017***          1.2824***                                                   \n",
      "                    (0.0523)           (0.1513)           (0.1382)                                                    \n",
      "lin_share_chartists                                                          -0.0469                0.6635***         \n",
      "                                                                             (1.8143)               (0.0724)          \n",
      "R-squared           0.6670995883314108 0.6411898588504011 0.6420742065719158 1.3900017383550178e-05 0.6364857118744022\n",
      "No. observations    50                 50                 50                 50                     50                \n",
      "======================================================================================================================\n",
      "Standard errors in parentheses.\n",
      "* p<.1, ** p<.05, ***p<.01\n"
     ]
    }
   ],
   "source": [
    "info_dict={'R-squared' : lambda x: \"{}\".format(x.rsquared), \n",
    "           'No. observations' : lambda x: \"{}\".format(int(x.nobs))}\n",
    "\n",
    "results_table = summary_col(results=[gini_res, palma_res, twtw_res, asset_p_inf_res, pd_stdev_res],\n",
    "                            float_format='%0.4f',\n",
    "                            stars = True,\n",
    "                            model_names=['Gini', 'Palma', '20-20', 'Asset-price inflation', 'Pd-volatility'],\n",
    "                            info_dict=info_dict,\n",
    "                            regressor_order=['const', 'share_chartists'])\n",
    "\n",
    "results_table.add_title('Table - OLS Regressions')\n",
    "\n",
    "print(results_table)"
   ]
  },
  {
   "cell_type": "code",
   "execution_count": null,
   "metadata": {},
   "outputs": [],
   "source": []
  }
 ],
 "metadata": {
  "kernelspec": {
   "display_name": "Python 3",
   "language": "python",
   "name": "python3"
  },
  "language_info": {
   "codemirror_mode": {
    "name": "ipython",
    "version": 3
   },
   "file_extension": ".py",
   "mimetype": "text/x-python",
   "name": "python",
   "nbconvert_exporter": "python",
   "pygments_lexer": "ipython3",
   "version": "3.6.8"
  }
 },
 "nbformat": 4,
 "nbformat_minor": 2
}

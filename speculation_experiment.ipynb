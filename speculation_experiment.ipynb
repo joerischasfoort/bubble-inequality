{
 "cells": [
  {
   "cell_type": "code",
   "execution_count": 1,
   "metadata": {},
   "outputs": [],
   "source": [
    "%matplotlib inline\n",
    "import numpy as np\n",
    "import pandas as pd\n",
    "import pickle\n",
    "import json\n",
    "from no_stocks_distribution_model import *\n",
    "import matplotlib.pyplot as plt\n",
    "#import statsmodels.tsa.stattools as ts\n",
    "from init_objects import *\n",
    "from functions.stylizedfacts import *\n",
    "from functions.helpers import organise_data\n",
    "#from functions.evolutionaryalgo import quadratic_loss_function\n",
    "from functions.inequality import gini, lorenz_curve\n",
    "from distribution_model import *\n",
    "\n",
    "import statsmodels.api as sm\n",
    "from SALib.sample import latin\n",
    "from matplotlib import style\n",
    "from collections import OrderedDict\n",
    "from functions.indirect_calibration import distr_model_performance\n",
    "import seaborn as sns\n",
    "import scipy.stats as stats\n",
    "import scipy\n",
    "from functions.find_bubbles import *\n",
    "from statsmodels.iolib.summary2 import summary_col"
   ]
  },
  {
   "cell_type": "code",
   "execution_count": 2,
   "metadata": {},
   "outputs": [],
   "source": [
    "style.use('ggplot')"
   ]
  },
  {
   "cell_type": "markdown",
   "metadata": {},
   "source": [
    "# Experiment change share of chartists. "
   ]
  },
  {
   "cell_type": "code",
   "execution_count": 31,
   "metadata": {},
   "outputs": [],
   "source": [
    "with open('parameters.json', 'r') as f:\n",
    "    params = json.loads(f.read())"
   ]
  },
  {
   "cell_type": "code",
   "execution_count": 32,
   "metadata": {},
   "outputs": [
    {
     "data": {
      "text/plain": [
       "{'ticks': 850,\n",
       " 'fundamental_value': 166,\n",
       " 'n_traders': 500,\n",
       " 'std_fundamental': 0.0530163128919286,\n",
       " 'spread_max': 0.004087,\n",
       " 'init_stocks': 50,\n",
       " 'trader_sample_size': 19,\n",
       " 'horizon': 100,\n",
       " 'trades_per_tick': 3,\n",
       " 'std_noise': 0.15863974,\n",
       " 'w_random': 0.056454,\n",
       " 'strat_share_chartists': 0.20454462,\n",
       " 'base_risk_aversion': 6.05054016,\n",
       " 'fundamentalist_horizon_multiplier': 2.22042767,\n",
       " 'mutation_intensity': 0.47684635,\n",
       " 'average_learning_ability': 0.9962696}"
      ]
     },
     "execution_count": 32,
     "metadata": {},
     "output_type": "execute_result"
    }
   ],
   "source": [
    "params"
   ]
  },
  {
   "cell_type": "markdown",
   "metadata": {},
   "source": [
    "Fix the learning ability at 0.0"
   ]
  },
  {
   "cell_type": "code",
   "execution_count": 57,
   "metadata": {},
   "outputs": [],
   "source": [
    "params['average_learning_ability'] = 0.0\n",
    "params['mutation_intensity'] = 0.0\n",
    "params['ticks'] = 850\n",
    "params['fundamentalist_horizon_multiplier'] = 0.5"
   ]
  },
  {
   "cell_type": "code",
   "execution_count": 58,
   "metadata": {},
   "outputs": [],
   "source": [
    "NRUNS = 1"
   ]
  },
  {
   "cell_type": "markdown",
   "metadata": {},
   "source": [
    "Increment the share of chartists from 0.0 to 100"
   ]
  },
  {
   "cell_type": "code",
   "execution_count": 59,
   "metadata": {},
   "outputs": [],
   "source": [
    "share_chartists = [x / 100.0 for x in range(5, 105, 5)]"
   ]
  },
  {
   "cell_type": "code",
   "execution_count": 60,
   "metadata": {},
   "outputs": [],
   "source": [
    "Experiments = len(share_chartists)"
   ]
  },
  {
   "cell_type": "code",
   "execution_count": 61,
   "metadata": {},
   "outputs": [
    {
     "data": {
      "text/plain": [
       "20"
      ]
     },
     "execution_count": 61,
     "metadata": {},
     "output_type": "execute_result"
    }
   ],
   "source": [
    "Experiments"
   ]
  },
  {
   "cell_type": "markdown",
   "metadata": {},
   "source": [
    "## Run model and update share chartists every time"
   ]
  },
  {
   "cell_type": "code",
   "execution_count": 62,
   "metadata": {},
   "outputs": [
    {
     "name": "stdout",
     "output_type": "stream",
     "text": [
      "Start of simulation  0\n",
      "Start of simulation  0\n",
      "Start of simulation  0\n",
      "Start of simulation  0\n",
      "Start of simulation  0\n",
      "Start of simulation  0\n",
      "Start of simulation  0\n",
      "Start of simulation  0\n",
      "Start of simulation  0\n",
      "Start of simulation  0\n",
      "Start of simulation  0\n",
      "Start of simulation  0\n",
      "Start of simulation  0\n",
      "Start of simulation  0\n",
      "Start of simulation  0\n",
      "Start of simulation  0\n",
      "Start of simulation  0\n",
      "Start of simulation  0\n",
      "Start of simulation  0\n",
      "Start of simulation  0\n"
     ]
    }
   ],
   "source": [
    "trdrs = []\n",
    "orbs = []\n",
    "for exp in range(Experiments):\n",
    "    params['strat_share_chartists'] = share_chartists[exp]\n",
    "    for seed in range(NRUNS): \n",
    "        traders, orderbook = init_objects_distr(params, seed)\n",
    "        #traders, orderbook = pb_distr_model(traders, orderbook, params, seed)\n",
    "        traders, orderbook = pb_distr_model_no_stocks(traders, orderbook, params, seed)\n",
    "        trdrs.append(traders)\n",
    "        orbs.append(orderbook)"
   ]
  },
  {
   "cell_type": "code",
   "execution_count": 63,
   "metadata": {},
   "outputs": [],
   "source": [
    "full_share_chartists = []\n",
    "for exp in range(Experiments):\n",
    "    for seed in range(NRUNS):\n",
    "        full_share_chartists.append(share_chartists[exp])"
   ]
  },
  {
   "cell_type": "markdown",
   "metadata": {},
   "source": [
    "Structure the data"
   ]
  },
  {
   "cell_type": "code",
   "execution_count": 64,
   "metadata": {},
   "outputs": [
    {
     "name": "stdout",
     "output_type": "stream",
     "text": [
      "Negative values founds, check calculation\n",
      "Negative values founds, check calculation\n",
      "Negative values founds, check calculation\n",
      "Negative values founds, check calculation\n",
      "Negative values founds, check calculation\n",
      "Negative values founds, check calculation\n",
      "Negative values founds, check calculation\n",
      "Negative values founds, check calculation\n",
      "Negative values founds, check calculation\n"
     ]
    }
   ],
   "source": [
    "ginis = []\n",
    "palmas = []\n",
    "twtws = []\n",
    "asset_price_inflation = []\n",
    "price_to_div_stdev = []\n",
    "\n",
    "for idx, traders in enumerate(trdrs):\n",
    "    #print(t)\n",
    "    money = np.array([x.var.money[-1] for x in trdrs[idx]])\n",
    "    stocks = np.array([x.var.stocks[-1] for x in trdrs[idx]])\n",
    "    wealth = money + (stocks * orbs[idx].tick_close_price[-1])\n",
    "    \n",
    "    asset_price_inflation.append(orbs[idx].tick_close_price[-1] - orbs[idx].tick_close_price[0])\n",
    "    price_to_div_stdev.append((pd.Series(orbs[idx].tick_close_price) / pd.Series(orbs[idx].fundamental[1:])).std())\n",
    "    \n",
    "    share_top_10 = sum(np.sort(wealth)[int(len(wealth) * 0.9):]) / sum(wealth)\n",
    "    share_bottom_40 = sum(np.sort(wealth)[:int(len(wealth) * 0.4)]) / sum(wealth)\n",
    "    palmas.append(share_top_10 / share_bottom_40)\n",
    "    \n",
    "    share_top_20 = sum(np.sort(wealth)[int(len(wealth) * 0.8):]) / sum(wealth)\n",
    "    share_bottom_20 = sum(np.sort(wealth)[:int(len(wealth) * 0.2)]) / sum(wealth)\n",
    "    twtws.append(share_top_20 / share_bottom_20)\n",
    "    \n",
    "    ginis.append(gini(wealth))"
   ]
  },
  {
   "cell_type": "code",
   "execution_count": null,
   "metadata": {},
   "outputs": [],
   "source": [
    "# store simulated stylized facts\n",
    "mc_prices, mc_returns, mc_autocorr_returns, mc_autocorr_abs_returns, mc_volatility, mc_volume, mc_fundamentals = organise_data(\n",
    "    orbs, burn_in_period=100)\n",
    "\n",
    "obs = len(mc_fundamentals[0])\n",
    "r0 = 0.01 + 1.8 / np.sqrt(obs)\n",
    "swindow0 = int(math.floor(r0 * obs))\n",
    "dim = obs - swindow0 + 1\n",
    "IC = 2\n",
    "adflag = 6\n",
    "yr = 2\n",
    "Tb = 12 * yr + swindow0 - 1\n",
    "nboot = 99\n",
    "\n",
    "perc_bubble_occur = []\n",
    "\n",
    "for idx, col in enumerate(mc_returns):\n",
    "    pds = pd.Series(mc_prices[idx][:-1] / mc_fundamentals[idx])\n",
    "\n",
    "    obs = len(pds)\n",
    "    dim = obs - swindow0 + 1\n",
    "\n",
    "    bsadfs = PSY(pds, swindow0, IC, adflag)\n",
    "    quantilesBsadf = cvPSYwmboot(pds, swindow0, IC, adflag, Tb, nboot)\n",
    "    monitorDates = pds.iloc[swindow0 - 1:obs].index\n",
    "    quantile95 = np.dot(np.array([quantilesBsadf]).T, np.ones([1, dim]))\n",
    "    ind95 = (bsadfs.T[0] > quantile95[1,])\n",
    "    periods = monitorDates[ind95]\n",
    "\n",
    "    if True in ind95:\n",
    "        bubbly_dates = find_sequences_ints(periods, monitorDates)\n",
    "        perc_bubble_occur.append(len(periods) / float(len(monitorDates)))\n",
    "    else: \n",
    "        perc_bubble_occur.append(0.0)"
   ]
  },
  {
   "cell_type": "code",
   "execution_count": 52,
   "metadata": {},
   "outputs": [
    {
     "name": "stderr",
     "output_type": "stream",
     "text": [
      "c:\\users\\joerischasfoort\\appdata\\local\\programs\\python\\python36\\lib\\site-packages\\ipykernel_launcher.py:5: RuntimeWarning: invalid value encountered in log\n",
      "  \"\"\"\n"
     ]
    }
   ],
   "source": [
    "# data = pd.DataFrame({'gini': np.log(ginis[:]), 'palma': np.log(palmas[:]), 'twtw': np.log(twtws[:]), 'pd_vol': price_to_div_stdev[:],\n",
    "#                      'share_chartists': np.log(full_share_chartists[:]), 'perc_b_occur': perc_bubble_occur,\n",
    "#                      'lin_share_chartists': full_share_chartists[:], 'asset_price_infl': asset_price_inflation[:]})\n",
    "\n",
    "data = pd.DataFrame({'gini': np.log(ginis[:]), 'palma': np.log(palmas[:]), 'twtw': np.log(twtws[:]), 'pd_vol': price_to_div_stdev[:],\n",
    "                     'share_chartists': np.log(full_share_chartists[:]),\n",
    "                     'lin_share_chartists': full_share_chartists[:], 'asset_price_infl': asset_price_inflation[:]})\n",
    "data['const'] = 1"
   ]
  },
  {
   "cell_type": "code",
   "execution_count": 65,
   "metadata": {},
   "outputs": [],
   "source": [
    "# Get the t-critical value**\n",
    "def confidence_interval(sample, emp_value):\n",
    "    \"\"\"Calculate confidence_interval in sample\"\"\"\n",
    "    z_critical = stats.norm.ppf(q = 0.99)\n",
    "    stdev = pd.Series(sample).std()\n",
    "    margin_of_error = z_critical * stdev\n",
    "    confidence_interval = (emp_value - margin_of_error, emp_value + margin_of_error)  \n",
    "    return confidence_interval"
   ]
  },
  {
   "cell_type": "code",
   "execution_count": 67,
   "metadata": {},
   "outputs": [
    {
     "data": {
      "image/png": "[encoded data removed]",
      "text/plain": [
       "<Figure size 1152x288 with 3 Axes>"
      ]
     },
     "metadata": {},
     "output_type": "display_data"
    }
   ],
   "source": [
    "fig, (ax1, ax2, ax3) = plt.subplots(1, 3, figsize=[16,4])\n",
    "\n",
    "# ax1.scatter(range(len(ginis)), ginis)\n",
    "# ax2.scatter(range(len(palmas)), palmas)\n",
    "# ax3.scatter(range(len(twtws)), twtws)\n",
    "\n",
    "ax1.scatter(data['lin_share_chartists'], ginis)\n",
    "ax2.scatter(data['lin_share_chartists'], palmas)\n",
    "ax3.scatter(data['lin_share_chartists'], twtws)\n",
    "#ax2.scatter(range(len(palmas)), palmas)\n",
    "#ax3.scatter(range(len(twtws)), twtws)\n",
    "\n",
    "ax3.set_title('Twenty-twenty ratio')\n",
    "ax2.set_title('Palma ratio')\n",
    "ax1.set_title('Gini coefficient')\n",
    "\n",
    "for ax in [ax1, ax2, ax3]:\n",
    "    ax.set_xlabel('Share chartists')\n",
    "\n",
    "#fig.savefig('share_chartists_inequality.png', dpi=200, bbox_inches = 'tight', pad_inches = 0)"
   ]
  },
  {
   "cell_type": "code",
   "execution_count": null,
   "metadata": {},
   "outputs": [],
   "source": [
    "pd.Series(perc_bubble_occur).plot()"
   ]
  },
  {
   "cell_type": "code",
   "execution_count": null,
   "metadata": {},
   "outputs": [],
   "source": [
    "fig, (ax1, ax2) = plt.subplots(1, 2, figsize=[16,4])\n",
    "\n",
    "ax1.scatter(data['lin_share_chartists'], asset_price_inflation)\n",
    "ax2.scatter(data['lin_share_chartists'], perc_bubble_occur)\n",
    "\n",
    "\n",
    "ax1.set_title('Asset_price_inflation')\n",
    "ax2.set_title('Percentage bubble occur')\n",
    "\n",
    "for ax in [ax1, ax2]:\n",
    "    ax.set_xlabel('Share chartists')\n",
    "    \n",
    "fig.savefig('share_chartists_prices_bubbles.png', dpi=200, bbox_inches = 'tight', pad_inches = 0)"
   ]
  },
  {
   "cell_type": "markdown",
   "metadata": {},
   "source": [
    "## Regression\n"
   ]
  },
  {
   "cell_type": "code",
   "execution_count": 22,
   "metadata": {},
   "outputs": [],
   "source": [
    "gini_res = sm.OLS(endog=data['gini'], exog=data[['const', 'share_chartists']], missing='drop').fit()\n",
    "palma_res = sm.OLS(endog=data['palma'], exog=data[['const', 'share_chartists']], missing='drop').fit()\n",
    "twtw_res = sm.OLS(endog=data['twtw'], exog=data[['const', 'share_chartists']], missing='drop').fit()\n",
    "asset_p_inf_res = sm.OLS(endog=data['asset_price_infl'], exog=data[['const', 'lin_share_chartists']], missing='drop').fit()\n",
    "#pd_stdev_res = sm.OLS(endog=data['pd_vol'], exog=data[['const', 'lin_share_chartists']], missing='drop').fit()\n",
    "#perc_bubble_res = sm.OLS(endog=data['perc_b_occur'], exog=data[['const', 'share_chartists']], missing='drop').fit()"
   ]
  },
  {
   "cell_type": "code",
   "execution_count": 24,
   "metadata": {},
   "outputs": [
    {
     "name": "stdout",
     "output_type": "stream",
     "text": [
      "                          Table - OLS Regressions\n",
      "===========================================================================\n",
      "                         Gini               Palma              20-20       \n",
      "---------------------------------------------------------------------------\n",
      "const            -1.4957***          0.0415              1.9169***         \n",
      "                 (0.0152)            (0.0776)            (0.1064)          \n",
      "share_chartists  -0.0233*            0.1901***           0.3146***         \n",
      "                 (0.0128)            (0.0541)            (0.0733)          \n",
      "R-squared        0.05393482046697562 0.24539021387486104 0.3321805549618282\n",
      "No. observations 60                  40                  39                \n",
      "===========================================================================\n",
      "Standard errors in parentheses.\n",
      "* p<.1, ** p<.05, ***p<.01\n"
     ]
    }
   ],
   "source": [
    "info_dict={'R-squared' : lambda x: \"{}\".format(x.rsquared), \n",
    "           'No. observations' : lambda x: \"{}\".format(int(x.nobs))}\n",
    "\n",
    "results_table = summary_col(results=[gini_res, palma_res, twtw_res],\n",
    "                            float_format='%0.4f',\n",
    "                            stars = True,\n",
    "                            model_names=['Gini', 'Palma', '20-20'],\n",
    "                            info_dict=info_dict,\n",
    "                            regressor_order=['const', 'share_chartists'])\n",
    "\n",
    "results_table.add_title('Table - OLS Regressions')\n",
    "\n",
    "print(results_table)"
   ]
  },
  {
   "cell_type": "code",
   "execution_count": null,
   "metadata": {},
   "outputs": [],
   "source": [
    "# info_dict={'R-squared' : lambda x: \"{}\".format(x.rsquared), \n",
    "#            'No. observations' : lambda x: \"{}\".format(int(x.nobs))}\n",
    "\n",
    "# results_table = summary_col(results=[gini_res, palma_res, twtw_res, asset_p_inf_res, perc_bubble_res],\n",
    "#                             float_format='%0.4f',\n",
    "#                             stars = True,\n",
    "#                             model_names=['Gini', 'Palma', '20-20', 'Asset-price inflation', 'Bubble occur'],\n",
    "#                             info_dict=info_dict,\n",
    "#                             regressor_order=['const', 'share_chartists'])\n",
    "\n",
    "# results_table.add_title('Table - OLS Regressions')\n",
    "\n",
    "# print(results_table)"
   ]
  },
  {
   "cell_type": "markdown",
   "metadata": {},
   "source": [
    "# Experiment 2\n",
    "\n",
    "Hypothesis, income inequality is a consequence of price fluctuations: \n",
    "\n",
    "Everyone is a fundamentalist. High noise "
   ]
  },
  {
   "cell_type": "code",
   "execution_count": 19,
   "metadata": {},
   "outputs": [],
   "source": [
    "params['strat_share_chartists'] = 0.001\n",
    "params['average_learning_ability'] = 0.0\n",
    "params['fundamentalist_horizon_multiplier'] = 0.2"
   ]
  },
  {
   "cell_type": "code",
   "execution_count": 23,
   "metadata": {},
   "outputs": [],
   "source": [
    "stdev_fundamental = [x / 10.0 for x in range(5, 105, 20)]"
   ]
  },
  {
   "cell_type": "code",
   "execution_count": 26,
   "metadata": {},
   "outputs": [
    {
     "name": "stdout",
     "output_type": "stream",
     "text": [
      "Start of simulation  0\n",
      "Start of simulation  1\n",
      "Start of simulation  2\n",
      "Start of simulation  3\n",
      "Start of simulation  4\n"
     ]
    }
   ],
   "source": [
    "trdrs = []\n",
    "orbs = []\n",
    "for seed in range(NRUNS): \n",
    "    params['std_fundamental'] = stdev_fundamental[seed]\n",
    "    traders, orderbook = init_objects_distr(params, seed)\n",
    "    traders, orderbook = pb_distr_model(traders, orderbook, params, seed)\n",
    "    trdrs.append(traders)\n",
    "    orbs.append(orderbook)"
   ]
  },
  {
   "cell_type": "code",
   "execution_count": 27,
   "metadata": {},
   "outputs": [],
   "source": [
    "ginis = []\n",
    "palmas = []\n",
    "twtws = []\n",
    "asset_price_inflation = []\n",
    "price_to_div_stdev = []\n",
    "\n",
    "for idx, traders in enumerate(trdrs):\n",
    "    #print(t)\n",
    "    money = np.array([x.var.money[-1] for x in trdrs[idx]])\n",
    "    stocks = np.array([x.var.stocks[-1] for x in trdrs[idx]])\n",
    "    wealth = money + (stocks * orbs[idx].tick_close_price[-1])\n",
    "    \n",
    "    asset_price_inflation.append(orbs[idx].tick_close_price[-1] - orbs[idx].tick_close_price[0])\n",
    "    price_to_div_stdev.append((pd.Series(orbs[idx].tick_close_price) / pd.Series(orbs[idx].fundamental[1:])).std())\n",
    "    \n",
    "    share_top_10 = sum(np.sort(wealth)[int(len(wealth) * 0.9):]) / sum(wealth)\n",
    "    share_bottom_40 = sum(np.sort(wealth)[:int(len(wealth) * 0.4)]) / sum(wealth)\n",
    "    palmas.append(share_top_10 / share_bottom_40)\n",
    "    \n",
    "    share_top_20 = sum(np.sort(wealth)[int(len(wealth) * 0.8):]) / sum(wealth)\n",
    "    share_bottom_20 = sum(np.sort(wealth)[:int(len(wealth) * 0.2)]) / sum(wealth)\n",
    "    twtws.append(share_top_20 / share_bottom_20)\n",
    "    \n",
    "    ginis.append(gini(wealth))"
   ]
  },
  {
   "cell_type": "code",
   "execution_count": 28,
   "metadata": {},
   "outputs": [],
   "source": [
    "data = pd.DataFrame({'gini': np.log(ginis[1:]), 'palma': np.log(palmas[1:]), 'twtw': np.log(twtws[1:]), 'pd_vol': price_to_div_stdev[1:],\n",
    "                     'stdev_fund': np.log(stdev_fundamental[1:]), 'lin_stdev_fund': stdev_fundamental[1:], 'asset_price_infl': asset_price_inflation[1:]})\n",
    "data['const'] = 1"
   ]
  },
  {
   "cell_type": "code",
   "execution_count": 29,
   "metadata": {},
   "outputs": [
    {
     "data": {
      "image/png": "[encoded data removed]",
      "text/plain": [
       "<Figure size 1152x288 with 3 Axes>"
      ]
     },
     "metadata": {},
     "output_type": "display_data"
    }
   ],
   "source": [
    "fig, (ax1, ax2, ax3) = plt.subplots(1, 3, figsize=[16,4])\n",
    "\n",
    "ax1.scatter(range(len(ginis)), ginis)\n",
    "ax2.scatter(range(len(palmas)), palmas)\n",
    "ax3.scatter(range(len(twtws)), twtws)\n",
    "\n",
    "ax3.set_title('Twenty-twenty ratio')\n",
    "ax2.set_title('Palma ratio')\n",
    "ax1.set_title('Gini coefficient')\n",
    "\n",
    "for ax in [ax1, ax2, ax3]:\n",
    "    ax.set_xlabel('Simulation')\n"
   ]
  },
  {
   "cell_type": "code",
   "execution_count": 30,
   "metadata": {},
   "outputs": [
    {
     "data": {
      "image/png": "[encoded data removed]",
      "text/plain": [
       "<Figure size 1152x288 with 2 Axes>"
      ]
     },
     "metadata": {},
     "output_type": "display_data"
    }
   ],
   "source": [
    "fig, (ax1, ax2) = plt.subplots(1, 2, figsize=[16,4])\n",
    "\n",
    "ax1.scatter(range(len(asset_price_inflation)), asset_price_inflation)\n",
    "ax2.scatter(range(len(price_to_div_stdev)), price_to_div_stdev)\n",
    "\n",
    "\n",
    "ax1.set_title('asset_price_inflation')\n",
    "ax2.set_title('price_to_fun_stdev')\n",
    "\n",
    "for ax in [ax1, ax2, ax3]:\n",
    "    ax.set_xlabel('Simulation')"
   ]
  },
  {
   "cell_type": "code",
   "execution_count": 31,
   "metadata": {},
   "outputs": [
    {
     "data": {
      "text/plain": [
       "Text(0, 0.5, 'PF ratio')"
      ]
     },
     "execution_count": 31,
     "metadata": {},
     "output_type": "execute_result"
    },
    {
     "data": {
      "image/png": "[encoded data removed]",
      "text/plain": [
       "<Figure size 864x432 with 2 Axes>"
      ]
     },
     "metadata": {},
     "output_type": "display_data"
    }
   ],
   "source": [
    "fig, (ax1, ax2) = plt.subplots(1, 2, figsize=(12,6))\n",
    "\n",
    "#ax1.plot(mc_returns.index, mc_returns[1], label='returns')\n",
    "ax1.plot(range(len(orbs[idx].fundamental[1:])), orbs[idx].fundamental[1:], label='fundamental')\n",
    "ax1.plot(range(len(orbs[idx].tick_close_price[1:])), orbs[idx].tick_close_price[1:], label='fundamental')\n",
    "\n",
    "ax1.set_xlabel('Simulation time', fontsize='14')\n",
    "ax1.set_ylabel('PF ratio', fontsize='14')\n",
    "\n"
   ]
  },
  {
   "cell_type": "code",
   "execution_count": null,
   "metadata": {},
   "outputs": [],
   "source": []
  }
 ],
 "metadata": {
  "kernelspec": {
   "display_name": "Python 3",
   "language": "python",
   "name": "python3"
  },
  "language_info": {
   "codemirror_mode": {
    "name": "ipython",
    "version": 3
   },
   "file_extension": ".py",
   "mimetype": "text/x-python",
   "name": "python",
   "nbconvert_exporter": "python",
   "pygments_lexer": "ipython3",
   "version": "3.6.8"
  }
 },
 "nbformat": 4,
 "nbformat_minor": 2
}

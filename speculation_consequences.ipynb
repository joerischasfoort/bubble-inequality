{
 "cells": [
  {
   "cell_type": "code",
   "execution_count": 1,
   "metadata": {},
   "outputs": [],
   "source": [
    "%matplotlib inline\n",
    "import numpy as np\n",
    "import pandas as pd\n",
    "import pickle\n",
    "import json\n",
    "import matplotlib.pyplot as plt\n",
    "#import statsmodels.tsa.stattools as ts\n",
    "from init_objects import *\n",
    "from functions.stylizedfacts import *\n",
    "from functions.helpers import organise_data\n",
    "#from functions.evolutionaryalgo import quadratic_loss_function\n",
    "from functions.inequality import gini, lorenz_curve\n",
    "from distribution_model import *\n",
    "import statsmodels.api as sm\n",
    "from SALib.sample import latin\n",
    "from matplotlib import style\n",
    "from collections import OrderedDict\n",
    "from functions.indirect_calibration import distr_model_performance\n",
    "import seaborn as sns\n",
    "import scipy.stats as stats\n",
    "import scipy\n",
    "from functions.find_bubbles import *\n",
    "from statsmodels.iolib.summary2 import summary_col"
   ]
  },
  {
   "cell_type": "code",
   "execution_count": 2,
   "metadata": {},
   "outputs": [],
   "source": [
    "style.use('ggplot')"
   ]
  },
  {
   "cell_type": "markdown",
   "metadata": {},
   "source": [
    "# Effects of trend-following expectations on inequality"
   ]
  },
  {
   "cell_type": "code",
   "execution_count": 3,
   "metadata": {},
   "outputs": [],
   "source": [
    "NRUNS = 10"
   ]
  },
  {
   "cell_type": "code",
   "execution_count": 4,
   "metadata": {},
   "outputs": [],
   "source": [
    "with open('parameters.json', 'r') as f:\n",
    "    params = json.loads(f.read())"
   ]
  },
  {
   "cell_type": "code",
   "execution_count": 5,
   "metadata": {},
   "outputs": [
    {
     "data": {
      "text/plain": [
       "{'ticks': 850,\n",
       " 'fundamental_value': 166,\n",
       " 'n_traders': 500,\n",
       " 'std_fundamental': 0.0530163128919286,\n",
       " 'spread_max': 0.004087,\n",
       " 'init_stocks': 50,\n",
       " 'trader_sample_size': 19,\n",
       " 'horizon': 100,\n",
       " 'trades_per_tick': 3,\n",
       " 'std_noise': 0.15863974,\n",
       " 'w_random': 0.056454,\n",
       " 'strat_share_chartists': 0.20454462,\n",
       " 'base_risk_aversion': 6.05054016,\n",
       " 'fundamentalist_horizon_multiplier': 2.22042767,\n",
       " 'mutation_intensity': 0.47684635,\n",
       " 'average_learning_ability': 0.9962696}"
      ]
     },
     "execution_count": 5,
     "metadata": {},
     "output_type": "execute_result"
    }
   ],
   "source": [
    "params"
   ]
  },
  {
   "cell_type": "code",
   "execution_count": 6,
   "metadata": {},
   "outputs": [],
   "source": [
    "burn_in_period = 0"
   ]
  },
  {
   "cell_type": "markdown",
   "metadata": {},
   "source": [
    "### Run model"
   ]
  },
  {
   "cell_type": "code",
   "execution_count": 52,
   "metadata": {},
   "outputs": [
    {
     "name": "stdout",
     "output_type": "stream",
     "text": [
      "Start of simulation  0\n",
      "Start of simulation  1\n",
      "Start of simulation  2\n",
      "Start of simulation  3\n",
      "Start of simulation  4\n",
      "Start of simulation  5\n",
      "Start of simulation  6\n",
      "Start of simulation  7\n",
      "Start of simulation  8\n",
      "Start of simulation  9\n",
      "Start of simulation  10\n",
      "Start of simulation  11\n",
      "Start of simulation  12\n",
      "Start of simulation  13\n",
      "Start of simulation  14\n",
      "Start of simulation  15\n",
      "Start of simulation  16\n",
      "Start of simulation  17\n",
      "Start of simulation  18\n",
      "Start of simulation  19\n"
     ]
    }
   ],
   "source": [
    "trdrs = []\n",
    "orbs = []\n",
    "for seed in range(NRUNS): \n",
    "    traders, orderbook = init_objects_distr(params, seed)\n",
    "    traders, orderbook = pb_distr_model(traders, orderbook, params, seed)\n",
    "    trdrs.append(traders)\n",
    "    orbs.append(orderbook)"
   ]
  },
  {
   "cell_type": "markdown",
   "metadata": {},
   "source": [
    "## Create the dataframe:\n",
    "\n",
    "Columns: Gini, Palma, TwentyTwenty, share_chartist_expectations, Time_dummies "
   ]
  },
  {
   "cell_type": "code",
   "execution_count": 71,
   "metadata": {},
   "outputs": [],
   "source": [
    "#wealth_ot = []\n",
    "ginis_ot = []\n",
    "palmas_ot = []\n",
    "twtws_ot = []\n",
    "share_ch_ot = []\n",
    "time = []\n",
    "seed = []\n",
    "\n",
    "for idx, traders in enumerate(trdrs):\n",
    "    for t in range(params['ticks']):\n",
    "        money = np.array([x.var.money[t] for x in traders])\n",
    "        stocks = np.array([x.var.stocks[t] for x in traders])\n",
    "        wealth = money + (stocks * orbs[idx].tick_close_price[t])\n",
    "\n",
    "        share_top_10 = sum(np.sort(wealth)[int(len(wealth) * 0.9):]) / sum(wealth)\n",
    "        share_bottom_40 = sum(np.sort(wealth)[:int(len(wealth) * 0.4)]) / sum(wealth)\n",
    "        palmas_ot.append(share_top_10 / share_bottom_40)\n",
    "\n",
    "        share_top_20 = np.mean(np.sort(wealth)[int(len(wealth) * 0.8):])\n",
    "        share_bottom_20 = np.mean(np.sort(wealth)[:int(len(wealth) * 0.2)])\n",
    "        twtws_ot.append(share_top_20 / share_bottom_20)\n",
    "\n",
    "        ginis_ot.append(gini(wealth))\n",
    "        \n",
    "        sh_ch = sum([x.var.weight_chartist[t] / (x.var.weight_chartist[t] + x.var.weight_fundamentalist[t]) for x in traders]) / float(len(traders))\n",
    "    \n",
    "        share_ch_ot.append(sh_ch)\n",
    "        \n",
    "        seed.append(idx)\n",
    "        \n",
    "        time.append(t)"
   ]
  },
  {
   "cell_type": "code",
   "execution_count": 72,
   "metadata": {},
   "outputs": [],
   "source": [
    "chart_df = pd.DataFrame({'gini': ginis_ot, 'palma': palmas_ot, 'twtw': twtws_ot, 'share_ch': share_ch_ot, 'time': time, 'seed': seed})\n",
    "chart_df['const'] = 1"
   ]
  },
  {
   "cell_type": "code",
   "execution_count": 73,
   "metadata": {},
   "outputs": [
    {
     "data": {
      "text/html": [
       "<div>\n",
       "<style scoped>\n",
       "    .dataframe tbody tr th:only-of-type {\n",
       "        vertical-align: middle;\n",
       "    }\n",
       "\n",
       "    .dataframe tbody tr th {\n",
       "        vertical-align: top;\n",
       "    }\n",
       "\n",
       "    .dataframe thead th {\n",
       "        text-align: right;\n",
       "    }\n",
       "</style>\n",
       "<table border=\"1\" class=\"dataframe\">\n",
       "  <thead>\n",
       "    <tr style=\"text-align: right;\">\n",
       "      <th></th>\n",
       "      <th>gini</th>\n",
       "      <th>palma</th>\n",
       "      <th>twtw</th>\n",
       "      <th>share_ch</th>\n",
       "      <th>time</th>\n",
       "      <th>seed</th>\n",
       "      <th>const</th>\n",
       "    </tr>\n",
       "  </thead>\n",
       "  <tbody>\n",
       "    <tr>\n",
       "      <th>0</th>\n",
       "      <td>0.232774</td>\n",
       "      <td>0.710790</td>\n",
       "      <td>3.802262</td>\n",
       "      <td>0.249951</td>\n",
       "      <td>0</td>\n",
       "      <td>0</td>\n",
       "      <td>1</td>\n",
       "    </tr>\n",
       "    <tr>\n",
       "      <th>1</th>\n",
       "      <td>0.232770</td>\n",
       "      <td>0.710788</td>\n",
       "      <td>3.802228</td>\n",
       "      <td>0.250423</td>\n",
       "      <td>1</td>\n",
       "      <td>0</td>\n",
       "      <td>1</td>\n",
       "    </tr>\n",
       "    <tr>\n",
       "      <th>2</th>\n",
       "      <td>0.232762</td>\n",
       "      <td>0.710746</td>\n",
       "      <td>3.801719</td>\n",
       "      <td>0.251104</td>\n",
       "      <td>2</td>\n",
       "      <td>0</td>\n",
       "      <td>1</td>\n",
       "    </tr>\n",
       "    <tr>\n",
       "      <th>3</th>\n",
       "      <td>0.232744</td>\n",
       "      <td>0.710647</td>\n",
       "      <td>3.800505</td>\n",
       "      <td>0.250430</td>\n",
       "      <td>3</td>\n",
       "      <td>0</td>\n",
       "      <td>1</td>\n",
       "    </tr>\n",
       "    <tr>\n",
       "      <th>4</th>\n",
       "      <td>0.232729</td>\n",
       "      <td>0.710569</td>\n",
       "      <td>3.799533</td>\n",
       "      <td>0.250991</td>\n",
       "      <td>4</td>\n",
       "      <td>0</td>\n",
       "      <td>1</td>\n",
       "    </tr>\n",
       "  </tbody>\n",
       "</table>\n",
       "</div>"
      ],
      "text/plain": [
       "       gini     palma      twtw  share_ch  time  seed  const\n",
       "0  0.232774  0.710790  3.802262  0.249951     0     0      1\n",
       "1  0.232770  0.710788  3.802228  0.250423     1     0      1\n",
       "2  0.232762  0.710746  3.801719  0.251104     2     0      1\n",
       "3  0.232744  0.710647  3.800505  0.250430     3     0      1\n",
       "4  0.232729  0.710569  3.799533  0.250991     4     0      1"
      ]
     },
     "execution_count": 73,
     "metadata": {},
     "output_type": "execute_result"
    }
   ],
   "source": [
    "#chart_df = pd.get_dummies(chart_df, columns = ['time'], drop_first=True)\n",
    "chart_df.head()"
   ]
  },
  {
   "cell_type": "markdown",
   "metadata": {},
   "source": [
    "### Scatter plot"
   ]
  },
  {
   "cell_type": "code",
   "execution_count": 74,
   "metadata": {},
   "outputs": [
    {
     "data": {
      "text/plain": [
       "Text(0.5, 1.0, 'twtw')"
      ]
     },
     "execution_count": 74,
     "metadata": {},
     "output_type": "execute_result"
    },
    {
     "data": {
      "image/png": "[encoded data removed]",
      "text/plain": [
       "<Figure size 1008x288 with 3 Axes>"
      ]
     },
     "metadata": {},
     "output_type": "display_data"
    }
   ],
   "source": [
    "fig, (ax1, ax2, ax3) = plt.subplots(1, 3, figsize=[14,4])\n",
    "\n",
    "ax1.scatter(chart_df['share_ch'], chart_df['gini'])\n",
    "ax2.scatter(chart_df['share_ch'], chart_df['palma'])\n",
    "ax3.scatter(chart_df['share_ch'], chart_df['twtw'])\n",
    "\n",
    "ax1.set_title('gini')\n",
    "ax2.set_title('palma')\n",
    "ax3.set_title('twtw')"
   ]
  },
  {
   "cell_type": "markdown",
   "metadata": {},
   "source": [
    "## Regression model: \n",
    "\n",
    "$c_{i,t} = \\alpha_i + \\beta_{i} C_{i,t} + \\beta_{t} \\delta_t + \\epsilon_{i,t}$"
   ]
  },
  {
   "cell_type": "code",
   "execution_count": 75,
   "metadata": {},
   "outputs": [],
   "source": [
    "cols = [x for x in chart_df.columns if x not in['gini', 'palma', 'twtw']]"
   ]
  },
  {
   "cell_type": "code",
   "execution_count": 76,
   "metadata": {},
   "outputs": [],
   "source": [
    "gini_res = sm.OLS(endog=chart_df['gini'], exog=chart_df[cols], missing='drop').fit()\n",
    "palma_res = sm.OLS(endog=chart_df['palma'], exog=chart_df[cols], missing='drop').fit()\n",
    "twtw_res = sm.OLS(endog=chart_df['twtw'], exog=chart_df[cols], missing='drop').fit()"
   ]
  },
  {
   "cell_type": "code",
   "execution_count": 77,
   "metadata": {},
   "outputs": [
    {
     "name": "stdout",
     "output_type": "stream",
     "text": [
      "                          Table - OLS Regressions\n",
      "============================================================================\n",
      "                         Gini               Palma               20-20       \n",
      "----------------------------------------------------------------------------\n",
      "const            0.2314***           0.6629***           3.7551***          \n",
      "                 (0.0009)            (0.0038)            (0.0204)           \n",
      "share_ch         0.0291***           0.2813***           0.5447***          \n",
      "                 (0.0035)            (0.0149)            (0.0802)           \n",
      "seed             -0.0001***          0.0001***           -0.0032***         \n",
      "                 (0.0000)            (0.0000)            (0.0003)           \n",
      "time             0.0000***           0.0000***           0.0001***          \n",
      "                 (0.0000)            (0.0000)            (0.0000)           \n",
      "R-squared        0.05621781181395713 0.07892562087752397 0.04657495750445895\n",
      "No. observations 21000               21000               21000              \n",
      "============================================================================\n",
      "Standard errors in parentheses.\n",
      "* p<.1, ** p<.05, ***p<.01\n"
     ]
    }
   ],
   "source": [
    "info_dict={'R-squared' : lambda x: \"{}\".format(x.rsquared), \n",
    "           'No. observations' : lambda x: \"{}\".format(int(x.nobs))}\n",
    "\n",
    "results_table = summary_col(results=[gini_res, palma_res, twtw_res],\n",
    "                            float_format='%0.4f',\n",
    "                            stars = True,\n",
    "                            model_names=['Gini', 'Palma', '20-20'],\n",
    "                            info_dict=info_dict,\n",
    "                            regressor_order=['const', 'share_ch'])\n",
    "\n",
    "results_table.add_title('Table - OLS Regressions')\n",
    "\n",
    "print(results_table)"
   ]
  },
  {
   "cell_type": "code",
   "execution_count": 60,
   "metadata": {},
   "outputs": [],
   "source": [
    "from linearmodels import PanelOLS\n",
    "from linearmodels import RandomEffects"
   ]
  },
  {
   "cell_type": "markdown",
   "metadata": {},
   "source": [
    "## Random effects model\n",
    "\n",
    "From: https://medium.com/pew-research-center-decoded/using-fixed-and-random-effects-models-for-panel-data-in-python-a795865736ab\n",
    "\n",
    "Ego = Gini, Palma, Twenty-twenty\n",
    "\n",
    "Endog = share_ch \n",
    "\n",
    "\n",
    "$c_{i,t} = \\beta' mm_{i,t} + u_i + \\epsilon_{i,t}$\n",
    "\n",
    "where $mm_{i,t}$ is the relative share of chartists, $u_i$ is the random seed corresponding each simulation, and $\\epsilon_{i,t}$ is the error term. ."
   ]
  },
  {
   "cell_type": "code",
   "execution_count": 78,
   "metadata": {},
   "outputs": [],
   "source": [
    "re = chart_df.copy()"
   ]
  },
  {
   "cell_type": "code",
   "execution_count": 79,
   "metadata": {},
   "outputs": [],
   "source": [
    "re = re.set_index(['seed', 'time'])"
   ]
  },
  {
   "cell_type": "code",
   "execution_count": 80,
   "metadata": {},
   "outputs": [
    {
     "data": {
      "text/html": [
       "<div>\n",
       "<style scoped>\n",
       "    .dataframe tbody tr th:only-of-type {\n",
       "        vertical-align: middle;\n",
       "    }\n",
       "\n",
       "    .dataframe tbody tr th {\n",
       "        vertical-align: top;\n",
       "    }\n",
       "\n",
       "    .dataframe thead th {\n",
       "        text-align: right;\n",
       "    }\n",
       "</style>\n",
       "<table border=\"1\" class=\"dataframe\">\n",
       "  <thead>\n",
       "    <tr style=\"text-align: right;\">\n",
       "      <th></th>\n",
       "      <th></th>\n",
       "      <th>gini</th>\n",
       "      <th>palma</th>\n",
       "      <th>twtw</th>\n",
       "      <th>share_ch</th>\n",
       "      <th>const</th>\n",
       "    </tr>\n",
       "    <tr>\n",
       "      <th>seed</th>\n",
       "      <th>time</th>\n",
       "      <th></th>\n",
       "      <th></th>\n",
       "      <th></th>\n",
       "      <th></th>\n",
       "      <th></th>\n",
       "    </tr>\n",
       "  </thead>\n",
       "  <tbody>\n",
       "    <tr>\n",
       "      <th rowspan=\"3\" valign=\"top\">0</th>\n",
       "      <th>0</th>\n",
       "      <td>0.232774</td>\n",
       "      <td>0.710790</td>\n",
       "      <td>3.802262</td>\n",
       "      <td>0.249951</td>\n",
       "      <td>1</td>\n",
       "    </tr>\n",
       "    <tr>\n",
       "      <th>1</th>\n",
       "      <td>0.232770</td>\n",
       "      <td>0.710788</td>\n",
       "      <td>3.802228</td>\n",
       "      <td>0.250423</td>\n",
       "      <td>1</td>\n",
       "    </tr>\n",
       "    <tr>\n",
       "      <th>2</th>\n",
       "      <td>0.232762</td>\n",
       "      <td>0.710746</td>\n",
       "      <td>3.801719</td>\n",
       "      <td>0.251104</td>\n",
       "      <td>1</td>\n",
       "    </tr>\n",
       "  </tbody>\n",
       "</table>\n",
       "</div>"
      ],
      "text/plain": [
       "               gini     palma      twtw  share_ch  const\n",
       "seed time                                               \n",
       "0    0     0.232774  0.710790  3.802262  0.249951      1\n",
       "     1     0.232770  0.710788  3.802228  0.250423      1\n",
       "     2     0.232762  0.710746  3.801719  0.251104      1"
      ]
     },
     "execution_count": 80,
     "metadata": {},
     "output_type": "execute_result"
    }
   ],
   "source": [
    "re.head(3)"
   ]
  },
  {
   "cell_type": "code",
   "execution_count": 81,
   "metadata": {},
   "outputs": [],
   "source": [
    "exog = sm.add_constant(re['share_ch'])\n",
    "gini_re_res = RandomEffects(re.gini, exog).fit()\n",
    "palma_re_res = RandomEffects(re.palma, exog).fit()\n",
    "twtw_re_res = RandomEffects(re.twtw, exog).fit()"
   ]
  },
  {
   "cell_type": "markdown",
   "metadata": {},
   "source": [
    "### Random effect results:"
   ]
  },
  {
   "cell_type": "code",
   "execution_count": 82,
   "metadata": {},
   "outputs": [
    {
     "data": {
      "text/html": [
       "<table class=\"simpletable\">\n",
       "<caption>RandomEffects Estimation Summary</caption>\n",
       "<tr>\n",
       "  <th>Dep. Variable:</th>          <td>gini</td>       <th>  R-squared:         </th>     <td>0.0163</td>  \n",
       "</tr>\n",
       "<tr>\n",
       "  <th>Estimator:</th>          <td>RandomEffects</td>  <th>  R-squared (Between):</th>    <td>0.0013</td>  \n",
       "</tr>\n",
       "<tr>\n",
       "  <th>No. Observations:</th>       <td>21000</td>      <th>  R-squared (Within):</th>     <td>0.0163</td>  \n",
       "</tr>\n",
       "<tr>\n",
       "  <th>Date:</th>             <td>Tue, Mar 05 2019</td> <th>  R-squared (Overall):</th>    <td>0.0041</td>  \n",
       "</tr>\n",
       "<tr>\n",
       "  <th>Time:</th>                 <td>13:52:18</td>     <th>  Log-likelihood     </th>    <td>8.545e+04</td>\n",
       "</tr>\n",
       "<tr>\n",
       "  <th>Cov. Estimator:</th>      <td>Unadjusted</td>    <th>                     </th>        <td></td>     \n",
       "</tr>\n",
       "<tr>\n",
       "  <th></th>                          <td></td>         <th>  F-statistic:       </th>     <td>347.91</td>  \n",
       "</tr>\n",
       "<tr>\n",
       "  <th>Entities:</th>                <td>20</td>        <th>  P-value            </th>     <td>0.0000</td>  \n",
       "</tr>\n",
       "<tr>\n",
       "  <th>Avg Obs:</th>               <td>1050.0</td>      <th>  Distribution:      </th>   <td>F(1,20998)</td>\n",
       "</tr>\n",
       "<tr>\n",
       "  <th>Min Obs:</th>               <td>1050.0</td>      <th>                     </th>        <td></td>     \n",
       "</tr>\n",
       "<tr>\n",
       "  <th>Max Obs:</th>               <td>1050.0</td>      <th>  F-statistic (robust):</th>   <td>347.91</td>  \n",
       "</tr>\n",
       "<tr>\n",
       "  <th></th>                          <td></td>         <th>  P-value            </th>     <td>0.0000</td>  \n",
       "</tr>\n",
       "<tr>\n",
       "  <th>Time periods:</th>           <td>1050</td>       <th>  Distribution:      </th>   <td>F(1,20998)</td>\n",
       "</tr>\n",
       "<tr>\n",
       "  <th>Avg Obs:</th>               <td>20.000</td>      <th>                     </th>        <td></td>     \n",
       "</tr>\n",
       "<tr>\n",
       "  <th>Min Obs:</th>               <td>20.000</td>      <th>                     </th>        <td></td>     \n",
       "</tr>\n",
       "<tr>\n",
       "  <th>Max Obs:</th>               <td>20.000</td>      <th>                     </th>        <td></td>     \n",
       "</tr>\n",
       "<tr>\n",
       "  <th></th>                          <td></td>         <th>                     </th>        <td></td>     \n",
       "</tr>\n",
       "</table>\n",
       "<table class=\"simpletable\">\n",
       "<caption>Parameter Estimates</caption>\n",
       "<tr>\n",
       "      <td></td>     <th>Parameter</th> <th>Std. Err.</th> <th>T-stat</th> <th>P-value</th> <th>Lower CI</th> <th>Upper CI</th>\n",
       "</tr>\n",
       "<tr>\n",
       "  <th>const</th>     <td>0.2250</td>    <td>0.0023</td>   <td>99.665</td> <td>0.0000</td>   <td>0.2206</td>   <td>0.2294</td> \n",
       "</tr>\n",
       "<tr>\n",
       "  <th>share_ch</th>  <td>0.0672</td>    <td>0.0036</td>   <td>18.652</td> <td>0.0000</td>   <td>0.0602</td>   <td>0.0743</td> \n",
       "</tr>\n",
       "</table><br/>id: 0x1f1fb229c50"
      ],
      "text/plain": [
       "                        RandomEffects Estimation Summary                        \n",
       "================================================================================\n",
       "Dep. Variable:                   gini   R-squared:                        0.0163\n",
       "Estimator:              RandomEffects   R-squared (Between):              0.0013\n",
       "No. Observations:               21000   R-squared (Within):               0.0163\n",
       "Date:                Tue, Mar 05 2019   R-squared (Overall):              0.0041\n",
       "Time:                        13:52:18   Log-likelihood                 8.545e+04\n",
       "Cov. Estimator:            Unadjusted                                           \n",
       "                                        F-statistic:                      347.91\n",
       "Entities:                          20   P-value                           0.0000\n",
       "Avg Obs:                       1050.0   Distribution:                 F(1,20998)\n",
       "Min Obs:                       1050.0                                           \n",
       "Max Obs:                       1050.0   F-statistic (robust):             347.91\n",
       "                                        P-value                           0.0000\n",
       "Time periods:                    1050   Distribution:                 F(1,20998)\n",
       "Avg Obs:                       20.000                                           \n",
       "Min Obs:                       20.000                                           \n",
       "Max Obs:                       20.000                                           \n",
       "                                                                                \n",
       "                             Parameter Estimates                              \n",
       "==============================================================================\n",
       "            Parameter  Std. Err.     T-stat    P-value    Lower CI    Upper CI\n",
       "------------------------------------------------------------------------------\n",
       "const          0.2250     0.0023     99.665     0.0000      0.2206      0.2294\n",
       "share_ch       0.0672     0.0036     18.652     0.0000      0.0602      0.0743\n",
       "==============================================================================\n",
       "RandomEffectsResults, id: 0x1f1fb229c50"
      ]
     },
     "execution_count": 82,
     "metadata": {},
     "output_type": "execute_result"
    }
   ],
   "source": [
    "gini_re_res#.variance_decomposition"
   ]
  },
  {
   "cell_type": "code",
   "execution_count": 83,
   "metadata": {},
   "outputs": [
    {
     "data": {
      "text/html": [
       "<table class=\"simpletable\">\n",
       "<caption>RandomEffects Estimation Summary</caption>\n",
       "<tr>\n",
       "  <th>Dep. Variable:</th>          <td>palma</td>      <th>  R-squared:         </th>     <td>0.0152</td>  \n",
       "</tr>\n",
       "<tr>\n",
       "  <th>Estimator:</th>          <td>RandomEffects</td>  <th>  R-squared (Between):</th>    <td>0.0257</td>  \n",
       "</tr>\n",
       "<tr>\n",
       "  <th>No. Observations:</th>       <td>21000</td>      <th>  R-squared (Within):</th>     <td>0.0152</td>  \n",
       "</tr>\n",
       "<tr>\n",
       "  <th>Date:</th>             <td>Tue, Mar 05 2019</td> <th>  R-squared (Overall):</th>    <td>0.0233</td>  \n",
       "</tr>\n",
       "<tr>\n",
       "  <th>Time:</th>                 <td>13:52:19</td>     <th>  Log-likelihood     </th>    <td>5.237e+04</td>\n",
       "</tr>\n",
       "<tr>\n",
       "  <th>Cov. Estimator:</th>      <td>Unadjusted</td>    <th>                     </th>        <td></td>     \n",
       "</tr>\n",
       "<tr>\n",
       "  <th></th>                          <td></td>         <th>  F-statistic:       </th>     <td>325.11</td>  \n",
       "</tr>\n",
       "<tr>\n",
       "  <th>Entities:</th>                <td>20</td>        <th>  P-value            </th>     <td>0.0000</td>  \n",
       "</tr>\n",
       "<tr>\n",
       "  <th>Avg Obs:</th>               <td>1050.0</td>      <th>  Distribution:      </th>   <td>F(1,20998)</td>\n",
       "</tr>\n",
       "<tr>\n",
       "  <th>Min Obs:</th>               <td>1050.0</td>      <th>                     </th>        <td></td>     \n",
       "</tr>\n",
       "<tr>\n",
       "  <th>Max Obs:</th>               <td>1050.0</td>      <th>  F-statistic (robust):</th>   <td>325.11</td>  \n",
       "</tr>\n",
       "<tr>\n",
       "  <th></th>                          <td></td>         <th>  P-value            </th>     <td>0.0000</td>  \n",
       "</tr>\n",
       "<tr>\n",
       "  <th>Time periods:</th>           <td>1050</td>       <th>  Distribution:      </th>   <td>F(1,20998)</td>\n",
       "</tr>\n",
       "<tr>\n",
       "  <th>Avg Obs:</th>               <td>20.000</td>      <th>                     </th>        <td></td>     \n",
       "</tr>\n",
       "<tr>\n",
       "  <th>Min Obs:</th>               <td>20.000</td>      <th>                     </th>        <td></td>     \n",
       "</tr>\n",
       "<tr>\n",
       "  <th>Max Obs:</th>               <td>20.000</td>      <th>                     </th>        <td></td>     \n",
       "</tr>\n",
       "<tr>\n",
       "  <th></th>                          <td></td>         <th>                     </th>        <td></td>     \n",
       "</tr>\n",
       "</table>\n",
       "<table class=\"simpletable\">\n",
       "<caption>Parameter Estimates</caption>\n",
       "<tr>\n",
       "      <td></td>     <th>Parameter</th> <th>Std. Err.</th> <th>T-stat</th> <th>P-value</th> <th>Lower CI</th> <th>Upper CI</th>\n",
       "</tr>\n",
       "<tr>\n",
       "  <th>const</th>     <td>0.6731</td>    <td>0.0097</td>   <td>69.445</td> <td>0.0000</td>   <td>0.6541</td>   <td>0.6921</td> \n",
       "</tr>\n",
       "<tr>\n",
       "  <th>share_ch</th>  <td>0.3139</td>    <td>0.0174</td>   <td>18.031</td> <td>0.0000</td>   <td>0.2798</td>   <td>0.3480</td> \n",
       "</tr>\n",
       "</table><br/>id: 0x1f1fb21a588"
      ],
      "text/plain": [
       "                        RandomEffects Estimation Summary                        \n",
       "================================================================================\n",
       "Dep. Variable:                  palma   R-squared:                        0.0152\n",
       "Estimator:              RandomEffects   R-squared (Between):              0.0257\n",
       "No. Observations:               21000   R-squared (Within):               0.0152\n",
       "Date:                Tue, Mar 05 2019   R-squared (Overall):              0.0233\n",
       "Time:                        13:52:19   Log-likelihood                 5.237e+04\n",
       "Cov. Estimator:            Unadjusted                                           \n",
       "                                        F-statistic:                      325.11\n",
       "Entities:                          20   P-value                           0.0000\n",
       "Avg Obs:                       1050.0   Distribution:                 F(1,20998)\n",
       "Min Obs:                       1050.0                                           \n",
       "Max Obs:                       1050.0   F-statistic (robust):             325.11\n",
       "                                        P-value                           0.0000\n",
       "Time periods:                    1050   Distribution:                 F(1,20998)\n",
       "Avg Obs:                       20.000                                           \n",
       "Min Obs:                       20.000                                           \n",
       "Max Obs:                       20.000                                           \n",
       "                                                                                \n",
       "                             Parameter Estimates                              \n",
       "==============================================================================\n",
       "            Parameter  Std. Err.     T-stat    P-value    Lower CI    Upper CI\n",
       "------------------------------------------------------------------------------\n",
       "const          0.6731     0.0097     69.445     0.0000      0.6541      0.6921\n",
       "share_ch       0.3139     0.0174     18.031     0.0000      0.2798      0.3480\n",
       "==============================================================================\n",
       "RandomEffectsResults, id: 0x1f1fb21a588"
      ]
     },
     "execution_count": 83,
     "metadata": {},
     "output_type": "execute_result"
    }
   ],
   "source": [
    "palma_re_res"
   ]
  },
  {
   "cell_type": "code",
   "execution_count": 84,
   "metadata": {},
   "outputs": [
    {
     "data": {
      "text/html": [
       "<table class=\"simpletable\">\n",
       "<caption>RandomEffects Estimation Summary</caption>\n",
       "<tr>\n",
       "  <th>Dep. Variable:</th>          <td>twtw</td>       <th>  R-squared:         </th>     <td>0.0146</td>  \n",
       "</tr>\n",
       "<tr>\n",
       "  <th>Estimator:</th>          <td>RandomEffects</td>  <th>  R-squared (Between):</th>    <td>0.0009</td>  \n",
       "</tr>\n",
       "<tr>\n",
       "  <th>No. Observations:</th>       <td>21000</td>      <th>  R-squared (Within):</th>     <td>0.0146</td>  \n",
       "</tr>\n",
       "<tr>\n",
       "  <th>Date:</th>             <td>Tue, Mar 05 2019</td> <th>  R-squared (Overall):</th>    <td>0.0027</td>  \n",
       "</tr>\n",
       "<tr>\n",
       "  <th>Time:</th>                 <td>13:52:19</td>     <th>  Log-likelihood     </th>    <td>2.328e+04</td>\n",
       "</tr>\n",
       "<tr>\n",
       "  <th>Cov. Estimator:</th>      <td>Unadjusted</td>    <th>                     </th>        <td></td>     \n",
       "</tr>\n",
       "<tr>\n",
       "  <th></th>                          <td></td>         <th>  F-statistic:       </th>     <td>311.60</td>  \n",
       "</tr>\n",
       "<tr>\n",
       "  <th>Entities:</th>                <td>20</td>        <th>  P-value            </th>     <td>0.0000</td>  \n",
       "</tr>\n",
       "<tr>\n",
       "  <th>Avg Obs:</th>               <td>1050.0</td>      <th>  Distribution:      </th>   <td>F(1,20998)</td>\n",
       "</tr>\n",
       "<tr>\n",
       "  <th>Min Obs:</th>               <td>1050.0</td>      <th>                     </th>        <td></td>     \n",
       "</tr>\n",
       "<tr>\n",
       "  <th>Max Obs:</th>               <td>1050.0</td>      <th>  F-statistic (robust):</th>   <td>311.60</td>  \n",
       "</tr>\n",
       "<tr>\n",
       "  <th></th>                          <td></td>         <th>  P-value            </th>     <td>0.0000</td>  \n",
       "</tr>\n",
       "<tr>\n",
       "  <th>Time periods:</th>           <td>1050</td>       <th>  Distribution:      </th>   <td>F(1,20998)</td>\n",
       "</tr>\n",
       "<tr>\n",
       "  <th>Avg Obs:</th>               <td>20.000</td>      <th>                     </th>        <td></td>     \n",
       "</tr>\n",
       "<tr>\n",
       "  <th>Min Obs:</th>               <td>20.000</td>      <th>                     </th>        <td></td>     \n",
       "</tr>\n",
       "<tr>\n",
       "  <th>Max Obs:</th>               <td>20.000</td>      <th>                     </th>        <td></td>     \n",
       "</tr>\n",
       "<tr>\n",
       "  <th></th>                          <td></td>         <th>                     </th>        <td></td>     \n",
       "</tr>\n",
       "</table>\n",
       "<table class=\"simpletable\">\n",
       "<caption>Parameter Estimates</caption>\n",
       "<tr>\n",
       "      <td></td>     <th>Parameter</th> <th>Std. Err.</th> <th>T-stat</th> <th>P-value</th> <th>Lower CI</th> <th>Upper CI</th>\n",
       "</tr>\n",
       "<tr>\n",
       "  <th>const</th>     <td>3.6233</td>    <td>0.0520</td>   <td>69.669</td> <td>0.0000</td>   <td>3.5213</td>   <td>3.7252</td> \n",
       "</tr>\n",
       "<tr>\n",
       "  <th>share_ch</th>  <td>1.2280</td>    <td>0.0696</td>   <td>17.652</td> <td>0.0000</td>   <td>1.0916</td>   <td>1.3643</td> \n",
       "</tr>\n",
       "</table><br/>id: 0x1f1fd2c92e8"
      ],
      "text/plain": [
       "                        RandomEffects Estimation Summary                        \n",
       "================================================================================\n",
       "Dep. Variable:                   twtw   R-squared:                        0.0146\n",
       "Estimator:              RandomEffects   R-squared (Between):              0.0009\n",
       "No. Observations:               21000   R-squared (Within):               0.0146\n",
       "Date:                Tue, Mar 05 2019   R-squared (Overall):              0.0027\n",
       "Time:                        13:52:19   Log-likelihood                 2.328e+04\n",
       "Cov. Estimator:            Unadjusted                                           \n",
       "                                        F-statistic:                      311.60\n",
       "Entities:                          20   P-value                           0.0000\n",
       "Avg Obs:                       1050.0   Distribution:                 F(1,20998)\n",
       "Min Obs:                       1050.0                                           \n",
       "Max Obs:                       1050.0   F-statistic (robust):             311.60\n",
       "                                        P-value                           0.0000\n",
       "Time periods:                    1050   Distribution:                 F(1,20998)\n",
       "Avg Obs:                       20.000                                           \n",
       "Min Obs:                       20.000                                           \n",
       "Max Obs:                       20.000                                           \n",
       "                                                                                \n",
       "                             Parameter Estimates                              \n",
       "==============================================================================\n",
       "            Parameter  Std. Err.     T-stat    P-value    Lower CI    Upper CI\n",
       "------------------------------------------------------------------------------\n",
       "const          3.6233     0.0520     69.669     0.0000      3.5213      3.7252\n",
       "share_ch       1.2280     0.0696     17.652     0.0000      1.0916      1.3643\n",
       "==============================================================================\n",
       "RandomEffectsResults, id: 0x1f1fd2c92e8"
      ]
     },
     "execution_count": 84,
     "metadata": {},
     "output_type": "execute_result"
    }
   ],
   "source": [
    "twtw_re_res"
   ]
  },
  {
   "cell_type": "code",
   "execution_count": null,
   "metadata": {},
   "outputs": [],
   "source": []
  },
  {
   "cell_type": "code",
   "execution_count": null,
   "metadata": {},
   "outputs": [],
   "source": []
  },
  {
   "cell_type": "code",
   "execution_count": null,
   "metadata": {},
   "outputs": [],
   "source": [
    "# using this method, set time and group as index\n",
    "\n",
    "# then exog is the variables "
   ]
  },
  {
   "cell_type": "code",
   "execution_count": null,
   "metadata": {},
   "outputs": [],
   "source": []
  },
  {
   "cell_type": "code",
   "execution_count": 19,
   "metadata": {},
   "outputs": [],
   "source": [
    "import statsmodels.api as sm\n",
    "import statsmodels.formula.api as smf"
   ]
  },
  {
   "cell_type": "code",
   "execution_count": 20,
   "metadata": {},
   "outputs": [
    {
     "data": {
      "text/html": [
       "<div>\n",
       "<style scoped>\n",
       "    .dataframe tbody tr th:only-of-type {\n",
       "        vertical-align: middle;\n",
       "    }\n",
       "\n",
       "    .dataframe tbody tr th {\n",
       "        vertical-align: top;\n",
       "    }\n",
       "\n",
       "    .dataframe thead th {\n",
       "        text-align: right;\n",
       "    }\n",
       "</style>\n",
       "<table border=\"1\" class=\"dataframe\">\n",
       "  <thead>\n",
       "    <tr style=\"text-align: right;\">\n",
       "      <th></th>\n",
       "      <th>gini</th>\n",
       "      <th>palma</th>\n",
       "      <th>seed</th>\n",
       "      <th>share_ch</th>\n",
       "      <th>time</th>\n",
       "      <th>twtw</th>\n",
       "      <th>const</th>\n",
       "    </tr>\n",
       "  </thead>\n",
       "  <tbody>\n",
       "    <tr>\n",
       "      <th>0</th>\n",
       "      <td>0.232774</td>\n",
       "      <td>0.710790</td>\n",
       "      <td>0</td>\n",
       "      <td>0.249974</td>\n",
       "      <td>0</td>\n",
       "      <td>3.802262</td>\n",
       "      <td>1</td>\n",
       "    </tr>\n",
       "    <tr>\n",
       "      <th>1</th>\n",
       "      <td>0.232774</td>\n",
       "      <td>0.710793</td>\n",
       "      <td>0</td>\n",
       "      <td>0.249061</td>\n",
       "      <td>1</td>\n",
       "      <td>3.802294</td>\n",
       "      <td>1</td>\n",
       "    </tr>\n",
       "  </tbody>\n",
       "</table>\n",
       "</div>"
      ],
      "text/plain": [
       "       gini     palma  seed  share_ch  time      twtw  const\n",
       "0  0.232774  0.710790     0  0.249974     0  3.802262      1\n",
       "1  0.232774  0.710793     0  0.249061     1  3.802294      1"
      ]
     },
     "execution_count": 20,
     "metadata": {},
     "output_type": "execute_result"
    }
   ],
   "source": [
    "chart_df.head(2)"
   ]
  },
  {
   "cell_type": "code",
   "execution_count": 29,
   "metadata": {},
   "outputs": [],
   "source": [
    "chart_df[\"Intercept\"] = 1\n",
    "exog = chart_df[[\"Intercept\", \"time\", 'share_ch']]"
   ]
  },
  {
   "cell_type": "code",
   "execution_count": 30,
   "metadata": {},
   "outputs": [
    {
     "name": "stdout",
     "output_type": "stream",
     "text": [
      "          Mixed Linear Model Regression Results\n",
      "========================================================\n",
      "Model:            MixedLM Dependent Variable: gini      \n",
      "No. Observations: 4200    Method:             REML      \n",
      "No. Groups:       4       Scale:              0.0000    \n",
      "Min. group size:  1050    Likelihood:         25197.6279\n",
      "Max. group size:  1050    Converged:          Yes       \n",
      "Mean group size:  1050.0                                \n",
      "--------------------------------------------------------\n",
      "              Coef. Std.Err.    z    P>|z| [0.025 0.975]\n",
      "--------------------------------------------------------\n",
      "Intercept     0.234    0.002 116.477 0.000  0.231  0.238\n",
      "time          0.000    0.000  99.384 0.000  0.000  0.000\n",
      "share_ch      0.016    0.001  11.793 0.000  0.013  0.018\n",
      "Intercept Var 0.000    0.020                            \n",
      "========================================================\n",
      "\n"
     ]
    }
   ],
   "source": [
    "gini_re = sm.MixedLM(chart_df[\"gini\"], exog, groups=chart_df[\"seed\"], exog_re=exog[\"Intercept\"]).fit()\n",
    "\n",
    "print(gini_re.summary())"
   ]
  },
  {
   "cell_type": "code",
   "execution_count": 34,
   "metadata": {},
   "outputs": [
    {
     "name": "stdout",
     "output_type": "stream",
     "text": [
      "          Mixed Linear Model Regression Results\n",
      "========================================================\n",
      "Model:            MixedLM Dependent Variable: palma     \n",
      "No. Observations: 4200    Method:             REML      \n",
      "No. Groups:       4       Scale:              0.0000    \n",
      "Min. group size:  1050    Likelihood:         18480.5520\n",
      "Max. group size:  1050    Converged:          Yes       \n",
      "Mean group size:  1050.0                                \n",
      "--------------------------------------------------------\n",
      "              Coef. Std.Err.    z    P>|z| [0.025 0.975]\n",
      "--------------------------------------------------------\n",
      "Intercept     0.721    0.010  74.581 0.000  0.702  0.740\n",
      "time          0.000    0.000 114.635 0.000  0.000  0.000\n",
      "share_ch      0.061    0.007   9.308 0.000  0.048  0.073\n",
      "Intercept Var 0.000    0.096                            \n",
      "========================================================\n",
      "\n"
     ]
    }
   ],
   "source": [
    "palma_re = sm.MixedLM(chart_df[\"palma\"], exog, groups=chart_df[\"seed\"], exog_re=exog[\"Intercept\"]).fit()\n",
    "\n",
    "print(palma_re.summary())"
   ]
  },
  {
   "cell_type": "code",
   "execution_count": 36,
   "metadata": {},
   "outputs": [
    {
     "name": "stdout",
     "output_type": "stream",
     "text": [
      "          Mixed Linear Model Regression Results\n",
      "========================================================\n",
      "Model:            MixedLM Dependent Variable: twtw      \n",
      "No. Observations: 4200    Method:             REML      \n",
      "No. Groups:       4       Scale:              0.0003    \n",
      "Min. group size:  1050    Likelihood:         11206.4838\n",
      "Max. group size:  1050    Converged:          Yes       \n",
      "Mean group size:  1050.0                                \n",
      "--------------------------------------------------------\n",
      "               Coef. Std.Err.   z    P>|z| [0.025 0.975]\n",
      "--------------------------------------------------------\n",
      "Intercept      3.643    0.064 56.633 0.000  3.517  3.769\n",
      "time           0.000    0.000 62.584 0.000  0.000  0.000\n",
      "share_ch       1.042    0.037 28.272 0.000  0.970  1.114\n",
      "Intercept Var  0.016    0.750                           \n",
      "========================================================\n",
      "\n"
     ]
    }
   ],
   "source": [
    "twtw_re = sm.MixedLM(chart_df[\"twtw\"], exog, groups=chart_df[\"seed\"], exog_re=exog[\"Intercept\"]).fit()\n",
    "\n",
    "print(twtw_re.summary())"
   ]
  },
  {
   "cell_type": "code",
   "execution_count": null,
   "metadata": {},
   "outputs": [],
   "source": []
  }
 ],
 "metadata": {
  "kernelspec": {
   "display_name": "Python 3",
   "language": "python",
   "name": "python3"
  },
  "language_info": {
   "codemirror_mode": {
    "name": "ipython",
    "version": 3
   },
   "file_extension": ".py",
   "mimetype": "text/x-python",
   "name": "python",
   "nbconvert_exporter": "python",
   "pygments_lexer": "ipython3",
   "version": "3.6.8"
  }
 },
 "nbformat": 4,
 "nbformat_minor": 2
}

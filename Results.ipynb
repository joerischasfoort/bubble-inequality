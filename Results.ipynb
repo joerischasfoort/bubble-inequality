{
 "cells": [
  {
   "cell_type": "code",
   "execution_count": 1,
   "metadata": {},
   "outputs": [],
   "source": [
    "%matplotlib inline\n",
    "import numpy as np\n",
    "import pandas as pd\n",
    "import json\n",
    "import matplotlib.pyplot as plt\n",
    "import statsmodels.api as sm\n",
    "from statsmodels.iolib.summary2 import summary_col"
   ]
  },
  {
   "cell_type": "markdown",
   "metadata": {},
   "source": [
    "# Results\n",
    "\n",
    "To find out whether asset bubbles are associated with increased inequality, I first explore their correlation structure using Monte Carlo Simulations. This means that I simulate the model $N_{sim} = 500$ times in which the random number generator is initialized with a different seed. \n",
    "\n",
    "## Do asset bubbles increase inequality?\n",
    "To find out, I first study the correlation structure of bubbles and inequality in Monte Carlo Simulations. "
   ]
  },
  {
   "cell_type": "code",
   "execution_count": 6,
   "metadata": {},
   "outputs": [],
   "source": [
    "with open('all_many_bubbles_output.json', 'r') as f:\n",
    "    bubble_data = json.loads(f.read())"
   ]
  },
  {
   "cell_type": "code",
   "execution_count": 8,
   "metadata": {},
   "outputs": [
    {
     "data": {
      "text/plain": [
       "16"
      ]
     },
     "execution_count": 8,
     "metadata": {},
     "output_type": "execute_result"
    }
   ],
   "source": [
    "runs = len(bubble_data)\n",
    "runs"
   ]
  },
  {
   "cell_type": "markdown",
   "metadata": {},
   "source": [
    "First, I reorganize the data."
   ]
  },
  {
   "cell_type": "code",
   "execution_count": 10,
   "metadata": {},
   "outputs": [],
   "source": [
    "bubble_types = []\n",
    "bubble_prices = []\n",
    "wealth_starts = []\n",
    "wealth_ends = []\n",
    "ginis_ot = []\n",
    "palmas_ot = []\n",
    "twtws_ot = []\n",
    "risk_aversions = [] \n",
    "horizons = [] \n",
    "learning_abilities = [] \n",
    "chartist_expectations = [] \n",
    "fundamentalist_expectations = []\n",
    "\n",
    "for r in range(runs):\n",
    "    if bubble_data[r][1]:\n",
    "        bubble_types += bubble_data[r][0]\n",
    "        bubble_prices += bubble_data[r][1]\n",
    "        wealth_starts += bubble_data[r][2]\n",
    "        wealth_ends += bubble_data[r][3]\n",
    "        ginis_ot += bubble_data[r][4]\n",
    "        palmas_ot += bubble_data[r][5]\n",
    "        twtws_ot += bubble_data[r][6]\n",
    "        risk_aversions += bubble_data[r][7]\n",
    "        horizons += bubble_data[r][8]\n",
    "        learning_abilities += bubble_data[r][9]\n",
    "        chartist_expectations += bubble_data[r][10]\n",
    "        fundamentalist_expectations += bubble_data[r][11]"
   ]
  },
  {
   "cell_type": "code",
   "execution_count": 11,
   "metadata": {},
   "outputs": [
    {
     "data": {
      "text/plain": [
       "['boom', 'bust-boom', 'bust', 'boom-bust']"
      ]
     },
     "execution_count": 11,
     "metadata": {},
     "output_type": "execute_result"
    }
   ],
   "source": [
    "unique_bubble_types = list(set(bubble_types))\n",
    "unique_bubble_types"
   ]
  },
  {
   "cell_type": "markdown",
   "metadata": {},
   "source": [
    "Then, I calculate the differences in inequality ratio's for every bubble."
   ]
  },
  {
   "cell_type": "code",
   "execution_count": 12,
   "metadata": {},
   "outputs": [],
   "source": [
    "my_indices = [idx for idx, p in enumerate(bubble_prices) if p]\n",
    "\n",
    "# clean bubble series \n",
    "bubble_types = [bubble_types[i] for i in my_indices]\n",
    "bubble_prices = [bubble_prices[i] for i in my_indices]\n",
    "wealth_starts = [wealth_starts[i] for i in my_indices]\n",
    "wealth_ends = [wealth_ends[i] for i in my_indices]\n",
    "ginis_ot = [ginis_ot[i] for i in my_indices]\n",
    "palmas_ot = [palmas_ot[i] for i in my_indices]\n",
    "twtws_ot = [twtws_ot[i] for i in my_indices]\n",
    "\n",
    "ginis_ot_dif = [g[-1] - g[0] for g in ginis_ot]\n",
    "palmas_ot_dif = [g[-1] - g[0] for g in palmas_ot]\n",
    "twtws_ot_dif = [g[-1] - g[0] for g in twtws_ot]"
   ]
  },
  {
   "cell_type": "markdown",
   "metadata": {},
   "source": [
    "For every bubble, calculate the lenght and magnitude of the bubble."
   ]
  },
  {
   "cell_type": "code",
   "execution_count": 13,
   "metadata": {},
   "outputs": [],
   "source": [
    "bubble_lenght = [len(b) for b in bubble_prices]\n",
    "\n",
    "# if boom or bust, magnitude is price difference \n",
    "bubble_magnitude = []\n",
    "for idx, b_type in enumerate(bubble_types):\n",
    "    if b_type in ['boom', 'bust']:\n",
    "        bubble_magnitude.append(abs(bubble_prices[idx][-1] - bubble_prices[idx][0]))\n",
    "    elif b_type in ['boom-bust', 'bust-boom']:\n",
    "        bubble_magnitude.append(abs(np.mean(bubble_prices[idx]) - bubble_prices[idx][0]))\n",
    "    else:\n",
    "        #print(b_type)\n",
    "        bubble_magnitude.append(pd.Series(bubble_prices[idx]).std())"
   ]
  },
  {
   "cell_type": "code",
   "execution_count": 15,
   "metadata": {},
   "outputs": [],
   "source": [
    "# alternatively, just use the std in prices for all bubbles \n",
    "bubble_magnitude2 = []\n",
    "for idx, b_type in enumerate(bubble_types):\n",
    "    bubble_magnitude2.append(pd.Series(bubble_prices[idx]).std())"
   ]
  },
  {
   "cell_type": "code",
   "execution_count": 19,
   "metadata": {},
   "outputs": [],
   "source": [
    "bubble_df = pd.DataFrame({'bubble_type': bubble_types, 'magnitude': bubble_magnitude2, 'lenght': bubble_lenght, \n",
    "              'gini_diff': ginis_ot_dif, 'palma_diff': palmas_ot_dif, 'twtw_diff': twtws_ot_dif})\n",
    "bubble_df['const'] = 1\n",
    "bubble_df['magn_len'] = bubble_df['magnitude'] * bubble_df['lenght']"
   ]
  },
  {
   "cell_type": "code",
   "execution_count": 20,
   "metadata": {},
   "outputs": [
    {
     "data": {
      "text/html": [
       "<div>\n",
       "<style scoped>\n",
       "    .dataframe tbody tr th:only-of-type {\n",
       "        vertical-align: middle;\n",
       "    }\n",
       "\n",
       "    .dataframe tbody tr th {\n",
       "        vertical-align: top;\n",
       "    }\n",
       "\n",
       "    .dataframe thead th {\n",
       "        text-align: right;\n",
       "    }\n",
       "</style>\n",
       "<table border=\"1\" class=\"dataframe\">\n",
       "  <thead>\n",
       "    <tr style=\"text-align: right;\">\n",
       "      <th></th>\n",
       "      <th>bubble_type</th>\n",
       "      <th>magnitude</th>\n",
       "      <th>lenght</th>\n",
       "      <th>gini_diff</th>\n",
       "      <th>palma_diff</th>\n",
       "      <th>twtw_diff</th>\n",
       "      <th>const</th>\n",
       "      <th>magn_len</th>\n",
       "    </tr>\n",
       "  </thead>\n",
       "  <tbody>\n",
       "    <tr>\n",
       "      <th>0</th>\n",
       "      <td>boom-bust</td>\n",
       "      <td>1.278567</td>\n",
       "      <td>7</td>\n",
       "      <td>0.000300</td>\n",
       "      <td>0.002984</td>\n",
       "      <td>0.003403</td>\n",
       "      <td>1</td>\n",
       "      <td>8.949970</td>\n",
       "    </tr>\n",
       "    <tr>\n",
       "      <th>1</th>\n",
       "      <td>boom-bust</td>\n",
       "      <td>1.894251</td>\n",
       "      <td>22</td>\n",
       "      <td>0.001042</td>\n",
       "      <td>0.003807</td>\n",
       "      <td>0.017565</td>\n",
       "      <td>1</td>\n",
       "      <td>41.673526</td>\n",
       "    </tr>\n",
       "    <tr>\n",
       "      <th>2</th>\n",
       "      <td>boom-bust</td>\n",
       "      <td>5.070751</td>\n",
       "      <td>26</td>\n",
       "      <td>0.001983</td>\n",
       "      <td>0.009473</td>\n",
       "      <td>0.072128</td>\n",
       "      <td>1</td>\n",
       "      <td>131.839532</td>\n",
       "    </tr>\n",
       "    <tr>\n",
       "      <th>3</th>\n",
       "      <td>bust-boom</td>\n",
       "      <td>4.080676</td>\n",
       "      <td>31</td>\n",
       "      <td>0.003291</td>\n",
       "      <td>0.019897</td>\n",
       "      <td>0.061842</td>\n",
       "      <td>1</td>\n",
       "      <td>126.500965</td>\n",
       "    </tr>\n",
       "    <tr>\n",
       "      <th>4</th>\n",
       "      <td>boom</td>\n",
       "      <td>9.318927</td>\n",
       "      <td>45</td>\n",
       "      <td>0.004013</td>\n",
       "      <td>0.031828</td>\n",
       "      <td>0.128899</td>\n",
       "      <td>1</td>\n",
       "      <td>419.351727</td>\n",
       "    </tr>\n",
       "  </tbody>\n",
       "</table>\n",
       "</div>"
      ],
      "text/plain": [
       "  bubble_type  magnitude  lenght  gini_diff  palma_diff  twtw_diff  const  \\\n",
       "0   boom-bust   1.278567       7   0.000300    0.002984   0.003403      1   \n",
       "1   boom-bust   1.894251      22   0.001042    0.003807   0.017565      1   \n",
       "2   boom-bust   5.070751      26   0.001983    0.009473   0.072128      1   \n",
       "3   bust-boom   4.080676      31   0.003291    0.019897   0.061842      1   \n",
       "4        boom   9.318927      45   0.004013    0.031828   0.128899      1   \n",
       "\n",
       "     magn_len  \n",
       "0    8.949970  \n",
       "1   41.673526  \n",
       "2  131.839532  \n",
       "3  126.500965  \n",
       "4  419.351727  "
      ]
     },
     "execution_count": 20,
     "metadata": {},
     "output_type": "execute_result"
    }
   ],
   "source": [
    "bubble_df.head()"
   ]
  },
  {
   "cell_type": "code",
   "execution_count": 24,
   "metadata": {},
   "outputs": [],
   "source": [
    "# regres gini_diff, palma_diff & twtw diff on magnitude, lenght & magnitude*lenght\n",
    "gini_res = sm.OLS(endog=bubble_df['gini_diff'], exog=bubble_df[['const', 'magnitude']], missing='drop').fit()\n",
    "palma_res = sm.OLS(endog=bubble_df['palma_diff'], exog=bubble_df[['const', 'magnitude']], missing='drop').fit()\n",
    "twtw_res = sm.OLS(endog=bubble_df['twtw_diff'], exog=bubble_df[['const', 'magnitude']], missing='drop').fit()"
   ]
  },
  {
   "cell_type": "code",
   "execution_count": 25,
   "metadata": {},
   "outputs": [
    {
     "name": "stdout",
     "output_type": "stream",
     "text": [
      "                         Table - OLS Regressions\n",
      "=========================================================================\n",
      "                        Gini              Palma              20-20       \n",
      "-------------------------------------------------------------------------\n",
      "const            -0.0045            -0.0291            -0.0944           \n",
      "                 (0.0061)           (0.0634)           (0.2269)          \n",
      "magnitude        0.0015***          0.0126***          0.0475***         \n",
      "                 (0.0003)           (0.0030)           (0.0109)          \n",
      "R-squared        0.6188459551267779 0.5185652744663732 0.5430505100975374\n",
      "No. observations 18                 18                 18                \n",
      "=========================================================================\n",
      "Standard errors in parentheses.\n",
      "* p<.1, ** p<.05, ***p<.01\n"
     ]
    }
   ],
   "source": [
    "info_dict={'R-squared' : lambda x: \"{}\".format(x.rsquared), \n",
    "           'No. observations' : lambda x: \"{}\".format(int(x.nobs))}\n",
    "\n",
    "results_table = summary_col(results=[gini_res, palma_res, twtw_res],\n",
    "                            float_format='%0.4f',\n",
    "                            stars = True,\n",
    "                            model_names=['Gini', 'Palma', '20-20'],\n",
    "                            info_dict=info_dict,\n",
    "                            regressor_order=['const', 'magnitude'])\n",
    "\n",
    "results_table.add_title('Table - OLS Regressions')\n",
    "\n",
    "print(results_table)"
   ]
  },
  {
   "cell_type": "markdown",
   "metadata": {},
   "source": [
    "## Experiment 1 \n",
    "\n"
   ]
  },
  {
   "cell_type": "code",
   "execution_count": 26,
   "metadata": {},
   "outputs": [],
   "source": [
    "NRUNS = 5"
   ]
  },
  {
   "cell_type": "code",
   "execution_count": 27,
   "metadata": {},
   "outputs": [],
   "source": [
    "with open('parameters.json', 'r') as f:\n",
    "    params = json.loads(f.read())"
   ]
  },
  {
   "cell_type": "markdown",
   "metadata": {},
   "source": [
    "Fix the learning ability for a clean experiment."
   ]
  },
  {
   "cell_type": "code",
   "execution_count": 28,
   "metadata": {},
   "outputs": [],
   "source": [
    "params['average_learning_ability'] = 0.0"
   ]
  },
  {
   "cell_type": "markdown",
   "metadata": {},
   "source": [
    "Increment the share of chartists from 0.0 to 100"
   ]
  },
  {
   "cell_type": "code",
   "execution_count": 29,
   "metadata": {},
   "outputs": [],
   "source": [
    "share_chartists = [x / 100.0 for x in range(0, 102, 2)]"
   ]
  },
  {
   "cell_type": "markdown",
   "metadata": {},
   "source": [
    "Run model and update share chartists every time"
   ]
  },
  {
   "cell_type": "code",
   "execution_count": null,
   "metadata": {},
   "outputs": [],
   "source": [
    "trdrs = []\n",
    "orbs = []\n",
    "for seed in range(NRUNS): \n",
    "    params['strat_share_chartists'] = share_chartists[seed]\n",
    "    traders, orderbook = init_objects_distr(params, seed)\n",
    "    traders, orderbook = pb_distr_model(traders, orderbook, params, seed)\n",
    "    trdrs.append(traders)\n",
    "    orbs.append(orderbook)"
   ]
  },
  {
   "cell_type": "markdown",
   "metadata": {},
   "source": [
    "Structure the data"
   ]
  },
  {
   "cell_type": "code",
   "execution_count": null,
   "metadata": {},
   "outputs": [],
   "source": [
    "ginis = []\n",
    "palmas = []\n",
    "twtws = []\n",
    "asset_price_inflation = []\n",
    "price_to_div_stdev = []\n",
    "\n",
    "for idx, traders in enumerate(trdrs):\n",
    "    #print(t)\n",
    "    money = np.array([x.var.money[-1] for x in trdrs[idx]])\n",
    "    stocks = np.array([x.var.stocks[-1] for x in trdrs[idx]])\n",
    "    wealth = money + (stocks * orbs[idx].tick_close_price[-1])\n",
    "    \n",
    "    asset_price_inflation.append(orbs[idx].tick_close_price[-1] - orbs[idx].tick_close_price[0])\n",
    "    price_to_div_stdev.append((pd.Series(orbs[idx].tick_close_price) / pd.Series(orbs[idx].fundamental[1:])).std())\n",
    "    \n",
    "    share_top_10 = sum(np.sort(wealth)[int(len(wealth) * 0.9):]) / sum(wealth)\n",
    "    share_bottom_40 = sum(np.sort(wealth)[:int(len(wealth) * 0.4)]) / sum(wealth)\n",
    "    palmas.append(share_top_10 / share_bottom_40)\n",
    "    \n",
    "    share_top_20 = sum(np.sort(wealth)[int(len(wealth) * 0.8):]) / sum(wealth)\n",
    "    share_bottom_20 = sum(np.sort(wealth)[:int(len(wealth) * 0.2)]) / sum(wealth)\n",
    "    twtws.append(share_top_20 / share_bottom_20)\n",
    "    \n",
    "    ginis.append(gini(wealth))"
   ]
  },
  {
   "cell_type": "code",
   "execution_count": null,
   "metadata": {},
   "outputs": [],
   "source": [
    "data = pd.DataFrame({'gini': np.log(ginis[1:]), 'palma': np.log(palmas[1:]), 'twtw': np.log(twtws[1:]), 'pd_vol': price_to_div_stdev[1:],\n",
    "                     'share_chartists': np.log(share_chartists[1:]), 'lin_share_chartists': share_chartists[1:], 'asset_price_infl': asset_price_inflation[1:]})\n",
    "data['const'] = 1"
   ]
  },
  {
   "cell_type": "code",
   "execution_count": null,
   "metadata": {},
   "outputs": [],
   "source": [
    "fig, (ax1, ax2, ax3) = plt.subplots(1, 3, figsize=[16,4])\n",
    "\n",
    "ax1.scatter(range(len(ginis)), ginis)\n",
    "ax2.scatter(range(len(palmas)), palmas)\n",
    "ax3.scatter(range(len(twtws)), twtws)\n",
    "\n",
    "ax3.set_title('Twenty-twenty ratio')\n",
    "ax2.set_title('Palma ratio')\n",
    "ax1.set_title('Gini coefficient')\n",
    "\n",
    "for ax in [ax1, ax2, ax3]:\n",
    "    ax.set_xlabel('Simulation')\n",
    "\n",
    "#fig.savefig('gini_palma_twenty_evolution_bubble.png', dpi=200, bbox_inches = 'tight', pad_inches = 0)"
   ]
  },
  {
   "cell_type": "code",
   "execution_count": null,
   "metadata": {},
   "outputs": [],
   "source": [
    "fig, (ax1, ax2) = plt.subplots(1, 2, figsize=[16,4])\n",
    "\n",
    "ax1.scatter(range(len(asset_price_inflation)), asset_price_inflation)\n",
    "ax2.scatter(range(len(price_to_div_stdev)), price_to_div_stdev)\n",
    "\n",
    "\n",
    "ax1.set_title('asset_price_inflation')\n",
    "ax2.set_title('price_to_div_stdev')\n",
    "\n",
    "for ax in [ax1, ax2, ax3]:\n",
    "    ax.set_xlabel('Simulation')"
   ]
  },
  {
   "cell_type": "code",
   "execution_count": null,
   "metadata": {},
   "outputs": [],
   "source": [
    "gini_res = sm.OLS(endog=data['gini'], exog=data[['const', 'share_chartists']], missing='drop').fit()\n",
    "palma_res = sm.OLS(endog=data['palma'], exog=data[['const', 'share_chartists']], missing='drop').fit()\n",
    "twtw_res = sm.OLS(endog=data['twtw'], exog=data[['const', 'share_chartists']], missing='drop').fit()\n",
    "asset_p_inf_res = sm.OLS(endog=data['asset_price_infl'], exog=data[['const', 'lin_share_chartists']], missing='drop').fit()\n",
    "pd_stdev_res = sm.OLS(endog=data['pd_vol'], exog=data[['const', 'lin_share_chartists']], missing='drop').fit()"
   ]
  },
  {
   "cell_type": "code",
   "execution_count": null,
   "metadata": {},
   "outputs": [],
   "source": [
    "info_dict={'R-squared' : lambda x: \"{}\".format(x.rsquared), \n",
    "           'No. observations' : lambda x: \"{}\".format(int(x.nobs))}\n",
    "\n",
    "results_table = summary_col(results=[gini_res, palma_res, twtw_res, asset_p_inf_res, pd_stdev_res],\n",
    "                            float_format='%0.4f',\n",
    "                            stars = True,\n",
    "                            model_names=['Gini', 'Palma', '20-20', 'Asset-price inflation', 'Pd-volatility'],\n",
    "                            info_dict=info_dict,\n",
    "                            regressor_order=['const', 'share_chartists'])\n",
    "\n",
    "results_table.add_title('Table - OLS Regressions')\n",
    "\n",
    "print(results_table)"
   ]
  },
  {
   "cell_type": "markdown",
   "metadata": {},
   "source": [
    "# Which agents benefit?\n",
    "\n",
    "Calculate profits for all agents as the differences in wealth."
   ]
  },
  {
   "cell_type": "code",
   "execution_count": null,
   "metadata": {},
   "outputs": [],
   "source": [
    "# total_strat_weight = trader.var.weight_fundamentalist[-1] + trader.var.weight_chartist[-1]\n",
    "# c_share_strat = weight_chartist / total_strat_weight\n"
   ]
  },
  {
   "cell_type": "code",
   "execution_count": 66,
   "metadata": {},
   "outputs": [],
   "source": [
    "profits = []\n",
    "real_profits = []\n",
    "for idx, bubble in enumerate(bubble_types): \n",
    "    profits.append((np.array(wealth_ends[idx]) - np.array(wealth_starts[idx])) / np.array(wealth_starts[idx]))\n",
    "    real_profits.append(np.array(wealth_ends[idx]) - np.array(wealth_starts[idx]))"
   ]
  },
  {
   "cell_type": "markdown",
   "metadata": {},
   "source": [
    "Profits contains profits of all agents for every bubble episode. What I need is every individual profit with the bubble type next to it."
   ]
  },
  {
   "cell_type": "code",
   "execution_count": 73,
   "metadata": {},
   "outputs": [],
   "source": [
    "all_profits = []\n",
    "all_real_profits = []\n",
    "all_bubbles = []\n",
    "c_share_strat = []\n",
    "learn_ab = []\n",
    "hors = []\n",
    "rav = []\n",
    "w_starts = []\n",
    "for idx, p in enumerate(profits):\n",
    "    all_profits += list(p)\n",
    "    all_real_profits += list(real_profits[idx])\n",
    "    all_bubbles += [bubble_types[idx] for l in p]\n",
    "    learn_ab += learning_abilities[idx]\n",
    "    hors += horizons[idx]\n",
    "    rav += risk_aversions[idx]\n",
    "    w_starts += wealth_starts[idx]\n",
    "    c_share_strat += [np.mean(c_exp) / (np.mean(c_exp) + np.mean(f_exp)) for c_exp, f_exp in zip(chartist_expectations[idx], fundamentalist_expectations[idx])]"
   ]
  },
  {
   "cell_type": "code",
   "execution_count": 78,
   "metadata": {},
   "outputs": [],
   "source": [
    "redistr_df = pd.DataFrame({'wealth_change': all_profits, 'real_wealth_ch': all_real_profits, 'bubble_type': all_bubbles, 'risk_av': rav, \n",
    "              'horizon': hors, 'learning': learn_ab, 'c_share_strat': c_share_strat, 'wealth_start': w_starts})\n",
    "redistr_df['abs_profit'] = redistr_df['wealth_change'].abs()\n",
    "redistr_df['positive_profit'] = redistr_df['wealth_change'] > 0\n",
    "redistr_df['const'] = 1"
   ]
  },
  {
   "cell_type": "code",
   "execution_count": 79,
   "metadata": {},
   "outputs": [],
   "source": [
    "redistr_df = pd.get_dummies(redistr_df, columns = ['positive_profit'])"
   ]
  },
  {
   "cell_type": "code",
   "execution_count": 82,
   "metadata": {},
   "outputs": [],
   "source": [
    "redistr_df['wealth_start_positive'] = redistr_df['positive_profit_True'] * redistr_df['wealth_start']\n",
    "redistr_df['wealth_start_negative'] = redistr_df['positive_profit_False'] * redistr_df['wealth_start']"
   ]
  },
  {
   "cell_type": "code",
   "execution_count": 81,
   "metadata": {},
   "outputs": [
    {
     "data": {
      "text/html": [
       "<div>\n",
       "<style scoped>\n",
       "    .dataframe tbody tr th:only-of-type {\n",
       "        vertical-align: middle;\n",
       "    }\n",
       "\n",
       "    .dataframe tbody tr th {\n",
       "        vertical-align: top;\n",
       "    }\n",
       "\n",
       "    .dataframe thead th {\n",
       "        text-align: right;\n",
       "    }\n",
       "</style>\n",
       "<table border=\"1\" class=\"dataframe\">\n",
       "  <thead>\n",
       "    <tr style=\"text-align: right;\">\n",
       "      <th></th>\n",
       "      <th>wealth_change</th>\n",
       "      <th>real_wealth_ch</th>\n",
       "      <th>bubble_type</th>\n",
       "      <th>risk_av</th>\n",
       "      <th>horizon</th>\n",
       "      <th>learning</th>\n",
       "      <th>c_share_strat</th>\n",
       "      <th>wealth_start</th>\n",
       "      <th>abs_profit</th>\n",
       "      <th>const</th>\n",
       "      <th>positive_profit_False</th>\n",
       "      <th>positive_profit_True</th>\n",
       "      <th>wealth_start_positive</th>\n",
       "    </tr>\n",
       "  </thead>\n",
       "  <tbody>\n",
       "    <tr>\n",
       "      <th>0</th>\n",
       "      <td>0.010251</td>\n",
       "      <td>49.179709</td>\n",
       "      <td>boom-bust</td>\n",
       "      <td>0.789059</td>\n",
       "      <td>43</td>\n",
       "      <td>0.118615</td>\n",
       "      <td>0.366942</td>\n",
       "      <td>4797.418459</td>\n",
       "      <td>0.010251</td>\n",
       "      <td>1</td>\n",
       "      <td>0</td>\n",
       "      <td>1</td>\n",
       "      <td>4797.418459</td>\n",
       "    </tr>\n",
       "    <tr>\n",
       "      <th>1</th>\n",
       "      <td>0.000000</td>\n",
       "      <td>0.000000</td>\n",
       "      <td>boom-bust</td>\n",
       "      <td>1.287427</td>\n",
       "      <td>124</td>\n",
       "      <td>0.298143</td>\n",
       "      <td>0.508778</td>\n",
       "      <td>5973.838099</td>\n",
       "      <td>0.000000</td>\n",
       "      <td>1</td>\n",
       "      <td>1</td>\n",
       "      <td>0</td>\n",
       "      <td>0.000000</td>\n",
       "    </tr>\n",
       "  </tbody>\n",
       "</table>\n",
       "</div>"
      ],
      "text/plain": [
       "   wealth_change  real_wealth_ch bubble_type   risk_av  horizon  learning  \\\n",
       "0       0.010251       49.179709   boom-bust  0.789059       43  0.118615   \n",
       "1       0.000000        0.000000   boom-bust  1.287427      124  0.298143   \n",
       "\n",
       "   c_share_strat  wealth_start  abs_profit  const  positive_profit_False  \\\n",
       "0       0.366942   4797.418459    0.010251      1                      0   \n",
       "1       0.508778   5973.838099    0.000000      1                      1   \n",
       "\n",
       "   positive_profit_True  wealth_start_positive  \n",
       "0                     1            4797.418459  \n",
       "1                     0               0.000000  "
      ]
     },
     "execution_count": 81,
     "metadata": {},
     "output_type": "execute_result"
    }
   ],
   "source": [
    "redistr_df.head(2)"
   ]
  },
  {
   "cell_type": "markdown",
   "metadata": {},
   "source": [
    "## Scatter plot\n",
    "\n",
    "Wealth change"
   ]
  },
  {
   "cell_type": "code",
   "execution_count": 84,
   "metadata": {},
   "outputs": [
    {
     "data": {
      "text/plain": [
       "Text(0, 0.5, 'real_wealth_ch')"
      ]
     },
     "execution_count": 84,
     "metadata": {},
     "output_type": "execute_result"
    },
    {
     "data": {
      "image/png": "[encoded data removed]",
      "text/plain": [
       "<Figure size 1152x720 with 6 Axes>"
      ]
     },
     "metadata": {
      "needs_background": "light"
     },
     "output_type": "display_data"
    }
   ],
   "source": [
    "fig, ((ax1, ax2, ax3), (ax4, ax5, ax6)) = plt.subplots(2, 3, figsize=[16,10])\n",
    "\n",
    "ax1.scatter(redistr_df['risk_av'], redistr_df['wealth_change'])\n",
    "ax2.scatter(redistr_df['horizon'], redistr_df['wealth_change'])\n",
    "ax3.scatter(redistr_df['learning'], redistr_df['wealth_change'])\n",
    "ax4.scatter(redistr_df['c_share_strat'], redistr_df['wealth_change']) #TODO have a fraction here of chart vs fund\n",
    "ax5.scatter(redistr_df['wealth_start_positive'], redistr_df['wealth_change'])\n",
    "ax6.scatter(redistr_df['wealth_start_positive'], redistr_df['real_wealth_ch'])\n",
    "\n",
    "ax1.set_title('wealth_change')\n",
    "ax2.set_title('wealth_change')\n",
    "ax3.set_title('wealth_change')\n",
    "ax4.set_title('wealth_change')\n",
    "\n",
    "ax1.set_ylabel('risk_av', fontsize=14)\n",
    "ax2.set_ylabel('horizon', fontsize=14)\n",
    "ax3.set_ylabel('learning', fontsize=14)\n",
    "ax4.set_ylabel('c_share_strat', fontsize=14)\n",
    "ax5.set_ylabel('real_wealth_ch', fontsize=14)"
   ]
  },
  {
   "cell_type": "code",
   "execution_count": 59,
   "metadata": {},
   "outputs": [],
   "source": [
    "# 2 regression\n",
    "reg1 = sm.OLS(endog=redistr_df['wealth_change'], exog=redistr_df[['const', 'risk_av', 'horizon', 'learning', 'chart_exp', 'fund_exp', 'wealth_start', 'wealth_start_positive']], missing='drop').fit()\n",
    "reg2 = sm.OLS(endog=redistr_df['abs_profit'], exog=redistr_df[['const', 'risk_av', 'horizon', 'learning', 'chart_exp', 'fund_exp', 'wealth_start', 'wealth_start_positive']], missing='drop').fit()"
   ]
  },
  {
   "cell_type": "code",
   "execution_count": 60,
   "metadata": {},
   "outputs": [
    {
     "name": "stdout",
     "output_type": "stream",
     "text": [
      "                   Table - OLS Regressions\n",
      "=============================================================\n",
      "                             Profit            Profit abs    \n",
      "-------------------------------------------------------------\n",
      "const                 -0.0137             -0.0058            \n",
      "                      (0.0503)            (0.0462)           \n",
      "risk_av               0.0044              -0.0115*           \n",
      "                      (0.0069)            (0.0063)           \n",
      "horizon               -0.0003***          0.0001***          \n",
      "                      (0.0000)            (0.0000)           \n",
      "learning              0.0003              -0.0201***         \n",
      "                      (0.0071)            (0.0066)           \n",
      "chart_exp             0.0684              0.2537***          \n",
      "                      (0.0551)            (0.0507)           \n",
      "fund_exp              0.0752              -0.1067**          \n",
      "                      (0.0554)            (0.0510)           \n",
      "wealth_start          -0.0000***          0.0000             \n",
      "                      (0.0000)            (0.0000)           \n",
      "wealth_start_positive 0.0000***           0.0000***          \n",
      "                      (0.0000)            (0.0000)           \n",
      "R-squared             0.22515508959175334 0.09763476759651468\n",
      "No. observations      9000                9000               \n",
      "=============================================================\n",
      "Standard errors in parentheses.\n",
      "* p<.1, ** p<.05, ***p<.01\n"
     ]
    }
   ],
   "source": [
    "info_dict={'R-squared' : lambda x: \"{}\".format(x.rsquared), \n",
    "           'No. observations' : lambda x: \"{}\".format(int(x.nobs))}\n",
    "\n",
    "results_table = summary_col(results=[reg1, reg2],\n",
    "                            float_format='%0.4f',\n",
    "                            stars = True,\n",
    "                            model_names=['Profit', 'Profit abs'],\n",
    "                            info_dict=info_dict,\n",
    "                            regressor_order=['const', 'risk_av', 'horizon', 'learning', 'chart_exp', 'fund_exp', 'wealth_start', 'positive_profit_True'])\n",
    "\n",
    "results_table.add_title('Table - OLS Regressions')\n",
    "\n",
    "print(results_table)"
   ]
  },
  {
   "cell_type": "code",
   "execution_count": null,
   "metadata": {},
   "outputs": [],
   "source": []
  }
 ],
 "metadata": {
  "kernelspec": {
   "display_name": "Python 3",
   "language": "python",
   "name": "python3"
  },
  "language_info": {
   "codemirror_mode": {
    "name": "ipython",
    "version": 3
   },
   "file_extension": ".py",
   "mimetype": "text/x-python",
   "name": "python",
   "nbconvert_exporter": "python",
   "pygments_lexer": "ipython3",
   "version": "3.7.2"
  }
 },
 "nbformat": 4,
 "nbformat_minor": 2
}

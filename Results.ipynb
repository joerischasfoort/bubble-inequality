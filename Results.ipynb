{
 "cells": [
  {
   "cell_type": "code",
   "execution_count": 1,
   "metadata": {},
   "outputs": [],
   "source": [
    "%matplotlib inline\n",
    "import numpy as np\n",
    "import pandas as pd\n",
    "import pickle\n",
    "import json\n",
    "import matplotlib.pyplot as plt\n",
    "#import statsmodels.tsa.stattools as ts\n",
    "from init_objects import *\n",
    "from functions.stylizedfacts import *\n",
    "from functions.helpers import organise_data\n",
    "#from functions.evolutionaryalgo import quadratic_loss_function\n",
    "from functions.inequality import gini, lorenz_curve\n",
    "from distribution_model import *\n",
    "import statsmodels.api as sm\n",
    "from SALib.sample import latin\n",
    "from matplotlib import style\n",
    "from collections import OrderedDict\n",
    "from functions.indirect_calibration import distr_model_performance\n",
    "import seaborn as sns\n",
    "import scipy.stats as stats\n",
    "import statsmodels.api as sm\n",
    "import statsmodels.formula.api as smf\n",
    "import scipy\n",
    "from functions.find_bubbles import *\n",
    "from statsmodels.iolib.summary2 import summary_col"
   ]
  },
  {
   "cell_type": "markdown",
   "metadata": {},
   "source": [
    "# Results\n",
    "\n",
    "To find out whether asset bubbles are associated with increased inequality, I first explore their correlation structure using Monte Carlo Simulations. This means that I simulate the model $N_{sim} = 500$ times in which the random number generator is initialized with a different seed. \n",
    "\n",
    "## Do asset bubbles increase inequality?\n",
    "To find out, I first study the correlation structure of bubbles and inequality in Monte Carlo Simulations. "
   ]
  },
  {
   "cell_type": "code",
   "execution_count": 2,
   "metadata": {},
   "outputs": [],
   "source": [
    "with open('all_many_bubbles_output.json', 'r') as f:\n",
    "    bubble_data = json.loads(f.read())"
   ]
  },
  {
   "cell_type": "code",
   "execution_count": 3,
   "metadata": {},
   "outputs": [
    {
     "data": {
      "text/plain": [
       "28"
      ]
     },
     "execution_count": 3,
     "metadata": {},
     "output_type": "execute_result"
    }
   ],
   "source": [
    "runs = len(bubble_data)\n",
    "runs"
   ]
  },
  {
   "cell_type": "markdown",
   "metadata": {},
   "source": [
    "First, I reorganize the data."
   ]
  },
  {
   "cell_type": "code",
   "execution_count": 4,
   "metadata": {},
   "outputs": [],
   "source": [
    "bubble_types = []\n",
    "bubble_prices = []\n",
    "wealth_starts = []\n",
    "wealth_ends = []\n",
    "ginis_ot = []\n",
    "palmas_ot = []\n",
    "twtws_ot = []\n",
    "risk_aversions = [] \n",
    "horizons = [] \n",
    "learning_abilities = [] \n",
    "chartist_expectations = [] \n",
    "fundamentalist_expectations = []\n",
    "\n",
    "for r in range(runs):\n",
    "    if bubble_data[r][1]:\n",
    "        bubble_types += bubble_data[r][0]\n",
    "        bubble_prices += bubble_data[r][1]\n",
    "        wealth_starts += bubble_data[r][2]\n",
    "        wealth_ends += bubble_data[r][3]\n",
    "        ginis_ot += bubble_data[r][4]\n",
    "        palmas_ot += bubble_data[r][5]\n",
    "        twtws_ot += bubble_data[r][6]\n",
    "        risk_aversions += bubble_data[r][7]\n",
    "        horizons += bubble_data[r][8]\n",
    "        learning_abilities += bubble_data[r][9]\n",
    "        chartist_expectations += bubble_data[r][10]\n",
    "        fundamentalist_expectations += bubble_data[r][11]"
   ]
  },
  {
   "cell_type": "code",
   "execution_count": 5,
   "metadata": {},
   "outputs": [
    {
     "data": {
      "text/plain": [
       "['bust', 'boom-bust', 'boom', 'bust-boom']"
      ]
     },
     "execution_count": 5,
     "metadata": {},
     "output_type": "execute_result"
    }
   ],
   "source": [
    "unique_bubble_types = list(set(bubble_types))\n",
    "unique_bubble_types"
   ]
  },
  {
   "cell_type": "markdown",
   "metadata": {},
   "source": [
    "Then, I calculate the differences in inequality ratio's for every bubble."
   ]
  },
  {
   "cell_type": "code",
   "execution_count": 6,
   "metadata": {},
   "outputs": [],
   "source": [
    "my_indices = [idx for idx, p in enumerate(bubble_prices) if p]\n",
    "\n",
    "# clean bubble series \n",
    "bubble_types = [bubble_types[i] for i in my_indices]\n",
    "bubble_prices = [bubble_prices[i] for i in my_indices]\n",
    "wealth_starts = [wealth_starts[i] for i in my_indices]\n",
    "wealth_ends = [wealth_ends[i] for i in my_indices]\n",
    "ginis_ot = [ginis_ot[i] for i in my_indices]\n",
    "palmas_ot = [palmas_ot[i] for i in my_indices]\n",
    "twtws_ot = [twtws_ot[i] for i in my_indices]\n",
    "\n",
    "ginis_ot_dif = [g[-1] - g[0] for g in ginis_ot]\n",
    "palmas_ot_dif = [g[-1] - g[0] for g in palmas_ot]\n",
    "twtws_ot_dif = [g[-1] - g[0] for g in twtws_ot]"
   ]
  },
  {
   "cell_type": "markdown",
   "metadata": {},
   "source": [
    "For every bubble, calculate the lenght and magnitude of the bubble."
   ]
  },
  {
   "cell_type": "code",
   "execution_count": 7,
   "metadata": {},
   "outputs": [],
   "source": [
    "bubble_lenght = [len(b) for b in bubble_prices]\n",
    "\n",
    "# if boom or bust, magnitude is price difference \n",
    "bubble_magnitude = []\n",
    "for idx, b_type in enumerate(bubble_types):\n",
    "    if b_type in ['boom', 'bust']:\n",
    "        bubble_magnitude.append(abs(bubble_prices[idx][-1] - bubble_prices[idx][0]))\n",
    "    elif b_type in ['boom-bust', 'bust-boom']:\n",
    "        bubble_magnitude.append(abs(np.mean(bubble_prices[idx]) - bubble_prices[idx][0]))\n",
    "    else:\n",
    "        #print(b_type)\n",
    "        bubble_magnitude.append(pd.Series(bubble_prices[idx]).std())"
   ]
  },
  {
   "cell_type": "code",
   "execution_count": 8,
   "metadata": {},
   "outputs": [],
   "source": [
    "# alternatively, just use the std in prices for all bubbles \n",
    "bubble_magnitude2 = []\n",
    "for idx, b_type in enumerate(bubble_types):\n",
    "    bubble_magnitude2.append(pd.Series(bubble_prices[idx]).std())"
   ]
  },
  {
   "cell_type": "code",
   "execution_count": 9,
   "metadata": {},
   "outputs": [],
   "source": [
    "bubble_df = pd.DataFrame({'bubble_type': bubble_types, 'magnitude': bubble_magnitude2, 'lenght': bubble_lenght, \n",
    "              'gini_diff': ginis_ot_dif, 'palma_diff': palmas_ot_dif, 'twtw_diff': twtws_ot_dif})\n",
    "bubble_df['const'] = 1\n",
    "bubble_df['magn_len'] = bubble_df['magnitude'] * bubble_df['lenght']"
   ]
  },
  {
   "cell_type": "code",
   "execution_count": 10,
   "metadata": {},
   "outputs": [
    {
     "data": {
      "text/html": [
       "<div>\n",
       "<style scoped>\n",
       "    .dataframe tbody tr th:only-of-type {\n",
       "        vertical-align: middle;\n",
       "    }\n",
       "\n",
       "    .dataframe tbody tr th {\n",
       "        vertical-align: top;\n",
       "    }\n",
       "\n",
       "    .dataframe thead th {\n",
       "        text-align: right;\n",
       "    }\n",
       "</style>\n",
       "<table border=\"1\" class=\"dataframe\">\n",
       "  <thead>\n",
       "    <tr style=\"text-align: right;\">\n",
       "      <th></th>\n",
       "      <th>bubble_type</th>\n",
       "      <th>magnitude</th>\n",
       "      <th>lenght</th>\n",
       "      <th>gini_diff</th>\n",
       "      <th>palma_diff</th>\n",
       "      <th>twtw_diff</th>\n",
       "      <th>const</th>\n",
       "      <th>magn_len</th>\n",
       "    </tr>\n",
       "  </thead>\n",
       "  <tbody>\n",
       "    <tr>\n",
       "      <th>0</th>\n",
       "      <td>boom-bust</td>\n",
       "      <td>1.278567</td>\n",
       "      <td>7</td>\n",
       "      <td>0.000300</td>\n",
       "      <td>0.002984</td>\n",
       "      <td>0.003403</td>\n",
       "      <td>1</td>\n",
       "      <td>8.949970</td>\n",
       "    </tr>\n",
       "    <tr>\n",
       "      <th>1</th>\n",
       "      <td>boom-bust</td>\n",
       "      <td>1.894251</td>\n",
       "      <td>22</td>\n",
       "      <td>0.001042</td>\n",
       "      <td>0.003807</td>\n",
       "      <td>0.017565</td>\n",
       "      <td>1</td>\n",
       "      <td>41.673526</td>\n",
       "    </tr>\n",
       "    <tr>\n",
       "      <th>2</th>\n",
       "      <td>boom-bust</td>\n",
       "      <td>5.070751</td>\n",
       "      <td>26</td>\n",
       "      <td>0.001983</td>\n",
       "      <td>0.009473</td>\n",
       "      <td>0.072128</td>\n",
       "      <td>1</td>\n",
       "      <td>131.839532</td>\n",
       "    </tr>\n",
       "    <tr>\n",
       "      <th>3</th>\n",
       "      <td>bust-boom</td>\n",
       "      <td>4.080676</td>\n",
       "      <td>31</td>\n",
       "      <td>0.003291</td>\n",
       "      <td>0.019897</td>\n",
       "      <td>0.061842</td>\n",
       "      <td>1</td>\n",
       "      <td>126.500965</td>\n",
       "    </tr>\n",
       "    <tr>\n",
       "      <th>4</th>\n",
       "      <td>boom</td>\n",
       "      <td>9.318927</td>\n",
       "      <td>45</td>\n",
       "      <td>0.004013</td>\n",
       "      <td>0.031828</td>\n",
       "      <td>0.128899</td>\n",
       "      <td>1</td>\n",
       "      <td>419.351727</td>\n",
       "    </tr>\n",
       "  </tbody>\n",
       "</table>\n",
       "</div>"
      ],
      "text/plain": [
       "  bubble_type  magnitude  lenght  gini_diff  palma_diff  twtw_diff  const  \\\n",
       "0   boom-bust   1.278567       7   0.000300    0.002984   0.003403      1   \n",
       "1   boom-bust   1.894251      22   0.001042    0.003807   0.017565      1   \n",
       "2   boom-bust   5.070751      26   0.001983    0.009473   0.072128      1   \n",
       "3   bust-boom   4.080676      31   0.003291    0.019897   0.061842      1   \n",
       "4        boom   9.318927      45   0.004013    0.031828   0.128899      1   \n",
       "\n",
       "     magn_len  \n",
       "0    8.949970  \n",
       "1   41.673526  \n",
       "2  131.839532  \n",
       "3  126.500965  \n",
       "4  419.351727  "
      ]
     },
     "execution_count": 10,
     "metadata": {},
     "output_type": "execute_result"
    }
   ],
   "source": [
    "bubble_df.head()"
   ]
  },
  {
   "cell_type": "code",
   "execution_count": 23,
   "metadata": {},
   "outputs": [],
   "source": [
    "# regres gini_diff, palma_diff & twtw diff on magnitude, lenght & magnitude*lenght\n",
    "gini_res = sm.OLS(endog=bubble_df['gini_diff'], exog=bubble_df[['const', 'magnitude']], missing='drop').fit()\n",
    "palma_res = sm.OLS(endog=bubble_df['palma_diff'], exog=bubble_df[['const', 'magnitude']], missing='drop').fit()\n",
    "twtw_res = sm.OLS(endog=bubble_df['twtw_diff'], exog=bubble_df[['const', 'magnitude']], missing='drop').fit()"
   ]
  },
  {
   "cell_type": "code",
   "execution_count": 24,
   "metadata": {},
   "outputs": [
    {
     "name": "stdout",
     "output_type": "stream",
     "text": [
      "                         Table - OLS Regressions\n",
      "=========================================================================\n",
      "                        Gini              Palma              20-20       \n",
      "-------------------------------------------------------------------------\n",
      "const            -0.0014            -0.2111***         -0.7432***        \n",
      "                 (0.0029)           (0.0672)           (0.2454)          \n",
      "magnitude        0.0012***          0.0320***          0.1191***         \n",
      "                 (0.0001)           (0.0026)           (0.0094)          \n",
      "R-squared        0.7485984273834476 0.8042451190815382 0.8095868131722288\n",
      "No. observations 40                 40                 40                \n",
      "=========================================================================\n",
      "Standard errors in parentheses.\n",
      "* p<.1, ** p<.05, ***p<.01\n"
     ]
    }
   ],
   "source": [
    "info_dict={'R-squared' : lambda x: \"{}\".format(x.rsquared), \n",
    "           'No. observations' : lambda x: \"{}\".format(int(x.nobs))}\n",
    "\n",
    "results_table = summary_col(results=[gini_res, palma_res, twtw_res],\n",
    "                            float_format='%0.4f',\n",
    "                            stars = True,\n",
    "                            model_names=['Gini', 'Palma', '20-20'],\n",
    "                            info_dict=info_dict,\n",
    "                            regressor_order=['const', 'magnitude'])\n",
    "\n",
    "results_table.add_title('Table - OLS Regressions')\n",
    "\n",
    "print(results_table)"
   ]
  },
  {
   "cell_type": "markdown",
   "metadata": {},
   "source": [
    "## Experiment 1 \n",
    "\n"
   ]
  },
  {
   "cell_type": "code",
   "execution_count": 26,
   "metadata": {},
   "outputs": [],
   "source": [
    "NRUNS = 5"
   ]
  },
  {
   "cell_type": "code",
   "execution_count": 27,
   "metadata": {},
   "outputs": [],
   "source": [
    "with open('parameters.json', 'r') as f:\n",
    "    params = json.loads(f.read())"
   ]
  },
  {
   "cell_type": "markdown",
   "metadata": {},
   "source": [
    "Fix the learning ability for a clean experiment."
   ]
  },
  {
   "cell_type": "code",
   "execution_count": 28,
   "metadata": {},
   "outputs": [],
   "source": [
    "params['average_learning_ability'] = 0.0"
   ]
  },
  {
   "cell_type": "markdown",
   "metadata": {},
   "source": [
    "Increment the share of chartists from 0.0 to 100"
   ]
  },
  {
   "cell_type": "code",
   "execution_count": 29,
   "metadata": {},
   "outputs": [],
   "source": [
    "share_chartists = [x / 100.0 for x in range(0, 102, 2)]"
   ]
  },
  {
   "cell_type": "markdown",
   "metadata": {},
   "source": [
    "Run model and update share chartists every time"
   ]
  },
  {
   "cell_type": "code",
   "execution_count": null,
   "metadata": {},
   "outputs": [],
   "source": [
    "trdrs = []\n",
    "orbs = []\n",
    "for seed in range(NRUNS): \n",
    "    params['strat_share_chartists'] = share_chartists[seed]\n",
    "    traders, orderbook = init_objects_distr(params, seed)\n",
    "    traders, orderbook = pb_distr_model(traders, orderbook, params, seed)\n",
    "    trdrs.append(traders)\n",
    "    orbs.append(orderbook)"
   ]
  },
  {
   "cell_type": "markdown",
   "metadata": {},
   "source": [
    "Structure the data"
   ]
  },
  {
   "cell_type": "code",
   "execution_count": null,
   "metadata": {},
   "outputs": [],
   "source": [
    "ginis = []\n",
    "palmas = []\n",
    "twtws = []\n",
    "asset_price_inflation = []\n",
    "price_to_div_stdev = []\n",
    "\n",
    "for idx, traders in enumerate(trdrs):\n",
    "    #print(t)\n",
    "    money = np.array([x.var.money[-1] for x in trdrs[idx]])\n",
    "    stocks = np.array([x.var.stocks[-1] for x in trdrs[idx]])\n",
    "    wealth = money + (stocks * orbs[idx].tick_close_price[-1])\n",
    "    \n",
    "    asset_price_inflation.append(orbs[idx].tick_close_price[-1] - orbs[idx].tick_close_price[0])\n",
    "    price_to_div_stdev.append((pd.Series(orbs[idx].tick_close_price) / pd.Series(orbs[idx].fundamental[1:])).std())\n",
    "    \n",
    "    share_top_10 = sum(np.sort(wealth)[int(len(wealth) * 0.9):]) / sum(wealth)\n",
    "    share_bottom_40 = sum(np.sort(wealth)[:int(len(wealth) * 0.4)]) / sum(wealth)\n",
    "    palmas.append(share_top_10 / share_bottom_40)\n",
    "    \n",
    "    share_top_20 = sum(np.sort(wealth)[int(len(wealth) * 0.8):]) / sum(wealth)\n",
    "    share_bottom_20 = sum(np.sort(wealth)[:int(len(wealth) * 0.2)]) / sum(wealth)\n",
    "    twtws.append(share_top_20 / share_bottom_20)\n",
    "    \n",
    "    ginis.append(gini(wealth))"
   ]
  },
  {
   "cell_type": "code",
   "execution_count": null,
   "metadata": {},
   "outputs": [],
   "source": [
    "data = pd.DataFrame({'gini': np.log(ginis[1:]), 'palma': np.log(palmas[1:]), 'twtw': np.log(twtws[1:]), 'pd_vol': price_to_div_stdev[1:],\n",
    "                     'share_chartists': np.log(share_chartists[1:]), 'lin_share_chartists': share_chartists[1:], 'asset_price_infl': asset_price_inflation[1:]})\n",
    "data['const'] = 1"
   ]
  },
  {
   "cell_type": "code",
   "execution_count": null,
   "metadata": {},
   "outputs": [],
   "source": [
    "fig, (ax1, ax2, ax3) = plt.subplots(1, 3, figsize=[16,4])\n",
    "\n",
    "ax1.scatter(range(len(ginis)), ginis)\n",
    "ax2.scatter(range(len(palmas)), palmas)\n",
    "ax3.scatter(range(len(twtws)), twtws)\n",
    "\n",
    "ax3.set_title('Twenty-twenty ratio')\n",
    "ax2.set_title('Palma ratio')\n",
    "ax1.set_title('Gini coefficient')\n",
    "\n",
    "for ax in [ax1, ax2, ax3]:\n",
    "    ax.set_xlabel('Simulation')\n",
    "\n",
    "#fig.savefig('gini_palma_twenty_evolution_bubble.png', dpi=200, bbox_inches = 'tight', pad_inches = 0)"
   ]
  },
  {
   "cell_type": "code",
   "execution_count": null,
   "metadata": {},
   "outputs": [],
   "source": [
    "fig, (ax1, ax2) = plt.subplots(1, 2, figsize=[16,4])\n",
    "\n",
    "ax1.scatter(range(len(asset_price_inflation)), asset_price_inflation)\n",
    "ax2.scatter(range(len(price_to_div_stdev)), price_to_div_stdev)\n",
    "\n",
    "\n",
    "ax1.set_title('asset_price_inflation')\n",
    "ax2.set_title('price_to_div_stdev')\n",
    "\n",
    "for ax in [ax1, ax2, ax3]:\n",
    "    ax.set_xlabel('Simulation')"
   ]
  },
  {
   "cell_type": "code",
   "execution_count": null,
   "metadata": {},
   "outputs": [],
   "source": [
    "gini_res = sm.OLS(endog=data['gini'], exog=data[['const', 'share_chartists']], missing='drop').fit()\n",
    "palma_res = sm.OLS(endog=data['palma'], exog=data[['const', 'share_chartists']], missing='drop').fit()\n",
    "twtw_res = sm.OLS(endog=data['twtw'], exog=data[['const', 'share_chartists']], missing='drop').fit()\n",
    "asset_p_inf_res = sm.OLS(endog=data['asset_price_infl'], exog=data[['const', 'lin_share_chartists']], missing='drop').fit()\n",
    "pd_stdev_res = sm.OLS(endog=data['pd_vol'], exog=data[['const', 'lin_share_chartists']], missing='drop').fit()"
   ]
  },
  {
   "cell_type": "code",
   "execution_count": null,
   "metadata": {},
   "outputs": [],
   "source": [
    "info_dict={'R-squared' : lambda x: \"{}\".format(x.rsquared), \n",
    "           'No. observations' : lambda x: \"{}\".format(int(x.nobs))}\n",
    "\n",
    "results_table = summary_col(results=[gini_res, palma_res, twtw_res, asset_p_inf_res, pd_stdev_res],\n",
    "                            float_format='%0.4f',\n",
    "                            stars = True,\n",
    "                            model_names=['Gini', 'Palma', '20-20', 'Asset-price inflation', 'Pd-volatility'],\n",
    "                            info_dict=info_dict,\n",
    "                            regressor_order=['const', 'share_chartists'])\n",
    "\n",
    "results_table.add_title('Table - OLS Regressions')\n",
    "\n",
    "print(results_table)"
   ]
  },
  {
   "cell_type": "markdown",
   "metadata": {},
   "source": [
    "# Experiment 2 Which agents benefit?\n",
    "\n",
    "Calculate profits for all agents as the differences in wealth.\n",
    "\n",
    "## Short baseline"
   ]
  },
  {
   "cell_type": "code",
   "execution_count": null,
   "metadata": {},
   "outputs": [],
   "source": [
    "# total_strat_weight = trader.var.weight_fundamentalist[-1] + trader.var.weight_chartist[-1]\n",
    "# c_share_strat = weight_chartist / total_strat_weight\n"
   ]
  },
  {
   "cell_type": "code",
   "execution_count": 45,
   "metadata": {},
   "outputs": [],
   "source": [
    "profits = []\n",
    "real_profits = []\n",
    "market_returns = []\n",
    "for idx, bubble in enumerate(bubble_types): \n",
    "    profits.append((np.array(wealth_ends[idx]) - np.array(wealth_starts[idx])) / np.array(wealth_starts[idx]))\n",
    "    real_profits.append(np.array(wealth_ends[idx]) - np.array(wealth_starts[idx]))\n",
    "    market_returns.append([(bubble_prices[idx][-1] - bubble_prices[idx][0]) / bubble_prices[idx][0] for x in range(len(wealth_starts[idx]))])"
   ]
  },
  {
   "cell_type": "markdown",
   "metadata": {},
   "source": [
    "Profits contains profits of all agents for every bubble episode. What I need is every individual profit with the bubble type next to it."
   ]
  },
  {
   "cell_type": "code",
   "execution_count": 89,
   "metadata": {},
   "outputs": [],
   "source": [
    "all_profits = []\n",
    "all_real_profits = []\n",
    "all_bubbles = []\n",
    "c_share_strat = []\n",
    "learn_ab = []\n",
    "hors = []\n",
    "rav = []\n",
    "w_starts = []\n",
    "m_rets = []\n",
    "potential_buy_hold_profits = []\n",
    "for idx, p in enumerate(profits):\n",
    "    all_profits += list(p)\n",
    "    all_real_profits += list(real_profits[idx])\n",
    "    m_rets += list(market_returns[idx])\n",
    "    all_bubbles += [bubble_types[idx] for l in p]\n",
    "    learn_ab += learning_abilities[idx]\n",
    "    hors += horizons[idx]\n",
    "    rav += risk_aversions[idx]\n",
    "    w_starts += wealth_starts[idx]\n",
    "    potential_buy_hold_profits += list(np.array(wealth_starts[idx]) * np.array(market_returns[idx]))\n",
    "    c_share_strat += [np.mean(c_exp) / (np.mean(c_exp) + np.mean(f_exp)) for c_exp, f_exp in zip(chartist_expectations[idx], fundamentalist_expectations[idx])]"
   ]
  },
  {
   "cell_type": "code",
   "execution_count": 90,
   "metadata": {},
   "outputs": [],
   "source": [
    "df1 = pd.DataFrame(all_profits)\n",
    "df1['norm'] = (1 + df1[0])/2 # (-1,1] -> (0,1]\n",
    "df1['lognorm'] = np.log(df1['norm'])\n",
    "\n",
    "df_abs1 = pd.DataFrame(pd.Series(all_profits).abs())\n",
    "df_abs1['norm'] = (1 + df_abs1[0])/2 # (-1,1] -> (0,1]\n",
    "df_abs1['lognorm'] = np.log(df_abs1['norm'])\n",
    "\n",
    "# df_real = pd.DataFrame(all_real_profits)\n",
    "# df_real['norm'] = (1 + df_real[0])/2 # (-1,1] -> (0,1]\n",
    "# df_real['lognorm'] = np.log(df_real['norm'])"
   ]
  },
  {
   "cell_type": "code",
   "execution_count": 91,
   "metadata": {},
   "outputs": [],
   "source": [
    "redistr_df = pd.DataFrame({'wealth_change': all_profits, 'log_norm_wealth_change': df1['lognorm'], 'log_abs_profit': df_abs1['lognorm'],\n",
    "                           'real_wealth_ch': all_real_profits, 'bubble_type': all_bubbles, 'risk_av': rav, \n",
    "                           'horizon': hors, 'learning': learn_ab, 'c_share_strat': c_share_strat, 'wealth_start': w_starts, \n",
    "                           'log_horizon': np.log(hors), 'm_rets': m_rets, 'buyhold_profit': potential_buy_hold_profits})\n",
    "redistr_df['abs_profit'] = redistr_df['wealth_change'].abs()\n",
    "redistr_df['positive_profit'] = redistr_df['wealth_change'] > 0\n",
    "redistr_df['outperformed_market'] = redistr_df['wealth_change'] > redistr_df['m_rets'] \n",
    "redistr_df['const'] = 1"
   ]
  },
  {
   "cell_type": "code",
   "execution_count": 62,
   "metadata": {},
   "outputs": [],
   "source": [
    "#redistr_df = pd.get_dummies(redistr_df, columns = ['positive_profit'])"
   ]
  },
  {
   "cell_type": "code",
   "execution_count": 63,
   "metadata": {},
   "outputs": [],
   "source": [
    "#redistr_df['wealth_start_positive'] = redistr_df['positive_profit_True'] * redistr_df['wealth_start']\n",
    "#redistr_df['wealth_start_negative'] = redistr_df['positive_profit_False'] * redistr_df['wealth_start']"
   ]
  },
  {
   "cell_type": "code",
   "execution_count": 92,
   "metadata": {},
   "outputs": [
    {
     "data": {
      "text/html": [
       "<div>\n",
       "<style scoped>\n",
       "    .dataframe tbody tr th:only-of-type {\n",
       "        vertical-align: middle;\n",
       "    }\n",
       "\n",
       "    .dataframe tbody tr th {\n",
       "        vertical-align: top;\n",
       "    }\n",
       "\n",
       "    .dataframe thead th {\n",
       "        text-align: right;\n",
       "    }\n",
       "</style>\n",
       "<table border=\"1\" class=\"dataframe\">\n",
       "  <thead>\n",
       "    <tr style=\"text-align: right;\">\n",
       "      <th></th>\n",
       "      <th>wealth_change</th>\n",
       "      <th>log_norm_wealth_change</th>\n",
       "      <th>log_abs_profit</th>\n",
       "      <th>real_wealth_ch</th>\n",
       "      <th>bubble_type</th>\n",
       "      <th>risk_av</th>\n",
       "      <th>horizon</th>\n",
       "      <th>learning</th>\n",
       "      <th>c_share_strat</th>\n",
       "      <th>wealth_start</th>\n",
       "      <th>log_horizon</th>\n",
       "      <th>m_rets</th>\n",
       "      <th>buyhold_profit</th>\n",
       "      <th>abs_profit</th>\n",
       "      <th>positive_profit</th>\n",
       "      <th>outperformed_market</th>\n",
       "      <th>const</th>\n",
       "    </tr>\n",
       "  </thead>\n",
       "  <tbody>\n",
       "    <tr>\n",
       "      <th>0</th>\n",
       "      <td>0.010251</td>\n",
       "      <td>-0.682948</td>\n",
       "      <td>-0.682948</td>\n",
       "      <td>49.179709</td>\n",
       "      <td>boom-bust</td>\n",
       "      <td>0.789059</td>\n",
       "      <td>43</td>\n",
       "      <td>0.118615</td>\n",
       "      <td>0.366942</td>\n",
       "      <td>4797.418459</td>\n",
       "      <td>3.761200</td>\n",
       "      <td>0.013146</td>\n",
       "      <td>63.066047</td>\n",
       "      <td>0.010251</td>\n",
       "      <td>True</td>\n",
       "      <td>False</td>\n",
       "      <td>1</td>\n",
       "    </tr>\n",
       "    <tr>\n",
       "      <th>1</th>\n",
       "      <td>0.000000</td>\n",
       "      <td>-0.693147</td>\n",
       "      <td>-0.693147</td>\n",
       "      <td>0.000000</td>\n",
       "      <td>boom-bust</td>\n",
       "      <td>1.287427</td>\n",
       "      <td>124</td>\n",
       "      <td>0.298143</td>\n",
       "      <td>0.508778</td>\n",
       "      <td>5973.838099</td>\n",
       "      <td>4.820282</td>\n",
       "      <td>0.013146</td>\n",
       "      <td>78.531059</td>\n",
       "      <td>0.000000</td>\n",
       "      <td>False</td>\n",
       "      <td>False</td>\n",
       "      <td>1</td>\n",
       "    </tr>\n",
       "    <tr>\n",
       "      <th>2</th>\n",
       "      <td>0.010559</td>\n",
       "      <td>-0.682644</td>\n",
       "      <td>-0.682644</td>\n",
       "      <td>100.408572</td>\n",
       "      <td>boom-bust</td>\n",
       "      <td>1.140765</td>\n",
       "      <td>19</td>\n",
       "      <td>0.724937</td>\n",
       "      <td>0.542054</td>\n",
       "      <td>9509.291513</td>\n",
       "      <td>2.944439</td>\n",
       "      <td>0.013146</td>\n",
       "      <td>125.007528</td>\n",
       "      <td>0.010559</td>\n",
       "      <td>True</td>\n",
       "      <td>False</td>\n",
       "      <td>1</td>\n",
       "    </tr>\n",
       "    <tr>\n",
       "      <th>3</th>\n",
       "      <td>0.010111</td>\n",
       "      <td>-0.683086</td>\n",
       "      <td>-0.683086</td>\n",
       "      <td>122.949272</td>\n",
       "      <td>boom-bust</td>\n",
       "      <td>0.924572</td>\n",
       "      <td>86</td>\n",
       "      <td>0.461712</td>\n",
       "      <td>0.503843</td>\n",
       "      <td>12159.393139</td>\n",
       "      <td>4.454347</td>\n",
       "      <td>0.013146</td>\n",
       "      <td>159.845313</td>\n",
       "      <td>0.010111</td>\n",
       "      <td>True</td>\n",
       "      <td>False</td>\n",
       "      <td>1</td>\n",
       "    </tr>\n",
       "    <tr>\n",
       "      <th>4</th>\n",
       "      <td>0.010464</td>\n",
       "      <td>-0.682738</td>\n",
       "      <td>-0.682738</td>\n",
       "      <td>127.047581</td>\n",
       "      <td>boom-bust</td>\n",
       "      <td>1.139736</td>\n",
       "      <td>115</td>\n",
       "      <td>0.777666</td>\n",
       "      <td>0.530438</td>\n",
       "      <td>12141.839896</td>\n",
       "      <td>4.744932</td>\n",
       "      <td>0.013146</td>\n",
       "      <td>159.614561</td>\n",
       "      <td>0.010464</td>\n",
       "      <td>True</td>\n",
       "      <td>False</td>\n",
       "      <td>1</td>\n",
       "    </tr>\n",
       "    <tr>\n",
       "      <th>5</th>\n",
       "      <td>-0.000988</td>\n",
       "      <td>-0.694136</td>\n",
       "      <td>-0.692160</td>\n",
       "      <td>-22.527102</td>\n",
       "      <td>boom-bust</td>\n",
       "      <td>0.835647</td>\n",
       "      <td>69</td>\n",
       "      <td>0.650943</td>\n",
       "      <td>0.494503</td>\n",
       "      <td>22797.145270</td>\n",
       "      <td>4.234107</td>\n",
       "      <td>0.013146</td>\n",
       "      <td>299.687393</td>\n",
       "      <td>0.000988</td>\n",
       "      <td>False</td>\n",
       "      <td>False</td>\n",
       "      <td>1</td>\n",
       "    </tr>\n",
       "    <tr>\n",
       "      <th>6</th>\n",
       "      <td>0.009946</td>\n",
       "      <td>-0.683250</td>\n",
       "      <td>-0.683250</td>\n",
       "      <td>173.967690</td>\n",
       "      <td>boom-bust</td>\n",
       "      <td>1.256892</td>\n",
       "      <td>150</td>\n",
       "      <td>0.306482</td>\n",
       "      <td>0.816651</td>\n",
       "      <td>17491.432077</td>\n",
       "      <td>5.010635</td>\n",
       "      <td>0.013146</td>\n",
       "      <td>229.939390</td>\n",
       "      <td>0.009946</td>\n",
       "      <td>True</td>\n",
       "      <td>False</td>\n",
       "      <td>1</td>\n",
       "    </tr>\n",
       "    <tr>\n",
       "      <th>7</th>\n",
       "      <td>0.000000</td>\n",
       "      <td>-0.693147</td>\n",
       "      <td>-0.693147</td>\n",
       "      <td>0.000000</td>\n",
       "      <td>boom-bust</td>\n",
       "      <td>1.204918</td>\n",
       "      <td>15</td>\n",
       "      <td>0.498636</td>\n",
       "      <td>0.472196</td>\n",
       "      <td>14210.489080</td>\n",
       "      <td>2.708050</td>\n",
       "      <td>0.013146</td>\n",
       "      <td>186.808672</td>\n",
       "      <td>0.000000</td>\n",
       "      <td>False</td>\n",
       "      <td>False</td>\n",
       "      <td>1</td>\n",
       "    </tr>\n",
       "    <tr>\n",
       "      <th>8</th>\n",
       "      <td>0.010433</td>\n",
       "      <td>-0.682768</td>\n",
       "      <td>-0.682768</td>\n",
       "      <td>57.376327</td>\n",
       "      <td>boom-bust</td>\n",
       "      <td>1.723577</td>\n",
       "      <td>190</td>\n",
       "      <td>0.303485</td>\n",
       "      <td>0.401522</td>\n",
       "      <td>5499.348728</td>\n",
       "      <td>5.247024</td>\n",
       "      <td>0.013146</td>\n",
       "      <td>72.293503</td>\n",
       "      <td>0.010433</td>\n",
       "      <td>True</td>\n",
       "      <td>False</td>\n",
       "      <td>1</td>\n",
       "    </tr>\n",
       "    <tr>\n",
       "      <th>9</th>\n",
       "      <td>0.000000</td>\n",
       "      <td>-0.693147</td>\n",
       "      <td>-0.693147</td>\n",
       "      <td>0.000000</td>\n",
       "      <td>boom-bust</td>\n",
       "      <td>1.392093</td>\n",
       "      <td>94</td>\n",
       "      <td>0.034381</td>\n",
       "      <td>0.244219</td>\n",
       "      <td>9515.871117</td>\n",
       "      <td>4.543295</td>\n",
       "      <td>0.013146</td>\n",
       "      <td>125.094023</td>\n",
       "      <td>0.000000</td>\n",
       "      <td>False</td>\n",
       "      <td>False</td>\n",
       "      <td>1</td>\n",
       "    </tr>\n",
       "  </tbody>\n",
       "</table>\n",
       "</div>"
      ],
      "text/plain": [
       "   wealth_change  log_norm_wealth_change  log_abs_profit  real_wealth_ch  \\\n",
       "0       0.010251               -0.682948       -0.682948       49.179709   \n",
       "1       0.000000               -0.693147       -0.693147        0.000000   \n",
       "2       0.010559               -0.682644       -0.682644      100.408572   \n",
       "3       0.010111               -0.683086       -0.683086      122.949272   \n",
       "4       0.010464               -0.682738       -0.682738      127.047581   \n",
       "5      -0.000988               -0.694136       -0.692160      -22.527102   \n",
       "6       0.009946               -0.683250       -0.683250      173.967690   \n",
       "7       0.000000               -0.693147       -0.693147        0.000000   \n",
       "8       0.010433               -0.682768       -0.682768       57.376327   \n",
       "9       0.000000               -0.693147       -0.693147        0.000000   \n",
       "\n",
       "  bubble_type   risk_av  horizon  learning  c_share_strat  wealth_start  \\\n",
       "0   boom-bust  0.789059       43  0.118615       0.366942   4797.418459   \n",
       "1   boom-bust  1.287427      124  0.298143       0.508778   5973.838099   \n",
       "2   boom-bust  1.140765       19  0.724937       0.542054   9509.291513   \n",
       "3   boom-bust  0.924572       86  0.461712       0.503843  12159.393139   \n",
       "4   boom-bust  1.139736      115  0.777666       0.530438  12141.839896   \n",
       "5   boom-bust  0.835647       69  0.650943       0.494503  22797.145270   \n",
       "6   boom-bust  1.256892      150  0.306482       0.816651  17491.432077   \n",
       "7   boom-bust  1.204918       15  0.498636       0.472196  14210.489080   \n",
       "8   boom-bust  1.723577      190  0.303485       0.401522   5499.348728   \n",
       "9   boom-bust  1.392093       94  0.034381       0.244219   9515.871117   \n",
       "\n",
       "   log_horizon    m_rets  buyhold_profit  abs_profit  positive_profit  \\\n",
       "0     3.761200  0.013146       63.066047    0.010251             True   \n",
       "1     4.820282  0.013146       78.531059    0.000000            False   \n",
       "2     2.944439  0.013146      125.007528    0.010559             True   \n",
       "3     4.454347  0.013146      159.845313    0.010111             True   \n",
       "4     4.744932  0.013146      159.614561    0.010464             True   \n",
       "5     4.234107  0.013146      299.687393    0.000988            False   \n",
       "6     5.010635  0.013146      229.939390    0.009946             True   \n",
       "7     2.708050  0.013146      186.808672    0.000000            False   \n",
       "8     5.247024  0.013146       72.293503    0.010433             True   \n",
       "9     4.543295  0.013146      125.094023    0.000000            False   \n",
       "\n",
       "   outperformed_market  const  \n",
       "0                False      1  \n",
       "1                False      1  \n",
       "2                False      1  \n",
       "3                False      1  \n",
       "4                False      1  \n",
       "5                False      1  \n",
       "6                False      1  \n",
       "7                False      1  \n",
       "8                False      1  \n",
       "9                False      1  "
      ]
     },
     "execution_count": 92,
     "metadata": {},
     "output_type": "execute_result"
    }
   ],
   "source": [
    "redistr_df.head(10)"
   ]
  },
  {
   "cell_type": "markdown",
   "metadata": {},
   "source": [
    "## Scatter plot\n",
    "\n",
    "Relative and absolute wealth changes"
   ]
  },
  {
   "cell_type": "code",
   "execution_count": 44,
   "metadata": {},
   "outputs": [
    {
     "data": {
      "text/plain": [
       "Text(0, 0.5, 'wealth_start')"
      ]
     },
     "execution_count": 44,
     "metadata": {},
     "output_type": "execute_result"
    },
    {
     "data": {
      "image/png": "[encoded data removed]",
      "text/plain": [
       "<Figure size 1152x1440 with 10 Axes>"
      ]
     },
     "metadata": {
      "needs_background": "light"
     },
     "output_type": "display_data"
    }
   ],
   "source": [
    "fig, ((ax1, ax2), (ax3, ax4), (ax5, ax6), (ax7, ax8), (ax9, ax10)) = plt.subplots(5, 2, figsize=[16,20])\n",
    "\n",
    "ax1.scatter(redistr_df['risk_av'], redistr_df['wealth_change'])\n",
    "ax2.scatter(redistr_df['horizon'], redistr_df['wealth_change'])\n",
    "ax3.scatter(redistr_df['learning'], redistr_df['wealth_change'])\n",
    "ax4.scatter(redistr_df['c_share_strat'], redistr_df['wealth_change']) #TODO have a fraction here of chart vs fund\n",
    "ax5.scatter(redistr_df['wealth_start'], redistr_df['wealth_change'])\n",
    "#ax6.scatter(redistr_df['wealth_start_positive'], redistr_df['real_wealth_ch'])\n",
    "\n",
    "ax6.scatter(redistr_df['risk_av'], redistr_df['abs_profit'])\n",
    "ax7.scatter(redistr_df['horizon'], redistr_df['abs_profit'])\n",
    "ax8.scatter(redistr_df['learning'], redistr_df['abs_profit'])\n",
    "ax9.scatter(redistr_df['c_share_strat'], redistr_df['abs_profit']) #TODO have a fraction here of chart vs fund\n",
    "ax10.scatter(redistr_df['wealth_start'], redistr_df['abs_profit'])\n",
    "\n",
    "\n",
    "ax1.set_title('wealth_change')\n",
    "ax2.set_title('wealth_change')\n",
    "ax3.set_title('wealth_change')\n",
    "ax4.set_title('wealth_change')\n",
    "ax5.set_title('wealth_change')\n",
    "\n",
    "ax6.set_title('abs_wealth_change')\n",
    "ax7.set_title('abs_wealth_change')\n",
    "ax8.set_title('abs_wealth_change')\n",
    "ax9.set_title('abs_wealth_change')\n",
    "ax10.set_title('abs_wealth_change')\n",
    "\n",
    "ax1.set_ylabel('risk_av', fontsize=14)\n",
    "ax2.set_ylabel('horizon', fontsize=14)\n",
    "ax3.set_ylabel('learning', fontsize=14)\n",
    "ax4.set_ylabel('c_share_strat', fontsize=14)\n",
    "ax5.set_ylabel('wealth_start', fontsize=14)\n",
    "ax6.set_ylabel('risk_av', fontsize=14)\n",
    "ax7.set_ylabel('horizon', fontsize=14)\n",
    "ax8.set_ylabel('learning', fontsize=14)\n",
    "ax9.set_ylabel('c_share_strat', fontsize=14)\n",
    "ax10.set_ylabel('wealth_start', fontsize=14)"
   ]
  },
  {
   "cell_type": "code",
   "execution_count": 134,
   "metadata": {},
   "outputs": [],
   "source": [
    "# 2 regression\n",
    "reg1 = sm.OLS(endog=redistr_df['log_norm_wealth_change'], exog=redistr_df[['const', 'risk_av', 'log_horizon', 'learning', 'c_share_strat', 'wealth_start']], missing='drop').fit()\n",
    "reg2 = sm.OLS(endog=redistr_df['log_abs_profit'], exog=redistr_df[['const', 'risk_av', 'log_horizon', 'learning', 'c_share_strat', 'wealth_start']], missing='drop').fit()\n",
    "reg3 = sm.OLS(endog=redistr_df['real_wealth_ch'], exog=redistr_df[['const', 'risk_av', 'log_horizon', 'learning', 'c_share_strat', 'wealth_start']], missing='drop').fit()"
   ]
  },
  {
   "cell_type": "code",
   "execution_count": 135,
   "metadata": {},
   "outputs": [
    {
     "name": "stdout",
     "output_type": "stream",
     "text": [
      "                          Table - OLS Regressions\n",
      "============================================================================\n",
      "                       % Profit          % Profit abs       wealth change   \n",
      "----------------------------------------------------------------------------\n",
      "const            -0.5447***          -0.7515***          -756.5343***       \n",
      "                 (0.0129)            (0.0081)            (220.8773)         \n",
      "risk_av          0.0020              -0.0040             61.7397            \n",
      "                 (0.0055)            (0.0035)            (93.7314)          \n",
      "log_horizon      -0.0337***          -0.0017             -299.2682***       \n",
      "                 (0.0019)            (0.0012)            (32.6849)          \n",
      "learning         -0.0002             -0.0153***          -185.4670*         \n",
      "                 (0.0057)            (0.0036)            (97.9635)          \n",
      "c_share_strat    -0.0397***          0.2210***           1049.4971***       \n",
      "                 (0.0091)            (0.0058)            (156.3877)         \n",
      "wealth_start     0.0000***           0.0000***           0.2006***          \n",
      "                 (0.0000)            (0.0000)            (0.0045)           \n",
      "R-squared        0.02713312678126889 0.07708255886127302 0.11378426040402356\n",
      "No. observations 20000               20000               20000              \n",
      "============================================================================\n",
      "Standard errors in parentheses.\n",
      "* p<.1, ** p<.05, ***p<.01\n"
     ]
    }
   ],
   "source": [
    "info_dict={'R-squared' : lambda x: \"{}\".format(x.rsquared), \n",
    "           'No. observations' : lambda x: \"{}\".format(int(x.nobs))}\n",
    "\n",
    "results_table = summary_col(results=[reg1, reg2, reg3],\n",
    "                            float_format='%0.4f',\n",
    "                            stars = True,\n",
    "                            model_names=['% Profit', '% Profit abs', 'wealth change'],\n",
    "                            info_dict=info_dict,\n",
    "                            regressor_order=['const', 'risk_av', 'log_horizon', 'learning', 'c_share_strat', 'wealth_start'])\n",
    "\n",
    "results_table.add_title('Table - OLS Regressions')\n",
    "\n",
    "print(results_table)"
   ]
  },
  {
   "cell_type": "markdown",
   "metadata": {},
   "source": [
    "## Long baseline"
   ]
  },
  {
   "cell_type": "code",
   "execution_count": 236,
   "metadata": {},
   "outputs": [],
   "source": [
    "NRUNS = 12"
   ]
  },
  {
   "cell_type": "code",
   "execution_count": 237,
   "metadata": {},
   "outputs": [],
   "source": [
    "with open('parameters.json', 'r') as f:\n",
    "    params = json.loads(f.read())"
   ]
  },
  {
   "cell_type": "code",
   "execution_count": 238,
   "metadata": {},
   "outputs": [],
   "source": [
    "params['ticks'] = 4000\n",
    "params['strat_share_chartists'] = 0.9"
   ]
  },
  {
   "cell_type": "code",
   "execution_count": 239,
   "metadata": {},
   "outputs": [
    {
     "name": "stdout",
     "output_type": "stream",
     "text": [
      "Start of simulation  0\n",
      "Start of simulation  1\n",
      "Start of simulation  2\n",
      "Start of simulation  3\n",
      "Start of simulation  4\n",
      "Start of simulation  5\n",
      "Start of simulation  6\n",
      "Start of simulation  7\n",
      "Start of simulation  8\n",
      "Start of simulation  9\n",
      "Start of simulation  10\n",
      "Start of simulation  11\n"
     ]
    }
   ],
   "source": [
    "trdrs = []\n",
    "orbs = []\n",
    "for seed in range(NRUNS): \n",
    "    traders, orderbook = init_objects_distr(params, seed)\n",
    "    traders, orderbook = pb_distr_model(traders, orderbook, params, seed)\n",
    "    trdrs.append(traders)\n",
    "    orbs.append(orderbook)"
   ]
  },
  {
   "cell_type": "code",
   "execution_count": 240,
   "metadata": {},
   "outputs": [],
   "source": [
    "mc_prices, mc_returns, mc_autocorr_returns, mc_autocorr_abs_returns, mc_volatility, mc_volume, mc_fundamentals = organise_data(orbs)"
   ]
  },
  {
   "cell_type": "code",
   "execution_count": 241,
   "metadata": {},
   "outputs": [],
   "source": [
    "wealth_starts = []\n",
    "wealth_ends = []\n",
    "ginis_ot = []\n",
    "palmas_ot = []\n",
    "twtws_ot = []\n",
    "risk_aversions = []\n",
    "horizons = []\n",
    "learning_abilities = []\n",
    "chartist_expectations = []\n",
    "fundamentalist_expectations = []\n",
    "profits = []\n",
    "real_profits = []\n",
    "market_returns = []\n",
    "\n",
    "# determine the start and end wealth of the bubble\n",
    "for seed, traders in enumerate(trdrs):\n",
    "    money_start = np.array([x.var.money[0] for x in traders])\n",
    "    stocks_start = np.array([x.var.stocks[0] for x in traders])\n",
    "    wealth_start = money_start + (stocks_start * orbs[seed].tick_close_price[0])\n",
    "\n",
    "    money_end = np.array([x.var.money[-1] for x in traders])\n",
    "    stocks_end = np.array([x.var.stocks[-1] for x in traders])\n",
    "    wealth_end = money_end + (stocks_end * orbs[seed].tick_close_price[-1])\n",
    "    \n",
    "    # profits\n",
    "    profits.append((np.array(wealth_end) - np.array(wealth_start)) / np.array(wealth_start))\n",
    "    real_profits.append(np.array(wealth_end) - np.array(wealth_start))\n",
    "    market_returns.append([(orbs[seed].tick_close_price[-1] - orbs[seed].tick_close_price[0]) / orbs[seed].tick_close_price[0] for x in range(len(wealth_start))])\n",
    "\n",
    "    # determine characteristics of the agents\n",
    "    risk_aversions.append([x.par.risk_aversion for x in traders])\n",
    "    horizons.append([x.par.horizon for x in traders])\n",
    "    learning_abilities.append([x.par.learning_ability for x in traders])\n",
    "    chartist_expectations.append([x.var.weight_chartist[: ] for x in traders])\n",
    "    fundamentalist_expectations.append([x.var.weight_fundamentalist[:] for x in traders])\n",
    "\n",
    "    wealth_gini_over_time = []\n",
    "    palma_over_time = []\n",
    "    twentytwenty_over_time = []\n",
    "    for t in range(params['ticks']):\n",
    "        money = np.array([x.var.money[t] for x in traders])\n",
    "        stocks = np.array([x.var.stocks[t] for x in traders])\n",
    "        wealth = money + (stocks * orbs[seed].tick_close_price[0])\n",
    "\n",
    "        share_top_10 = sum(np.sort(wealth)[int(len(wealth) * 0.9):]) / sum(wealth)\n",
    "        share_bottom_40 = sum(np.sort(wealth)[:int(len(wealth) * 0.4)]) / sum(wealth)\n",
    "        palma_over_time.append(share_top_10 / share_bottom_40)\n",
    "\n",
    "        share_top_20 = np.mean(np.sort(wealth)[int(len(wealth) * 0.8):])\n",
    "        share_bottom_20 = np.mean(np.sort(wealth)[:int(len(wealth) * 0.2)])\n",
    "        twentytwenty_over_time.append(share_top_20 / share_bottom_20)\n",
    "\n",
    "        wealth_gini_over_time.append(gini(wealth))\n",
    "\n",
    "    wealth_starts.append(list(wealth_start))\n",
    "    wealth_ends.append(list(wealth_end))\n",
    "    ginis_ot.append(wealth_gini_over_time)\n",
    "    palmas_ot.append(palma_over_time)\n",
    "    twtws_ot.append(twentytwenty_over_time)"
   ]
  },
  {
   "cell_type": "code",
   "execution_count": 132,
   "metadata": {},
   "outputs": [],
   "source": [
    "fundamentalist_component_at_t = 0\n",
    "for x in trdrs[0]:\n",
    "    fundamentalist_component_at_t += np.array(x.var.weight_fundamentalist)"
   ]
  },
  {
   "cell_type": "code",
   "execution_count": 133,
   "metadata": {},
   "outputs": [],
   "source": [
    "fundamentalist_components = [np.array(x.var.weight_fundamentalist) for x in trdrs[0]]\n",
    "chartist_components = [np.array(x.var.weight_chartist) for x in trdrs[0]]\n",
    "random_components = [np.array(x.var.weight_random) for x in trdrs[0]]"
   ]
  },
  {
   "cell_type": "code",
   "execution_count": 134,
   "metadata": {},
   "outputs": [],
   "source": [
    "fundamentalist_sentiment = sum(fundamentalist_components)\n",
    "chartist_sentiment = sum(chartist_components)\n",
    "random_sentiment = sum(random_components)\n",
    "total_sentiment = fundamentalist_sentiment + chartist_sentiment + random_sentiment"
   ]
  },
  {
   "cell_type": "code",
   "execution_count": 143,
   "metadata": {},
   "outputs": [],
   "source": [
    "all_profits = []\n",
    "all_real_profits = []\n",
    "c_share_strat = []\n",
    "all_seeds = []\n",
    "chart_exp = []\n",
    "fund_exp = []\n",
    "learn_ab = []\n",
    "hors = []\n",
    "rav = []\n",
    "w_starts = []\n",
    "m_rets = []\n",
    "potential_buy_hold_profits = []\n",
    "for idx, p in enumerate(profits):\n",
    "    all_profits += list(p)\n",
    "    all_real_profits += list(real_profits[idx])\n",
    "    learn_ab += learning_abilities[idx]\n",
    "    m_rets += market_returns[idx]\n",
    "    hors += horizons[idx]\n",
    "    rav += risk_aversions[idx]\n",
    "    w_starts += wealth_starts[idx]\n",
    "    #chart_exp += [np.mean(c_exp) for c_exp in chartist_expectations[idx]]\n",
    "    #fund_exp += [np.mean(f_exp) for f_exp in fundamentalist_expectations[idx]]\n",
    "    potential_buy_hold_profits += list(np.array(wealth_starts[idx]) * np.array(market_returns[idx]))\n",
    "    all_seeds += [idx for c_exp in chartist_expectations[idx]]\n",
    "    c_share_strat += [np.mean(c_exp) / (np.mean(c_exp) + np.mean(f_exp)) for c_exp, f_exp in zip(chartist_expectations[idx], fundamentalist_expectations[idx])]"
   ]
  },
  {
   "cell_type": "code",
   "execution_count": 144,
   "metadata": {},
   "outputs": [],
   "source": [
    "df = pd.DataFrame(all_profits)\n",
    "df['norm'] = (1 + df[0])/2 # (-1,1] -> (0,1]\n",
    "df['lognorm'] = np.log(df['norm'])\n",
    "\n",
    "df_abs = pd.DataFrame(pd.Series(all_profits).abs())\n",
    "df_abs['norm'] = (1 + df_abs[0])/2 # (-1,1] -> (0,1]\n",
    "df_abs['lognorm'] = np.log(df_abs['norm'])\n",
    "\n",
    "# df_real = pd.DataFrame(all_real_profits)\n",
    "# df_real['norm'] = (1 + df_real[0])/2 # (-1,1] -> (0,1]\n",
    "# df_real['lognorm'] = np.log(df_real['norm'])"
   ]
  },
  {
   "cell_type": "code",
   "execution_count": 140,
   "metadata": {},
   "outputs": [],
   "source": [
    "#df_real['norm']"
   ]
  },
  {
   "cell_type": "code",
   "execution_count": 145,
   "metadata": {},
   "outputs": [],
   "source": [
    "redistr_df_long = pd.DataFrame({'wealth_change': all_profits, 'log_norm_wealth_change': df['lognorm'], \n",
    "                                'log_abs_profit': df_abs['lognorm'], 'market_ret': m_rets,\n",
    "                                'real_wealth_ch': all_real_profits, 'risk_av': rav, \n",
    "                                'horizon': hors, 'log_horizon': np.log(hors), 'buyhold_profit': potential_buy_hold_profits,\n",
    "                                'learning': learn_ab, 'c_share_strat': c_share_strat, 'wealth_start': w_starts})\n",
    "redistr_df_long['abs_profit'] = redistr_df_long['wealth_change'].abs()\n",
    "#redistr_df_long['log_abs_profit'] = np.log(redistr_df_long['abs_profit'])\n",
    "redistr_df_long['positive_profit'] = redistr_df_long['wealth_change'] > 0\n",
    "redistr_df_long['outperformed_market'] = redistr_df_long['wealth_change'] > redistr_df_long['market_ret'] \n",
    "redistr_df_long['const'] = 1"
   ]
  },
  {
   "cell_type": "code",
   "execution_count": 146,
   "metadata": {},
   "outputs": [
    {
     "data": {
      "text/html": [
       "<div>\n",
       "<style scoped>\n",
       "    .dataframe tbody tr th:only-of-type {\n",
       "        vertical-align: middle;\n",
       "    }\n",
       "\n",
       "    .dataframe tbody tr th {\n",
       "        vertical-align: top;\n",
       "    }\n",
       "\n",
       "    .dataframe thead th {\n",
       "        text-align: right;\n",
       "    }\n",
       "</style>\n",
       "<table border=\"1\" class=\"dataframe\">\n",
       "  <thead>\n",
       "    <tr style=\"text-align: right;\">\n",
       "      <th></th>\n",
       "      <th>wealth_change</th>\n",
       "      <th>log_norm_wealth_change</th>\n",
       "      <th>log_abs_profit</th>\n",
       "      <th>market_ret</th>\n",
       "      <th>real_wealth_ch</th>\n",
       "      <th>risk_av</th>\n",
       "      <th>horizon</th>\n",
       "      <th>log_horizon</th>\n",
       "      <th>buyhold_profit</th>\n",
       "      <th>learning</th>\n",
       "      <th>c_share_strat</th>\n",
       "      <th>wealth_start</th>\n",
       "      <th>abs_profit</th>\n",
       "      <th>positive_profit</th>\n",
       "      <th>outperformed_market</th>\n",
       "      <th>const</th>\n",
       "    </tr>\n",
       "  </thead>\n",
       "  <tbody>\n",
       "    <tr>\n",
       "      <th>2995</th>\n",
       "      <td>-0.935650</td>\n",
       "      <td>-3.436561</td>\n",
       "      <td>-0.032704</td>\n",
       "      <td>0.045998</td>\n",
       "      <td>-10138.132289</td>\n",
       "      <td>7.809646</td>\n",
       "      <td>20</td>\n",
       "      <td>2.995732</td>\n",
       "      <td>498.409689</td>\n",
       "      <td>1.000000</td>\n",
       "      <td>0.586822</td>\n",
       "      <td>10835.393130</td>\n",
       "      <td>0.935650</td>\n",
       "      <td>False</td>\n",
       "      <td>False</td>\n",
       "      <td>1</td>\n",
       "    </tr>\n",
       "    <tr>\n",
       "      <th>2996</th>\n",
       "      <td>-0.976776</td>\n",
       "      <td>-4.455712</td>\n",
       "      <td>-0.011680</td>\n",
       "      <td>0.045998</td>\n",
       "      <td>-7849.344813</td>\n",
       "      <td>4.112951</td>\n",
       "      <td>72</td>\n",
       "      <td>4.276666</td>\n",
       "      <td>369.641117</td>\n",
       "      <td>1.000000</td>\n",
       "      <td>0.580621</td>\n",
       "      <td>8035.973038</td>\n",
       "      <td>0.976776</td>\n",
       "      <td>False</td>\n",
       "      <td>False</td>\n",
       "      <td>1</td>\n",
       "    </tr>\n",
       "    <tr>\n",
       "      <th>2997</th>\n",
       "      <td>-0.980551</td>\n",
       "      <td>-4.633114</td>\n",
       "      <td>-0.009772</td>\n",
       "      <td>0.045998</td>\n",
       "      <td>-4735.382968</td>\n",
       "      <td>7.582602</td>\n",
       "      <td>50</td>\n",
       "      <td>3.912023</td>\n",
       "      <td>222.139946</td>\n",
       "      <td>0.927683</td>\n",
       "      <td>0.571029</td>\n",
       "      <td>4829.307486</td>\n",
       "      <td>0.980551</td>\n",
       "      <td>False</td>\n",
       "      <td>False</td>\n",
       "      <td>1</td>\n",
       "    </tr>\n",
       "    <tr>\n",
       "      <th>2998</th>\n",
       "      <td>-0.982947</td>\n",
       "      <td>-4.764575</td>\n",
       "      <td>-0.008563</td>\n",
       "      <td>0.045998</td>\n",
       "      <td>-4478.546922</td>\n",
       "      <td>6.009706</td>\n",
       "      <td>27</td>\n",
       "      <td>3.295837</td>\n",
       "      <td>209.579520</td>\n",
       "      <td>0.972257</td>\n",
       "      <td>0.581907</td>\n",
       "      <td>4556.244687</td>\n",
       "      <td>0.982947</td>\n",
       "      <td>False</td>\n",
       "      <td>False</td>\n",
       "      <td>1</td>\n",
       "    </tr>\n",
       "    <tr>\n",
       "      <th>2999</th>\n",
       "      <td>-0.966862</td>\n",
       "      <td>-4.100235</td>\n",
       "      <td>-0.016708</td>\n",
       "      <td>0.045998</td>\n",
       "      <td>-6486.216057</td>\n",
       "      <td>7.920506</td>\n",
       "      <td>23</td>\n",
       "      <td>3.135494</td>\n",
       "      <td>308.580529</td>\n",
       "      <td>0.969447</td>\n",
       "      <td>0.605952</td>\n",
       "      <td>6708.519947</td>\n",
       "      <td>0.966862</td>\n",
       "      <td>False</td>\n",
       "      <td>False</td>\n",
       "      <td>1</td>\n",
       "    </tr>\n",
       "  </tbody>\n",
       "</table>\n",
       "</div>"
      ],
      "text/plain": [
       "      wealth_change  log_norm_wealth_change  log_abs_profit  market_ret  \\\n",
       "2995      -0.935650               -3.436561       -0.032704    0.045998   \n",
       "2996      -0.976776               -4.455712       -0.011680    0.045998   \n",
       "2997      -0.980551               -4.633114       -0.009772    0.045998   \n",
       "2998      -0.982947               -4.764575       -0.008563    0.045998   \n",
       "2999      -0.966862               -4.100235       -0.016708    0.045998   \n",
       "\n",
       "      real_wealth_ch   risk_av  horizon  log_horizon  buyhold_profit  \\\n",
       "2995   -10138.132289  7.809646       20     2.995732      498.409689   \n",
       "2996    -7849.344813  4.112951       72     4.276666      369.641117   \n",
       "2997    -4735.382968  7.582602       50     3.912023      222.139946   \n",
       "2998    -4478.546922  6.009706       27     3.295837      209.579520   \n",
       "2999    -6486.216057  7.920506       23     3.135494      308.580529   \n",
       "\n",
       "      learning  c_share_strat  wealth_start  abs_profit  positive_profit  \\\n",
       "2995  1.000000       0.586822  10835.393130    0.935650            False   \n",
       "2996  1.000000       0.580621   8035.973038    0.976776            False   \n",
       "2997  0.927683       0.571029   4829.307486    0.980551            False   \n",
       "2998  0.972257       0.581907   4556.244687    0.982947            False   \n",
       "2999  0.969447       0.605952   6708.519947    0.966862            False   \n",
       "\n",
       "      outperformed_market  const  \n",
       "2995                False      1  \n",
       "2996                False      1  \n",
       "2997                False      1  \n",
       "2998                False      1  \n",
       "2999                False      1  "
      ]
     },
     "execution_count": 146,
     "metadata": {},
     "output_type": "execute_result"
    }
   ],
   "source": [
    "redistr_df_long.tail()"
   ]
  },
  {
   "cell_type": "code",
   "execution_count": 112,
   "metadata": {},
   "outputs": [
    {
     "data": {
      "text/plain": [
       "Text(0, 0.5, 'wealth_start')"
      ]
     },
     "execution_count": 112,
     "metadata": {},
     "output_type": "execute_result"
    },
    {
     "data": {
      "image/png": "[encoded data removed]",
      "text/plain": [
       "<Figure size 1152x1440 with 10 Axes>"
      ]
     },
     "metadata": {
      "needs_background": "light"
     },
     "output_type": "display_data"
    }
   ],
   "source": [
    "fig, ((ax1, ax2), (ax3, ax4), (ax5, ax6), (ax7, ax8), (ax9, ax10)) = plt.subplots(5, 2, figsize=[16,20])\n",
    "\n",
    "ax1.scatter(redistr_df_long['risk_av'], redistr_df_long['log_norm_wealth_change'])\n",
    "ax2.scatter(redistr_df_long['log_horizon'], redistr_df_long['log_norm_wealth_change'])\n",
    "ax3.scatter(redistr_df_long['learning'], redistr_df_long['log_norm_wealth_change'])\n",
    "ax4.scatter(redistr_df_long['c_share_strat'], redistr_df_long['log_norm_wealth_change']) #TODO have a fraction here of chart vs fund\n",
    "ax5.scatter(redistr_df_long['wealth_start'], redistr_df_long['log_norm_wealth_change'])\n",
    "#ax6.scatter(redistr_df['wealth_start_positive'], redistr_df['real_wealth_ch'])\n",
    "\n",
    "ax6.scatter(redistr_df_long['risk_av'], redistr_df_long['log_abs_profit'])\n",
    "ax7.scatter(redistr_df_long['horizon'], redistr_df_long['log_abs_profit'])\n",
    "ax8.scatter(redistr_df_long['learning'], redistr_df_long['log_abs_profit'])\n",
    "ax9.scatter(redistr_df_long['c_share_strat'], redistr_df_long['log_abs_profit']) #TODO have a fraction here of chart vs fund\n",
    "ax10.scatter(redistr_df_long['wealth_start'], redistr_df_long['log_abs_profit'])\n",
    "\n",
    "\n",
    "ax1.set_title('wealth_change')\n",
    "ax2.set_title('wealth_change')\n",
    "ax3.set_title('wealth_change')\n",
    "ax4.set_title('wealth_change')\n",
    "ax5.set_title('wealth_change')\n",
    "\n",
    "ax6.set_title('abs_wealth_change')\n",
    "ax7.set_title('abs_wealth_change')\n",
    "ax8.set_title('abs_wealth_change')\n",
    "ax9.set_title('abs_wealth_change')\n",
    "ax10.set_title('abs_wealth_change')\n",
    "\n",
    "ax1.set_ylabel('risk_av', fontsize=14)\n",
    "ax2.set_ylabel('horizon', fontsize=14)\n",
    "ax3.set_ylabel('learning', fontsize=14)\n",
    "ax4.set_ylabel('c_share_strat', fontsize=14)\n",
    "ax5.set_ylabel('wealth_start', fontsize=14)\n",
    "ax6.set_ylabel('risk_av', fontsize=14)\n",
    "ax7.set_ylabel('horizon', fontsize=14)\n",
    "ax8.set_ylabel('learning', fontsize=14)\n",
    "ax9.set_ylabel('c_share_strat', fontsize=14)\n",
    "ax10.set_ylabel('wealth_start', fontsize=14)"
   ]
  },
  {
   "cell_type": "code",
   "execution_count": 113,
   "metadata": {},
   "outputs": [],
   "source": [
    "# 2 regression\n",
    "reg1_long = sm.OLS(endog=redistr_df_long['log_norm_wealth_change'], exog=redistr_df_long[['const', 'risk_av', 'log_horizon', 'learning', 'c_share_strat', 'wealth_start']], missing='drop').fit()\n",
    "reg2_long = sm.OLS(endog=redistr_df_long['log_abs_profit'], exog=redistr_df_long[['const', 'risk_av', 'log_horizon', 'learning', 'c_share_strat', 'wealth_start']], missing='drop').fit()\n",
    "reg3_long = sm.OLS(endog=redistr_df_long['real_wealth_ch'], exog=redistr_df_long[['const', 'risk_av', 'log_horizon', 'learning', 'c_share_strat', 'wealth_start']], missing='drop').fit()"
   ]
  },
  {
   "cell_type": "code",
   "execution_count": 116,
   "metadata": {},
   "outputs": [
    {
     "name": "stdout",
     "output_type": "stream",
     "text": [
      "                          Table - OLS Regressions\n",
      "============================================================================\n",
      "                     log % Profit      log % Profit abs     wealth change   \n",
      "----------------------------------------------------------------------------\n",
      "const            3.2616***           0.8831***           188714.3253***     \n",
      "                 (0.3530)            (0.1065)            (28949.3088)       \n",
      "risk_av          0.1074***           -0.0074             1169.6216          \n",
      "                 (0.0151)            (0.0046)            (1237.0640)        \n",
      "log_horizon      -0.8358***          -0.1920***          -32724.9395***     \n",
      "                 (0.0308)            (0.0093)            (2521.9165)        \n",
      "learning         -0.4602             -0.2046**           -59007.9998**      \n",
      "                 (0.3120)            (0.0942)            (25588.2058)       \n",
      "c_share_strat    -6.1749***          0.2861***           -1478.8382         \n",
      "                 (0.2145)            (0.0647)            (17593.0726)       \n",
      "wealth_start     -0.0001***          -0.0000***          -1.5196***         \n",
      "                 (0.0000)            (0.0000)            (0.4357)           \n",
      "R-squared        0.30340407782743095 0.08462745333690036 0.03609120129043508\n",
      "No. observations 5000                5000                5000               \n",
      "============================================================================\n",
      "Standard errors in parentheses.\n",
      "* p<.1, ** p<.05, ***p<.01\n"
     ]
    }
   ],
   "source": [
    "info_dict={'R-squared' : lambda x: \"{}\".format(x.rsquared), \n",
    "           'No. observations' : lambda x: \"{}\".format(int(x.nobs))}\n",
    "\n",
    "results_table = summary_col(results=[reg1_long, reg2_long, reg3_long],\n",
    "                            float_format='%0.4f',\n",
    "                            stars = True,\n",
    "                            model_names=['log % Profit', 'log % Profit abs', 'wealth change'],\n",
    "                            info_dict=info_dict,\n",
    "                            regressor_order=['const', 'risk_av', 'log_horizon', 'learning', 'c_share_strat', 'wealth_start'])\n",
    "\n",
    "results_table.add_title('Table - OLS Regressions')\n",
    "\n",
    "print(results_table)"
   ]
  },
  {
   "cell_type": "markdown",
   "metadata": {},
   "source": [
    "# Experiment 3:\n",
    "\n",
    "Do many agents lose a little, while a win a lot? \n",
    "\n",
    "How to test... \n",
    "\n",
    "* there are many small losses \n",
    "* there are a few big winners\n",
    "\n",
    "## Short baseline"
   ]
  },
  {
   "cell_type": "code",
   "execution_count": 147,
   "metadata": {},
   "outputs": [],
   "source": [
    "# categorize winners and losers, \n",
    "# measure count, and measure size \n",
    "winners_and_losers_short = redistr_df[['real_wealth_ch', 'buyhold_profit', 'positive_profit', 'outperformed_market']][redistr_df['real_wealth_ch'] != 0]\n",
    "winners_and_losers_short['wealth_change_from_trading'] = winners_and_losers_short['real_wealth_ch'] - winners_and_losers_short['buyhold_profit']"
   ]
  },
  {
   "cell_type": "code",
   "execution_count": 67,
   "metadata": {},
   "outputs": [],
   "source": [
    "winners = np.sum(winners_and_losers_short['outperformed_market'])\n",
    "losers = len(winners_and_losers_short['outperformed_market']) - winners"
   ]
  },
  {
   "cell_type": "code",
   "execution_count": 71,
   "metadata": {},
   "outputs": [
    {
     "name": "stdout",
     "output_type": "stream",
     "text": [
      "winners:  5905\n",
      "losers:  10682\n"
     ]
    }
   ],
   "source": [
    "print('winners: ', winners)\n",
    "print('losers: ', losers)"
   ]
  },
  {
   "cell_type": "code",
   "execution_count": 97,
   "metadata": {},
   "outputs": [],
   "source": [
    "# size winners\n",
    "winner_wealth_change = winners_and_losers_short['wealth_change_from_trading'][winners_and_losers_short['outperformed_market'] == True]\n",
    "loser_wealth_change = winners_and_losers_short['wealth_change_from_trading'][winners_and_losers_short['outperformed_market'] == False]"
   ]
  },
  {
   "cell_type": "code",
   "execution_count": 100,
   "metadata": {},
   "outputs": [
    {
     "name": "stdout",
     "output_type": "stream",
     "text": [
      "av winner wealth change:  768.564281939519\n",
      "av loser wealth change:  -1013.1796477112582\n"
     ]
    }
   ],
   "source": [
    "print('av winner wealth change: ', np.mean(winner_wealth_change))\n",
    "print('av loser wealth change: ', np.mean(loser_wealth_change))"
   ]
  },
  {
   "cell_type": "code",
   "execution_count": 117,
   "metadata": {},
   "outputs": [
    {
     "data": {
      "text/plain": [
       "count     5905.000000\n",
       "mean       768.564282\n",
       "std       1841.989055\n",
       "min          0.048978\n",
       "25%         60.071997\n",
       "50%        238.374544\n",
       "75%        711.626827\n",
       "max      33961.837221\n",
       "Name: wealth_change_from_trading, dtype: float64"
      ]
     },
     "execution_count": 117,
     "metadata": {},
     "output_type": "execute_result"
    }
   ],
   "source": [
    "winner_wealth_change.describe()"
   ]
  },
  {
   "cell_type": "code",
   "execution_count": 114,
   "metadata": {},
   "outputs": [
    {
     "data": {
      "text/plain": [
       "count    10682.000000\n",
       "mean      1013.179648\n",
       "std       2243.443566\n",
       "min          0.008738\n",
       "25%         78.137055\n",
       "50%        310.629845\n",
       "75%        953.558472\n",
       "max      46882.335253\n",
       "Name: wealth_change_from_trading, dtype: float64"
      ]
     },
     "execution_count": 114,
     "metadata": {},
     "output_type": "execute_result"
    }
   ],
   "source": [
    "loser_wealth_change.abs().describe()"
   ]
  },
  {
   "cell_type": "markdown",
   "metadata": {},
   "source": [
    "## Long baseline"
   ]
  },
  {
   "cell_type": "code",
   "execution_count": 148,
   "metadata": {},
   "outputs": [],
   "source": [
    "# categorize winners and losers, \n",
    "# measure count, and measure size \n",
    "winners_and_losers_long = redistr_df_long[['real_wealth_ch', 'buyhold_profit', 'positive_profit', 'outperformed_market']][redistr_df_long['real_wealth_ch'] != 0]\n",
    "winners_and_losers_long['wealth_change_from_trading'] = winners_and_losers_short['real_wealth_ch'] - winners_and_losers_short['buyhold_profit']"
   ]
  },
  {
   "cell_type": "code",
   "execution_count": 149,
   "metadata": {},
   "outputs": [],
   "source": [
    "winners_l = np.sum(winners_and_losers_long['outperformed_market'])\n",
    "losers_l = len(winners_and_losers_long['outperformed_market']) - winners_l"
   ]
  },
  {
   "cell_type": "code",
   "execution_count": 151,
   "metadata": {},
   "outputs": [
    {
     "name": "stdout",
     "output_type": "stream",
     "text": [
      "winners:  138\n",
      "losers:  2860\n"
     ]
    }
   ],
   "source": [
    "print('winners: ', winners_l)\n",
    "print('losers: ', losers_l)"
   ]
  },
  {
   "cell_type": "code",
   "execution_count": 164,
   "metadata": {},
   "outputs": [],
   "source": [
    "winner_wealth_change_l = winners_and_losers_long['real_wealth_ch'][winners_and_losers_long['positive_profit'] == True]\n",
    "loser_wealth_change_l = winners_and_losers_long['real_wealth_ch'][winners_and_losers_long['positive_profit'] == False]"
   ]
  },
  {
   "cell_type": "code",
   "execution_count": 165,
   "metadata": {},
   "outputs": [
    {
     "name": "stdout",
     "output_type": "stream",
     "text": [
      "av winner wealth change:  157737.73980354477\n",
      "av loser wealth change:  -7582.720080200152\n"
     ]
    }
   ],
   "source": [
    "print('av winner wealth change: ', np.mean(winner_wealth_change_l))\n",
    "print('av loser wealth change: ', np.mean(loser_wealth_change_l))"
   ]
  },
  {
   "cell_type": "code",
   "execution_count": 167,
   "metadata": {},
   "outputs": [
    {
     "data": {
      "text/plain": [
       "count    1.380000e+02\n",
       "mean     1.577377e+05\n",
       "std      4.893884e+05\n",
       "min      5.343905e+01\n",
       "25%      3.462120e+03\n",
       "50%      1.531533e+04\n",
       "75%      8.119902e+04\n",
       "max      3.095999e+06\n",
       "Name: real_wealth_ch, dtype: float64"
      ]
     },
     "execution_count": 167,
     "metadata": {},
     "output_type": "execute_result"
    }
   ],
   "source": [
    "winner_wealth_change_l.describe()"
   ]
  },
  {
   "cell_type": "markdown",
   "metadata": {},
   "source": [
    "## Mann Whitney U test of different means"
   ]
  },
  {
   "cell_type": "code",
   "execution_count": 176,
   "metadata": {},
   "outputs": [
    {
     "name": "stdout",
     "output_type": "stream",
     "text": [
      "U statistic =  0.0\n",
      "p-value =  3.713701944938883e-88\n"
     ]
    }
   ],
   "source": [
    "print(\"U statistic = \", stats.mannwhitneyu(winner_wealth_change_l, loser_wealth_change_l)[0])\n",
    "print(\"p-value = \", stats.mannwhitneyu(winner_wealth_change_l, loser_wealth_change_l)[1])"
   ]
  },
  {
   "cell_type": "code",
   "execution_count": 199,
   "metadata": {},
   "outputs": [
    {
     "data": {
      "text/plain": [
       "<matplotlib.collections.PathCollection at 0x25976114b70>"
      ]
     },
     "execution_count": 199,
     "metadata": {},
     "output_type": "execute_result"
    },
    {
     "data": {
      "image/png": "[encoded data removed]",
      "text/plain": [
       "<Figure size 576x720 with 2 Axes>"
      ]
     },
     "metadata": {
      "needs_background": "light"
     },
     "output_type": "display_data"
    }
   ],
   "source": [
    "fig, (ax1, ax2) = plt.subplots(2, 1, figsize=[8,10])\n",
    "\n",
    "ax1.scatter(range(len(redistr_df_long['wealth_change'].sort_values())), redistr_df_long['wealth_change'].sort_values())\n",
    "\n",
    "ax2.scatter(range(len(redistr_df['wealth_change'].sort_values())), redistr_df['wealth_change'].sort_values())"
   ]
  },
  {
   "cell_type": "code",
   "execution_count": 200,
   "metadata": {},
   "outputs": [
    {
     "data": {
      "text/plain": [
       "count    3000.000000\n",
       "mean        0.336792\n",
       "std        17.862809\n",
       "min        -0.998420\n",
       "25%        -0.981115\n",
       "50%        -0.959719\n",
       "75%        -0.889686\n",
       "max       511.219539\n",
       "Name: wealth_change, dtype: float64"
      ]
     },
     "execution_count": 200,
     "metadata": {},
     "output_type": "execute_result"
    }
   ],
   "source": [
    "redistr_df_long['wealth_change'].describe()"
   ]
  },
  {
   "cell_type": "code",
   "execution_count": 205,
   "metadata": {},
   "outputs": [
    {
     "name": "stdout",
     "output_type": "stream",
     "text": [
      "long skew =  21.19477977760495\n",
      "long kurtosis =  488.4613729408002\n"
     ]
    }
   ],
   "source": [
    "print('long skew = ', redistr_df_long['wealth_change'].skew())\n",
    "print('long kurtosis = ', redistr_df_long['wealth_change'].kurtosis())"
   ]
  },
  {
   "cell_type": "code",
   "execution_count": 201,
   "metadata": {},
   "outputs": [
    {
     "data": {
      "text/plain": [
       "count    20000.000000\n",
       "mean         0.014106\n",
       "std          0.186853\n",
       "min         -0.685029\n",
       "25%         -0.022648\n",
       "50%          0.000000\n",
       "75%          0.042881\n",
       "max          2.264974\n",
       "Name: wealth_change, dtype: float64"
      ]
     },
     "execution_count": 201,
     "metadata": {},
     "output_type": "execute_result"
    }
   ],
   "source": [
    "redistr_df['wealth_change'].describe()"
   ]
  },
  {
   "cell_type": "code",
   "execution_count": 206,
   "metadata": {},
   "outputs": [
    {
     "name": "stdout",
     "output_type": "stream",
     "text": [
      "short skew =  2.3452120839906327\n",
      "short kurtosis =  21.576779502849792\n"
     ]
    }
   ],
   "source": [
    "print('short skew = ', redistr_df['wealth_change'].skew())\n",
    "print('short kurtosis = ', redistr_df['wealth_change'].kurtosis())"
   ]
  },
  {
   "cell_type": "markdown",
   "metadata": {},
   "source": [
    "### Simulate the model without budget constraints"
   ]
  },
  {
   "cell_type": "code",
   "execution_count": 242,
   "metadata": {},
   "outputs": [],
   "source": [
    "params['strat_share_chartists'] = 0.0\n",
    "params['fundamentalist_horizon_multiplier'] = 0.5\n",
    "params['average_learning_ability'] = 0.0\n",
    "params['mutation_intensity'] = 0.0"
   ]
  },
  {
   "cell_type": "code",
   "execution_count": 243,
   "metadata": {},
   "outputs": [
    {
     "name": "stdout",
     "output_type": "stream",
     "text": [
      "Start of simulation  0\n",
      "Start of simulation  1\n",
      "Start of simulation  2\n",
      "Start of simulation  3\n",
      "Start of simulation  4\n",
      "Start of simulation  5\n",
      "Start of simulation  6\n",
      "Start of simulation  7\n",
      "Start of simulation  8\n",
      "Start of simulation  9\n",
      "Start of simulation  10\n",
      "Start of simulation  11\n"
     ]
    }
   ],
   "source": [
    "trdrs_f = []\n",
    "orbs_f = []\n",
    "for seed in range(NRUNS): \n",
    "    traders, orderbook = init_objects_distr(params, seed)\n",
    "    traders, orderbook = pb_distr_model(traders, orderbook, params, seed)\n",
    "    trdrs_f.append(traders)\n",
    "    orbs_f.append(orderbook)"
   ]
  },
  {
   "cell_type": "code",
   "execution_count": 244,
   "metadata": {},
   "outputs": [],
   "source": [
    "mc_prices_f, mc_returns_f, mc_autocorr_returns_f, mc_autocorr_abs_returns_f, mc_volatility_f, mc_volume_f, mc_fundamentals_f = organise_data(orbs_f)"
   ]
  },
  {
   "cell_type": "code",
   "execution_count": 245,
   "metadata": {},
   "outputs": [],
   "source": [
    "wealth_starts_f = []\n",
    "wealth_ends_f = []\n",
    "ginis_ot_f = []\n",
    "palmas_ot_f = []\n",
    "twtws_ot_f = []\n",
    "risk_aversions_f = []\n",
    "horizons_f = []\n",
    "learning_abilities_f = []\n",
    "chartist_expectations_f = []\n",
    "fundamentalist_expectations_f = []\n",
    "profits_f = []\n",
    "\n",
    "# determine the start and end wealth of the bubble\n",
    "for seed, traders in enumerate(trdrs_f):\n",
    "    money_start = np.array([x.var.money[0] for x in traders])\n",
    "    stocks_start = np.array([x.var.stocks[0] for x in traders])\n",
    "    wealth_start = money_start + (stocks_start * orbs_f[seed].tick_close_price[0])\n",
    "\n",
    "    money_end = np.array([x.var.money[-1] for x in traders])\n",
    "    stocks_end = np.array([x.var.stocks[-1] for x in traders])\n",
    "    wealth_end = money_end + (stocks_end * orbs_f[seed].tick_close_price[-1])\n",
    "    \n",
    "    # profits\n",
    "    profits_f.append((np.array(wealth_end) - np.array(wealth_start)) / np.array(wealth_start))\n",
    "\n",
    "    # determine characteristics of the agents\n",
    "    risk_aversions_f.append([x.par.risk_aversion for x in traders])\n",
    "    horizons_f.append([x.par.horizon for x in traders])\n",
    "    learning_abilities_f.append([x.par.learning_ability for x in traders])\n",
    "    chartist_expectations_f.append([x.var.weight_chartist[: ] for x in traders])\n",
    "    fundamentalist_expectations_f.append([x.var.weight_fundamentalist[:] for x in traders])\n",
    "\n",
    "    wealth_gini_over_time = []\n",
    "    palma_over_time = []\n",
    "    twentytwenty_over_time = []\n",
    "    for t in range(params['ticks']):\n",
    "        money = np.array([x.var.money[t] for x in traders])\n",
    "        stocks = np.array([x.var.stocks[t] for x in traders])\n",
    "        wealth = money + (stocks * orbs_f[0].tick_close_price[t])\n",
    "\n",
    "        share_top_10 = sum(np.sort(wealth)[int(len(wealth) * 0.9):]) / sum(wealth)\n",
    "        share_bottom_40 = sum(np.sort(wealth)[:int(len(wealth) * 0.4)]) / sum(wealth)\n",
    "        palma_over_time.append(share_top_10 / share_bottom_40)\n",
    "\n",
    "        share_top_20 = np.mean(np.sort(wealth)[int(len(wealth) * 0.8):])\n",
    "        share_bottom_20 = np.mean(np.sort(wealth)[:int(len(wealth) * 0.2)])\n",
    "        twentytwenty_over_time.append(share_top_20 / share_bottom_20)\n",
    "\n",
    "        wealth_gini_over_time.append(gini(wealth))\n",
    "\n",
    "    wealth_starts_f.append(list(wealth_start))\n",
    "    wealth_ends_f.append(list(wealth_end))\n",
    "    ginis_ot_f.append(wealth_gini_over_time)\n",
    "    palmas_ot_f.append(palma_over_time)\n",
    "    twtws_ot_f.append(twentytwenty_over_time)"
   ]
  },
  {
   "cell_type": "code",
   "execution_count": 246,
   "metadata": {},
   "outputs": [],
   "source": [
    "budget_ginis = [g[-1] for g in ginis_ot]\n",
    "no_budget_ginis = [g[-1] for g in ginis_ot_f]\n",
    "\n",
    "budget_palmas = [p[-1] for p in palmas_ot]\n",
    "no_budget_palmas = [p[-1] for p in palmas_ot_f]\n",
    "\n",
    "budget_twtws = [tw[-1] for tw in twtws_ot]\n",
    "no_budget_twtws = [tw[-1] for tw in twtws_ot_f]"
   ]
  },
  {
   "cell_type": "code",
   "execution_count": 247,
   "metadata": {},
   "outputs": [],
   "source": [
    "# compare ginis-palmas and twtws directly to counterpart withouth f \n",
    "t_test_score_gini, p_gini =  stats.ttest_rel(budget_ginis,no_budget_ginis)\n",
    "t_test_score_palma, p_palma =  stats.ttest_rel(budget_palmas,no_budget_palmas)\n",
    "t_test_score_twts, p_twts =  stats.ttest_rel(budget_twtws,no_budget_twtws)"
   ]
  },
  {
   "cell_type": "code",
   "execution_count": 248,
   "metadata": {},
   "outputs": [
    {
     "name": "stdout",
     "output_type": "stream",
     "text": [
      "av gini budget =  0.9590101824483336 av no budget gini =  0.2614594621920152\n",
      "Budget effect gini 110.87303149978241 4.017809645797018e-18\n",
      "av palma budget =  153.7684247469754 av no budget palma =  0.8547072020869169\n",
      "Budget effect palma 10.170860991110944 6.240003942216576e-07\n",
      "av twtw budget =  384.19359557674466 av no budget twtw =  4.254809454512403\n",
      "Budget effect twtw 12.771177699097342 6.117242398620585e-08\n"
     ]
    }
   ],
   "source": [
    "print('av gini budget = ', np.mean(budget_ginis), 'av no budget gini = ', np.mean(no_budget_ginis))\n",
    "print('Budget effect gini', t_test_score_gini, p_gini )\n",
    "\n",
    "print('av palma budget = ', np.mean(budget_palmas), 'av no budget palma = ', np.mean(no_budget_palmas))\n",
    "print('Budget effect palma', t_test_score_palma, p_palma)\n",
    "\n",
    "print('av twtw budget = ', np.mean(budget_twtws), 'av no budget twtw = ', np.mean(no_budget_twtws))\n",
    "print('Budget effect twtw', t_test_score_twts, p_twts)"
   ]
  },
  {
   "cell_type": "code",
   "execution_count": 249,
   "metadata": {},
   "outputs": [],
   "source": [
    "# Get the t-critical value**\n",
    "def confidence_interval(sample, emp_value):\n",
    "    \"\"\"Calculate confidence_interval in sample\"\"\"\n",
    "    z_critical = stats.norm.ppf(q = 0.99)\n",
    "    stdev = pd.Series(sample).std()\n",
    "    margin_of_error = z_critical * stdev\n",
    "    confidence_interval = (emp_value - margin_of_error, emp_value + margin_of_error)  \n",
    "    return confidence_interval"
   ]
  },
  {
   "cell_type": "code",
   "execution_count": 250,
   "metadata": {},
   "outputs": [],
   "source": [
    "no_budget_effect_on_gini = np.array(no_budget_ginis) - np.array(budget_ginis)\n",
    "av_effect_no_budget_on_gini = np.mean(no_budget_effect_on_gini)\n",
    "lower_gini, upper_gini = confidence_interval(no_budget_effect_on_gini, av_effect_no_budget_on_gini)\n",
    "\n",
    "no_budget_effect_on_palma = np.array(no_budget_palmas) - np.array(budget_palmas)\n",
    "av_effect_no_budget_on_palma = np.mean(no_budget_effect_on_palma)\n",
    "lower_palma, upper_palma = confidence_interval(no_budget_effect_on_palma, av_effect_no_budget_on_palma)\n",
    "\n",
    "no_budget_effect_on_twtw = np.array(no_budget_twtws) - np.array(budget_twtws)\n",
    "av_effect_no_budget_on_twtw = np.mean(no_budget_effect_on_twtw)\n",
    "lower_twtw, upper_twtw = confidence_interval(no_budget_effect_on_twtw, av_effect_no_budget_on_twtw)"
   ]
  },
  {
   "cell_type": "code",
   "execution_count": 251,
   "metadata": {},
   "outputs": [],
   "source": [
    "no_budget_effect = pd.DataFrame({'gini': [lower_gini, av_effect_no_budget_on_gini, upper_gini], \n",
    "                                 'palma': [lower_palma, av_effect_no_budget_on_palma, upper_palma],\n",
    "                                 'twtw': [lower_twtw, av_effect_no_budget_on_twtw, upper_twtw]})\n",
    "\n",
    "no_budget_effect.index = ['Lower bound', 'Average', 'Upper bound']"
   ]
  },
  {
   "cell_type": "code",
   "execution_count": 252,
   "metadata": {},
   "outputs": [
    {
     "data": {
      "text/html": [
       "<div>\n",
       "<style scoped>\n",
       "    .dataframe tbody tr th:only-of-type {\n",
       "        vertical-align: middle;\n",
       "    }\n",
       "\n",
       "    .dataframe tbody tr th {\n",
       "        vertical-align: top;\n",
       "    }\n",
       "\n",
       "    .dataframe thead th {\n",
       "        text-align: right;\n",
       "    }\n",
       "</style>\n",
       "<table border=\"1\" class=\"dataframe\">\n",
       "  <thead>\n",
       "    <tr style=\"text-align: right;\">\n",
       "      <th></th>\n",
       "      <th>gini</th>\n",
       "      <th>palma</th>\n",
       "      <th>twtw</th>\n",
       "    </tr>\n",
       "  </thead>\n",
       "  <tbody>\n",
       "    <tr>\n",
       "      <th>Lower bound</th>\n",
       "      <td>-0.748252</td>\n",
       "      <td>-274.072251</td>\n",
       "      <td>-619.682906</td>\n",
       "    </tr>\n",
       "    <tr>\n",
       "      <th>Average</th>\n",
       "      <td>-0.697551</td>\n",
       "      <td>-152.913718</td>\n",
       "      <td>-379.938786</td>\n",
       "    </tr>\n",
       "    <tr>\n",
       "      <th>Upper bound</th>\n",
       "      <td>-0.646850</td>\n",
       "      <td>-31.755184</td>\n",
       "      <td>-140.194666</td>\n",
       "    </tr>\n",
       "  </tbody>\n",
       "</table>\n",
       "</div>"
      ],
      "text/plain": [
       "                 gini       palma        twtw\n",
       "Lower bound -0.748252 -274.072251 -619.682906\n",
       "Average     -0.697551 -152.913718 -379.938786\n",
       "Upper bound -0.646850  -31.755184 -140.194666"
      ]
     },
     "execution_count": 252,
     "metadata": {},
     "output_type": "execute_result"
    }
   ],
   "source": [
    "no_budget_effect"
   ]
  },
  {
   "cell_type": "code",
   "execution_count": null,
   "metadata": {},
   "outputs": [],
   "source": []
  }
 ],
 "metadata": {
  "kernelspec": {
   "display_name": "Python 3",
   "language": "python",
   "name": "python3"
  },
  "language_info": {
   "codemirror_mode": {
    "name": "ipython",
    "version": 3
   },
   "file_extension": ".py",
   "mimetype": "text/x-python",
   "name": "python",
   "nbconvert_exporter": "python",
   "pygments_lexer": "ipython3",
   "version": "3.6.8"
  }
 },
 "nbformat": 4,
 "nbformat_minor": 2
}
